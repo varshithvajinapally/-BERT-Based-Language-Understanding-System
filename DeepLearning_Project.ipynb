{
  "nbformat": 4,
  "nbformat_minor": 0,
  "metadata": {
    "colab": {
      "provenance": [],
      "machine_shape": "hm",
      "gpuType": "T4"
    },
    "kernelspec": {
      "name": "python3",
      "display_name": "Python 3"
    },
    "language_info": {
      "name": "python"
    },
    "accelerator": "GPU",
    "widgets": {
      "application/vnd.jupyter.widget-state+json": {
        "a11345532b534f9b8966df7843538702": {
          "model_module": "@jupyter-widgets/controls",
          "model_name": "HBoxModel",
          "model_module_version": "1.5.0",
          "state": {
            "_dom_classes": [],
            "_model_module": "@jupyter-widgets/controls",
            "_model_module_version": "1.5.0",
            "_model_name": "HBoxModel",
            "_view_count": null,
            "_view_module": "@jupyter-widgets/controls",
            "_view_module_version": "1.5.0",
            "_view_name": "HBoxView",
            "box_style": "",
            "children": [
              "IPY_MODEL_e4580485e16f44cc9819d5bab42d9bac",
              "IPY_MODEL_6e37175c828f419b9af67b12177d3bbb",
              "IPY_MODEL_8634480487a24f04a55d805af96a29e7"
            ],
            "layout": "IPY_MODEL_b299f71210cf46b1bac4ee87909587ff"
          }
        },
        "e4580485e16f44cc9819d5bab42d9bac": {
          "model_module": "@jupyter-widgets/controls",
          "model_name": "HTMLModel",
          "model_module_version": "1.5.0",
          "state": {
            "_dom_classes": [],
            "_model_module": "@jupyter-widgets/controls",
            "_model_module_version": "1.5.0",
            "_model_name": "HTMLModel",
            "_view_count": null,
            "_view_module": "@jupyter-widgets/controls",
            "_view_module_version": "1.5.0",
            "_view_name": "HTMLView",
            "description": "",
            "description_tooltip": null,
            "layout": "IPY_MODEL_98db8e60e1cd402982d4d33a44e13c57",
            "placeholder": "​",
            "style": "IPY_MODEL_538b1ca5d87b4a41a8b19c6128d0173e",
            "value": "Training iteration: 100%"
          }
        },
        "6e37175c828f419b9af67b12177d3bbb": {
          "model_module": "@jupyter-widgets/controls",
          "model_name": "FloatProgressModel",
          "model_module_version": "1.5.0",
          "state": {
            "_dom_classes": [],
            "_model_module": "@jupyter-widgets/controls",
            "_model_module_version": "1.5.0",
            "_model_name": "FloatProgressModel",
            "_view_count": null,
            "_view_module": "@jupyter-widgets/controls",
            "_view_module_version": "1.5.0",
            "_view_name": "ProgressView",
            "bar_style": "success",
            "description": "",
            "description_tooltip": null,
            "layout": "IPY_MODEL_14330dabbd5f47d5b4ddd4ad57e2f169",
            "max": 152,
            "min": 0,
            "orientation": "horizontal",
            "style": "IPY_MODEL_39997e5f50ea44ee9e06b93239067c80",
            "value": 152
          }
        },
        "8634480487a24f04a55d805af96a29e7": {
          "model_module": "@jupyter-widgets/controls",
          "model_name": "HTMLModel",
          "model_module_version": "1.5.0",
          "state": {
            "_dom_classes": [],
            "_model_module": "@jupyter-widgets/controls",
            "_model_module_version": "1.5.0",
            "_model_name": "HTMLModel",
            "_view_count": null,
            "_view_module": "@jupyter-widgets/controls",
            "_view_module_version": "1.5.0",
            "_view_name": "HTMLView",
            "description": "",
            "description_tooltip": null,
            "layout": "IPY_MODEL_c43fcad6e3294c54b91118d91f71c0e6",
            "placeholder": "​",
            "style": "IPY_MODEL_a17b3bbfc2224ac68e12da01d3e93fee",
            "value": " 152/152 [00:41&lt;00:00,  3.77it/s]"
          }
        },
        "b299f71210cf46b1bac4ee87909587ff": {
          "model_module": "@jupyter-widgets/base",
          "model_name": "LayoutModel",
          "model_module_version": "1.2.0",
          "state": {
            "_model_module": "@jupyter-widgets/base",
            "_model_module_version": "1.2.0",
            "_model_name": "LayoutModel",
            "_view_count": null,
            "_view_module": "@jupyter-widgets/base",
            "_view_module_version": "1.2.0",
            "_view_name": "LayoutView",
            "align_content": null,
            "align_items": null,
            "align_self": null,
            "border": null,
            "bottom": null,
            "display": null,
            "flex": null,
            "flex_flow": null,
            "grid_area": null,
            "grid_auto_columns": null,
            "grid_auto_flow": null,
            "grid_auto_rows": null,
            "grid_column": null,
            "grid_gap": null,
            "grid_row": null,
            "grid_template_areas": null,
            "grid_template_columns": null,
            "grid_template_rows": null,
            "height": null,
            "justify_content": null,
            "justify_items": null,
            "left": null,
            "margin": null,
            "max_height": null,
            "max_width": null,
            "min_height": null,
            "min_width": null,
            "object_fit": null,
            "object_position": null,
            "order": null,
            "overflow": null,
            "overflow_x": null,
            "overflow_y": null,
            "padding": null,
            "right": null,
            "top": null,
            "visibility": null,
            "width": null
          }
        },
        "98db8e60e1cd402982d4d33a44e13c57": {
          "model_module": "@jupyter-widgets/base",
          "model_name": "LayoutModel",
          "model_module_version": "1.2.0",
          "state": {
            "_model_module": "@jupyter-widgets/base",
            "_model_module_version": "1.2.0",
            "_model_name": "LayoutModel",
            "_view_count": null,
            "_view_module": "@jupyter-widgets/base",
            "_view_module_version": "1.2.0",
            "_view_name": "LayoutView",
            "align_content": null,
            "align_items": null,
            "align_self": null,
            "border": null,
            "bottom": null,
            "display": null,
            "flex": null,
            "flex_flow": null,
            "grid_area": null,
            "grid_auto_columns": null,
            "grid_auto_flow": null,
            "grid_auto_rows": null,
            "grid_column": null,
            "grid_gap": null,
            "grid_row": null,
            "grid_template_areas": null,
            "grid_template_columns": null,
            "grid_template_rows": null,
            "height": null,
            "justify_content": null,
            "justify_items": null,
            "left": null,
            "margin": null,
            "max_height": null,
            "max_width": null,
            "min_height": null,
            "min_width": null,
            "object_fit": null,
            "object_position": null,
            "order": null,
            "overflow": null,
            "overflow_x": null,
            "overflow_y": null,
            "padding": null,
            "right": null,
            "top": null,
            "visibility": null,
            "width": null
          }
        },
        "538b1ca5d87b4a41a8b19c6128d0173e": {
          "model_module": "@jupyter-widgets/controls",
          "model_name": "DescriptionStyleModel",
          "model_module_version": "1.5.0",
          "state": {
            "_model_module": "@jupyter-widgets/controls",
            "_model_module_version": "1.5.0",
            "_model_name": "DescriptionStyleModel",
            "_view_count": null,
            "_view_module": "@jupyter-widgets/base",
            "_view_module_version": "1.2.0",
            "_view_name": "StyleView",
            "description_width": ""
          }
        },
        "14330dabbd5f47d5b4ddd4ad57e2f169": {
          "model_module": "@jupyter-widgets/base",
          "model_name": "LayoutModel",
          "model_module_version": "1.2.0",
          "state": {
            "_model_module": "@jupyter-widgets/base",
            "_model_module_version": "1.2.0",
            "_model_name": "LayoutModel",
            "_view_count": null,
            "_view_module": "@jupyter-widgets/base",
            "_view_module_version": "1.2.0",
            "_view_name": "LayoutView",
            "align_content": null,
            "align_items": null,
            "align_self": null,
            "border": null,
            "bottom": null,
            "display": null,
            "flex": null,
            "flex_flow": null,
            "grid_area": null,
            "grid_auto_columns": null,
            "grid_auto_flow": null,
            "grid_auto_rows": null,
            "grid_column": null,
            "grid_gap": null,
            "grid_row": null,
            "grid_template_areas": null,
            "grid_template_columns": null,
            "grid_template_rows": null,
            "height": null,
            "justify_content": null,
            "justify_items": null,
            "left": null,
            "margin": null,
            "max_height": null,
            "max_width": null,
            "min_height": null,
            "min_width": null,
            "object_fit": null,
            "object_position": null,
            "order": null,
            "overflow": null,
            "overflow_x": null,
            "overflow_y": null,
            "padding": null,
            "right": null,
            "top": null,
            "visibility": null,
            "width": null
          }
        },
        "39997e5f50ea44ee9e06b93239067c80": {
          "model_module": "@jupyter-widgets/controls",
          "model_name": "ProgressStyleModel",
          "model_module_version": "1.5.0",
          "state": {
            "_model_module": "@jupyter-widgets/controls",
            "_model_module_version": "1.5.0",
            "_model_name": "ProgressStyleModel",
            "_view_count": null,
            "_view_module": "@jupyter-widgets/base",
            "_view_module_version": "1.2.0",
            "_view_name": "StyleView",
            "bar_color": null,
            "description_width": ""
          }
        },
        "c43fcad6e3294c54b91118d91f71c0e6": {
          "model_module": "@jupyter-widgets/base",
          "model_name": "LayoutModel",
          "model_module_version": "1.2.0",
          "state": {
            "_model_module": "@jupyter-widgets/base",
            "_model_module_version": "1.2.0",
            "_model_name": "LayoutModel",
            "_view_count": null,
            "_view_module": "@jupyter-widgets/base",
            "_view_module_version": "1.2.0",
            "_view_name": "LayoutView",
            "align_content": null,
            "align_items": null,
            "align_self": null,
            "border": null,
            "bottom": null,
            "display": null,
            "flex": null,
            "flex_flow": null,
            "grid_area": null,
            "grid_auto_columns": null,
            "grid_auto_flow": null,
            "grid_auto_rows": null,
            "grid_column": null,
            "grid_gap": null,
            "grid_row": null,
            "grid_template_areas": null,
            "grid_template_columns": null,
            "grid_template_rows": null,
            "height": null,
            "justify_content": null,
            "justify_items": null,
            "left": null,
            "margin": null,
            "max_height": null,
            "max_width": null,
            "min_height": null,
            "min_width": null,
            "object_fit": null,
            "object_position": null,
            "order": null,
            "overflow": null,
            "overflow_x": null,
            "overflow_y": null,
            "padding": null,
            "right": null,
            "top": null,
            "visibility": null,
            "width": null
          }
        },
        "a17b3bbfc2224ac68e12da01d3e93fee": {
          "model_module": "@jupyter-widgets/controls",
          "model_name": "DescriptionStyleModel",
          "model_module_version": "1.5.0",
          "state": {
            "_model_module": "@jupyter-widgets/controls",
            "_model_module_version": "1.5.0",
            "_model_name": "DescriptionStyleModel",
            "_view_count": null,
            "_view_module": "@jupyter-widgets/base",
            "_view_module_version": "1.2.0",
            "_view_name": "StyleView",
            "description_width": ""
          }
        },
        "2ea82d608dd24d0ba98cce8e9e1a1e61": {
          "model_module": "@jupyter-widgets/controls",
          "model_name": "HBoxModel",
          "model_module_version": "1.5.0",
          "state": {
            "_dom_classes": [],
            "_model_module": "@jupyter-widgets/controls",
            "_model_module_version": "1.5.0",
            "_model_name": "HBoxModel",
            "_view_count": null,
            "_view_module": "@jupyter-widgets/controls",
            "_view_module_version": "1.5.0",
            "_view_name": "HBoxView",
            "box_style": "",
            "children": [
              "IPY_MODEL_5e77b172b1d445c583e7e0c04b982c2e",
              "IPY_MODEL_07d40ec3aab447239c18f944bcc7d2c9",
              "IPY_MODEL_fa60e09d89704b68a3064c477c5e9d48"
            ],
            "layout": "IPY_MODEL_d3223162fef64e049ad74df40b978dbd"
          }
        },
        "5e77b172b1d445c583e7e0c04b982c2e": {
          "model_module": "@jupyter-widgets/controls",
          "model_name": "HTMLModel",
          "model_module_version": "1.5.0",
          "state": {
            "_dom_classes": [],
            "_model_module": "@jupyter-widgets/controls",
            "_model_module_version": "1.5.0",
            "_model_name": "HTMLModel",
            "_view_count": null,
            "_view_module": "@jupyter-widgets/controls",
            "_view_module_version": "1.5.0",
            "_view_name": "HTMLView",
            "description": "",
            "description_tooltip": null,
            "layout": "IPY_MODEL_be3b0ec0017440299326fe3466b79f53",
            "placeholder": "​",
            "style": "IPY_MODEL_ed63838f326a42bbab18d5c2fc4279c3",
            "value": "Evaluation iteration:   0%"
          }
        },
        "07d40ec3aab447239c18f944bcc7d2c9": {
          "model_module": "@jupyter-widgets/controls",
          "model_name": "FloatProgressModel",
          "model_module_version": "1.5.0",
          "state": {
            "_dom_classes": [],
            "_model_module": "@jupyter-widgets/controls",
            "_model_module_version": "1.5.0",
            "_model_name": "FloatProgressModel",
            "_view_count": null,
            "_view_module": "@jupyter-widgets/controls",
            "_view_module_version": "1.5.0",
            "_view_name": "ProgressView",
            "bar_style": "danger",
            "description": "",
            "description_tooltip": null,
            "layout": "IPY_MODEL_470f3ad0bb1048eabff836cbb9687f4d",
            "max": 17,
            "min": 0,
            "orientation": "horizontal",
            "style": "IPY_MODEL_9793f5ef3ea845c38a5996ec3b0575a0",
            "value": 0
          }
        },
        "fa60e09d89704b68a3064c477c5e9d48": {
          "model_module": "@jupyter-widgets/controls",
          "model_name": "HTMLModel",
          "model_module_version": "1.5.0",
          "state": {
            "_dom_classes": [],
            "_model_module": "@jupyter-widgets/controls",
            "_model_module_version": "1.5.0",
            "_model_name": "HTMLModel",
            "_view_count": null,
            "_view_module": "@jupyter-widgets/controls",
            "_view_module_version": "1.5.0",
            "_view_name": "HTMLView",
            "description": "",
            "description_tooltip": null,
            "layout": "IPY_MODEL_c276ea9133894be5945fb057cab9069d",
            "placeholder": "​",
            "style": "IPY_MODEL_ddf66826b70540efaae395ef1b7dadb4",
            "value": " 0/17 [00:00&lt;?, ?it/s]"
          }
        },
        "d3223162fef64e049ad74df40b978dbd": {
          "model_module": "@jupyter-widgets/base",
          "model_name": "LayoutModel",
          "model_module_version": "1.2.0",
          "state": {
            "_model_module": "@jupyter-widgets/base",
            "_model_module_version": "1.2.0",
            "_model_name": "LayoutModel",
            "_view_count": null,
            "_view_module": "@jupyter-widgets/base",
            "_view_module_version": "1.2.0",
            "_view_name": "LayoutView",
            "align_content": null,
            "align_items": null,
            "align_self": null,
            "border": null,
            "bottom": null,
            "display": null,
            "flex": null,
            "flex_flow": null,
            "grid_area": null,
            "grid_auto_columns": null,
            "grid_auto_flow": null,
            "grid_auto_rows": null,
            "grid_column": null,
            "grid_gap": null,
            "grid_row": null,
            "grid_template_areas": null,
            "grid_template_columns": null,
            "grid_template_rows": null,
            "height": null,
            "justify_content": null,
            "justify_items": null,
            "left": null,
            "margin": null,
            "max_height": null,
            "max_width": null,
            "min_height": null,
            "min_width": null,
            "object_fit": null,
            "object_position": null,
            "order": null,
            "overflow": null,
            "overflow_x": null,
            "overflow_y": null,
            "padding": null,
            "right": null,
            "top": null,
            "visibility": null,
            "width": null
          }
        },
        "be3b0ec0017440299326fe3466b79f53": {
          "model_module": "@jupyter-widgets/base",
          "model_name": "LayoutModel",
          "model_module_version": "1.2.0",
          "state": {
            "_model_module": "@jupyter-widgets/base",
            "_model_module_version": "1.2.0",
            "_model_name": "LayoutModel",
            "_view_count": null,
            "_view_module": "@jupyter-widgets/base",
            "_view_module_version": "1.2.0",
            "_view_name": "LayoutView",
            "align_content": null,
            "align_items": null,
            "align_self": null,
            "border": null,
            "bottom": null,
            "display": null,
            "flex": null,
            "flex_flow": null,
            "grid_area": null,
            "grid_auto_columns": null,
            "grid_auto_flow": null,
            "grid_auto_rows": null,
            "grid_column": null,
            "grid_gap": null,
            "grid_row": null,
            "grid_template_areas": null,
            "grid_template_columns": null,
            "grid_template_rows": null,
            "height": null,
            "justify_content": null,
            "justify_items": null,
            "left": null,
            "margin": null,
            "max_height": null,
            "max_width": null,
            "min_height": null,
            "min_width": null,
            "object_fit": null,
            "object_position": null,
            "order": null,
            "overflow": null,
            "overflow_x": null,
            "overflow_y": null,
            "padding": null,
            "right": null,
            "top": null,
            "visibility": null,
            "width": null
          }
        },
        "ed63838f326a42bbab18d5c2fc4279c3": {
          "model_module": "@jupyter-widgets/controls",
          "model_name": "DescriptionStyleModel",
          "model_module_version": "1.5.0",
          "state": {
            "_model_module": "@jupyter-widgets/controls",
            "_model_module_version": "1.5.0",
            "_model_name": "DescriptionStyleModel",
            "_view_count": null,
            "_view_module": "@jupyter-widgets/base",
            "_view_module_version": "1.2.0",
            "_view_name": "StyleView",
            "description_width": ""
          }
        },
        "470f3ad0bb1048eabff836cbb9687f4d": {
          "model_module": "@jupyter-widgets/base",
          "model_name": "LayoutModel",
          "model_module_version": "1.2.0",
          "state": {
            "_model_module": "@jupyter-widgets/base",
            "_model_module_version": "1.2.0",
            "_model_name": "LayoutModel",
            "_view_count": null,
            "_view_module": "@jupyter-widgets/base",
            "_view_module_version": "1.2.0",
            "_view_name": "LayoutView",
            "align_content": null,
            "align_items": null,
            "align_self": null,
            "border": null,
            "bottom": null,
            "display": null,
            "flex": null,
            "flex_flow": null,
            "grid_area": null,
            "grid_auto_columns": null,
            "grid_auto_flow": null,
            "grid_auto_rows": null,
            "grid_column": null,
            "grid_gap": null,
            "grid_row": null,
            "grid_template_areas": null,
            "grid_template_columns": null,
            "grid_template_rows": null,
            "height": null,
            "justify_content": null,
            "justify_items": null,
            "left": null,
            "margin": null,
            "max_height": null,
            "max_width": null,
            "min_height": null,
            "min_width": null,
            "object_fit": null,
            "object_position": null,
            "order": null,
            "overflow": null,
            "overflow_x": null,
            "overflow_y": null,
            "padding": null,
            "right": null,
            "top": null,
            "visibility": null,
            "width": null
          }
        },
        "9793f5ef3ea845c38a5996ec3b0575a0": {
          "model_module": "@jupyter-widgets/controls",
          "model_name": "ProgressStyleModel",
          "model_module_version": "1.5.0",
          "state": {
            "_model_module": "@jupyter-widgets/controls",
            "_model_module_version": "1.5.0",
            "_model_name": "ProgressStyleModel",
            "_view_count": null,
            "_view_module": "@jupyter-widgets/base",
            "_view_module_version": "1.2.0",
            "_view_name": "StyleView",
            "bar_color": null,
            "description_width": ""
          }
        },
        "c276ea9133894be5945fb057cab9069d": {
          "model_module": "@jupyter-widgets/base",
          "model_name": "LayoutModel",
          "model_module_version": "1.2.0",
          "state": {
            "_model_module": "@jupyter-widgets/base",
            "_model_module_version": "1.2.0",
            "_model_name": "LayoutModel",
            "_view_count": null,
            "_view_module": "@jupyter-widgets/base",
            "_view_module_version": "1.2.0",
            "_view_name": "LayoutView",
            "align_content": null,
            "align_items": null,
            "align_self": null,
            "border": null,
            "bottom": null,
            "display": null,
            "flex": null,
            "flex_flow": null,
            "grid_area": null,
            "grid_auto_columns": null,
            "grid_auto_flow": null,
            "grid_auto_rows": null,
            "grid_column": null,
            "grid_gap": null,
            "grid_row": null,
            "grid_template_areas": null,
            "grid_template_columns": null,
            "grid_template_rows": null,
            "height": null,
            "justify_content": null,
            "justify_items": null,
            "left": null,
            "margin": null,
            "max_height": null,
            "max_width": null,
            "min_height": null,
            "min_width": null,
            "object_fit": null,
            "object_position": null,
            "order": null,
            "overflow": null,
            "overflow_x": null,
            "overflow_y": null,
            "padding": null,
            "right": null,
            "top": null,
            "visibility": null,
            "width": null
          }
        },
        "ddf66826b70540efaae395ef1b7dadb4": {
          "model_module": "@jupyter-widgets/controls",
          "model_name": "DescriptionStyleModel",
          "model_module_version": "1.5.0",
          "state": {
            "_model_module": "@jupyter-widgets/controls",
            "_model_module_version": "1.5.0",
            "_model_name": "DescriptionStyleModel",
            "_view_count": null,
            "_view_module": "@jupyter-widgets/base",
            "_view_module_version": "1.2.0",
            "_view_name": "StyleView",
            "description_width": ""
          }
        },
        "c594708aa80f4a58b4e237848b3db4db": {
          "model_module": "@jupyter-widgets/controls",
          "model_name": "HBoxModel",
          "model_module_version": "1.5.0",
          "state": {
            "_dom_classes": [],
            "_model_module": "@jupyter-widgets/controls",
            "_model_module_version": "1.5.0",
            "_model_name": "HBoxModel",
            "_view_count": null,
            "_view_module": "@jupyter-widgets/controls",
            "_view_module_version": "1.5.0",
            "_view_name": "HBoxView",
            "box_style": "",
            "children": [
              "IPY_MODEL_1086fd590f8d4977bfce22b3790b89ae",
              "IPY_MODEL_bf24ee08a1264d9caa13e49620c63b87",
              "IPY_MODEL_85545d0c6f7e4c05851dd0b78b871158"
            ],
            "layout": "IPY_MODEL_f9f5561cf7544b598580da8125ee399a"
          }
        },
        "1086fd590f8d4977bfce22b3790b89ae": {
          "model_module": "@jupyter-widgets/controls",
          "model_name": "HTMLModel",
          "model_module_version": "1.5.0",
          "state": {
            "_dom_classes": [],
            "_model_module": "@jupyter-widgets/controls",
            "_model_module_version": "1.5.0",
            "_model_name": "HTMLModel",
            "_view_count": null,
            "_view_module": "@jupyter-widgets/controls",
            "_view_module_version": "1.5.0",
            "_view_name": "HTMLView",
            "description": "",
            "description_tooltip": null,
            "layout": "IPY_MODEL_fa0ba38f6cbc405d9420c350be6d486b",
            "placeholder": "​",
            "style": "IPY_MODEL_8e67a66722ad479b80da1b7e1436eda0",
            "value": "Training iteration: 100%"
          }
        },
        "bf24ee08a1264d9caa13e49620c63b87": {
          "model_module": "@jupyter-widgets/controls",
          "model_name": "FloatProgressModel",
          "model_module_version": "1.5.0",
          "state": {
            "_dom_classes": [],
            "_model_module": "@jupyter-widgets/controls",
            "_model_module_version": "1.5.0",
            "_model_name": "FloatProgressModel",
            "_view_count": null,
            "_view_module": "@jupyter-widgets/controls",
            "_view_module_version": "1.5.0",
            "_view_name": "ProgressView",
            "bar_style": "success",
            "description": "",
            "description_tooltip": null,
            "layout": "IPY_MODEL_b042cd523c3c41ed923ad0e98fa71c25",
            "max": 152,
            "min": 0,
            "orientation": "horizontal",
            "style": "IPY_MODEL_e2b106d9dc9c46c48ecf4f0b81fdafb9",
            "value": 152
          }
        },
        "85545d0c6f7e4c05851dd0b78b871158": {
          "model_module": "@jupyter-widgets/controls",
          "model_name": "HTMLModel",
          "model_module_version": "1.5.0",
          "state": {
            "_dom_classes": [],
            "_model_module": "@jupyter-widgets/controls",
            "_model_module_version": "1.5.0",
            "_model_name": "HTMLModel",
            "_view_count": null,
            "_view_module": "@jupyter-widgets/controls",
            "_view_module_version": "1.5.0",
            "_view_name": "HTMLView",
            "description": "",
            "description_tooltip": null,
            "layout": "IPY_MODEL_a0e19ebf790b4c1ba2293b8b93090018",
            "placeholder": "​",
            "style": "IPY_MODEL_00a659059e7d49f7adc8e6b8d0579556",
            "value": " 152/152 [00:13&lt;00:00, 11.38it/s]"
          }
        },
        "f9f5561cf7544b598580da8125ee399a": {
          "model_module": "@jupyter-widgets/base",
          "model_name": "LayoutModel",
          "model_module_version": "1.2.0",
          "state": {
            "_model_module": "@jupyter-widgets/base",
            "_model_module_version": "1.2.0",
            "_model_name": "LayoutModel",
            "_view_count": null,
            "_view_module": "@jupyter-widgets/base",
            "_view_module_version": "1.2.0",
            "_view_name": "LayoutView",
            "align_content": null,
            "align_items": null,
            "align_self": null,
            "border": null,
            "bottom": null,
            "display": null,
            "flex": null,
            "flex_flow": null,
            "grid_area": null,
            "grid_auto_columns": null,
            "grid_auto_flow": null,
            "grid_auto_rows": null,
            "grid_column": null,
            "grid_gap": null,
            "grid_row": null,
            "grid_template_areas": null,
            "grid_template_columns": null,
            "grid_template_rows": null,
            "height": null,
            "justify_content": null,
            "justify_items": null,
            "left": null,
            "margin": null,
            "max_height": null,
            "max_width": null,
            "min_height": null,
            "min_width": null,
            "object_fit": null,
            "object_position": null,
            "order": null,
            "overflow": null,
            "overflow_x": null,
            "overflow_y": null,
            "padding": null,
            "right": null,
            "top": null,
            "visibility": null,
            "width": null
          }
        },
        "fa0ba38f6cbc405d9420c350be6d486b": {
          "model_module": "@jupyter-widgets/base",
          "model_name": "LayoutModel",
          "model_module_version": "1.2.0",
          "state": {
            "_model_module": "@jupyter-widgets/base",
            "_model_module_version": "1.2.0",
            "_model_name": "LayoutModel",
            "_view_count": null,
            "_view_module": "@jupyter-widgets/base",
            "_view_module_version": "1.2.0",
            "_view_name": "LayoutView",
            "align_content": null,
            "align_items": null,
            "align_self": null,
            "border": null,
            "bottom": null,
            "display": null,
            "flex": null,
            "flex_flow": null,
            "grid_area": null,
            "grid_auto_columns": null,
            "grid_auto_flow": null,
            "grid_auto_rows": null,
            "grid_column": null,
            "grid_gap": null,
            "grid_row": null,
            "grid_template_areas": null,
            "grid_template_columns": null,
            "grid_template_rows": null,
            "height": null,
            "justify_content": null,
            "justify_items": null,
            "left": null,
            "margin": null,
            "max_height": null,
            "max_width": null,
            "min_height": null,
            "min_width": null,
            "object_fit": null,
            "object_position": null,
            "order": null,
            "overflow": null,
            "overflow_x": null,
            "overflow_y": null,
            "padding": null,
            "right": null,
            "top": null,
            "visibility": null,
            "width": null
          }
        },
        "8e67a66722ad479b80da1b7e1436eda0": {
          "model_module": "@jupyter-widgets/controls",
          "model_name": "DescriptionStyleModel",
          "model_module_version": "1.5.0",
          "state": {
            "_model_module": "@jupyter-widgets/controls",
            "_model_module_version": "1.5.0",
            "_model_name": "DescriptionStyleModel",
            "_view_count": null,
            "_view_module": "@jupyter-widgets/base",
            "_view_module_version": "1.2.0",
            "_view_name": "StyleView",
            "description_width": ""
          }
        },
        "b042cd523c3c41ed923ad0e98fa71c25": {
          "model_module": "@jupyter-widgets/base",
          "model_name": "LayoutModel",
          "model_module_version": "1.2.0",
          "state": {
            "_model_module": "@jupyter-widgets/base",
            "_model_module_version": "1.2.0",
            "_model_name": "LayoutModel",
            "_view_count": null,
            "_view_module": "@jupyter-widgets/base",
            "_view_module_version": "1.2.0",
            "_view_name": "LayoutView",
            "align_content": null,
            "align_items": null,
            "align_self": null,
            "border": null,
            "bottom": null,
            "display": null,
            "flex": null,
            "flex_flow": null,
            "grid_area": null,
            "grid_auto_columns": null,
            "grid_auto_flow": null,
            "grid_auto_rows": null,
            "grid_column": null,
            "grid_gap": null,
            "grid_row": null,
            "grid_template_areas": null,
            "grid_template_columns": null,
            "grid_template_rows": null,
            "height": null,
            "justify_content": null,
            "justify_items": null,
            "left": null,
            "margin": null,
            "max_height": null,
            "max_width": null,
            "min_height": null,
            "min_width": null,
            "object_fit": null,
            "object_position": null,
            "order": null,
            "overflow": null,
            "overflow_x": null,
            "overflow_y": null,
            "padding": null,
            "right": null,
            "top": null,
            "visibility": null,
            "width": null
          }
        },
        "e2b106d9dc9c46c48ecf4f0b81fdafb9": {
          "model_module": "@jupyter-widgets/controls",
          "model_name": "ProgressStyleModel",
          "model_module_version": "1.5.0",
          "state": {
            "_model_module": "@jupyter-widgets/controls",
            "_model_module_version": "1.5.0",
            "_model_name": "ProgressStyleModel",
            "_view_count": null,
            "_view_module": "@jupyter-widgets/base",
            "_view_module_version": "1.2.0",
            "_view_name": "StyleView",
            "bar_color": null,
            "description_width": ""
          }
        },
        "a0e19ebf790b4c1ba2293b8b93090018": {
          "model_module": "@jupyter-widgets/base",
          "model_name": "LayoutModel",
          "model_module_version": "1.2.0",
          "state": {
            "_model_module": "@jupyter-widgets/base",
            "_model_module_version": "1.2.0",
            "_model_name": "LayoutModel",
            "_view_count": null,
            "_view_module": "@jupyter-widgets/base",
            "_view_module_version": "1.2.0",
            "_view_name": "LayoutView",
            "align_content": null,
            "align_items": null,
            "align_self": null,
            "border": null,
            "bottom": null,
            "display": null,
            "flex": null,
            "flex_flow": null,
            "grid_area": null,
            "grid_auto_columns": null,
            "grid_auto_flow": null,
            "grid_auto_rows": null,
            "grid_column": null,
            "grid_gap": null,
            "grid_row": null,
            "grid_template_areas": null,
            "grid_template_columns": null,
            "grid_template_rows": null,
            "height": null,
            "justify_content": null,
            "justify_items": null,
            "left": null,
            "margin": null,
            "max_height": null,
            "max_width": null,
            "min_height": null,
            "min_width": null,
            "object_fit": null,
            "object_position": null,
            "order": null,
            "overflow": null,
            "overflow_x": null,
            "overflow_y": null,
            "padding": null,
            "right": null,
            "top": null,
            "visibility": null,
            "width": null
          }
        },
        "00a659059e7d49f7adc8e6b8d0579556": {
          "model_module": "@jupyter-widgets/controls",
          "model_name": "DescriptionStyleModel",
          "model_module_version": "1.5.0",
          "state": {
            "_model_module": "@jupyter-widgets/controls",
            "_model_module_version": "1.5.0",
            "_model_name": "DescriptionStyleModel",
            "_view_count": null,
            "_view_module": "@jupyter-widgets/base",
            "_view_module_version": "1.2.0",
            "_view_name": "StyleView",
            "description_width": ""
          }
        }
      }
    }
  },
  "cells": [
    {
      "cell_type": "code",
      "execution_count": 1,
      "metadata": {
        "colab": {
          "base_uri": "https://localhost:8080/"
        },
        "id": "JiR5MX9InIBa",
        "outputId": "a05a6a93-5d17-4c36-8a92-3eaa2d15b03e"
      },
      "outputs": [
        {
          "output_type": "stream",
          "name": "stdout",
          "text": [
            "Requirement already satisfied: ndjson in /usr/local/lib/python3.10/dist-packages (0.3.1)\n"
          ]
        }
      ],
      "source": [
        "!pip install ndjson\n"
      ]
    },
    {
      "cell_type": "code",
      "source": [
        "PATH = \"/content/review_corpus_en.ndjson\""
      ],
      "metadata": {
        "id": "q2JKIm_JnOli"
      },
      "execution_count": 2,
      "outputs": []
    },
    {
      "cell_type": "code",
      "source": [
        "import ndjson\n",
        "from sklearn.model_selection import train_test_split\n",
        "\n",
        "with open(PATH) as i:\n",
        "    data = ndjson.load(i)\n",
        "\n",
        "texts = [\" \".join([doc[\"title\"], doc[\"body\"]]) for doc in data]\n",
        "labels = [doc[\"rating\"] for doc in data]\n",
        "\n",
        "rest_texts, test_texts, rest_labels, test_labels = train_test_split(texts, labels, test_size=0.1, random_state=1)\n",
        "train_texts, dev_texts, train_labels, dev_labels = train_test_split(rest_texts, rest_labels, test_size=0.1, random_state=1)\n",
        "\n",
        "print(\"Train size:\", len(train_texts))\n",
        "print(\"Dev size:\", len(dev_texts))\n",
        "print(\"Test size:\", len(test_texts))"
      ],
      "metadata": {
        "colab": {
          "base_uri": "https://localhost:8080/"
        },
        "id": "75K-vBqOnOoN",
        "outputId": "37b178ac-86f9-44b2-bc75-047247e6c608"
      },
      "execution_count": 3,
      "outputs": [
        {
          "output_type": "stream",
          "name": "stdout",
          "text": [
            "Train size: 2430\n",
            "Dev size: 270\n",
            "Test size: 300\n"
          ]
        }
      ]
    },
    {
      "cell_type": "code",
      "source": [
        "target_names = list(set(labels))\n",
        "label2idx = {label: idx for idx, label in enumerate(target_names)}\n",
        "print(label2idx)"
      ],
      "metadata": {
        "colab": {
          "base_uri": "https://localhost:8080/"
        },
        "id": "zVVSUURInOsp",
        "outputId": "18715382-7b19-4e38-b81c-46ef7d121bca"
      },
      "execution_count": 4,
      "outputs": [
        {
          "output_type": "stream",
          "name": "stdout",
          "text": [
            "{'mixed': 0, 'pos': 1, 'neg': 2}\n"
          ]
        }
      ]
    },
    {
      "cell_type": "code",
      "source": [
        "import numpy as np\n",
        "from sklearn.feature_extraction.text import CountVectorizer, TfidfTransformer\n",
        "from sklearn.linear_model import LogisticRegression\n",
        "from sklearn.pipeline import Pipeline\n",
        "from sklearn.model_selection import GridSearchCV\n",
        "\n",
        "pipeline = Pipeline([\n",
        "    ('vect', CountVectorizer()),\n",
        "    ('tfidf', TfidfTransformer()),\n",
        "    ('lr', LogisticRegression(multi_class=\"ovr\", solver=\"lbfgs\"))\n",
        "])\n",
        "\n",
        "parameters = {'lr__C': [0.1, 0.5, 1, 2, 5, 10, 100, 1000]}\n",
        "\n",
        "best_classifier = GridSearchCV(pipeline, parameters, cv=5, verbose=1)\n",
        "best_classifier.fit(train_texts, train_labels)\n",
        "best_predictions = best_classifier.predict(test_texts)\n",
        "\n",
        "baseline_accuracy = np.mean(best_predictions == test_labels)\n",
        "print(\"Baseline accuracy:\", baseline_accuracy)"
      ],
      "metadata": {
        "colab": {
          "base_uri": "https://localhost:8080/"
        },
        "id": "qAuJLzSRnOu7",
        "outputId": "9232b5c0-b0a1-4b83-8a87-c3fd4a1eca60"
      },
      "execution_count": 5,
      "outputs": [
        {
          "output_type": "stream",
          "name": "stdout",
          "text": [
            "Fitting 5 folds for each of 8 candidates, totalling 40 fits\n"
          ]
        },
        {
          "output_type": "stream",
          "name": "stderr",
          "text": [
            "/usr/local/lib/python3.10/dist-packages/sklearn/linear_model/_logistic.py:458: ConvergenceWarning: lbfgs failed to converge (status=1):\n",
            "STOP: TOTAL NO. of ITERATIONS REACHED LIMIT.\n",
            "\n",
            "Increase the number of iterations (max_iter) or scale the data as shown in:\n",
            "    https://scikit-learn.org/stable/modules/preprocessing.html\n",
            "Please also refer to the documentation for alternative solver options:\n",
            "    https://scikit-learn.org/stable/modules/linear_model.html#logistic-regression\n",
            "  n_iter_i = _check_optimize_result(\n",
            "/usr/local/lib/python3.10/dist-packages/sklearn/linear_model/_logistic.py:458: ConvergenceWarning: lbfgs failed to converge (status=1):\n",
            "STOP: TOTAL NO. of ITERATIONS REACHED LIMIT.\n",
            "\n",
            "Increase the number of iterations (max_iter) or scale the data as shown in:\n",
            "    https://scikit-learn.org/stable/modules/preprocessing.html\n",
            "Please also refer to the documentation for alternative solver options:\n",
            "    https://scikit-learn.org/stable/modules/linear_model.html#logistic-regression\n",
            "  n_iter_i = _check_optimize_result(\n",
            "/usr/local/lib/python3.10/dist-packages/sklearn/linear_model/_logistic.py:458: ConvergenceWarning: lbfgs failed to converge (status=1):\n",
            "STOP: TOTAL NO. of ITERATIONS REACHED LIMIT.\n",
            "\n",
            "Increase the number of iterations (max_iter) or scale the data as shown in:\n",
            "    https://scikit-learn.org/stable/modules/preprocessing.html\n",
            "Please also refer to the documentation for alternative solver options:\n",
            "    https://scikit-learn.org/stable/modules/linear_model.html#logistic-regression\n",
            "  n_iter_i = _check_optimize_result(\n",
            "/usr/local/lib/python3.10/dist-packages/sklearn/linear_model/_logistic.py:458: ConvergenceWarning: lbfgs failed to converge (status=1):\n",
            "STOP: TOTAL NO. of ITERATIONS REACHED LIMIT.\n",
            "\n",
            "Increase the number of iterations (max_iter) or scale the data as shown in:\n",
            "    https://scikit-learn.org/stable/modules/preprocessing.html\n",
            "Please also refer to the documentation for alternative solver options:\n",
            "    https://scikit-learn.org/stable/modules/linear_model.html#logistic-regression\n",
            "  n_iter_i = _check_optimize_result(\n",
            "/usr/local/lib/python3.10/dist-packages/sklearn/linear_model/_logistic.py:458: ConvergenceWarning: lbfgs failed to converge (status=1):\n",
            "STOP: TOTAL NO. of ITERATIONS REACHED LIMIT.\n",
            "\n",
            "Increase the number of iterations (max_iter) or scale the data as shown in:\n",
            "    https://scikit-learn.org/stable/modules/preprocessing.html\n",
            "Please also refer to the documentation for alternative solver options:\n",
            "    https://scikit-learn.org/stable/modules/linear_model.html#logistic-regression\n",
            "  n_iter_i = _check_optimize_result(\n",
            "/usr/local/lib/python3.10/dist-packages/sklearn/linear_model/_logistic.py:458: ConvergenceWarning: lbfgs failed to converge (status=1):\n",
            "STOP: TOTAL NO. of ITERATIONS REACHED LIMIT.\n",
            "\n",
            "Increase the number of iterations (max_iter) or scale the data as shown in:\n",
            "    https://scikit-learn.org/stable/modules/preprocessing.html\n",
            "Please also refer to the documentation for alternative solver options:\n",
            "    https://scikit-learn.org/stable/modules/linear_model.html#logistic-regression\n",
            "  n_iter_i = _check_optimize_result(\n",
            "/usr/local/lib/python3.10/dist-packages/sklearn/linear_model/_logistic.py:458: ConvergenceWarning: lbfgs failed to converge (status=1):\n",
            "STOP: TOTAL NO. of ITERATIONS REACHED LIMIT.\n",
            "\n",
            "Increase the number of iterations (max_iter) or scale the data as shown in:\n",
            "    https://scikit-learn.org/stable/modules/preprocessing.html\n",
            "Please also refer to the documentation for alternative solver options:\n",
            "    https://scikit-learn.org/stable/modules/linear_model.html#logistic-regression\n",
            "  n_iter_i = _check_optimize_result(\n",
            "/usr/local/lib/python3.10/dist-packages/sklearn/linear_model/_logistic.py:458: ConvergenceWarning: lbfgs failed to converge (status=1):\n",
            "STOP: TOTAL NO. of ITERATIONS REACHED LIMIT.\n",
            "\n",
            "Increase the number of iterations (max_iter) or scale the data as shown in:\n",
            "    https://scikit-learn.org/stable/modules/preprocessing.html\n",
            "Please also refer to the documentation for alternative solver options:\n",
            "    https://scikit-learn.org/stable/modules/linear_model.html#logistic-regression\n",
            "  n_iter_i = _check_optimize_result(\n",
            "/usr/local/lib/python3.10/dist-packages/sklearn/linear_model/_logistic.py:458: ConvergenceWarning: lbfgs failed to converge (status=1):\n",
            "STOP: TOTAL NO. of ITERATIONS REACHED LIMIT.\n",
            "\n",
            "Increase the number of iterations (max_iter) or scale the data as shown in:\n",
            "    https://scikit-learn.org/stable/modules/preprocessing.html\n",
            "Please also refer to the documentation for alternative solver options:\n",
            "    https://scikit-learn.org/stable/modules/linear_model.html#logistic-regression\n",
            "  n_iter_i = _check_optimize_result(\n",
            "/usr/local/lib/python3.10/dist-packages/sklearn/linear_model/_logistic.py:458: ConvergenceWarning: lbfgs failed to converge (status=1):\n",
            "STOP: TOTAL NO. of ITERATIONS REACHED LIMIT.\n",
            "\n",
            "Increase the number of iterations (max_iter) or scale the data as shown in:\n",
            "    https://scikit-learn.org/stable/modules/preprocessing.html\n",
            "Please also refer to the documentation for alternative solver options:\n",
            "    https://scikit-learn.org/stable/modules/linear_model.html#logistic-regression\n",
            "  n_iter_i = _check_optimize_result(\n"
          ]
        },
        {
          "output_type": "stream",
          "name": "stdout",
          "text": [
            "Baseline accuracy: 0.6266666666666667\n"
          ]
        }
      ]
    },
    {
      "cell_type": "code",
      "source": [
        "!pip install transformers"
      ],
      "metadata": {
        "colab": {
          "base_uri": "https://localhost:8080/"
        },
        "id": "xQnodsVXnOxr",
        "outputId": "61fb8c90-41a0-41ac-f931-4ad5ec5e5844"
      },
      "execution_count": 6,
      "outputs": [
        {
          "output_type": "stream",
          "name": "stdout",
          "text": [
            "Requirement already satisfied: transformers in /usr/local/lib/python3.10/dist-packages (4.40.1)\n",
            "Requirement already satisfied: filelock in /usr/local/lib/python3.10/dist-packages (from transformers) (3.13.4)\n",
            "Requirement already satisfied: huggingface-hub<1.0,>=0.19.3 in /usr/local/lib/python3.10/dist-packages (from transformers) (0.20.3)\n",
            "Requirement already satisfied: numpy>=1.17 in /usr/local/lib/python3.10/dist-packages (from transformers) (1.25.2)\n",
            "Requirement already satisfied: packaging>=20.0 in /usr/local/lib/python3.10/dist-packages (from transformers) (24.0)\n",
            "Requirement already satisfied: pyyaml>=5.1 in /usr/local/lib/python3.10/dist-packages (from transformers) (6.0.1)\n",
            "Requirement already satisfied: regex!=2019.12.17 in /usr/local/lib/python3.10/dist-packages (from transformers) (2023.12.25)\n",
            "Requirement already satisfied: requests in /usr/local/lib/python3.10/dist-packages (from transformers) (2.31.0)\n",
            "Requirement already satisfied: tokenizers<0.20,>=0.19 in /usr/local/lib/python3.10/dist-packages (from transformers) (0.19.1)\n",
            "Requirement already satisfied: safetensors>=0.4.1 in /usr/local/lib/python3.10/dist-packages (from transformers) (0.4.3)\n",
            "Requirement already satisfied: tqdm>=4.27 in /usr/local/lib/python3.10/dist-packages (from transformers) (4.66.2)\n",
            "Requirement already satisfied: fsspec>=2023.5.0 in /usr/local/lib/python3.10/dist-packages (from huggingface-hub<1.0,>=0.19.3->transformers) (2023.6.0)\n",
            "Requirement already satisfied: typing-extensions>=3.7.4.3 in /usr/local/lib/python3.10/dist-packages (from huggingface-hub<1.0,>=0.19.3->transformers) (4.11.0)\n",
            "Requirement already satisfied: charset-normalizer<4,>=2 in /usr/local/lib/python3.10/dist-packages (from requests->transformers) (3.3.2)\n",
            "Requirement already satisfied: idna<4,>=2.5 in /usr/local/lib/python3.10/dist-packages (from requests->transformers) (3.7)\n",
            "Requirement already satisfied: urllib3<3,>=1.21.1 in /usr/local/lib/python3.10/dist-packages (from requests->transformers) (2.0.7)\n",
            "Requirement already satisfied: certifi>=2017.4.17 in /usr/local/lib/python3.10/dist-packages (from requests->transformers) (2024.2.2)\n"
          ]
        }
      ]
    },
    {
      "cell_type": "code",
      "source": [
        "import torch\n",
        "\n",
        "device = torch.device(\"cuda\" if torch.cuda.is_available() else \"cpu\")"
      ],
      "metadata": {
        "id": "3G_Ms86InO0w"
      },
      "execution_count": 7,
      "outputs": []
    },
    {
      "cell_type": "code",
      "source": [
        "BERT_MODEL = \"bert-base-uncased\""
      ],
      "metadata": {
        "id": "owXuTL9xnO3U"
      },
      "execution_count": 8,
      "outputs": []
    },
    {
      "cell_type": "code",
      "source": [
        "from transformers import BertTokenizer\n",
        "\n",
        "tokenizer = BertTokenizer.from_pretrained('bert-base-uncased')\n"
      ],
      "metadata": {
        "colab": {
          "base_uri": "https://localhost:8080/"
        },
        "id": "gK6d11PFnO53",
        "outputId": "694c3df4-c71f-4ce5-fa5c-a0199b6f52ac"
      },
      "execution_count": 9,
      "outputs": [
        {
          "output_type": "stream",
          "name": "stderr",
          "text": [
            "/usr/local/lib/python3.10/dist-packages/huggingface_hub/utils/_token.py:88: UserWarning: \n",
            "The secret `HF_TOKEN` does not exist in your Colab secrets.\n",
            "To authenticate with the Hugging Face Hub, create a token in your settings tab (https://huggingface.co/settings/tokens), set it as secret in your Google Colab and restart your session.\n",
            "You will be able to reuse this secret in all of your notebooks.\n",
            "Please note that authentication is recommended but still optional to access public models or datasets.\n",
            "  warnings.warn(\n"
          ]
        }
      ]
    },
    {
      "cell_type": "code",
      "source": [
        "from transformers import BertForSequenceClassification\n"
      ],
      "metadata": {
        "id": "hLylWnQ2nO8K"
      },
      "execution_count": 10,
      "outputs": []
    },
    {
      "cell_type": "code",
      "source": [
        "model = BertForSequenceClassification.from_pretrained('bert-base-uncased', num_labels=len(label2idx))\n",
        "model.to(device)  # Assuming 'device' is defined, like device = torch.device(\"cuda\" if torch.cuda.is_available() else \"cpu\")\n"
      ],
      "metadata": {
        "colab": {
          "base_uri": "https://localhost:8080/"
        },
        "id": "SOSmJ4ELnO-v",
        "outputId": "c76b3cab-c239-4bcd-a686-91dc29e625a4"
      },
      "execution_count": 11,
      "outputs": [
        {
          "output_type": "stream",
          "name": "stderr",
          "text": [
            "Some weights of BertForSequenceClassification were not initialized from the model checkpoint at bert-base-uncased and are newly initialized: ['classifier.bias', 'classifier.weight']\n",
            "You should probably TRAIN this model on a down-stream task to be able to use it for predictions and inference.\n"
          ]
        },
        {
          "output_type": "execute_result",
          "data": {
            "text/plain": [
              "BertForSequenceClassification(\n",
              "  (bert): BertModel(\n",
              "    (embeddings): BertEmbeddings(\n",
              "      (word_embeddings): Embedding(30522, 768, padding_idx=0)\n",
              "      (position_embeddings): Embedding(512, 768)\n",
              "      (token_type_embeddings): Embedding(2, 768)\n",
              "      (LayerNorm): LayerNorm((768,), eps=1e-12, elementwise_affine=True)\n",
              "      (dropout): Dropout(p=0.1, inplace=False)\n",
              "    )\n",
              "    (encoder): BertEncoder(\n",
              "      (layer): ModuleList(\n",
              "        (0-11): 12 x BertLayer(\n",
              "          (attention): BertAttention(\n",
              "            (self): BertSelfAttention(\n",
              "              (query): Linear(in_features=768, out_features=768, bias=True)\n",
              "              (key): Linear(in_features=768, out_features=768, bias=True)\n",
              "              (value): Linear(in_features=768, out_features=768, bias=True)\n",
              "              (dropout): Dropout(p=0.1, inplace=False)\n",
              "            )\n",
              "            (output): BertSelfOutput(\n",
              "              (dense): Linear(in_features=768, out_features=768, bias=True)\n",
              "              (LayerNorm): LayerNorm((768,), eps=1e-12, elementwise_affine=True)\n",
              "              (dropout): Dropout(p=0.1, inplace=False)\n",
              "            )\n",
              "          )\n",
              "          (intermediate): BertIntermediate(\n",
              "            (dense): Linear(in_features=768, out_features=3072, bias=True)\n",
              "            (intermediate_act_fn): GELUActivation()\n",
              "          )\n",
              "          (output): BertOutput(\n",
              "            (dense): Linear(in_features=3072, out_features=768, bias=True)\n",
              "            (LayerNorm): LayerNorm((768,), eps=1e-12, elementwise_affine=True)\n",
              "            (dropout): Dropout(p=0.1, inplace=False)\n",
              "          )\n",
              "        )\n",
              "      )\n",
              "    )\n",
              "    (pooler): BertPooler(\n",
              "      (dense): Linear(in_features=768, out_features=768, bias=True)\n",
              "      (activation): Tanh()\n",
              "    )\n",
              "  )\n",
              "  (dropout): Dropout(p=0.1, inplace=False)\n",
              "  (classifier): Linear(in_features=768, out_features=3, bias=True)\n",
              ")"
            ]
          },
          "metadata": {},
          "execution_count": 11
        }
      ]
    },
    {
      "cell_type": "code",
      "source": [
        "pip install transformers --upgrade\n"
      ],
      "metadata": {
        "colab": {
          "base_uri": "https://localhost:8080/"
        },
        "id": "xQvu0T7CnPBp",
        "outputId": "d67390a7-f2dd-4e7d-e9f0-1f1c8805fa95"
      },
      "execution_count": 12,
      "outputs": [
        {
          "output_type": "stream",
          "name": "stdout",
          "text": [
            "Requirement already satisfied: transformers in /usr/local/lib/python3.10/dist-packages (4.40.1)\n",
            "Requirement already satisfied: filelock in /usr/local/lib/python3.10/dist-packages (from transformers) (3.13.4)\n",
            "Requirement already satisfied: huggingface-hub<1.0,>=0.19.3 in /usr/local/lib/python3.10/dist-packages (from transformers) (0.20.3)\n",
            "Requirement already satisfied: numpy>=1.17 in /usr/local/lib/python3.10/dist-packages (from transformers) (1.25.2)\n",
            "Requirement already satisfied: packaging>=20.0 in /usr/local/lib/python3.10/dist-packages (from transformers) (24.0)\n",
            "Requirement already satisfied: pyyaml>=5.1 in /usr/local/lib/python3.10/dist-packages (from transformers) (6.0.1)\n",
            "Requirement already satisfied: regex!=2019.12.17 in /usr/local/lib/python3.10/dist-packages (from transformers) (2023.12.25)\n",
            "Requirement already satisfied: requests in /usr/local/lib/python3.10/dist-packages (from transformers) (2.31.0)\n",
            "Requirement already satisfied: tokenizers<0.20,>=0.19 in /usr/local/lib/python3.10/dist-packages (from transformers) (0.19.1)\n",
            "Requirement already satisfied: safetensors>=0.4.1 in /usr/local/lib/python3.10/dist-packages (from transformers) (0.4.3)\n",
            "Requirement already satisfied: tqdm>=4.27 in /usr/local/lib/python3.10/dist-packages (from transformers) (4.66.2)\n",
            "Requirement already satisfied: fsspec>=2023.5.0 in /usr/local/lib/python3.10/dist-packages (from huggingface-hub<1.0,>=0.19.3->transformers) (2023.6.0)\n",
            "Requirement already satisfied: typing-extensions>=3.7.4.3 in /usr/local/lib/python3.10/dist-packages (from huggingface-hub<1.0,>=0.19.3->transformers) (4.11.0)\n",
            "Requirement already satisfied: charset-normalizer<4,>=2 in /usr/local/lib/python3.10/dist-packages (from requests->transformers) (3.3.2)\n",
            "Requirement already satisfied: idna<4,>=2.5 in /usr/local/lib/python3.10/dist-packages (from requests->transformers) (3.7)\n",
            "Requirement already satisfied: urllib3<3,>=1.21.1 in /usr/local/lib/python3.10/dist-packages (from requests->transformers) (2.0.7)\n",
            "Requirement already satisfied: certifi>=2017.4.17 in /usr/local/lib/python3.10/dist-packages (from requests->transformers) (2024.2.2)\n"
          ]
        }
      ]
    },
    {
      "cell_type": "code",
      "source": [
        "import logging\n",
        "import numpy as np\n",
        "\n",
        "logging.basicConfig(format = '%(asctime)s - %(levelname)s - %(name)s -   %(message)s',\n",
        "                    datefmt = '%m/%d/%Y %H:%M:%S',\n",
        "                    level = logging.INFO)\n",
        "logger = logging.getLogger(__name__)\n",
        "\n",
        "MAX_SEQ_LENGTH=100\n",
        "\n",
        "class BertInputItem(object):\n",
        "    \"\"\"An item with all the necessary attributes for finetuning BERT.\"\"\"\n",
        "\n",
        "    def __init__(self, text, input_ids, input_mask, segment_ids, label_id):\n",
        "        self.text = text\n",
        "        self.input_ids = input_ids\n",
        "        self.input_mask = input_mask\n",
        "        self.segment_ids = segment_ids\n",
        "        self.label_id = label_id\n",
        "\n",
        "\n",
        "def convert_examples_to_inputs(example_texts, example_labels, label2idx, max_seq_length, tokenizer, verbose=0):\n",
        "    \"\"\"Loads a data file into a list of `InputBatch`s.\"\"\"\n",
        "\n",
        "    input_items = []\n",
        "    examples = zip(example_texts, example_labels)\n",
        "    for (ex_index, (text, label)) in enumerate(examples):\n",
        "\n",
        "        # Create a list of token ids\n",
        "        input_ids = tokenizer.encode(f\"[CLS] {text} [SEP]\")\n",
        "        if len(input_ids) > max_seq_length:\n",
        "            input_ids = input_ids[:max_seq_length]\n",
        "\n",
        "        # All our tokens are in the first input segment (id 0).\n",
        "        segment_ids = [0] * len(input_ids)\n",
        "\n",
        "        # The mask has 1 for real tokens and 0 for padding tokens. Only real\n",
        "        # tokens are attended to.\n",
        "        input_mask = [1] * len(input_ids)\n",
        "\n",
        "        # Zero-pad up to the sequence length.\n",
        "        padding = [0] * (max_seq_length - len(input_ids))\n",
        "        input_ids += padding\n",
        "        input_mask += padding\n",
        "        segment_ids += padding\n",
        "\n",
        "        assert len(input_ids) == max_seq_length\n",
        "        assert len(input_mask) == max_seq_length\n",
        "        assert len(segment_ids) == max_seq_length\n",
        "\n",
        "        label_id = label2idx[label]\n",
        "\n",
        "        input_items.append(\n",
        "            BertInputItem(text=text,\n",
        "                          input_ids=input_ids,\n",
        "                          input_mask=input_mask,\n",
        "                          segment_ids=segment_ids,\n",
        "                          label_id=label_id))\n",
        "\n",
        "\n",
        "    return input_items\n",
        "\n",
        "train_features = convert_examples_to_inputs(train_texts, train_labels, label2idx, MAX_SEQ_LENGTH, tokenizer, verbose=0)\n",
        "dev_features = convert_examples_to_inputs(dev_texts, dev_labels, label2idx, MAX_SEQ_LENGTH, tokenizer)\n",
        "test_features = convert_examples_to_inputs(test_texts, test_labels, label2idx, MAX_SEQ_LENGTH, tokenizer)"
      ],
      "metadata": {
        "colab": {
          "base_uri": "https://localhost:8080/"
        },
        "id": "ynb7MebInPDr",
        "outputId": "58559e43-223a-4f0e-fc03-2f2c12787ad2"
      },
      "execution_count": 13,
      "outputs": [
        {
          "output_type": "stream",
          "name": "stderr",
          "text": [
            "Token indices sequence length is longer than the specified maximum sequence length for this model (534 > 512). Running this sequence through the model will result in indexing errors\n"
          ]
        }
      ]
    },
    {
      "cell_type": "code",
      "source": [
        "from torch.utils.data import TensorDataset, DataLoader, SequentialSampler\n",
        "\n",
        "def get_data_loader(features, max_seq_length, batch_size, shuffle=True):\n",
        "\n",
        "    all_input_ids = torch.tensor([f.input_ids for f in features], dtype=torch.long)\n",
        "    all_input_mask = torch.tensor([f.input_mask for f in features], dtype=torch.long)\n",
        "    all_segment_ids = torch.tensor([f.segment_ids for f in features], dtype=torch.long)\n",
        "    all_label_ids = torch.tensor([f.label_id for f in features], dtype=torch.long)\n",
        "    data = TensorDataset(all_input_ids, all_input_mask, all_segment_ids, all_label_ids)\n",
        "\n",
        "    dataloader = DataLoader(data, shuffle=shuffle, batch_size=batch_size)\n",
        "    return dataloader\n",
        "\n",
        "BATCH_SIZE = 16\n",
        "\n",
        "train_dataloader = get_data_loader(train_features, MAX_SEQ_LENGTH, BATCH_SIZE, shuffle=True)\n",
        "dev_dataloader = get_data_loader(dev_features, MAX_SEQ_LENGTH, BATCH_SIZE, shuffle=False)\n",
        "test_dataloader = get_data_loader(test_features, MAX_SEQ_LENGTH, BATCH_SIZE, shuffle=False)"
      ],
      "metadata": {
        "id": "G9UYJkginPGz"
      },
      "execution_count": 14,
      "outputs": []
    },
    {
      "cell_type": "code",
      "source": [
        "def evaluate(model, dataloader):\n",
        "    model.eval()\n",
        "\n",
        "    eval_loss = 0\n",
        "    nb_eval_steps = 0\n",
        "    predicted_labels, correct_labels = [], []\n",
        "\n",
        "    for step, batch in enumerate(tqdm(dataloader, desc=\"Evaluation iteration\")):\n",
        "        batch = tuple(t.to(device) for t in batch)\n",
        "        input_ids, input_mask, segment_ids, label_ids = batch\n",
        "\n",
        "        with torch.no_grad():\n",
        "            tmp_eval_loss, logits = model(input_ids, attention_mask=input_mask,\n",
        "                                          token_type_ids=segment_ids, labels=label_ids)\n",
        "\n",
        "        outputs = np.argmax(logits.to('cpu'), axis=1)\n",
        "        label_ids = label_ids.to('cpu').numpy()\n",
        "\n",
        "        predicted_labels += list(outputs)\n",
        "        correct_labels += list(label_ids)\n",
        "\n",
        "        eval_loss += tmp_eval_loss.mean().item()\n",
        "        nb_eval_steps += 1\n",
        "\n",
        "    eval_loss = eval_loss / nb_eval_steps\n",
        "\n",
        "    correct_labels = np.array(correct_labels)\n",
        "    predicted_labels = np.array(predicted_labels)\n",
        "\n",
        "    return eval_loss, correct_labels, predicted_labels"
      ],
      "metadata": {
        "id": "Gie28koInPJb"
      },
      "execution_count": 15,
      "outputs": []
    },
    {
      "cell_type": "code",
      "source": [
        "LEARNING_RATE = 5e-5  # This is a common learning rate for BERT models.\n"
      ],
      "metadata": {
        "id": "xx1GylXknPL_"
      },
      "execution_count": 16,
      "outputs": []
    },
    {
      "cell_type": "code",
      "source": [
        "WARMUP_STEPS = 1000  # Example value; adjust based on your training regime\n",
        "TOTAL_TRAIN_STEPS = 20000  # Example value; calculate as num_epochs * (num_samples / batch_size)\n"
      ],
      "metadata": {
        "id": "EQ9BioDlnPO5"
      },
      "execution_count": 17,
      "outputs": []
    },
    {
      "cell_type": "code",
      "source": [
        "from transformers import AdamW, get_linear_schedule_with_warmup\n",
        "\n",
        "# Usage within a training loop\n",
        "optimizer = AdamW(model.parameters(), lr=LEARNING_RATE)\n",
        "scheduler = get_linear_schedule_with_warmup(optimizer, num_warmup_steps=WARMUP_STEPS, num_training_steps=TOTAL_TRAIN_STEPS)\n"
      ],
      "metadata": {
        "colab": {
          "base_uri": "https://localhost:8080/"
        },
        "id": "eiid9-G1nPRq",
        "outputId": "6d532f27-533a-46a0-fee8-e97a549b2221"
      },
      "execution_count": 18,
      "outputs": [
        {
          "output_type": "stream",
          "name": "stderr",
          "text": [
            "/usr/local/lib/python3.10/dist-packages/transformers/optimization.py:521: FutureWarning: This implementation of AdamW is deprecated and will be removed in a future version. Use the PyTorch implementation torch.optim.AdamW instead, or set `no_deprecation_warning=True` to disable this warning\n",
            "  warnings.warn(\n"
          ]
        }
      ]
    },
    {
      "cell_type": "code",
      "source": [
        "NUM_TRAIN_EPOCHS = 20  # You can adjust this number based on your specific needs\n",
        "\n",
        "from tqdm import trange  # Ensure tqdm is imported if you're using trange for progress bar\n",
        "\n",
        "loss_history = []\n",
        "no_improvement = 0\n",
        "for _ in trange(int(NUM_TRAIN_EPOCHS), desc=\"Epoch\"):\n",
        "    model.train()\n",
        "    tr_loss = 0\n",
        "    # Continue with your training loop\n"
      ],
      "metadata": {
        "colab": {
          "base_uri": "https://localhost:8080/"
        },
        "id": "254c7t5NnPUi",
        "outputId": "5c2467ee-70f9-4898-dc32-886844211d58"
      },
      "execution_count": 19,
      "outputs": [
        {
          "output_type": "stream",
          "name": "stderr",
          "text": [
            "Epoch: 100%|██████████| 20/20 [00:00<00:00, 1094.56it/s]\n"
          ]
        }
      ]
    },
    {
      "cell_type": "code",
      "source": [
        "GRADIENT_ACCUMULATION_STEPS = 1  # Or any other appropriate value depending on your system's capability and batch size\n",
        "\n",
        "# Then continue with your training loop\n",
        "loss_history = []\n",
        "no_improvement = 0\n",
        "for _ in trange(int(NUM_TRAIN_EPOCHS), desc=\"Epoch\"):\n",
        "    model.train()\n",
        "    tr_loss = 0\n",
        "    # rest of your training code\n"
      ],
      "metadata": {
        "colab": {
          "base_uri": "https://localhost:8080/"
        },
        "id": "2YadJ-WsnPXR",
        "outputId": "6aaeaeb1-e8d7-413c-cb0b-907562e74d67"
      },
      "execution_count": 20,
      "outputs": [
        {
          "output_type": "stream",
          "name": "stderr",
          "text": [
            "Epoch: 100%|██████████| 20/20 [00:00<00:00, 1491.49it/s]\n"
          ]
        }
      ]
    },
    {
      "cell_type": "code",
      "source": [
        "MAX_GRAD_NORM = 1.0\n",
        "\n",
        "# Continue with your training loop\n",
        "for _ in trange(int(NUM_TRAIN_EPOCHS), desc=\"Epoch\"):\n",
        "    model.train()\n",
        "    tr_loss = 0\n",
        "    # Other parts of your training loop\n"
      ],
      "metadata": {
        "colab": {
          "base_uri": "https://localhost:8080/"
        },
        "id": "_z6gr0FUnPaF",
        "outputId": "257d4056-0dc8-420c-c869-62e5c02eefe5"
      },
      "execution_count": 21,
      "outputs": [
        {
          "output_type": "stream",
          "name": "stderr",
          "text": [
            "Epoch: 100%|██████████| 20/20 [00:00<00:00, 1397.24it/s]\n"
          ]
        }
      ]
    },
    {
      "cell_type": "code",
      "source": [
        "import torch\n",
        "import os\n",
        "from tqdm import trange\n",
        "from tqdm import tqdm_notebook as tqdm\n",
        "from sklearn.metrics import classification_report, precision_recall_fscore_support\n",
        "\n",
        "OUTPUT_DIR = \"/tmp/\"\n",
        "MODEL_FILE_NAME = \"pytorch_model.bin\"\n",
        "PATIENCE = 2\n",
        "\n",
        "loss_history = []\n",
        "no_improvement = 0\n",
        "for _ in trange(int(NUM_TRAIN_EPOCHS), desc=\"Epoch\"):\n",
        "    model.train()\n",
        "    tr_loss = 0\n",
        "    nb_tr_examples, nb_tr_steps = 0, 0\n",
        "    for step, batch in enumerate(tqdm(train_dataloader, desc=\"Training iteration\")):\n",
        "        batch = tuple(t.to(device) for t in batch)\n",
        "        input_ids, input_mask, segment_ids, label_ids = batch\n",
        "\n",
        "        outputs = model(input_ids, attention_mask=input_mask, token_type_ids=segment_ids, labels=label_ids)\n",
        "        loss = outputs[0]\n",
        "\n",
        "        if GRADIENT_ACCUMULATION_STEPS > 1:\n",
        "            loss = loss / GRADIENT_ACCUMULATION_STEPS\n",
        "\n",
        "        loss.backward()\n",
        "        tr_loss += loss.item()\n",
        "\n",
        "        if (step + 1) % GRADIENT_ACCUMULATION_STEPS == 0:\n",
        "            torch.nn.utils.clip_grad_norm_(model.parameters(), MAX_GRAD_NORM)\n",
        "\n",
        "            optimizer.step()\n",
        "            optimizer.zero_grad()\n",
        "            scheduler.step()\n",
        "\n",
        "    dev_loss, _, _ = evaluate(model, dev_dataloader)\n",
        "\n",
        "    print(\"Loss history:\", loss_history)\n",
        "    print(\"Dev loss:\", dev_loss)\n",
        "\n",
        "    if len(loss_history) == 0 or dev_loss < min(loss_history):\n",
        "        no_improvement = 0\n",
        "        model_to_save = model.module if hasattr(model, 'module') else model\n",
        "        output_model_file = os.path.join(OUTPUT_DIR, MODEL_FILE_NAME)\n",
        "        torch.save(model_to_save.state_dict(), output_model_file)\n",
        "    else:\n",
        "        no_improvement += 1\n",
        "\n",
        "    if no_improvement >= PATIENCE:\n",
        "        print(\"No improvement on development set. Finish training.\")\n",
        "        break\n",
        "\n",
        "\n",
        "    loss_history.append(dev_loss)\n"
      ],
      "metadata": {
        "colab": {
          "base_uri": "https://localhost:8080/",
          "height": 555,
          "referenced_widgets": [
            "a11345532b534f9b8966df7843538702",
            "e4580485e16f44cc9819d5bab42d9bac",
            "6e37175c828f419b9af67b12177d3bbb",
            "8634480487a24f04a55d805af96a29e7",
            "b299f71210cf46b1bac4ee87909587ff",
            "98db8e60e1cd402982d4d33a44e13c57",
            "538b1ca5d87b4a41a8b19c6128d0173e",
            "14330dabbd5f47d5b4ddd4ad57e2f169",
            "39997e5f50ea44ee9e06b93239067c80",
            "c43fcad6e3294c54b91118d91f71c0e6",
            "a17b3bbfc2224ac68e12da01d3e93fee",
            "2ea82d608dd24d0ba98cce8e9e1a1e61",
            "5e77b172b1d445c583e7e0c04b982c2e",
            "07d40ec3aab447239c18f944bcc7d2c9",
            "fa60e09d89704b68a3064c477c5e9d48",
            "d3223162fef64e049ad74df40b978dbd",
            "be3b0ec0017440299326fe3466b79f53",
            "ed63838f326a42bbab18d5c2fc4279c3",
            "470f3ad0bb1048eabff836cbb9687f4d",
            "9793f5ef3ea845c38a5996ec3b0575a0",
            "c276ea9133894be5945fb057cab9069d",
            "ddf66826b70540efaae395ef1b7dadb4"
          ]
        },
        "id": "WLWS1YicnPc1",
        "outputId": "63146bbb-fd6f-4d7a-911a-b5037b611577"
      },
      "execution_count": 22,
      "outputs": [
        {
          "output_type": "stream",
          "name": "stderr",
          "text": [
            "\rEpoch:   0%|          | 0/20 [00:00<?, ?it/s]<ipython-input-22-fa7654d3b056>:17: TqdmDeprecationWarning: This function will be removed in tqdm==5.0.0\n",
            "Please use `tqdm.notebook.tqdm` instead of `tqdm.tqdm_notebook`\n",
            "  for step, batch in enumerate(tqdm(train_dataloader, desc=\"Training iteration\")):\n"
          ]
        },
        {
          "output_type": "display_data",
          "data": {
            "text/plain": [
              "Training iteration:   0%|          | 0/152 [00:00<?, ?it/s]"
            ],
            "application/vnd.jupyter.widget-view+json": {
              "version_major": 2,
              "version_minor": 0,
              "model_id": "a11345532b534f9b8966df7843538702"
            }
          },
          "metadata": {}
        },
        {
          "output_type": "stream",
          "name": "stderr",
          "text": [
            "<ipython-input-15-ca5669107065>:8: TqdmDeprecationWarning: This function will be removed in tqdm==5.0.0\n",
            "Please use `tqdm.notebook.tqdm` instead of `tqdm.tqdm_notebook`\n",
            "  for step, batch in enumerate(tqdm(dataloader, desc=\"Evaluation iteration\")):\n"
          ]
        },
        {
          "output_type": "display_data",
          "data": {
            "text/plain": [
              "Evaluation iteration:   0%|          | 0/17 [00:00<?, ?it/s]"
            ],
            "application/vnd.jupyter.widget-view+json": {
              "version_major": 2,
              "version_minor": 0,
              "model_id": "2ea82d608dd24d0ba98cce8e9e1a1e61"
            }
          },
          "metadata": {}
        },
        {
          "output_type": "stream",
          "name": "stderr",
          "text": [
            "\rEpoch:   0%|          | 0/20 [00:41<?, ?it/s]\n"
          ]
        },
        {
          "output_type": "error",
          "ename": "AttributeError",
          "evalue": "'str' object has no attribute 'to'",
          "traceback": [
            "\u001b[0;31m---------------------------------------------------------------------------\u001b[0m",
            "\u001b[0;31mAttributeError\u001b[0m                            Traceback (most recent call last)",
            "\u001b[0;32m<ipython-input-22-fa7654d3b056>\u001b[0m in \u001b[0;36m<cell line: 13>\u001b[0;34m()\u001b[0m\n\u001b[1;32m     35\u001b[0m             \u001b[0mscheduler\u001b[0m\u001b[0;34m.\u001b[0m\u001b[0mstep\u001b[0m\u001b[0;34m(\u001b[0m\u001b[0;34m)\u001b[0m\u001b[0;34m\u001b[0m\u001b[0;34m\u001b[0m\u001b[0m\n\u001b[1;32m     36\u001b[0m \u001b[0;34m\u001b[0m\u001b[0m\n\u001b[0;32m---> 37\u001b[0;31m     \u001b[0mdev_loss\u001b[0m\u001b[0;34m,\u001b[0m \u001b[0m_\u001b[0m\u001b[0;34m,\u001b[0m \u001b[0m_\u001b[0m \u001b[0;34m=\u001b[0m \u001b[0mevaluate\u001b[0m\u001b[0;34m(\u001b[0m\u001b[0mmodel\u001b[0m\u001b[0;34m,\u001b[0m \u001b[0mdev_dataloader\u001b[0m\u001b[0;34m)\u001b[0m\u001b[0;34m\u001b[0m\u001b[0;34m\u001b[0m\u001b[0m\n\u001b[0m\u001b[1;32m     38\u001b[0m \u001b[0;34m\u001b[0m\u001b[0m\n\u001b[1;32m     39\u001b[0m     \u001b[0mprint\u001b[0m\u001b[0;34m(\u001b[0m\u001b[0;34m\"Loss history:\"\u001b[0m\u001b[0;34m,\u001b[0m \u001b[0mloss_history\u001b[0m\u001b[0;34m)\u001b[0m\u001b[0;34m\u001b[0m\u001b[0;34m\u001b[0m\u001b[0m\n",
            "\u001b[0;32m<ipython-input-15-ca5669107065>\u001b[0m in \u001b[0;36mevaluate\u001b[0;34m(model, dataloader)\u001b[0m\n\u001b[1;32m     14\u001b[0m                                           token_type_ids=segment_ids, labels=label_ids)\n\u001b[1;32m     15\u001b[0m \u001b[0;34m\u001b[0m\u001b[0m\n\u001b[0;32m---> 16\u001b[0;31m         \u001b[0moutputs\u001b[0m \u001b[0;34m=\u001b[0m \u001b[0mnp\u001b[0m\u001b[0;34m.\u001b[0m\u001b[0margmax\u001b[0m\u001b[0;34m(\u001b[0m\u001b[0mlogits\u001b[0m\u001b[0;34m.\u001b[0m\u001b[0mto\u001b[0m\u001b[0;34m(\u001b[0m\u001b[0;34m'cpu'\u001b[0m\u001b[0;34m)\u001b[0m\u001b[0;34m,\u001b[0m \u001b[0maxis\u001b[0m\u001b[0;34m=\u001b[0m\u001b[0;36m1\u001b[0m\u001b[0;34m)\u001b[0m\u001b[0;34m\u001b[0m\u001b[0;34m\u001b[0m\u001b[0m\n\u001b[0m\u001b[1;32m     17\u001b[0m         \u001b[0mlabel_ids\u001b[0m \u001b[0;34m=\u001b[0m \u001b[0mlabel_ids\u001b[0m\u001b[0;34m.\u001b[0m\u001b[0mto\u001b[0m\u001b[0;34m(\u001b[0m\u001b[0;34m'cpu'\u001b[0m\u001b[0;34m)\u001b[0m\u001b[0;34m.\u001b[0m\u001b[0mnumpy\u001b[0m\u001b[0;34m(\u001b[0m\u001b[0;34m)\u001b[0m\u001b[0;34m\u001b[0m\u001b[0;34m\u001b[0m\u001b[0m\n\u001b[1;32m     18\u001b[0m \u001b[0;34m\u001b[0m\u001b[0m\n",
            "\u001b[0;31mAttributeError\u001b[0m: 'str' object has no attribute 'to'"
          ]
        }
      ]
    },
    {
      "cell_type": "code",
      "source": [
        "# Check if any labels are out of the expected range and print them\n",
        "for labels in train_dataloader:\n",
        "    _, _, _, label_ids = tuple(t.to(device) for t in labels)\n",
        "    if any(label_ids > 1):\n",
        "        print(\"Invalid label found:\", label_ids)\n"
      ],
      "metadata": {
        "colab": {
          "base_uri": "https://localhost:8080/"
        },
        "id": "S09M2MvMnPfe",
        "outputId": "9ac4af5b-3e68-4de0-b53b-06a555759675"
      },
      "execution_count": 23,
      "outputs": [
        {
          "output_type": "stream",
          "name": "stdout",
          "text": [
            "Invalid label found: tensor([2, 0, 1, 1, 1, 0, 1, 2, 1, 0, 1, 2, 2, 1, 0, 2], device='cuda:0')\n",
            "Invalid label found: tensor([2, 2, 2, 1, 1, 1, 1, 2, 0, 0, 0, 2, 2, 1, 0, 0], device='cuda:0')\n",
            "Invalid label found: tensor([0, 0, 1, 0, 2, 1, 2, 1, 1, 0, 2, 1, 2, 2, 1, 1], device='cuda:0')\n",
            "Invalid label found: tensor([2, 1, 2, 1, 0, 2, 0, 0, 0, 2, 2, 0, 0, 2, 2, 1], device='cuda:0')\n",
            "Invalid label found: tensor([2, 2, 1, 1, 2, 0, 2, 0, 0, 0, 0, 0, 1, 0, 0, 1], device='cuda:0')\n",
            "Invalid label found: tensor([1, 0, 2, 2, 0, 1, 1, 1, 0, 2, 1, 2, 2, 0, 2, 1], device='cuda:0')\n",
            "Invalid label found: tensor([0, 0, 2, 0, 1, 2, 1, 2, 1, 2, 1, 1, 1, 0, 2, 0], device='cuda:0')\n",
            "Invalid label found: tensor([0, 1, 0, 0, 0, 1, 1, 1, 1, 0, 0, 0, 1, 1, 1, 2], device='cuda:0')\n",
            "Invalid label found: tensor([1, 0, 0, 0, 1, 0, 0, 2, 2, 1, 0, 0, 0, 0, 0, 1], device='cuda:0')\n",
            "Invalid label found: tensor([1, 2, 1, 1, 0, 1, 2, 1, 1, 1, 0, 1, 1, 0, 0, 0], device='cuda:0')\n",
            "Invalid label found: tensor([2, 2, 0, 0, 2, 2, 2, 2, 2, 1, 1, 2, 1, 0, 1, 1], device='cuda:0')\n",
            "Invalid label found: tensor([0, 0, 2, 2, 1, 0, 1, 2, 2, 1, 1, 1, 2, 2, 0, 0], device='cuda:0')\n",
            "Invalid label found: tensor([1, 2, 2, 0, 1, 0, 1, 0, 2, 0, 0, 1, 1, 1, 0, 1], device='cuda:0')\n",
            "Invalid label found: tensor([0, 1, 1, 2, 1, 0, 0, 1, 2, 2, 1, 2, 2, 0, 0, 0], device='cuda:0')\n",
            "Invalid label found: tensor([0, 2, 1, 0, 1, 0, 0, 2, 2, 2, 0, 2, 1, 1, 0, 2], device='cuda:0')\n",
            "Invalid label found: tensor([1, 0, 0, 2, 2, 0, 1, 0, 2, 0, 0, 2, 1, 0, 2, 2], device='cuda:0')\n",
            "Invalid label found: tensor([1, 1, 1, 2, 2, 0, 0, 2, 1, 2, 0, 0, 2, 2, 2, 2], device='cuda:0')\n",
            "Invalid label found: tensor([1, 2, 2, 2, 1, 0, 1, 1, 0, 1, 1, 2, 1, 1, 2, 2], device='cuda:0')\n",
            "Invalid label found: tensor([2, 2, 1, 2, 2, 1, 1, 0, 0, 0, 0, 2, 2, 0, 1, 0], device='cuda:0')\n",
            "Invalid label found: tensor([2, 1, 2, 2, 0, 0, 2, 0, 2, 1, 1, 2, 1, 1, 0, 2], device='cuda:0')\n",
            "Invalid label found: tensor([1, 2, 0, 1, 1, 2, 1, 1, 1, 0, 2, 2, 0, 0, 2, 1], device='cuda:0')\n",
            "Invalid label found: tensor([0, 0, 2, 0, 2, 2, 1, 2, 0, 1, 0, 2, 1, 1, 1, 1], device='cuda:0')\n",
            "Invalid label found: tensor([1, 1, 0, 1, 0, 2, 2, 2, 1, 2, 0, 1, 0, 2, 0, 0], device='cuda:0')\n",
            "Invalid label found: tensor([2, 0, 1, 0, 1, 0, 2, 2, 2, 1, 1, 2, 2, 2, 1, 2], device='cuda:0')\n",
            "Invalid label found: tensor([0, 0, 2, 2, 0, 2, 2, 1, 0, 1, 1, 2, 2, 2, 1, 0], device='cuda:0')\n",
            "Invalid label found: tensor([0, 1, 1, 2, 0, 1, 0, 2, 2, 2, 2, 1, 0, 0, 2, 2], device='cuda:0')\n",
            "Invalid label found: tensor([2, 1, 2, 1, 1, 0, 0, 1, 2, 1, 0, 2, 1, 0, 1, 1], device='cuda:0')\n",
            "Invalid label found: tensor([1, 2, 2, 2, 1, 0, 2, 2, 2, 0, 1, 1, 1, 1, 0, 2], device='cuda:0')\n",
            "Invalid label found: tensor([1, 2, 0, 0, 2, 0, 2, 1, 2, 1, 1, 2, 2, 2, 1, 2], device='cuda:0')\n",
            "Invalid label found: tensor([2, 2, 2, 1, 2, 1, 1, 1, 1, 2, 0, 1, 0, 1, 1, 2], device='cuda:0')\n",
            "Invalid label found: tensor([2, 0, 0, 2, 1, 0, 0, 0, 0, 0, 2, 0, 0, 0, 0, 0], device='cuda:0')\n",
            "Invalid label found: tensor([2, 0, 2, 2, 1, 1, 2, 1, 1, 2, 0, 1, 1, 0, 1, 0], device='cuda:0')\n",
            "Invalid label found: tensor([0, 2, 1, 2, 0, 2, 1, 1, 2, 2, 0, 2, 2, 2, 1, 1], device='cuda:0')\n",
            "Invalid label found: tensor([1, 2, 1, 1, 2, 2, 1, 1, 2, 1, 1, 1, 2, 2, 2, 2], device='cuda:0')\n",
            "Invalid label found: tensor([1, 1, 0, 1, 2, 0, 1, 1, 1, 1, 1, 1, 0, 2, 2, 1], device='cuda:0')\n",
            "Invalid label found: tensor([1, 1, 0, 1, 1, 2, 2, 0, 2, 1, 1, 0, 0, 2, 0, 0], device='cuda:0')\n",
            "Invalid label found: tensor([0, 0, 1, 1, 1, 1, 1, 0, 0, 0, 1, 0, 2, 1, 0, 1], device='cuda:0')\n",
            "Invalid label found: tensor([2, 0, 1, 0, 1, 0, 0, 1, 2, 1, 0, 0, 2, 0, 2, 2], device='cuda:0')\n",
            "Invalid label found: tensor([2, 1, 1, 2, 2, 0, 1, 0, 1, 0, 0, 1, 0, 1, 0, 0], device='cuda:0')\n",
            "Invalid label found: tensor([0, 1, 0, 1, 1, 2, 2, 1, 1, 1, 0, 1, 1, 1, 1, 2], device='cuda:0')\n",
            "Invalid label found: tensor([1, 1, 2, 2, 2, 0, 2, 1, 2, 1, 1, 2, 1, 2, 0, 2], device='cuda:0')\n",
            "Invalid label found: tensor([2, 1, 2, 1, 0, 0, 2, 0, 0, 2, 2, 2, 2, 2, 0, 2], device='cuda:0')\n",
            "Invalid label found: tensor([2, 2, 1, 2, 1, 2, 2, 2, 2, 1, 0, 0, 1, 1, 2, 2], device='cuda:0')\n",
            "Invalid label found: tensor([0, 1, 2, 0, 0, 1, 2, 2, 0, 2, 0, 1, 0, 2, 1, 2], device='cuda:0')\n",
            "Invalid label found: tensor([0, 1, 1, 2, 0, 2, 2, 0, 2, 0, 0, 2, 2, 1, 1, 2], device='cuda:0')\n",
            "Invalid label found: tensor([1, 1, 2, 0, 2, 2, 1, 2, 0, 2, 2, 0, 1, 2, 1, 0], device='cuda:0')\n",
            "Invalid label found: tensor([0, 0, 1, 1, 0, 2, 2, 1, 2, 1, 2, 2, 2, 0, 0, 1], device='cuda:0')\n",
            "Invalid label found: tensor([0, 0, 1, 2, 2, 1, 2, 1, 2, 2, 1, 0, 1, 0, 0, 0], device='cuda:0')\n",
            "Invalid label found: tensor([1, 0, 2, 1, 2, 0, 0, 0, 1, 1, 1, 2, 0, 0, 0, 1], device='cuda:0')\n",
            "Invalid label found: tensor([1, 2, 0, 0, 2, 1, 2, 0, 2, 1, 0, 1, 0, 0, 0, 2], device='cuda:0')\n",
            "Invalid label found: tensor([1, 1, 2, 0, 0, 1, 0, 0, 2, 2, 2, 0, 1, 0, 0, 2], device='cuda:0')\n",
            "Invalid label found: tensor([2, 1, 1, 0, 0, 0, 1, 2, 1, 0, 1, 2, 1, 2, 0, 0], device='cuda:0')\n",
            "Invalid label found: tensor([2, 1, 2, 0, 1, 2, 2, 2, 0, 0, 2, 0, 2, 2, 2, 0], device='cuda:0')\n",
            "Invalid label found: tensor([1, 1, 0, 0, 1, 2, 1, 2, 0, 2, 2, 0, 2, 0, 2, 1], device='cuda:0')\n",
            "Invalid label found: tensor([2, 2, 0, 0, 2, 1, 1, 2, 2, 0, 2, 0, 2, 0, 0, 1], device='cuda:0')\n",
            "Invalid label found: tensor([2, 2, 0, 0, 2, 1, 1, 2, 1, 2, 1, 2, 2, 0, 2, 2], device='cuda:0')\n",
            "Invalid label found: tensor([0, 1, 2, 0, 1, 2, 0, 2, 2, 2, 1, 1, 0, 2, 1, 1], device='cuda:0')\n",
            "Invalid label found: tensor([1, 0, 0, 1, 1, 1, 0, 1, 1, 1, 2, 2, 2, 2, 0, 0], device='cuda:0')\n",
            "Invalid label found: tensor([2, 2, 0, 2, 2, 1, 1, 2, 0, 1, 0, 2, 1, 0, 1, 1], device='cuda:0')\n",
            "Invalid label found: tensor([1, 0, 1, 0, 2, 1, 2, 0, 2, 1, 0, 2, 2, 2, 2, 0], device='cuda:0')\n",
            "Invalid label found: tensor([2, 2, 0, 2, 0, 1, 1, 1, 2, 0, 2, 0, 0, 0, 1, 2], device='cuda:0')\n",
            "Invalid label found: tensor([0, 0, 1, 0, 0, 2, 2, 1, 0, 1, 0, 2, 0, 0, 0, 1], device='cuda:0')\n",
            "Invalid label found: tensor([0, 0, 1, 0, 2, 0, 0, 1, 2, 0, 1, 1, 2, 2, 1, 0], device='cuda:0')\n",
            "Invalid label found: tensor([0, 0, 2, 1, 0, 1, 2, 2, 2, 1, 1, 0, 0, 0, 0, 1], device='cuda:0')\n",
            "Invalid label found: tensor([1, 1, 1, 2, 0, 0, 1, 1, 1, 1, 1, 2, 1, 1, 0, 2], device='cuda:0')\n",
            "Invalid label found: tensor([0, 1, 1, 2, 2, 1, 2, 1, 2, 0, 0, 1, 2, 1, 1, 1], device='cuda:0')\n",
            "Invalid label found: tensor([2, 1, 2, 0, 0, 1, 2, 2, 2, 1, 0, 1, 1, 2, 0, 2], device='cuda:0')\n",
            "Invalid label found: tensor([1, 1, 1, 0, 2, 1, 1, 1, 1, 0, 1, 1, 1, 2, 0, 2], device='cuda:0')\n",
            "Invalid label found: tensor([2, 2, 2, 2, 1, 0, 0, 2, 0, 0, 1, 0, 2, 0, 0, 2], device='cuda:0')\n",
            "Invalid label found: tensor([1, 0, 1, 2, 2, 2, 2, 2, 0, 1, 0, 2, 2, 2, 0, 2], device='cuda:0')\n",
            "Invalid label found: tensor([2, 1, 2, 2, 0, 1, 0, 0, 0, 1, 0, 0, 2, 0, 0, 0], device='cuda:0')\n",
            "Invalid label found: tensor([1, 2, 0, 0, 2, 0, 2, 1, 2, 1, 0, 2, 1, 1, 0, 1], device='cuda:0')\n",
            "Invalid label found: tensor([0, 2, 2, 1, 0, 0, 0, 1, 2, 1, 2, 2, 1, 2, 0, 1], device='cuda:0')\n",
            "Invalid label found: tensor([0, 2, 1, 2, 0, 1, 1, 0, 2, 2, 2, 2, 1, 0, 2, 1], device='cuda:0')\n",
            "Invalid label found: tensor([2, 2, 0, 2, 1, 2, 2, 2, 2, 1, 1, 2, 2, 2, 0, 2], device='cuda:0')\n",
            "Invalid label found: tensor([2, 0, 1, 2, 0, 0, 0, 0, 1, 0, 1, 1, 0, 1, 0, 2], device='cuda:0')\n",
            "Invalid label found: tensor([1, 0, 2, 1, 1, 2, 0, 1, 2, 2, 2, 1, 0, 1, 2, 1], device='cuda:0')\n",
            "Invalid label found: tensor([2, 2, 0, 0, 1, 0, 1, 0, 0, 0, 0, 1, 2, 1, 2, 2], device='cuda:0')\n",
            "Invalid label found: tensor([1, 1, 0, 2, 2, 2, 1, 2, 0, 2, 2, 2, 2, 2, 0, 0], device='cuda:0')\n",
            "Invalid label found: tensor([2, 2, 1, 0, 1, 2, 1, 2, 1, 2, 1, 2, 1, 0, 2, 0], device='cuda:0')\n",
            "Invalid label found: tensor([2, 1, 0, 1, 2, 1, 2, 1, 1, 0, 2, 2, 2, 0, 0, 1], device='cuda:0')\n",
            "Invalid label found: tensor([2, 2, 0, 1, 1, 0, 2, 1, 0, 2, 0, 0, 0, 0, 1, 0], device='cuda:0')\n",
            "Invalid label found: tensor([1, 0, 2, 2, 2, 0, 0, 0, 0, 0, 1, 0, 0, 1, 1, 0], device='cuda:0')\n",
            "Invalid label found: tensor([0, 1, 1, 2, 1, 2, 2, 2, 0, 1, 2, 2, 1, 0, 1, 1], device='cuda:0')\n",
            "Invalid label found: tensor([0, 1, 1, 1, 1, 0, 1, 2, 2, 2, 0, 1, 1, 0, 1, 2], device='cuda:0')\n",
            "Invalid label found: tensor([2, 2, 0, 0, 2, 2, 1, 2, 2, 1, 1, 0, 1, 2, 1, 0], device='cuda:0')\n",
            "Invalid label found: tensor([1, 1, 2, 2, 2, 1, 0, 0, 1, 1, 0, 0, 1, 0, 1, 0], device='cuda:0')\n",
            "Invalid label found: tensor([1, 0, 2, 1, 0, 0, 2, 2, 2, 2, 2, 0, 0, 2, 2, 0], device='cuda:0')\n",
            "Invalid label found: tensor([0, 1, 2, 2, 1, 0, 1, 1, 2, 0, 2, 2, 2, 1, 0, 0], device='cuda:0')\n",
            "Invalid label found: tensor([2, 1, 1, 1, 2, 1, 0, 2, 2, 0, 1, 2, 2, 0, 0, 1], device='cuda:0')\n",
            "Invalid label found: tensor([1, 2, 0, 1, 1, 1, 0, 2, 1, 0, 1, 2, 2, 1, 2, 2], device='cuda:0')\n",
            "Invalid label found: tensor([1, 1, 0, 0, 2, 0, 2, 2, 0, 1, 0, 2, 1, 1, 2, 2], device='cuda:0')\n",
            "Invalid label found: tensor([0, 0, 1, 2, 1, 1, 2, 1, 2, 0, 0, 1, 2, 2, 2, 2], device='cuda:0')\n",
            "Invalid label found: tensor([1, 2, 2, 0, 0, 1, 2, 1, 0, 0, 0, 0, 1, 1, 1, 2], device='cuda:0')\n",
            "Invalid label found: tensor([0, 0, 1, 1, 1, 2, 0, 2, 2, 1, 2, 2, 0, 0, 0, 1], device='cuda:0')\n",
            "Invalid label found: tensor([2, 1, 0, 1, 0, 2, 2, 1, 1, 2, 1, 2, 2, 0, 1, 1], device='cuda:0')\n",
            "Invalid label found: tensor([1, 1, 0, 0, 1, 2, 0, 1, 1, 2, 2, 2, 0, 1, 1, 1], device='cuda:0')\n",
            "Invalid label found: tensor([2, 2, 1, 1, 0, 1, 2, 2, 2, 2, 1, 1, 1, 1, 2, 0], device='cuda:0')\n",
            "Invalid label found: tensor([1, 0, 2, 2, 0, 0, 2, 1, 1, 1, 1, 2, 2, 1, 2, 0], device='cuda:0')\n",
            "Invalid label found: tensor([2, 1, 1, 0, 2, 1, 2, 1, 1, 1, 1, 0, 0, 0, 2, 1], device='cuda:0')\n",
            "Invalid label found: tensor([0, 1, 1, 2, 0, 2, 0, 1, 0, 1, 2, 2, 2, 0, 0, 2], device='cuda:0')\n",
            "Invalid label found: tensor([1, 0, 1, 2, 0, 0, 0, 1, 2, 0, 2, 0, 1, 2, 2, 2], device='cuda:0')\n",
            "Invalid label found: tensor([2, 0, 0, 1, 1, 0, 0, 2, 0, 0, 1, 0, 2, 0, 0, 1], device='cuda:0')\n",
            "Invalid label found: tensor([1, 0, 0, 0, 0, 0, 0, 2, 2, 1, 1, 0, 1, 0, 1, 1], device='cuda:0')\n",
            "Invalid label found: tensor([1, 0, 1, 2, 2, 1, 2, 2, 1, 1, 2, 1, 1, 1, 0, 1], device='cuda:0')\n",
            "Invalid label found: tensor([1, 0, 1, 2, 0, 0, 0, 1, 0, 1, 1, 2, 0, 2, 1, 1], device='cuda:0')\n",
            "Invalid label found: tensor([0, 2, 0, 2, 2, 0, 1, 2, 1, 1, 2, 2, 0, 1, 1, 2], device='cuda:0')\n",
            "Invalid label found: tensor([0, 1, 1, 0, 2, 2, 0, 1, 2, 2, 2, 1, 2, 2, 0, 0], device='cuda:0')\n",
            "Invalid label found: tensor([2, 1, 2, 0, 2, 2, 0, 0, 2, 1, 2, 0, 1, 2, 0, 2], device='cuda:0')\n",
            "Invalid label found: tensor([0, 0, 0, 2, 0, 0, 1, 2, 2, 2, 2, 1, 2, 2, 2, 1], device='cuda:0')\n",
            "Invalid label found: tensor([0, 2, 1, 0, 1, 0, 0, 0, 2, 1, 2, 1, 0, 0, 2, 0], device='cuda:0')\n",
            "Invalid label found: tensor([1, 1, 2, 1, 1, 2, 0, 1, 0, 2, 2, 1, 1, 1, 0, 1], device='cuda:0')\n",
            "Invalid label found: tensor([0, 0, 1, 0, 0, 1, 0, 0, 1, 2, 1, 0, 0, 2, 1, 2], device='cuda:0')\n",
            "Invalid label found: tensor([1, 2, 2, 1, 1, 2, 1, 1, 0, 0, 0, 2, 0, 0, 2, 1], device='cuda:0')\n",
            "Invalid label found: tensor([1, 0, 2, 1, 1, 0, 1, 1, 1, 1, 0, 2, 2, 1, 1, 0], device='cuda:0')\n",
            "Invalid label found: tensor([2, 2, 0, 1, 0, 1, 0, 0, 0, 2, 2, 2, 0, 2, 1, 2], device='cuda:0')\n",
            "Invalid label found: tensor([1, 0, 0, 0, 1, 0, 0, 2, 0, 1, 1, 1, 2, 1, 2, 2], device='cuda:0')\n",
            "Invalid label found: tensor([0, 1, 2, 0, 0, 0, 1, 0, 2, 0, 0, 0, 0, 1, 0, 2], device='cuda:0')\n",
            "Invalid label found: tensor([2, 1, 2, 1, 2, 0, 0, 0, 1, 0, 2, 1, 1, 2, 0, 2], device='cuda:0')\n",
            "Invalid label found: tensor([0, 1, 2, 1, 2, 1, 0, 0, 2, 2, 0, 2, 2, 1, 0, 1], device='cuda:0')\n",
            "Invalid label found: tensor([0, 0, 0, 0, 0, 2, 1, 0, 0, 0, 2, 2, 0, 0, 0, 1], device='cuda:0')\n",
            "Invalid label found: tensor([0, 0, 0, 0, 1, 1, 2, 0, 0, 0, 2, 0, 2, 2, 0, 0], device='cuda:0')\n",
            "Invalid label found: tensor([0, 2, 2, 2, 1, 2, 2, 2, 1, 1, 2, 0, 1, 0, 0, 2], device='cuda:0')\n",
            "Invalid label found: tensor([1, 2, 2, 0, 0, 0, 1, 2, 0, 1, 0, 1, 0, 2, 2, 0], device='cuda:0')\n",
            "Invalid label found: tensor([0, 0, 1, 0, 2, 2, 0, 0, 2, 2, 0, 1, 1, 0, 1, 0], device='cuda:0')\n",
            "Invalid label found: tensor([1, 0, 2, 0, 0, 1, 1, 1, 2, 2, 0, 1, 0, 0, 0, 1], device='cuda:0')\n",
            "Invalid label found: tensor([1, 1, 0, 1, 0, 1, 1, 2, 0, 1, 2, 1, 2, 2, 1, 0], device='cuda:0')\n",
            "Invalid label found: tensor([2, 0, 0, 1, 1, 1, 2, 2, 0, 2, 1, 1, 2, 0, 0, 0], device='cuda:0')\n",
            "Invalid label found: tensor([0, 0, 0, 1, 2, 1, 2, 2, 1, 1, 2, 0, 0, 1, 0, 2], device='cuda:0')\n",
            "Invalid label found: tensor([2, 2, 0, 0, 1, 0, 1, 1, 2, 2, 0, 1, 0, 2, 2, 2], device='cuda:0')\n",
            "Invalid label found: tensor([0, 1, 2, 0, 1, 1, 2, 2, 0, 2, 1, 0, 0, 2, 2, 1], device='cuda:0')\n",
            "Invalid label found: tensor([0, 0, 0, 0, 2, 2, 1, 1, 1, 0, 1, 0, 2, 0, 0, 1], device='cuda:0')\n",
            "Invalid label found: tensor([0, 2, 0, 1, 0, 0, 0, 2, 0, 1, 2, 2, 0, 0, 0, 1], device='cuda:0')\n",
            "Invalid label found: tensor([0, 0, 0, 2, 0, 1, 2, 1, 2, 0, 1, 0, 0, 1, 0, 2], device='cuda:0')\n",
            "Invalid label found: tensor([2, 2, 0, 1, 1, 1, 1, 0, 0, 2, 1, 2, 0, 0, 2, 2], device='cuda:0')\n",
            "Invalid label found: tensor([1, 1, 2, 0, 0, 1, 0, 2, 1, 0, 2, 1, 2, 2, 0, 1], device='cuda:0')\n",
            "Invalid label found: tensor([0, 2, 2, 1, 2, 2, 2, 1, 1, 2, 1, 1, 2, 2, 2, 1], device='cuda:0')\n",
            "Invalid label found: tensor([1, 0, 1, 1, 2, 2, 1, 1, 1, 2, 0, 2, 0, 2, 1, 0], device='cuda:0')\n",
            "Invalid label found: tensor([1, 0, 1, 1, 2, 2, 0, 2, 0, 2, 0, 0, 0, 0, 0, 1], device='cuda:0')\n",
            "Invalid label found: tensor([2, 2, 2, 0, 0, 2, 2, 0, 0, 2, 0, 0, 1, 1, 2, 2], device='cuda:0')\n",
            "Invalid label found: tensor([2, 2, 0, 2, 0, 0, 0, 0, 1, 0, 2, 2, 2, 0, 1, 2], device='cuda:0')\n",
            "Invalid label found: tensor([2, 0, 0, 0, 1, 1, 2, 2, 1, 2, 2, 2, 2, 0, 2, 1], device='cuda:0')\n",
            "Invalid label found: tensor([0, 2, 1, 2, 0, 1, 2, 0, 1, 2, 0, 0, 2, 1, 2, 2], device='cuda:0')\n",
            "Invalid label found: tensor([0, 1, 0, 0, 0, 0, 2, 1, 1, 0, 2, 1, 1, 2, 0, 0], device='cuda:0')\n",
            "Invalid label found: tensor([1, 2, 0, 2, 0, 0, 0, 1, 1, 1, 0, 0, 1, 1, 0, 1], device='cuda:0')\n",
            "Invalid label found: tensor([1, 2, 0, 1, 2, 1, 1, 1, 2, 2, 0, 2, 1, 0, 1, 0], device='cuda:0')\n",
            "Invalid label found: tensor([1, 0, 2, 1, 0, 1, 2, 2, 0, 1, 0, 1, 0, 1, 1, 1], device='cuda:0')\n",
            "Invalid label found: tensor([1, 2, 0, 0, 1, 0, 2, 2, 1, 2, 0, 2, 1, 2, 2, 0], device='cuda:0')\n",
            "Invalid label found: tensor([1, 2, 1, 1, 1, 1, 1, 0, 0, 2, 0, 2, 1, 2, 0, 0], device='cuda:0')\n",
            "Invalid label found: tensor([0, 2, 2, 1, 0, 2, 2, 0, 0, 2, 0, 0, 0, 0, 2, 0], device='cuda:0')\n",
            "Invalid label found: tensor([2, 1, 0, 1, 2, 0, 1, 2, 2, 2, 2, 0, 2, 0, 0, 1], device='cuda:0')\n",
            "Invalid label found: tensor([2, 2, 1, 1, 2, 2, 0, 2, 0, 2, 0, 1, 1, 0], device='cuda:0')\n"
          ]
        }
      ]
    },
    {
      "cell_type": "code",
      "source": [
        "for step, batch in enumerate(tqdm(train_dataloader, desc=\"Training iteration\")):\n",
        "    batch = tuple(t.to(device) for t in batch)\n",
        "    input_ids, input_mask, segment_ids, label_ids = batch\n",
        "\n",
        "    # Convert labels from 2 to 1 if necessary\n",
        "    label_ids = torch.where(label_ids == 2, 1, label_ids)\n",
        "\n",
        "    outputs = model(input_ids, attention_mask=input_mask, token_type_ids=segment_ids, labels=label_ids)\n",
        "    loss = outputs[0]\n",
        "    # Continue with your training steps...\n"
      ],
      "metadata": {
        "colab": {
          "base_uri": "https://localhost:8080/",
          "height": 103,
          "referenced_widgets": [
            "c594708aa80f4a58b4e237848b3db4db",
            "1086fd590f8d4977bfce22b3790b89ae",
            "bf24ee08a1264d9caa13e49620c63b87",
            "85545d0c6f7e4c05851dd0b78b871158",
            "f9f5561cf7544b598580da8125ee399a",
            "fa0ba38f6cbc405d9420c350be6d486b",
            "8e67a66722ad479b80da1b7e1436eda0",
            "b042cd523c3c41ed923ad0e98fa71c25",
            "e2b106d9dc9c46c48ecf4f0b81fdafb9",
            "a0e19ebf790b4c1ba2293b8b93090018",
            "00a659059e7d49f7adc8e6b8d0579556"
          ]
        },
        "id": "GwdOEbOxnPiS",
        "outputId": "53fff55d-aa9b-4372-9942-b3822b72f7bf"
      },
      "execution_count": 24,
      "outputs": [
        {
          "output_type": "stream",
          "name": "stderr",
          "text": [
            "<ipython-input-24-9afff6855e64>:1: TqdmDeprecationWarning: This function will be removed in tqdm==5.0.0\n",
            "Please use `tqdm.notebook.tqdm` instead of `tqdm.tqdm_notebook`\n",
            "  for step, batch in enumerate(tqdm(train_dataloader, desc=\"Training iteration\")):\n"
          ]
        },
        {
          "output_type": "display_data",
          "data": {
            "text/plain": [
              "Training iteration:   0%|          | 0/152 [00:00<?, ?it/s]"
            ],
            "application/vnd.jupyter.widget-view+json": {
              "version_major": 2,
              "version_minor": 0,
              "model_id": "c594708aa80f4a58b4e237848b3db4db"
            }
          },
          "metadata": {}
        }
      ]
    },
    {
      "cell_type": "code",
      "source": [
        "model = BertForSequenceClassification.from_pretrained(\"bert-base-uncased\", num_labels=2).to(device)\n"
      ],
      "metadata": {
        "colab": {
          "base_uri": "https://localhost:8080/"
        },
        "id": "FCQCSwkunPkx",
        "outputId": "dd01a5fd-6142-4efd-ac55-60443955d9b2"
      },
      "execution_count": 25,
      "outputs": [
        {
          "output_type": "stream",
          "name": "stderr",
          "text": [
            "Some weights of BertForSequenceClassification were not initialized from the model checkpoint at bert-base-uncased and are newly initialized: ['classifier.bias', 'classifier.weight']\n",
            "You should probably TRAIN this model on a down-stream task to be able to use it for predictions and inference.\n"
          ]
        }
      ]
    },
    {
      "cell_type": "code",
      "source": [
        "from tqdm import trange, tqdm\n",
        "import torch\n",
        "\n",
        "def evaluate(model, dataloader):\n",
        "    model.eval()\n",
        "    total_loss = 0\n",
        "    nb_eval_steps = 0\n",
        "    predictions = []\n",
        "    true_labels = []\n",
        "\n",
        "    for batch in tqdm(dataloader, desc=\"Evaluating\"):\n",
        "        batch = tuple(t.to(device) for t in batch)\n",
        "        input_ids, input_mask, segment_ids, label_ids = batch\n",
        "\n",
        "        # Check and convert labels if necessary\n",
        "        if any(label_ids > 1):\n",
        "            print(\"Invalid label found in evaluation, adjusting:\", label_ids)\n",
        "            label_ids = torch.where(label_ids == 2, 1, label_ids)\n",
        "\n",
        "        with torch.no_grad():\n",
        "            outputs = model(input_ids, attention_mask=input_mask, token_type_ids=segment_ids, labels=label_ids)\n",
        "            logits = outputs.logits\n",
        "            loss_fct = torch.nn.CrossEntropyLoss()\n",
        "            loss = loss_fct(logits.view(-1, 2), label_ids.view(-1))\n",
        "\n",
        "        total_loss += loss.item()\n",
        "        nb_eval_steps += 1\n",
        "\n",
        "        preds = torch.argmax(logits, dim=1).cpu().numpy()\n",
        "        labels = label_ids.cpu().numpy()\n",
        "        predictions.extend(preds)\n",
        "        true_labels.extend(labels)\n",
        "\n",
        "    avg_loss = total_loss / nb_eval_steps\n",
        "    return avg_loss, predictions, true_labels\n",
        "\n",
        "for _ in trange(int(NUM_TRAIN_EPOCHS), desc=\"Epoch\"):\n",
        "    model.train()\n",
        "    tr_loss = 0\n",
        "    nb_tr_examples, nb_tr_steps = 0, 0\n",
        "\n",
        "    for step, batch in enumerate(tqdm(train_dataloader, desc=\"Training iteration\")):\n",
        "        try:\n",
        "            batch = tuple(t.to(device) for t in batch)\n",
        "            input_ids, input_mask, segment_ids, label_ids = batch\n",
        "\n",
        "            # Check and convert labels if necessary\n",
        "            if any(label_ids > 1):\n",
        "                print(\"Invalid label found, adjusting:\", label_ids)\n",
        "                label_ids = torch.where(label_ids == 2, 1, label_ids)\n",
        "\n",
        "            outputs = model(input_ids, attention_mask=input_mask, token_type_ids=segment_ids, labels=label_ids)\n",
        "            loss = outputs[0]\n",
        "\n",
        "            if GRADIENT_ACCUMULATION_STEPS > 1:\n",
        "                loss = loss / GRADIENT_ACCUMULATION_STEPS\n",
        "\n",
        "            loss.backward()\n",
        "            tr_loss += loss.item()\n",
        "\n",
        "            if (step + 1) % GRADIENT_ACCUMULATION_STEPS == 0:\n",
        "                torch.nn.utils.clip_grad_norm_(model.parameters(), MAX_GRAD_NORM)\n",
        "                optimizer.step()\n",
        "                optimizer.zero_grad()\n",
        "                scheduler.step()\n",
        "\n",
        "        except IndexError as e:\n",
        "            print(f\"An error occurred: {e}\")\n",
        "            print(f\"Labels causing the issue: {label_ids}\")\n",
        "            continue  # Correctly placed within the for loop to skip this batch\n",
        "\n",
        "    dev_loss, _, _ = evaluate(model, dev_dataloader)\n",
        "    print(\"Loss history:\", loss_history)\n",
        "    print(\"Dev loss:\", dev_loss)\n",
        "\n",
        "    if len(loss_history) == 0 or dev_loss < min(loss_history):\n",
        "        no_improvement = 0\n",
        "        model_to_save = model.module if hasattr(model, 'module') else model\n",
        "        output_model_file = os.path.join(OUTPUT_DIR, MODEL_FILE_NAME)\n",
        "        torch.save(model_to_save.state_dict(), output_model_file)\n",
        "    else:\n",
        "        no_improvement += 1\n",
        "\n",
        "    if no_improvement >= PATIENCE:\n",
        "        print(\"No improvement on development set. Finish training.\")\n",
        "        break\n",
        "\n",
        "    loss_history.append(dev_loss)\n"
      ],
      "metadata": {
        "colab": {
          "base_uri": "https://localhost:8080/"
        },
        "id": "ZQRA7ZMjnPnv",
        "outputId": "20c045e1-1fa3-42c2-d153-11bf6425463c"
      },
      "execution_count": 26,
      "outputs": [
        {
          "output_type": "stream",
          "name": "stderr",
          "text": [
            "Epoch:   0%|          | 0/20 [00:00<?, ?it/s]\n",
            "Training iteration:   0%|          | 0/152 [00:00<?, ?it/s]\u001b[A"
          ]
        },
        {
          "output_type": "stream",
          "name": "stdout",
          "text": [
            "Invalid label found, adjusting: tensor([1, 1, 0, 2, 2, 2, 1, 2, 2, 2, 1, 2, 2, 2, 1, 2], device='cuda:0')\n"
          ]
        },
        {
          "output_type": "stream",
          "name": "stderr",
          "text": [
            "\n",
            "Training iteration:   1%|          | 1/152 [00:00<00:47,  3.16it/s]\u001b[A"
          ]
        },
        {
          "output_type": "stream",
          "name": "stdout",
          "text": [
            "Invalid label found, adjusting: tensor([2, 0, 1, 1, 1, 1, 0, 2, 2, 0, 0, 1, 2, 0, 0, 0], device='cuda:0')\n"
          ]
        },
        {
          "output_type": "stream",
          "name": "stderr",
          "text": [
            "\n",
            "Training iteration:   1%|▏         | 2/152 [00:00<00:41,  3.66it/s]\u001b[A"
          ]
        },
        {
          "output_type": "stream",
          "name": "stdout",
          "text": [
            "Invalid label found, adjusting: tensor([2, 0, 0, 2, 2, 0, 0, 0, 2, 0, 0, 2, 0, 1, 1, 1], device='cuda:0')\n"
          ]
        },
        {
          "output_type": "stream",
          "name": "stderr",
          "text": [
            "\n",
            "Training iteration:   2%|▏         | 3/152 [00:00<00:38,  3.84it/s]\u001b[A"
          ]
        },
        {
          "output_type": "stream",
          "name": "stdout",
          "text": [
            "Invalid label found, adjusting: tensor([1, 2, 1, 2, 1, 0, 0, 2, 2, 1, 0, 2, 1, 2, 1, 1], device='cuda:0')\n"
          ]
        },
        {
          "output_type": "stream",
          "name": "stderr",
          "text": [
            "\n",
            "Training iteration:   3%|▎         | 4/152 [00:01<00:37,  3.92it/s]\u001b[A"
          ]
        },
        {
          "output_type": "stream",
          "name": "stdout",
          "text": [
            "Invalid label found, adjusting: tensor([0, 0, 2, 2, 0, 0, 2, 0, 2, 0, 2, 0, 0, 0, 1, 2], device='cuda:0')\n"
          ]
        },
        {
          "output_type": "stream",
          "name": "stderr",
          "text": [
            "\n",
            "Training iteration:   3%|▎         | 5/152 [00:01<00:38,  3.85it/s]\u001b[A"
          ]
        },
        {
          "output_type": "stream",
          "name": "stdout",
          "text": [
            "Invalid label found, adjusting: tensor([2, 0, 0, 2, 1, 2, 0, 1, 0, 2, 0, 2, 0, 2, 2, 2], device='cuda:0')\n"
          ]
        },
        {
          "output_type": "stream",
          "name": "stderr",
          "text": [
            "\n",
            "Training iteration:   4%|▍         | 6/152 [00:01<00:37,  3.90it/s]\u001b[A"
          ]
        },
        {
          "output_type": "stream",
          "name": "stdout",
          "text": [
            "Invalid label found, adjusting: tensor([0, 1, 0, 0, 0, 2, 2, 0, 1, 0, 2, 2, 1, 0, 1, 2], device='cuda:0')\n"
          ]
        },
        {
          "output_type": "stream",
          "name": "stderr",
          "text": [
            "\n",
            "Training iteration:   5%|▍         | 7/152 [00:01<00:36,  3.95it/s]\u001b[A"
          ]
        },
        {
          "output_type": "stream",
          "name": "stdout",
          "text": [
            "Invalid label found, adjusting: tensor([1, 0, 1, 0, 0, 1, 2, 2, 1, 2, 1, 1, 2, 2, 2, 2], device='cuda:0')\n"
          ]
        },
        {
          "output_type": "stream",
          "name": "stderr",
          "text": [
            "\n",
            "Training iteration:   5%|▌         | 8/152 [00:02<00:36,  3.96it/s]\u001b[A"
          ]
        },
        {
          "output_type": "stream",
          "name": "stdout",
          "text": [
            "Invalid label found, adjusting: tensor([1, 1, 0, 2, 1, 1, 2, 0, 2, 0, 1, 0, 1, 2, 2, 1], device='cuda:0')\n"
          ]
        },
        {
          "output_type": "stream",
          "name": "stderr",
          "text": [
            "\n",
            "Training iteration:   6%|▌         | 9/152 [00:02<00:36,  3.91it/s]\u001b[A"
          ]
        },
        {
          "output_type": "stream",
          "name": "stdout",
          "text": [
            "Invalid label found, adjusting: tensor([1, 0, 2, 2, 2, 1, 2, 1, 2, 0, 0, 0, 1, 1, 1, 1], device='cuda:0')\n"
          ]
        },
        {
          "output_type": "stream",
          "name": "stderr",
          "text": [
            "\n",
            "Training iteration:   7%|▋         | 10/152 [00:02<00:36,  3.93it/s]\u001b[A"
          ]
        },
        {
          "output_type": "stream",
          "name": "stdout",
          "text": [
            "Invalid label found, adjusting: tensor([0, 1, 1, 2, 0, 0, 2, 2, 1, 1, 1, 0, 0, 2, 2, 0], device='cuda:0')\n"
          ]
        },
        {
          "output_type": "stream",
          "name": "stderr",
          "text": [
            "\n",
            "Training iteration:   7%|▋         | 11/152 [00:02<00:35,  3.96it/s]\u001b[A"
          ]
        },
        {
          "output_type": "stream",
          "name": "stdout",
          "text": [
            "Invalid label found, adjusting: tensor([1, 2, 1, 0, 2, 2, 2, 2, 2, 0, 0, 1, 1, 2, 0, 2], device='cuda:0')\n"
          ]
        },
        {
          "output_type": "stream",
          "name": "stderr",
          "text": [
            "\n",
            "Training iteration:   8%|▊         | 12/152 [00:03<00:35,  3.95it/s]\u001b[A"
          ]
        },
        {
          "output_type": "stream",
          "name": "stdout",
          "text": [
            "Invalid label found, adjusting: tensor([2, 1, 2, 1, 0, 2, 2, 1, 1, 1, 0, 0, 0, 1, 2, 1], device='cuda:0')\n"
          ]
        },
        {
          "output_type": "stream",
          "name": "stderr",
          "text": [
            "\n",
            "Training iteration:   9%|▊         | 13/152 [00:03<00:35,  3.93it/s]\u001b[A"
          ]
        },
        {
          "output_type": "stream",
          "name": "stdout",
          "text": [
            "Invalid label found, adjusting: tensor([0, 1, 1, 1, 0, 0, 1, 2, 1, 0, 2, 2, 2, 2, 0, 2], device='cuda:0')\n"
          ]
        },
        {
          "output_type": "stream",
          "name": "stderr",
          "text": [
            "\n",
            "Training iteration:   9%|▉         | 14/152 [00:03<00:34,  3.94it/s]\u001b[A"
          ]
        },
        {
          "output_type": "stream",
          "name": "stdout",
          "text": [
            "Invalid label found, adjusting: tensor([2, 0, 0, 1, 2, 1, 0, 0, 0, 1, 0, 1, 0, 1, 2, 2], device='cuda:0')\n"
          ]
        },
        {
          "output_type": "stream",
          "name": "stderr",
          "text": [
            "\n",
            "Training iteration:  10%|▉         | 15/152 [00:03<00:34,  3.95it/s]\u001b[A"
          ]
        },
        {
          "output_type": "stream",
          "name": "stdout",
          "text": [
            "Invalid label found, adjusting: tensor([1, 2, 1, 1, 2, 2, 0, 0, 1, 0, 2, 0, 0, 1, 2, 0], device='cuda:0')\n"
          ]
        },
        {
          "output_type": "stream",
          "name": "stderr",
          "text": [
            "\n",
            "Training iteration:  11%|█         | 16/152 [00:04<00:34,  3.94it/s]\u001b[A"
          ]
        },
        {
          "output_type": "stream",
          "name": "stdout",
          "text": [
            "Invalid label found, adjusting: tensor([1, 1, 1, 0, 0, 1, 0, 2, 1, 0, 2, 0, 1, 2, 1, 1], device='cuda:0')\n"
          ]
        },
        {
          "output_type": "stream",
          "name": "stderr",
          "text": [
            "\n",
            "Training iteration:  11%|█         | 17/152 [00:04<00:34,  3.92it/s]\u001b[A"
          ]
        },
        {
          "output_type": "stream",
          "name": "stdout",
          "text": [
            "Invalid label found, adjusting: tensor([2, 1, 0, 2, 1, 1, 0, 2, 0, 2, 1, 1, 1, 0, 1, 1], device='cuda:0')\n"
          ]
        },
        {
          "output_type": "stream",
          "name": "stderr",
          "text": [
            "\n",
            "Training iteration:  12%|█▏        | 18/152 [00:04<00:34,  3.93it/s]\u001b[A"
          ]
        },
        {
          "output_type": "stream",
          "name": "stdout",
          "text": [
            "Invalid label found, adjusting: tensor([0, 0, 1, 2, 1, 2, 1, 2, 1, 2, 2, 1, 0, 2, 0, 2], device='cuda:0')\n"
          ]
        },
        {
          "output_type": "stream",
          "name": "stderr",
          "text": [
            "\n",
            "Training iteration:  12%|█▎        | 19/152 [00:04<00:33,  3.96it/s]\u001b[A"
          ]
        },
        {
          "output_type": "stream",
          "name": "stdout",
          "text": [
            "Invalid label found, adjusting: tensor([2, 2, 0, 0, 1, 0, 0, 1, 2, 1, 0, 2, 1, 2, 1, 2], device='cuda:0')\n"
          ]
        },
        {
          "output_type": "stream",
          "name": "stderr",
          "text": [
            "\n",
            "Training iteration:  13%|█▎        | 20/152 [00:05<00:33,  3.93it/s]\u001b[A"
          ]
        },
        {
          "output_type": "stream",
          "name": "stdout",
          "text": [
            "Invalid label found, adjusting: tensor([1, 2, 0, 0, 0, 2, 0, 2, 1, 1, 2, 0, 2, 1, 1, 2], device='cuda:0')\n"
          ]
        },
        {
          "output_type": "stream",
          "name": "stderr",
          "text": [
            "\n",
            "Training iteration:  14%|█▍        | 21/152 [00:05<00:33,  3.92it/s]\u001b[A"
          ]
        },
        {
          "output_type": "stream",
          "name": "stdout",
          "text": [
            "Invalid label found, adjusting: tensor([0, 1, 1, 2, 1, 1, 1, 1, 2, 1, 1, 2, 1, 0, 0, 2], device='cuda:0')\n"
          ]
        },
        {
          "output_type": "stream",
          "name": "stderr",
          "text": [
            "\n",
            "Training iteration:  14%|█▍        | 22/152 [00:05<00:33,  3.92it/s]\u001b[A"
          ]
        },
        {
          "output_type": "stream",
          "name": "stdout",
          "text": [
            "Invalid label found, adjusting: tensor([0, 2, 1, 1, 0, 1, 1, 0, 2, 0, 0, 1, 2, 1, 1, 1], device='cuda:0')\n"
          ]
        },
        {
          "output_type": "stream",
          "name": "stderr",
          "text": [
            "\n",
            "Training iteration:  15%|█▌        | 23/152 [00:05<00:32,  3.93it/s]\u001b[A"
          ]
        },
        {
          "output_type": "stream",
          "name": "stdout",
          "text": [
            "Invalid label found, adjusting: tensor([2, 0, 1, 0, 0, 0, 2, 0, 0, 0, 1, 1, 0, 2, 1, 1], device='cuda:0')\n"
          ]
        },
        {
          "output_type": "stream",
          "name": "stderr",
          "text": [
            "\n",
            "Training iteration:  16%|█▌        | 24/152 [00:06<00:32,  3.90it/s]\u001b[A"
          ]
        },
        {
          "output_type": "stream",
          "name": "stdout",
          "text": [
            "Invalid label found, adjusting: tensor([1, 1, 1, 0, 0, 0, 2, 0, 1, 1, 1, 0, 1, 0, 0, 1], device='cuda:0')\n"
          ]
        },
        {
          "output_type": "stream",
          "name": "stderr",
          "text": [
            "\n",
            "Training iteration:  16%|█▋        | 25/152 [00:06<00:32,  3.89it/s]\u001b[A"
          ]
        },
        {
          "output_type": "stream",
          "name": "stdout",
          "text": [
            "Invalid label found, adjusting: tensor([0, 0, 2, 1, 2, 1, 1, 0, 2, 2, 2, 1, 0, 1, 1, 2], device='cuda:0')\n"
          ]
        },
        {
          "output_type": "stream",
          "name": "stderr",
          "text": [
            "\n",
            "Training iteration:  17%|█▋        | 26/152 [00:06<00:32,  3.89it/s]\u001b[A"
          ]
        },
        {
          "output_type": "stream",
          "name": "stdout",
          "text": [
            "Invalid label found, adjusting: tensor([0, 0, 2, 1, 0, 0, 2, 0, 0, 1, 2, 0, 0, 2, 2, 1], device='cuda:0')\n"
          ]
        },
        {
          "output_type": "stream",
          "name": "stderr",
          "text": [
            "\n",
            "Training iteration:  18%|█▊        | 27/152 [00:06<00:32,  3.89it/s]\u001b[A"
          ]
        },
        {
          "output_type": "stream",
          "name": "stdout",
          "text": [
            "Invalid label found, adjusting: tensor([0, 2, 0, 0, 1, 2, 0, 0, 1, 2, 0, 2, 1, 2, 1, 1], device='cuda:0')\n"
          ]
        },
        {
          "output_type": "stream",
          "name": "stderr",
          "text": [
            "\n",
            "Training iteration:  18%|█▊        | 28/152 [00:07<00:31,  3.88it/s]\u001b[A"
          ]
        },
        {
          "output_type": "stream",
          "name": "stdout",
          "text": [
            "Invalid label found, adjusting: tensor([1, 2, 2, 1, 1, 1, 2, 0, 2, 0, 2, 2, 0, 0, 0, 1], device='cuda:0')\n"
          ]
        },
        {
          "output_type": "stream",
          "name": "stderr",
          "text": [
            "\n",
            "Training iteration:  19%|█▉        | 29/152 [00:07<00:31,  3.87it/s]\u001b[A"
          ]
        },
        {
          "output_type": "stream",
          "name": "stdout",
          "text": [
            "Invalid label found, adjusting: tensor([2, 2, 0, 2, 0, 1, 0, 0, 1, 1, 0, 0, 1, 0, 1, 1], device='cuda:0')\n"
          ]
        },
        {
          "output_type": "stream",
          "name": "stderr",
          "text": [
            "\n",
            "Training iteration:  20%|█▉        | 30/152 [00:07<00:31,  3.87it/s]\u001b[A"
          ]
        },
        {
          "output_type": "stream",
          "name": "stdout",
          "text": [
            "Invalid label found, adjusting: tensor([2, 2, 2, 0, 2, 0, 1, 2, 1, 2, 2, 1, 0, 2, 0, 2], device='cuda:0')\n"
          ]
        },
        {
          "output_type": "stream",
          "name": "stderr",
          "text": [
            "\n",
            "Training iteration:  20%|██        | 31/152 [00:07<00:31,  3.88it/s]\u001b[A"
          ]
        },
        {
          "output_type": "stream",
          "name": "stdout",
          "text": [
            "Invalid label found, adjusting: tensor([2, 0, 1, 2, 0, 1, 2, 1, 0, 2, 1, 1, 0, 1, 1, 1], device='cuda:0')\n"
          ]
        },
        {
          "output_type": "stream",
          "name": "stderr",
          "text": [
            "\n",
            "Training iteration:  21%|██        | 32/152 [00:08<00:30,  3.87it/s]\u001b[A"
          ]
        },
        {
          "output_type": "stream",
          "name": "stdout",
          "text": [
            "Invalid label found, adjusting: tensor([1, 0, 0, 2, 2, 1, 1, 2, 0, 1, 1, 1, 1, 1, 0, 0], device='cuda:0')\n"
          ]
        },
        {
          "output_type": "stream",
          "name": "stderr",
          "text": [
            "\n",
            "Training iteration:  22%|██▏       | 33/152 [00:08<00:30,  3.85it/s]\u001b[A"
          ]
        },
        {
          "output_type": "stream",
          "name": "stdout",
          "text": [
            "Invalid label found, adjusting: tensor([1, 2, 2, 0, 1, 1, 1, 0, 0, 2, 2, 0, 2, 2, 1, 2], device='cuda:0')\n"
          ]
        },
        {
          "output_type": "stream",
          "name": "stderr",
          "text": [
            "\n",
            "Training iteration:  22%|██▏       | 34/152 [00:08<00:30,  3.85it/s]\u001b[A"
          ]
        },
        {
          "output_type": "stream",
          "name": "stdout",
          "text": [
            "Invalid label found, adjusting: tensor([0, 2, 2, 0, 1, 0, 0, 0, 2, 2, 0, 0, 1, 2, 2, 0], device='cuda:0')\n"
          ]
        },
        {
          "output_type": "stream",
          "name": "stderr",
          "text": [
            "\n",
            "Training iteration:  23%|██▎       | 35/152 [00:08<00:30,  3.86it/s]\u001b[A"
          ]
        },
        {
          "output_type": "stream",
          "name": "stdout",
          "text": [
            "Invalid label found, adjusting: tensor([0, 1, 2, 0, 1, 1, 0, 1, 1, 0, 1, 2, 2, 0, 1, 1], device='cuda:0')\n"
          ]
        },
        {
          "output_type": "stream",
          "name": "stderr",
          "text": [
            "\n",
            "Training iteration:  24%|██▎       | 36/152 [00:09<00:30,  3.85it/s]\u001b[A"
          ]
        },
        {
          "output_type": "stream",
          "name": "stdout",
          "text": [
            "Invalid label found, adjusting: tensor([2, 2, 2, 2, 0, 2, 1, 2, 0, 1, 1, 2, 0, 0, 0, 0], device='cuda:0')\n"
          ]
        },
        {
          "output_type": "stream",
          "name": "stderr",
          "text": [
            "\n",
            "Training iteration:  24%|██▍       | 37/152 [00:09<00:29,  3.86it/s]\u001b[A"
          ]
        },
        {
          "output_type": "stream",
          "name": "stdout",
          "text": [
            "Invalid label found, adjusting: tensor([2, 2, 1, 2, 1, 1, 0, 0, 2, 0, 2, 0, 2, 2, 0, 0], device='cuda:0')\n"
          ]
        },
        {
          "output_type": "stream",
          "name": "stderr",
          "text": [
            "\n",
            "Training iteration:  25%|██▌       | 38/152 [00:09<00:29,  3.85it/s]\u001b[A"
          ]
        },
        {
          "output_type": "stream",
          "name": "stdout",
          "text": [
            "Invalid label found, adjusting: tensor([0, 0, 2, 0, 0, 2, 0, 2, 1, 1, 2, 0, 2, 1, 2, 0], device='cuda:0')\n"
          ]
        },
        {
          "output_type": "stream",
          "name": "stderr",
          "text": [
            "\n",
            "Training iteration:  26%|██▌       | 39/152 [00:10<00:29,  3.86it/s]\u001b[A"
          ]
        },
        {
          "output_type": "stream",
          "name": "stdout",
          "text": [
            "Invalid label found, adjusting: tensor([0, 0, 0, 1, 2, 0, 0, 1, 1, 0, 2, 2, 2, 0, 2, 1], device='cuda:0')\n"
          ]
        },
        {
          "output_type": "stream",
          "name": "stderr",
          "text": [
            "\n",
            "Training iteration:  26%|██▋       | 40/152 [00:10<00:29,  3.84it/s]\u001b[A"
          ]
        },
        {
          "output_type": "stream",
          "name": "stdout",
          "text": [
            "Invalid label found, adjusting: tensor([0, 0, 1, 1, 2, 0, 2, 0, 0, 2, 2, 1, 0, 2, 2, 1], device='cuda:0')\n"
          ]
        },
        {
          "output_type": "stream",
          "name": "stderr",
          "text": [
            "\n",
            "Training iteration:  27%|██▋       | 41/152 [00:10<00:28,  3.84it/s]\u001b[A"
          ]
        },
        {
          "output_type": "stream",
          "name": "stdout",
          "text": [
            "Invalid label found, adjusting: tensor([1, 2, 1, 2, 0, 0, 2, 2, 2, 1, 2, 1, 0, 1, 0, 2], device='cuda:0')\n"
          ]
        },
        {
          "output_type": "stream",
          "name": "stderr",
          "text": [
            "\n",
            "Training iteration:  28%|██▊       | 42/152 [00:10<00:28,  3.85it/s]\u001b[A"
          ]
        },
        {
          "output_type": "stream",
          "name": "stdout",
          "text": [
            "Invalid label found, adjusting: tensor([2, 2, 2, 0, 0, 1, 1, 1, 1, 0, 2, 1, 0, 2, 1, 2], device='cuda:0')\n"
          ]
        },
        {
          "output_type": "stream",
          "name": "stderr",
          "text": [
            "\n",
            "Training iteration:  28%|██▊       | 43/152 [00:11<00:28,  3.86it/s]\u001b[A"
          ]
        },
        {
          "output_type": "stream",
          "name": "stdout",
          "text": [
            "Invalid label found, adjusting: tensor([1, 2, 1, 0, 2, 0, 1, 1, 1, 1, 0, 1, 2, 1, 2, 0], device='cuda:0')\n"
          ]
        },
        {
          "output_type": "stream",
          "name": "stderr",
          "text": [
            "\n",
            "Training iteration:  29%|██▉       | 44/152 [00:11<00:28,  3.84it/s]\u001b[A"
          ]
        },
        {
          "output_type": "stream",
          "name": "stdout",
          "text": [
            "Invalid label found, adjusting: tensor([0, 1, 0, 2, 1, 2, 2, 1, 1, 2, 0, 0, 1, 2, 1, 0], device='cuda:0')\n"
          ]
        },
        {
          "output_type": "stream",
          "name": "stderr",
          "text": [
            "\n",
            "Training iteration:  30%|██▉       | 45/152 [00:11<00:27,  3.84it/s]\u001b[A"
          ]
        },
        {
          "output_type": "stream",
          "name": "stdout",
          "text": [
            "Invalid label found, adjusting: tensor([2, 1, 1, 0, 2, 1, 0, 2, 1, 0, 1, 0, 1, 0, 1, 0], device='cuda:0')\n"
          ]
        },
        {
          "output_type": "stream",
          "name": "stderr",
          "text": [
            "\n",
            "Training iteration:  30%|███       | 46/152 [00:11<00:27,  3.82it/s]\u001b[A"
          ]
        },
        {
          "output_type": "stream",
          "name": "stdout",
          "text": [
            "Invalid label found, adjusting: tensor([2, 1, 0, 2, 2, 1, 0, 0, 1, 0, 2, 1, 2, 2, 1, 1], device='cuda:0')\n"
          ]
        },
        {
          "output_type": "stream",
          "name": "stderr",
          "text": [
            "\n",
            "Training iteration:  31%|███       | 47/152 [00:12<00:27,  3.82it/s]\u001b[A"
          ]
        },
        {
          "output_type": "stream",
          "name": "stdout",
          "text": [
            "Invalid label found, adjusting: tensor([0, 0, 1, 0, 1, 1, 0, 2, 1, 0, 0, 2, 1, 0, 2, 2], device='cuda:0')\n"
          ]
        },
        {
          "output_type": "stream",
          "name": "stderr",
          "text": [
            "\n",
            "Training iteration:  32%|███▏      | 48/152 [00:12<00:27,  3.82it/s]\u001b[A"
          ]
        },
        {
          "output_type": "stream",
          "name": "stdout",
          "text": [
            "Invalid label found, adjusting: tensor([1, 1, 1, 0, 0, 0, 0, 2, 2, 2, 0, 0, 2, 2, 2, 0], device='cuda:0')\n"
          ]
        },
        {
          "output_type": "stream",
          "name": "stderr",
          "text": [
            "\n",
            "Training iteration:  32%|███▏      | 49/152 [00:12<00:26,  3.83it/s]\u001b[A"
          ]
        },
        {
          "output_type": "stream",
          "name": "stdout",
          "text": [
            "Invalid label found, adjusting: tensor([2, 1, 0, 0, 0, 1, 1, 1, 0, 2, 0, 2, 2, 0, 2, 2], device='cuda:0')\n"
          ]
        },
        {
          "output_type": "stream",
          "name": "stderr",
          "text": [
            "\n",
            "Training iteration:  33%|███▎      | 50/152 [00:12<00:26,  3.82it/s]\u001b[A"
          ]
        },
        {
          "output_type": "stream",
          "name": "stdout",
          "text": [
            "Invalid label found, adjusting: tensor([0, 0, 0, 2, 0, 1, 1, 2, 0, 2, 2, 0, 0, 0, 0, 2], device='cuda:0')\n"
          ]
        },
        {
          "output_type": "stream",
          "name": "stderr",
          "text": [
            "\n",
            "Training iteration:  34%|███▎      | 51/152 [00:13<00:26,  3.81it/s]\u001b[A"
          ]
        },
        {
          "output_type": "stream",
          "name": "stdout",
          "text": [
            "Invalid label found, adjusting: tensor([2, 2, 0, 1, 0, 1, 0, 1, 0, 1, 0, 2, 2, 2, 0, 2], device='cuda:0')\n"
          ]
        },
        {
          "output_type": "stream",
          "name": "stderr",
          "text": [
            "\n",
            "Training iteration:  34%|███▍      | 52/152 [00:13<00:26,  3.80it/s]\u001b[A"
          ]
        },
        {
          "output_type": "stream",
          "name": "stdout",
          "text": [
            "Invalid label found, adjusting: tensor([2, 1, 1, 1, 1, 0, 2, 0, 0, 0, 2, 1, 0, 0, 2, 1], device='cuda:0')\n"
          ]
        },
        {
          "output_type": "stream",
          "name": "stderr",
          "text": [
            "\n",
            "Training iteration:  35%|███▍      | 53/152 [00:13<00:26,  3.78it/s]\u001b[A"
          ]
        },
        {
          "output_type": "stream",
          "name": "stdout",
          "text": [
            "Invalid label found, adjusting: tensor([0, 0, 1, 2, 2, 1, 2, 0, 1, 1, 0, 2, 0, 2, 1, 1], device='cuda:0')\n"
          ]
        },
        {
          "output_type": "stream",
          "name": "stderr",
          "text": [
            "\n",
            "Training iteration:  36%|███▌      | 54/152 [00:13<00:25,  3.77it/s]\u001b[A"
          ]
        },
        {
          "output_type": "stream",
          "name": "stdout",
          "text": [
            "Invalid label found, adjusting: tensor([0, 2, 0, 1, 1, 1, 2, 2, 1, 2, 1, 2, 2, 1, 1, 2], device='cuda:0')\n"
          ]
        },
        {
          "output_type": "stream",
          "name": "stderr",
          "text": [
            "\n",
            "Training iteration:  36%|███▌      | 55/152 [00:14<00:25,  3.76it/s]\u001b[A"
          ]
        },
        {
          "output_type": "stream",
          "name": "stdout",
          "text": [
            "Invalid label found, adjusting: tensor([2, 0, 0, 2, 0, 0, 0, 1, 2, 2, 2, 1, 1, 2, 0, 2], device='cuda:0')\n"
          ]
        },
        {
          "output_type": "stream",
          "name": "stderr",
          "text": [
            "\n",
            "Training iteration:  37%|███▋      | 56/152 [00:14<00:25,  3.76it/s]\u001b[A"
          ]
        },
        {
          "output_type": "stream",
          "name": "stdout",
          "text": [
            "Invalid label found, adjusting: tensor([1, 2, 1, 2, 0, 2, 2, 0, 0, 0, 1, 1, 2, 0, 0, 1], device='cuda:0')\n"
          ]
        },
        {
          "output_type": "stream",
          "name": "stderr",
          "text": [
            "\n",
            "Training iteration:  38%|███▊      | 57/152 [00:14<00:25,  3.77it/s]\u001b[A"
          ]
        },
        {
          "output_type": "stream",
          "name": "stdout",
          "text": [
            "Invalid label found, adjusting: tensor([0, 0, 2, 1, 2, 0, 1, 0, 0, 2, 0, 1, 1, 2, 0, 2], device='cuda:0')\n"
          ]
        },
        {
          "output_type": "stream",
          "name": "stderr",
          "text": [
            "\n",
            "Training iteration:  38%|███▊      | 58/152 [00:15<00:25,  3.75it/s]\u001b[A"
          ]
        },
        {
          "output_type": "stream",
          "name": "stdout",
          "text": [
            "Invalid label found, adjusting: tensor([1, 2, 0, 2, 0, 1, 2, 1, 1, 0, 0, 0, 1, 2, 2, 1], device='cuda:0')\n"
          ]
        },
        {
          "output_type": "stream",
          "name": "stderr",
          "text": [
            "\n",
            "Training iteration:  39%|███▉      | 59/152 [00:15<00:24,  3.76it/s]\u001b[A"
          ]
        },
        {
          "output_type": "stream",
          "name": "stdout",
          "text": [
            "Invalid label found, adjusting: tensor([2, 1, 2, 0, 0, 0, 2, 0, 0, 0, 2, 2, 2, 2, 2, 1], device='cuda:0')\n"
          ]
        },
        {
          "output_type": "stream",
          "name": "stderr",
          "text": [
            "\n",
            "Training iteration:  39%|███▉      | 60/152 [00:15<00:24,  3.78it/s]\u001b[A"
          ]
        },
        {
          "output_type": "stream",
          "name": "stdout",
          "text": [
            "Invalid label found, adjusting: tensor([2, 1, 0, 0, 1, 0, 0, 1, 1, 0, 2, 1, 2, 2, 0, 1], device='cuda:0')\n"
          ]
        },
        {
          "output_type": "stream",
          "name": "stderr",
          "text": [
            "\n",
            "Training iteration:  40%|████      | 61/152 [00:15<00:24,  3.77it/s]\u001b[A"
          ]
        },
        {
          "output_type": "stream",
          "name": "stdout",
          "text": [
            "Invalid label found, adjusting: tensor([1, 2, 2, 2, 2, 0, 0, 0, 0, 1, 1, 2, 0, 2, 1, 2], device='cuda:0')\n"
          ]
        },
        {
          "output_type": "stream",
          "name": "stderr",
          "text": [
            "\n",
            "Training iteration:  41%|████      | 62/152 [00:16<00:23,  3.76it/s]\u001b[A"
          ]
        },
        {
          "output_type": "stream",
          "name": "stdout",
          "text": [
            "Invalid label found, adjusting: tensor([1, 0, 2, 0, 1, 2, 2, 1, 0, 0, 2, 2, 1, 1, 2, 0], device='cuda:0')\n"
          ]
        },
        {
          "output_type": "stream",
          "name": "stderr",
          "text": [
            "\n",
            "Training iteration:  41%|████▏     | 63/152 [00:16<00:23,  3.77it/s]\u001b[A"
          ]
        },
        {
          "output_type": "stream",
          "name": "stdout",
          "text": [
            "Invalid label found, adjusting: tensor([1, 0, 2, 2, 2, 0, 1, 2, 0, 2, 1, 0, 1, 0, 0, 1], device='cuda:0')\n"
          ]
        },
        {
          "output_type": "stream",
          "name": "stderr",
          "text": [
            "\n",
            "Training iteration:  42%|████▏     | 64/152 [00:16<00:23,  3.76it/s]\u001b[A"
          ]
        },
        {
          "output_type": "stream",
          "name": "stdout",
          "text": [
            "Invalid label found, adjusting: tensor([1, 2, 0, 0, 1, 1, 2, 2, 2, 0, 2, 2, 1, 2, 0, 1], device='cuda:0')\n"
          ]
        },
        {
          "output_type": "stream",
          "name": "stderr",
          "text": [
            "\n",
            "Training iteration:  43%|████▎     | 65/152 [00:16<00:23,  3.77it/s]\u001b[A"
          ]
        },
        {
          "output_type": "stream",
          "name": "stdout",
          "text": [
            "Invalid label found, adjusting: tensor([0, 2, 1, 2, 1, 2, 1, 2, 1, 2, 0, 0, 2, 1, 1, 2], device='cuda:0')\n"
          ]
        },
        {
          "output_type": "stream",
          "name": "stderr",
          "text": [
            "\n",
            "Training iteration:  43%|████▎     | 66/152 [00:17<00:22,  3.76it/s]\u001b[A"
          ]
        },
        {
          "output_type": "stream",
          "name": "stdout",
          "text": [
            "Invalid label found, adjusting: tensor([0, 2, 0, 2, 2, 1, 2, 0, 2, 0, 2, 0, 0, 0, 2, 1], device='cuda:0')\n"
          ]
        },
        {
          "output_type": "stream",
          "name": "stderr",
          "text": [
            "\n",
            "Training iteration:  44%|████▍     | 67/152 [00:17<00:22,  3.76it/s]\u001b[A"
          ]
        },
        {
          "output_type": "stream",
          "name": "stdout",
          "text": [
            "Invalid label found, adjusting: tensor([1, 1, 2, 2, 0, 0, 1, 1, 1, 1, 1, 2, 1, 2, 1, 2], device='cuda:0')\n"
          ]
        },
        {
          "output_type": "stream",
          "name": "stderr",
          "text": [
            "\n",
            "Training iteration:  45%|████▍     | 68/152 [00:17<00:22,  3.76it/s]\u001b[A"
          ]
        },
        {
          "output_type": "stream",
          "name": "stdout",
          "text": [
            "Invalid label found, adjusting: tensor([1, 0, 2, 0, 2, 2, 1, 2, 0, 2, 0, 2, 2, 0, 2, 1], device='cuda:0')\n"
          ]
        },
        {
          "output_type": "stream",
          "name": "stderr",
          "text": [
            "\n",
            "Training iteration:  45%|████▌     | 69/152 [00:17<00:22,  3.76it/s]\u001b[A"
          ]
        },
        {
          "output_type": "stream",
          "name": "stdout",
          "text": [
            "Invalid label found, adjusting: tensor([0, 0, 1, 0, 1, 2, 2, 1, 0, 1, 0, 2, 2, 1, 1, 2], device='cuda:0')\n"
          ]
        },
        {
          "output_type": "stream",
          "name": "stderr",
          "text": [
            "\n",
            "Training iteration:  46%|████▌     | 70/152 [00:18<00:21,  3.73it/s]\u001b[A"
          ]
        },
        {
          "output_type": "stream",
          "name": "stdout",
          "text": [
            "Invalid label found, adjusting: tensor([2, 1, 0, 2, 0, 2, 2, 1, 0, 1, 0, 2, 0, 2, 1, 0], device='cuda:0')\n"
          ]
        },
        {
          "output_type": "stream",
          "name": "stderr",
          "text": [
            "\n",
            "Training iteration:  47%|████▋     | 71/152 [00:18<00:21,  3.73it/s]\u001b[A"
          ]
        },
        {
          "output_type": "stream",
          "name": "stdout",
          "text": [
            "Invalid label found, adjusting: tensor([2, 0, 1, 2, 1, 1, 0, 0, 0, 2, 1, 0, 1, 2, 1, 2], device='cuda:0')\n"
          ]
        },
        {
          "output_type": "stream",
          "name": "stderr",
          "text": [
            "\n",
            "Training iteration:  47%|████▋     | 72/152 [00:18<00:21,  3.72it/s]\u001b[A"
          ]
        },
        {
          "output_type": "stream",
          "name": "stdout",
          "text": [
            "Invalid label found, adjusting: tensor([1, 0, 0, 2, 0, 2, 0, 0, 2, 2, 1, 1, 0, 0, 0, 0], device='cuda:0')\n"
          ]
        },
        {
          "output_type": "stream",
          "name": "stderr",
          "text": [
            "\n",
            "Training iteration:  48%|████▊     | 73/152 [00:19<00:21,  3.68it/s]\u001b[A"
          ]
        },
        {
          "output_type": "stream",
          "name": "stdout",
          "text": [
            "Invalid label found, adjusting: tensor([0, 1, 0, 1, 2, 2, 2, 1, 0, 2, 0, 2, 2, 1, 2, 2], device='cuda:0')\n"
          ]
        },
        {
          "output_type": "stream",
          "name": "stderr",
          "text": [
            "\n",
            "Training iteration:  49%|████▊     | 74/152 [00:19<00:21,  3.67it/s]\u001b[A"
          ]
        },
        {
          "output_type": "stream",
          "name": "stdout",
          "text": [
            "Invalid label found, adjusting: tensor([0, 2, 1, 2, 0, 0, 2, 1, 0, 2, 2, 2, 0, 0, 1, 0], device='cuda:0')\n"
          ]
        },
        {
          "output_type": "stream",
          "name": "stderr",
          "text": [
            "\n",
            "Training iteration:  49%|████▉     | 75/152 [00:19<00:20,  3.69it/s]\u001b[A"
          ]
        },
        {
          "output_type": "stream",
          "name": "stdout",
          "text": [
            "Invalid label found, adjusting: tensor([1, 2, 2, 0, 2, 2, 1, 0, 0, 2, 1, 0, 2, 1, 1, 1], device='cuda:0')\n"
          ]
        },
        {
          "output_type": "stream",
          "name": "stderr",
          "text": [
            "\n",
            "Training iteration:  50%|█████     | 76/152 [00:19<00:20,  3.71it/s]\u001b[A"
          ]
        },
        {
          "output_type": "stream",
          "name": "stdout",
          "text": [
            "Invalid label found, adjusting: tensor([2, 1, 2, 2, 2, 2, 0, 0, 2, 2, 0, 2, 2, 1, 2, 1], device='cuda:0')\n"
          ]
        },
        {
          "output_type": "stream",
          "name": "stderr",
          "text": [
            "\n",
            "Training iteration:  51%|█████     | 77/152 [00:20<00:20,  3.70it/s]\u001b[A"
          ]
        },
        {
          "output_type": "stream",
          "name": "stdout",
          "text": [
            "Invalid label found, adjusting: tensor([1, 0, 1, 1, 2, 1, 1, 2, 2, 2, 2, 0, 1, 1, 1, 0], device='cuda:0')\n"
          ]
        },
        {
          "output_type": "stream",
          "name": "stderr",
          "text": [
            "\n",
            "Training iteration:  51%|█████▏    | 78/152 [00:20<00:20,  3.69it/s]\u001b[A"
          ]
        },
        {
          "output_type": "stream",
          "name": "stdout",
          "text": [
            "Invalid label found, adjusting: tensor([1, 1, 1, 0, 2, 0, 2, 0, 0, 1, 2, 2, 2, 0, 2, 2], device='cuda:0')\n"
          ]
        },
        {
          "output_type": "stream",
          "name": "stderr",
          "text": [
            "\n",
            "Training iteration:  52%|█████▏    | 79/152 [00:20<00:19,  3.70it/s]\u001b[A"
          ]
        },
        {
          "output_type": "stream",
          "name": "stdout",
          "text": [
            "Invalid label found, adjusting: tensor([1, 0, 2, 2, 2, 2, 2, 2, 0, 1, 1, 2, 2, 1, 2, 1], device='cuda:0')\n"
          ]
        },
        {
          "output_type": "stream",
          "name": "stderr",
          "text": [
            "\n",
            "Training iteration:  53%|█████▎    | 80/152 [00:20<00:19,  3.68it/s]\u001b[A"
          ]
        },
        {
          "output_type": "stream",
          "name": "stdout",
          "text": [
            "Invalid label found, adjusting: tensor([0, 1, 0, 1, 2, 0, 0, 2, 2, 1, 1, 2, 0, 0, 2, 2], device='cuda:0')\n"
          ]
        },
        {
          "output_type": "stream",
          "name": "stderr",
          "text": [
            "\n",
            "Training iteration:  53%|█████▎    | 81/152 [00:21<00:19,  3.66it/s]\u001b[A"
          ]
        },
        {
          "output_type": "stream",
          "name": "stdout",
          "text": [
            "Invalid label found, adjusting: tensor([0, 1, 2, 0, 0, 1, 1, 0, 1, 2, 0, 2, 0, 1, 2, 0], device='cuda:0')\n"
          ]
        },
        {
          "output_type": "stream",
          "name": "stderr",
          "text": [
            "\n",
            "Training iteration:  54%|█████▍    | 82/152 [00:21<00:19,  3.67it/s]\u001b[A"
          ]
        },
        {
          "output_type": "stream",
          "name": "stdout",
          "text": [
            "Invalid label found, adjusting: tensor([2, 1, 2, 0, 0, 0, 2, 0, 1, 1, 2, 0, 2, 1, 0, 0], device='cuda:0')\n"
          ]
        },
        {
          "output_type": "stream",
          "name": "stderr",
          "text": [
            "\n",
            "Training iteration:  55%|█████▍    | 83/152 [00:21<00:18,  3.68it/s]\u001b[A"
          ]
        },
        {
          "output_type": "stream",
          "name": "stdout",
          "text": [
            "Invalid label found, adjusting: tensor([2, 0, 0, 1, 0, 1, 0, 0, 1, 0, 2, 1, 0, 0, 2, 2], device='cuda:0')\n"
          ]
        },
        {
          "output_type": "stream",
          "name": "stderr",
          "text": [
            "\n",
            "Training iteration:  55%|█████▌    | 84/152 [00:22<00:18,  3.65it/s]\u001b[A"
          ]
        },
        {
          "output_type": "stream",
          "name": "stdout",
          "text": [
            "Invalid label found, adjusting: tensor([2, 1, 0, 1, 1, 2, 2, 0, 1, 0, 0, 1, 1, 1, 2, 0], device='cuda:0')\n"
          ]
        },
        {
          "output_type": "stream",
          "name": "stderr",
          "text": [
            "\n",
            "Training iteration:  56%|█████▌    | 85/152 [00:22<00:18,  3.63it/s]\u001b[A"
          ]
        },
        {
          "output_type": "stream",
          "name": "stdout",
          "text": [
            "Invalid label found, adjusting: tensor([0, 2, 0, 1, 1, 2, 0, 2, 1, 1, 1, 1, 2, 2, 2, 1], device='cuda:0')\n"
          ]
        },
        {
          "output_type": "stream",
          "name": "stderr",
          "text": [
            "\n",
            "Training iteration:  57%|█████▋    | 86/152 [00:22<00:18,  3.64it/s]\u001b[A"
          ]
        },
        {
          "output_type": "stream",
          "name": "stdout",
          "text": [
            "Invalid label found, adjusting: tensor([1, 2, 2, 2, 0, 2, 0, 0, 0, 2, 1, 2, 1, 2, 1, 2], device='cuda:0')\n"
          ]
        },
        {
          "output_type": "stream",
          "name": "stderr",
          "text": [
            "\n",
            "Training iteration:  57%|█████▋    | 87/152 [00:22<00:17,  3.63it/s]\u001b[A"
          ]
        },
        {
          "output_type": "stream",
          "name": "stdout",
          "text": [
            "Invalid label found, adjusting: tensor([0, 2, 1, 2, 2, 2, 1, 1, 1, 0, 1, 1, 1, 1, 0, 1], device='cuda:0')\n"
          ]
        },
        {
          "output_type": "stream",
          "name": "stderr",
          "text": [
            "\n",
            "Training iteration:  58%|█████▊    | 88/152 [00:23<00:17,  3.63it/s]\u001b[A"
          ]
        },
        {
          "output_type": "stream",
          "name": "stdout",
          "text": [
            "Invalid label found, adjusting: tensor([1, 0, 0, 1, 0, 2, 1, 1, 2, 0, 0, 0, 2, 0, 2, 2], device='cuda:0')\n"
          ]
        },
        {
          "output_type": "stream",
          "name": "stderr",
          "text": [
            "\n",
            "Training iteration:  59%|█████▊    | 89/152 [00:23<00:17,  3.63it/s]\u001b[A"
          ]
        },
        {
          "output_type": "stream",
          "name": "stdout",
          "text": [
            "Invalid label found, adjusting: tensor([2, 1, 1, 0, 1, 2, 1, 1, 1, 2, 1, 2, 1, 0, 1, 2], device='cuda:0')\n"
          ]
        },
        {
          "output_type": "stream",
          "name": "stderr",
          "text": [
            "\n",
            "Training iteration:  59%|█████▉    | 90/152 [00:23<00:17,  3.62it/s]\u001b[A"
          ]
        },
        {
          "output_type": "stream",
          "name": "stdout",
          "text": [
            "Invalid label found, adjusting: tensor([0, 0, 0, 1, 1, 0, 0, 0, 2, 2, 2, 2, 2, 2, 2, 0], device='cuda:0')\n"
          ]
        },
        {
          "output_type": "stream",
          "name": "stderr",
          "text": [
            "\n",
            "Training iteration:  60%|█████▉    | 91/152 [00:23<00:16,  3.63it/s]\u001b[A"
          ]
        },
        {
          "output_type": "stream",
          "name": "stdout",
          "text": [
            "Invalid label found, adjusting: tensor([0, 1, 0, 1, 2, 2, 2, 1, 1, 2, 1, 1, 1, 0, 2, 1], device='cuda:0')\n"
          ]
        },
        {
          "output_type": "stream",
          "name": "stderr",
          "text": [
            "\n",
            "Training iteration:  61%|██████    | 92/152 [00:24<00:16,  3.63it/s]\u001b[A"
          ]
        },
        {
          "output_type": "stream",
          "name": "stdout",
          "text": [
            "Invalid label found, adjusting: tensor([0, 2, 1, 1, 2, 1, 1, 1, 1, 0, 0, 1, 1, 1, 2, 1], device='cuda:0')\n"
          ]
        },
        {
          "output_type": "stream",
          "name": "stderr",
          "text": [
            "\n",
            "Training iteration:  61%|██████    | 93/152 [00:24<00:16,  3.64it/s]\u001b[A"
          ]
        },
        {
          "output_type": "stream",
          "name": "stdout",
          "text": [
            "Invalid label found, adjusting: tensor([0, 2, 0, 1, 2, 2, 1, 2, 2, 0, 0, 0, 2, 0, 1, 1], device='cuda:0')\n"
          ]
        },
        {
          "output_type": "stream",
          "name": "stderr",
          "text": [
            "\n",
            "Training iteration:  62%|██████▏   | 94/152 [00:24<00:15,  3.64it/s]\u001b[A"
          ]
        },
        {
          "output_type": "stream",
          "name": "stdout",
          "text": [
            "Invalid label found, adjusting: tensor([2, 2, 0, 0, 1, 2, 2, 2, 1, 2, 0, 0, 1, 0, 0, 1], device='cuda:0')\n"
          ]
        },
        {
          "output_type": "stream",
          "name": "stderr",
          "text": [
            "\n",
            "Training iteration:  62%|██████▎   | 95/152 [00:25<00:15,  3.62it/s]\u001b[A"
          ]
        },
        {
          "output_type": "stream",
          "name": "stdout",
          "text": [
            "Invalid label found, adjusting: tensor([2, 0, 0, 1, 1, 0, 2, 1, 0, 2, 0, 1, 2, 1, 0, 0], device='cuda:0')\n"
          ]
        },
        {
          "output_type": "stream",
          "name": "stderr",
          "text": [
            "\n",
            "Training iteration:  63%|██████▎   | 96/152 [00:25<00:15,  3.60it/s]\u001b[A"
          ]
        },
        {
          "output_type": "stream",
          "name": "stdout",
          "text": [
            "Invalid label found, adjusting: tensor([0, 1, 1, 1, 1, 2, 0, 2, 0, 0, 1, 1, 2, 0, 1, 2], device='cuda:0')\n"
          ]
        },
        {
          "output_type": "stream",
          "name": "stderr",
          "text": [
            "\n",
            "Training iteration:  64%|██████▍   | 97/152 [00:25<00:15,  3.61it/s]\u001b[A"
          ]
        },
        {
          "output_type": "stream",
          "name": "stdout",
          "text": [
            "Invalid label found, adjusting: tensor([0, 2, 2, 1, 1, 0, 1, 0, 2, 1, 0, 2, 2, 1, 1, 2], device='cuda:0')\n"
          ]
        },
        {
          "output_type": "stream",
          "name": "stderr",
          "text": [
            "\n",
            "Training iteration:  64%|██████▍   | 98/152 [00:25<00:14,  3.61it/s]\u001b[A"
          ]
        },
        {
          "output_type": "stream",
          "name": "stdout",
          "text": [
            "Invalid label found, adjusting: tensor([0, 0, 2, 1, 2, 1, 1, 2, 0, 1, 0, 2, 2, 1, 1, 0], device='cuda:0')\n"
          ]
        },
        {
          "output_type": "stream",
          "name": "stderr",
          "text": [
            "\n",
            "Training iteration:  65%|██████▌   | 99/152 [00:26<00:14,  3.58it/s]\u001b[A"
          ]
        },
        {
          "output_type": "stream",
          "name": "stdout",
          "text": [
            "Invalid label found, adjusting: tensor([1, 1, 0, 0, 1, 0, 1, 2, 0, 2, 2, 1, 0, 0, 2, 1], device='cuda:0')\n"
          ]
        },
        {
          "output_type": "stream",
          "name": "stderr",
          "text": [
            "\n",
            "Training iteration:  66%|██████▌   | 100/152 [00:26<00:14,  3.58it/s]\u001b[A"
          ]
        },
        {
          "output_type": "stream",
          "name": "stdout",
          "text": [
            "Invalid label found, adjusting: tensor([0, 2, 1, 2, 2, 0, 0, 0, 0, 0, 0, 0, 1, 1, 1, 0], device='cuda:0')\n"
          ]
        },
        {
          "output_type": "stream",
          "name": "stderr",
          "text": [
            "\n",
            "Training iteration:  66%|██████▋   | 101/152 [00:26<00:14,  3.58it/s]\u001b[A"
          ]
        },
        {
          "output_type": "stream",
          "name": "stdout",
          "text": [
            "Invalid label found, adjusting: tensor([1, 2, 1, 1, 1, 0, 1, 1, 0, 0, 1, 1, 2, 0, 2, 0], device='cuda:0')\n"
          ]
        },
        {
          "output_type": "stream",
          "name": "stderr",
          "text": [
            "\n",
            "Training iteration:  67%|██████▋   | 102/152 [00:27<00:13,  3.58it/s]\u001b[A"
          ]
        },
        {
          "output_type": "stream",
          "name": "stdout",
          "text": [
            "Invalid label found, adjusting: tensor([1, 2, 1, 1, 2, 1, 1, 2, 0, 2, 1, 0, 0, 2, 1, 0], device='cuda:0')\n"
          ]
        },
        {
          "output_type": "stream",
          "name": "stderr",
          "text": [
            "\n",
            "Training iteration:  68%|██████▊   | 103/152 [00:27<00:13,  3.57it/s]\u001b[A"
          ]
        },
        {
          "output_type": "stream",
          "name": "stdout",
          "text": [
            "Invalid label found, adjusting: tensor([2, 2, 2, 0, 2, 2, 0, 1, 2, 0, 1, 2, 2, 2, 1, 1], device='cuda:0')\n"
          ]
        },
        {
          "output_type": "stream",
          "name": "stderr",
          "text": [
            "\n",
            "Training iteration:  68%|██████▊   | 104/152 [00:27<00:13,  3.58it/s]\u001b[A"
          ]
        },
        {
          "output_type": "stream",
          "name": "stdout",
          "text": [
            "Invalid label found, adjusting: tensor([1, 2, 1, 0, 0, 1, 0, 1, 1, 0, 0, 2, 2, 1, 2, 0], device='cuda:0')\n"
          ]
        },
        {
          "output_type": "stream",
          "name": "stderr",
          "text": [
            "\n",
            "Training iteration:  69%|██████▉   | 105/152 [00:27<00:13,  3.59it/s]\u001b[A"
          ]
        },
        {
          "output_type": "stream",
          "name": "stdout",
          "text": [
            "Invalid label found, adjusting: tensor([1, 2, 2, 2, 0, 0, 2, 0, 2, 2, 1, 0, 2, 1, 1, 2], device='cuda:0')\n"
          ]
        },
        {
          "output_type": "stream",
          "name": "stderr",
          "text": [
            "\n",
            "Training iteration:  70%|██████▉   | 106/152 [00:28<00:12,  3.58it/s]\u001b[A"
          ]
        },
        {
          "output_type": "stream",
          "name": "stdout",
          "text": [
            "Invalid label found, adjusting: tensor([0, 1, 1, 0, 2, 1, 0, 2, 0, 1, 2, 1, 2, 1, 2, 2], device='cuda:0')\n"
          ]
        },
        {
          "output_type": "stream",
          "name": "stderr",
          "text": [
            "\n",
            "Training iteration:  70%|███████   | 107/152 [00:28<00:12,  3.56it/s]\u001b[A"
          ]
        },
        {
          "output_type": "stream",
          "name": "stdout",
          "text": [
            "Invalid label found, adjusting: tensor([0, 0, 0, 2, 2, 0, 1, 0, 1, 0, 2, 1, 1, 1, 0, 0], device='cuda:0')\n"
          ]
        },
        {
          "output_type": "stream",
          "name": "stderr",
          "text": [
            "\n",
            "Training iteration:  71%|███████   | 108/152 [00:28<00:12,  3.57it/s]\u001b[A"
          ]
        },
        {
          "output_type": "stream",
          "name": "stdout",
          "text": [
            "Invalid label found, adjusting: tensor([0, 1, 0, 1, 0, 0, 1, 0, 2, 1, 1, 2, 1, 1, 2, 0], device='cuda:0')\n"
          ]
        },
        {
          "output_type": "stream",
          "name": "stderr",
          "text": [
            "\n",
            "Training iteration:  72%|███████▏  | 109/152 [00:28<00:12,  3.57it/s]\u001b[A"
          ]
        },
        {
          "output_type": "stream",
          "name": "stdout",
          "text": [
            "Invalid label found, adjusting: tensor([2, 2, 1, 0, 1, 2, 2, 2, 0, 1, 2, 0, 2, 1, 1, 2], device='cuda:0')\n"
          ]
        },
        {
          "output_type": "stream",
          "name": "stderr",
          "text": [
            "\n",
            "Training iteration:  72%|███████▏  | 110/152 [00:29<00:11,  3.58it/s]\u001b[A"
          ]
        },
        {
          "output_type": "stream",
          "name": "stdout",
          "text": [
            "Invalid label found, adjusting: tensor([0, 1, 1, 2, 0, 0, 2, 0, 1, 0, 1, 1, 0, 1, 0, 1], device='cuda:0')\n"
          ]
        },
        {
          "output_type": "stream",
          "name": "stderr",
          "text": [
            "\n",
            "Training iteration:  73%|███████▎  | 111/152 [00:29<00:11,  3.58it/s]\u001b[A"
          ]
        },
        {
          "output_type": "stream",
          "name": "stdout",
          "text": [
            "Invalid label found, adjusting: tensor([2, 0, 0, 1, 2, 1, 0, 1, 1, 2, 1, 2, 2, 0, 0, 1], device='cuda:0')\n"
          ]
        },
        {
          "output_type": "stream",
          "name": "stderr",
          "text": [
            "\n",
            "Training iteration:  74%|███████▎  | 112/152 [00:29<00:11,  3.58it/s]\u001b[A"
          ]
        },
        {
          "output_type": "stream",
          "name": "stdout",
          "text": [
            "Invalid label found, adjusting: tensor([0, 1, 1, 1, 0, 2, 2, 2, 0, 2, 1, 0, 2, 1, 0, 0], device='cuda:0')\n"
          ]
        },
        {
          "output_type": "stream",
          "name": "stderr",
          "text": [
            "\n",
            "Training iteration:  74%|███████▍  | 113/152 [00:30<00:10,  3.56it/s]\u001b[A"
          ]
        },
        {
          "output_type": "stream",
          "name": "stdout",
          "text": [
            "Invalid label found, adjusting: tensor([0, 2, 1, 1, 0, 1, 1, 2, 1, 0, 0, 1, 2, 0, 1, 0], device='cuda:0')\n"
          ]
        },
        {
          "output_type": "stream",
          "name": "stderr",
          "text": [
            "\n",
            "Training iteration:  75%|███████▌  | 114/152 [00:30<00:10,  3.55it/s]\u001b[A"
          ]
        },
        {
          "output_type": "stream",
          "name": "stdout",
          "text": [
            "Invalid label found, adjusting: tensor([2, 1, 2, 0, 2, 1, 0, 1, 2, 2, 0, 2, 0, 1, 0, 2], device='cuda:0')\n"
          ]
        },
        {
          "output_type": "stream",
          "name": "stderr",
          "text": [
            "\n",
            "Training iteration:  76%|███████▌  | 115/152 [00:30<00:10,  3.57it/s]\u001b[A"
          ]
        },
        {
          "output_type": "stream",
          "name": "stdout",
          "text": [
            "Invalid label found, adjusting: tensor([0, 2, 1, 1, 2, 0, 2, 1, 2, 1, 1, 1, 2, 2, 1, 1], device='cuda:0')\n"
          ]
        },
        {
          "output_type": "stream",
          "name": "stderr",
          "text": [
            "\n",
            "Training iteration:  76%|███████▋  | 116/152 [00:30<00:10,  3.58it/s]\u001b[A"
          ]
        },
        {
          "output_type": "stream",
          "name": "stdout",
          "text": [
            "Invalid label found, adjusting: tensor([2, 0, 2, 1, 2, 1, 2, 0, 1, 0, 2, 2, 0, 2, 0, 0], device='cuda:0')\n"
          ]
        },
        {
          "output_type": "stream",
          "name": "stderr",
          "text": [
            "\n",
            "Training iteration:  77%|███████▋  | 117/152 [00:31<00:09,  3.58it/s]\u001b[A"
          ]
        },
        {
          "output_type": "stream",
          "name": "stdout",
          "text": [
            "Invalid label found, adjusting: tensor([2, 2, 1, 1, 1, 0, 2, 0, 1, 1, 0, 2, 0, 0, 0, 0], device='cuda:0')\n"
          ]
        },
        {
          "output_type": "stream",
          "name": "stderr",
          "text": [
            "\n",
            "Training iteration:  78%|███████▊  | 118/152 [00:31<00:09,  3.58it/s]\u001b[A"
          ]
        },
        {
          "output_type": "stream",
          "name": "stdout",
          "text": [
            "Invalid label found, adjusting: tensor([1, 2, 2, 1, 1, 1, 1, 0, 0, 0, 1, 2, 2, 2, 2, 2], device='cuda:0')\n"
          ]
        },
        {
          "output_type": "stream",
          "name": "stderr",
          "text": [
            "\n",
            "Training iteration:  78%|███████▊  | 119/152 [00:31<00:09,  3.58it/s]\u001b[A"
          ]
        },
        {
          "output_type": "stream",
          "name": "stdout",
          "text": [
            "Invalid label found, adjusting: tensor([0, 1, 2, 0, 2, 2, 0, 2, 1, 2, 1, 2, 2, 2, 1, 0], device='cuda:0')\n"
          ]
        },
        {
          "output_type": "stream",
          "name": "stderr",
          "text": [
            "\n",
            "Training iteration:  79%|███████▉  | 120/152 [00:32<00:08,  3.58it/s]\u001b[A"
          ]
        },
        {
          "output_type": "stream",
          "name": "stdout",
          "text": [
            "Invalid label found, adjusting: tensor([0, 0, 0, 2, 1, 2, 2, 0, 2, 0, 2, 1, 1, 1, 1, 1], device='cuda:0')\n"
          ]
        },
        {
          "output_type": "stream",
          "name": "stderr",
          "text": [
            "\n",
            "Training iteration:  80%|███████▉  | 121/152 [00:32<00:08,  3.58it/s]\u001b[A"
          ]
        },
        {
          "output_type": "stream",
          "name": "stdout",
          "text": [
            "Invalid label found, adjusting: tensor([2, 2, 2, 1, 1, 2, 2, 2, 0, 2, 2, 2, 0, 1, 1, 0], device='cuda:0')\n"
          ]
        },
        {
          "output_type": "stream",
          "name": "stderr",
          "text": [
            "\n",
            "Training iteration:  80%|████████  | 122/152 [00:32<00:08,  3.59it/s]\u001b[A"
          ]
        },
        {
          "output_type": "stream",
          "name": "stdout",
          "text": [
            "Invalid label found, adjusting: tensor([2, 2, 2, 0, 1, 1, 1, 0, 2, 1, 1, 2, 2, 2, 2, 1], device='cuda:0')\n"
          ]
        },
        {
          "output_type": "stream",
          "name": "stderr",
          "text": [
            "\n",
            "Training iteration:  81%|████████  | 123/152 [00:32<00:08,  3.59it/s]\u001b[A"
          ]
        },
        {
          "output_type": "stream",
          "name": "stdout",
          "text": [
            "Invalid label found, adjusting: tensor([1, 2, 2, 0, 0, 0, 2, 2, 0, 2, 2, 2, 0, 1, 2, 2], device='cuda:0')\n"
          ]
        },
        {
          "output_type": "stream",
          "name": "stderr",
          "text": [
            "\n",
            "Training iteration:  82%|████████▏ | 124/152 [00:33<00:07,  3.62it/s]\u001b[A"
          ]
        },
        {
          "output_type": "stream",
          "name": "stdout",
          "text": [
            "Invalid label found, adjusting: tensor([1, 1, 1, 1, 0, 2, 0, 2, 2, 1, 0, 0, 1, 1, 2, 0], device='cuda:0')\n"
          ]
        },
        {
          "output_type": "stream",
          "name": "stderr",
          "text": [
            "\n",
            "Training iteration:  82%|████████▏ | 125/152 [00:33<00:07,  3.63it/s]\u001b[A"
          ]
        },
        {
          "output_type": "stream",
          "name": "stdout",
          "text": [
            "Invalid label found, adjusting: tensor([1, 1, 2, 1, 1, 1, 0, 2, 0, 1, 0, 1, 1, 2, 0, 1], device='cuda:0')\n"
          ]
        },
        {
          "output_type": "stream",
          "name": "stderr",
          "text": [
            "\n",
            "Training iteration:  83%|████████▎ | 126/152 [00:33<00:07,  3.62it/s]\u001b[A"
          ]
        },
        {
          "output_type": "stream",
          "name": "stdout",
          "text": [
            "Invalid label found, adjusting: tensor([0, 0, 1, 1, 1, 1, 2, 0, 1, 1, 0, 1, 0, 0, 0, 1], device='cuda:0')\n"
          ]
        },
        {
          "output_type": "stream",
          "name": "stderr",
          "text": [
            "\n",
            "Training iteration:  84%|████████▎ | 127/152 [00:34<00:06,  3.62it/s]\u001b[A"
          ]
        },
        {
          "output_type": "stream",
          "name": "stdout",
          "text": [
            "Invalid label found, adjusting: tensor([1, 2, 0, 1, 0, 1, 1, 0, 0, 1, 2, 0, 1, 2, 0, 1], device='cuda:0')\n"
          ]
        },
        {
          "output_type": "stream",
          "name": "stderr",
          "text": [
            "\n",
            "Training iteration:  84%|████████▍ | 128/152 [00:34<00:06,  3.64it/s]\u001b[A"
          ]
        },
        {
          "output_type": "stream",
          "name": "stdout",
          "text": [
            "Invalid label found, adjusting: tensor([1, 0, 2, 2, 0, 1, 2, 2, 1, 1, 0, 1, 2, 1, 0, 0], device='cuda:0')\n"
          ]
        },
        {
          "output_type": "stream",
          "name": "stderr",
          "text": [
            "\n",
            "Training iteration:  85%|████████▍ | 129/152 [00:34<00:06,  3.64it/s]\u001b[A"
          ]
        },
        {
          "output_type": "stream",
          "name": "stdout",
          "text": [
            "Invalid label found, adjusting: tensor([2, 1, 1, 2, 1, 1, 2, 2, 0, 2, 2, 0, 0, 0, 0, 2], device='cuda:0')\n"
          ]
        },
        {
          "output_type": "stream",
          "name": "stderr",
          "text": [
            "\n",
            "Training iteration:  86%|████████▌ | 130/152 [00:34<00:06,  3.65it/s]\u001b[A"
          ]
        },
        {
          "output_type": "stream",
          "name": "stdout",
          "text": [
            "Invalid label found, adjusting: tensor([0, 0, 0, 0, 0, 0, 0, 1, 1, 0, 2, 1, 1, 2, 0, 0], device='cuda:0')\n"
          ]
        },
        {
          "output_type": "stream",
          "name": "stderr",
          "text": [
            "\n",
            "Training iteration:  86%|████████▌ | 131/152 [00:35<00:05,  3.63it/s]\u001b[A"
          ]
        },
        {
          "output_type": "stream",
          "name": "stdout",
          "text": [
            "Invalid label found, adjusting: tensor([0, 0, 1, 1, 1, 1, 0, 1, 0, 1, 1, 0, 2, 2, 2, 2], device='cuda:0')\n"
          ]
        },
        {
          "output_type": "stream",
          "name": "stderr",
          "text": [
            "\n",
            "Training iteration:  87%|████████▋ | 132/152 [00:35<00:05,  3.66it/s]\u001b[A"
          ]
        },
        {
          "output_type": "stream",
          "name": "stdout",
          "text": [
            "Invalid label found, adjusting: tensor([1, 0, 1, 0, 1, 2, 2, 0, 2, 2, 2, 1, 1, 2, 0, 1], device='cuda:0')\n"
          ]
        },
        {
          "output_type": "stream",
          "name": "stderr",
          "text": [
            "\n",
            "Training iteration:  88%|████████▊ | 133/152 [00:35<00:05,  3.67it/s]\u001b[A"
          ]
        },
        {
          "output_type": "stream",
          "name": "stdout",
          "text": [
            "Invalid label found, adjusting: tensor([0, 0, 0, 0, 0, 0, 0, 2, 1, 2, 2, 1, 0, 0, 1, 2], device='cuda:0')\n"
          ]
        },
        {
          "output_type": "stream",
          "name": "stderr",
          "text": [
            "\n",
            "Training iteration:  88%|████████▊ | 134/152 [00:35<00:04,  3.66it/s]\u001b[A"
          ]
        },
        {
          "output_type": "stream",
          "name": "stdout",
          "text": [
            "Invalid label found, adjusting: tensor([2, 1, 2, 2, 1, 0, 0, 2, 0, 1, 1, 1, 2, 0, 0, 0], device='cuda:0')\n"
          ]
        },
        {
          "output_type": "stream",
          "name": "stderr",
          "text": [
            "\n",
            "Training iteration:  89%|████████▉ | 135/152 [00:36<00:04,  3.66it/s]\u001b[A"
          ]
        },
        {
          "output_type": "stream",
          "name": "stdout",
          "text": [
            "Invalid label found, adjusting: tensor([0, 1, 1, 1, 2, 0, 1, 2, 2, 2, 0, 2, 0, 0, 0, 0], device='cuda:0')\n"
          ]
        },
        {
          "output_type": "stream",
          "name": "stderr",
          "text": [
            "\n",
            "Training iteration:  89%|████████▉ | 136/152 [00:36<00:04,  3.67it/s]\u001b[A"
          ]
        },
        {
          "output_type": "stream",
          "name": "stdout",
          "text": [
            "Invalid label found, adjusting: tensor([2, 0, 0, 0, 1, 0, 2, 2, 2, 2, 1, 1, 2, 0, 0, 0], device='cuda:0')\n"
          ]
        },
        {
          "output_type": "stream",
          "name": "stderr",
          "text": [
            "\n",
            "Training iteration:  90%|█████████ | 137/152 [00:36<00:04,  3.69it/s]\u001b[A"
          ]
        },
        {
          "output_type": "stream",
          "name": "stdout",
          "text": [
            "Invalid label found, adjusting: tensor([1, 1, 2, 1, 1, 0, 0, 2, 2, 1, 2, 0, 2, 0, 1, 0], device='cuda:0')\n"
          ]
        },
        {
          "output_type": "stream",
          "name": "stderr",
          "text": [
            "\n",
            "Training iteration:  91%|█████████ | 138/152 [00:36<00:03,  3.68it/s]\u001b[A"
          ]
        },
        {
          "output_type": "stream",
          "name": "stdout",
          "text": [
            "Invalid label found, adjusting: tensor([0, 2, 0, 2, 2, 0, 2, 2, 0, 0, 2, 0, 1, 0, 1, 2], device='cuda:0')\n"
          ]
        },
        {
          "output_type": "stream",
          "name": "stderr",
          "text": [
            "\n",
            "Training iteration:  91%|█████████▏| 139/152 [00:37<00:03,  3.68it/s]\u001b[A"
          ]
        },
        {
          "output_type": "stream",
          "name": "stdout",
          "text": [
            "Invalid label found, adjusting: tensor([1, 1, 1, 0, 2, 0, 1, 1, 1, 1, 1, 2, 1, 2, 0, 2], device='cuda:0')\n"
          ]
        },
        {
          "output_type": "stream",
          "name": "stderr",
          "text": [
            "\n",
            "Training iteration:  92%|█████████▏| 140/152 [00:37<00:03,  3.70it/s]\u001b[A"
          ]
        },
        {
          "output_type": "stream",
          "name": "stdout",
          "text": [
            "Invalid label found, adjusting: tensor([0, 2, 2, 0, 2, 1, 1, 0, 1, 1, 2, 0, 1, 2, 0, 1], device='cuda:0')\n"
          ]
        },
        {
          "output_type": "stream",
          "name": "stderr",
          "text": [
            "\n",
            "Training iteration:  93%|█████████▎| 141/152 [00:37<00:02,  3.70it/s]\u001b[A"
          ]
        },
        {
          "output_type": "stream",
          "name": "stdout",
          "text": [
            "Invalid label found, adjusting: tensor([1, 0, 2, 2, 2, 1, 2, 0, 1, 0, 1, 0, 1, 2, 0, 0], device='cuda:0')\n"
          ]
        },
        {
          "output_type": "stream",
          "name": "stderr",
          "text": [
            "\n",
            "Training iteration:  93%|█████████▎| 142/152 [00:38<00:02,  3.68it/s]\u001b[A"
          ]
        },
        {
          "output_type": "stream",
          "name": "stdout",
          "text": [
            "Invalid label found, adjusting: tensor([1, 0, 0, 1, 1, 1, 0, 2, 0, 0, 0, 2, 0, 1, 1, 1], device='cuda:0')\n"
          ]
        },
        {
          "output_type": "stream",
          "name": "stderr",
          "text": [
            "\n",
            "Training iteration:  94%|█████████▍| 143/152 [00:38<00:02,  3.68it/s]\u001b[A"
          ]
        },
        {
          "output_type": "stream",
          "name": "stdout",
          "text": [
            "Invalid label found, adjusting: tensor([1, 0, 0, 0, 0, 2, 0, 1, 2, 1, 2, 2, 2, 2, 2, 0], device='cuda:0')\n"
          ]
        },
        {
          "output_type": "stream",
          "name": "stderr",
          "text": [
            "\n",
            "Training iteration:  95%|█████████▍| 144/152 [00:38<00:02,  3.69it/s]\u001b[A"
          ]
        },
        {
          "output_type": "stream",
          "name": "stdout",
          "text": [
            "Invalid label found, adjusting: tensor([1, 2, 2, 0, 1, 0, 0, 1, 2, 0, 2, 2, 1, 2, 2, 2], device='cuda:0')\n"
          ]
        },
        {
          "output_type": "stream",
          "name": "stderr",
          "text": [
            "\n",
            "Training iteration:  95%|█████████▌| 145/152 [00:38<00:01,  3.70it/s]\u001b[A"
          ]
        },
        {
          "output_type": "stream",
          "name": "stdout",
          "text": [
            "Invalid label found, adjusting: tensor([1, 1, 0, 2, 1, 2, 1, 2, 2, 2, 1, 0, 0, 1, 0, 0], device='cuda:0')\n"
          ]
        },
        {
          "output_type": "stream",
          "name": "stderr",
          "text": [
            "\n",
            "Training iteration:  96%|█████████▌| 146/152 [00:39<00:01,  3.71it/s]\u001b[A"
          ]
        },
        {
          "output_type": "stream",
          "name": "stdout",
          "text": [
            "Invalid label found, adjusting: tensor([0, 2, 0, 0, 1, 0, 0, 0, 2, 1, 2, 2, 2, 1, 2, 0], device='cuda:0')\n"
          ]
        },
        {
          "output_type": "stream",
          "name": "stderr",
          "text": [
            "\n",
            "Training iteration:  97%|█████████▋| 147/152 [00:39<00:01,  3.70it/s]\u001b[A"
          ]
        },
        {
          "output_type": "stream",
          "name": "stdout",
          "text": [
            "Invalid label found, adjusting: tensor([0, 1, 0, 2, 2, 0, 1, 0, 1, 1, 1, 1, 0, 0, 1, 2], device='cuda:0')\n"
          ]
        },
        {
          "output_type": "stream",
          "name": "stderr",
          "text": [
            "\n",
            "Training iteration:  97%|█████████▋| 148/152 [00:39<00:01,  3.71it/s]\u001b[A"
          ]
        },
        {
          "output_type": "stream",
          "name": "stdout",
          "text": [
            "Invalid label found, adjusting: tensor([2, 0, 1, 2, 2, 2, 2, 0, 2, 1, 1, 0, 0, 1, 2, 0], device='cuda:0')\n"
          ]
        },
        {
          "output_type": "stream",
          "name": "stderr",
          "text": [
            "\n",
            "Training iteration:  98%|█████████▊| 149/152 [00:39<00:00,  3.72it/s]\u001b[A"
          ]
        },
        {
          "output_type": "stream",
          "name": "stdout",
          "text": [
            "Invalid label found, adjusting: tensor([2, 0, 2, 2, 0, 0, 2, 2, 2, 0, 2, 0, 1, 0, 1, 1], device='cuda:0')\n"
          ]
        },
        {
          "output_type": "stream",
          "name": "stderr",
          "text": [
            "\n",
            "Training iteration:  99%|█████████▊| 150/152 [00:40<00:00,  3.73it/s]\u001b[A"
          ]
        },
        {
          "output_type": "stream",
          "name": "stdout",
          "text": [
            "Invalid label found, adjusting: tensor([1, 0, 2, 2, 0, 2, 0, 2, 2, 1, 0, 1, 1, 2, 2, 1], device='cuda:0')\n"
          ]
        },
        {
          "output_type": "stream",
          "name": "stderr",
          "text": [
            "\n",
            "Training iteration:  99%|█████████▉| 151/152 [00:40<00:00,  3.73it/s]\u001b[A"
          ]
        },
        {
          "output_type": "stream",
          "name": "stdout",
          "text": [
            "Invalid label found, adjusting: tensor([0, 0, 2, 2, 2, 0, 0, 2, 1, 0, 2, 1, 1, 1], device='cuda:0')\n"
          ]
        },
        {
          "output_type": "stream",
          "name": "stderr",
          "text": [
            "\n",
            "Training iteration: 100%|██████████| 152/152 [00:40<00:00,  3.73it/s]\n",
            "\n",
            "Evaluating:   0%|          | 0/17 [00:00<?, ?it/s]\u001b[A\n",
            "Evaluating:   6%|▌         | 1/17 [00:00<00:01,  9.37it/s]\u001b[A"
          ]
        },
        {
          "output_type": "stream",
          "name": "stdout",
          "text": [
            "Invalid label found in evaluation, adjusting: tensor([1, 0, 1, 0, 0, 1, 0, 2, 2, 1, 1, 1, 0, 2, 1, 2], device='cuda:0')\n",
            "Invalid label found in evaluation, adjusting: tensor([1, 1, 1, 0, 2, 0, 2, 2, 0, 2, 0, 0, 1, 2, 1, 1], device='cuda:0')\n",
            "Invalid label found in evaluation, adjusting: tensor([2, 0, 1, 0, 0, 0, 1, 1, 1, 1, 2, 1, 0, 1, 0, 0], device='cuda:0')\n"
          ]
        },
        {
          "output_type": "stream",
          "name": "stderr",
          "text": [
            "\n",
            "Evaluating:  18%|█▊        | 3/17 [00:00<00:01, 10.81it/s]\u001b[A\n",
            "Evaluating:  29%|██▉       | 5/17 [00:00<00:01, 10.81it/s]\u001b[A"
          ]
        },
        {
          "output_type": "stream",
          "name": "stdout",
          "text": [
            "Invalid label found in evaluation, adjusting: tensor([1, 1, 2, 1, 2, 0, 1, 2, 1, 1, 2, 1, 0, 0, 1, 2], device='cuda:0')\n",
            "Invalid label found in evaluation, adjusting: tensor([1, 2, 2, 0, 2, 2, 0, 2, 0, 0, 1, 0, 1, 0, 1, 2], device='cuda:0')\n",
            "Invalid label found in evaluation, adjusting: tensor([1, 2, 2, 2, 1, 0, 1, 0, 2, 2, 2, 1, 0, 0, 0, 0], device='cuda:0')\n"
          ]
        },
        {
          "output_type": "stream",
          "name": "stderr",
          "text": [
            "\n",
            "Evaluating:  41%|████      | 7/17 [00:00<00:00, 10.70it/s]\u001b[A"
          ]
        },
        {
          "output_type": "stream",
          "name": "stdout",
          "text": [
            "Invalid label found in evaluation, adjusting: tensor([1, 1, 2, 2, 1, 2, 2, 1, 0, 0, 0, 0, 1, 0, 0, 0], device='cuda:0')\n",
            "Invalid label found in evaluation, adjusting: tensor([2, 0, 1, 1, 0, 2, 0, 1, 1, 0, 1, 2, 1, 1, 1, 0], device='cuda:0')\n",
            "Invalid label found in evaluation, adjusting: tensor([2, 0, 1, 2, 0, 1, 1, 1, 1, 0, 2, 2, 1, 0, 2, 2], device='cuda:0')\n"
          ]
        },
        {
          "output_type": "stream",
          "name": "stderr",
          "text": [
            "\n",
            "Evaluating:  53%|█████▎    | 9/17 [00:00<00:00, 10.74it/s]\u001b[A\n",
            "Evaluating:  65%|██████▍   | 11/17 [00:01<00:00, 10.62it/s]\u001b[A"
          ]
        },
        {
          "output_type": "stream",
          "name": "stdout",
          "text": [
            "Invalid label found in evaluation, adjusting: tensor([1, 0, 0, 1, 2, 1, 1, 0, 1, 1, 2, 0, 2, 1, 1, 0], device='cuda:0')\n",
            "Invalid label found in evaluation, adjusting: tensor([1, 0, 1, 2, 1, 1, 2, 0, 0, 0, 1, 1, 1, 1, 1, 1], device='cuda:0')\n",
            "Invalid label found in evaluation, adjusting: tensor([2, 2, 1, 0, 1, 0, 2, 2, 2, 0, 0, 0, 1, 1, 1, 0], device='cuda:0')\n"
          ]
        },
        {
          "output_type": "stream",
          "name": "stderr",
          "text": [
            "\n",
            "Evaluating:  76%|███████▋  | 13/17 [00:01<00:00, 10.72it/s]\u001b[A"
          ]
        },
        {
          "output_type": "stream",
          "name": "stdout",
          "text": [
            "Invalid label found in evaluation, adjusting: tensor([2, 1, 0, 0, 2, 2, 2, 1, 2, 0, 2, 1, 1, 1, 1, 2], device='cuda:0')\n",
            "Invalid label found in evaluation, adjusting: tensor([1, 0, 1, 0, 1, 0, 2, 2, 2, 2, 0, 2, 2, 1, 1, 2], device='cuda:0')\n",
            "Invalid label found in evaluation, adjusting: tensor([0, 2, 2, 1, 1, 0, 0, 1, 2, 1, 1, 2, 1, 2, 2, 2], device='cuda:0')\n"
          ]
        },
        {
          "output_type": "stream",
          "name": "stderr",
          "text": [
            "\n",
            "Evaluating:  88%|████████▊ | 15/17 [00:01<00:00, 10.77it/s]\u001b[A\n",
            "Evaluating: 100%|██████████| 17/17 [00:01<00:00, 10.74it/s]\n"
          ]
        },
        {
          "output_type": "stream",
          "name": "stdout",
          "text": [
            "Invalid label found in evaluation, adjusting: tensor([2, 1, 0, 1, 1, 2, 0, 2, 0, 0, 2, 2, 1, 2, 0, 2], device='cuda:0')\n",
            "Invalid label found in evaluation, adjusting: tensor([1, 0, 2, 1, 1, 1, 1, 1, 1, 0, 1, 0, 2, 0], device='cuda:0')\n",
            "Loss history: []\n",
            "Dev loss: 0.8622320574872634\n"
          ]
        },
        {
          "output_type": "stream",
          "name": "stderr",
          "text": [
            "Epoch:   5%|▌         | 1/20 [00:42<13:36, 42.97s/it]\n",
            "Training iteration:   0%|          | 0/152 [00:00<?, ?it/s]\u001b[A"
          ]
        },
        {
          "output_type": "stream",
          "name": "stdout",
          "text": [
            "Invalid label found, adjusting: tensor([1, 2, 0, 0, 2, 2, 1, 0, 1, 1, 1, 0, 2, 0, 2, 0], device='cuda:0')\n"
          ]
        },
        {
          "output_type": "stream",
          "name": "stderr",
          "text": [
            "\n",
            "Training iteration:   1%|          | 1/152 [00:00<00:37,  4.05it/s]\u001b[A"
          ]
        },
        {
          "output_type": "stream",
          "name": "stdout",
          "text": [
            "Invalid label found, adjusting: tensor([2, 0, 0, 2, 2, 0, 0, 0, 2, 0, 0, 2, 0, 2, 0, 1], device='cuda:0')\n"
          ]
        },
        {
          "output_type": "stream",
          "name": "stderr",
          "text": [
            "\n",
            "Training iteration:   1%|▏         | 2/152 [00:00<00:37,  3.96it/s]\u001b[A"
          ]
        },
        {
          "output_type": "stream",
          "name": "stdout",
          "text": [
            "Invalid label found, adjusting: tensor([2, 1, 0, 0, 2, 2, 0, 0, 0, 2, 2, 1, 0, 2, 2, 2], device='cuda:0')\n"
          ]
        },
        {
          "output_type": "stream",
          "name": "stderr",
          "text": [
            "\n",
            "Training iteration:   2%|▏         | 3/152 [00:00<00:37,  3.94it/s]\u001b[A"
          ]
        },
        {
          "output_type": "stream",
          "name": "stdout",
          "text": [
            "Invalid label found, adjusting: tensor([2, 1, 0, 0, 2, 0, 2, 0, 1, 1, 0, 1, 0, 2, 0, 2], device='cuda:0')\n"
          ]
        },
        {
          "output_type": "stream",
          "name": "stderr",
          "text": [
            "\n",
            "Training iteration:   3%|▎         | 4/152 [00:01<00:39,  3.72it/s]\u001b[A"
          ]
        },
        {
          "output_type": "stream",
          "name": "stdout",
          "text": [
            "Invalid label found, adjusting: tensor([0, 2, 2, 2, 0, 1, 1, 1, 0, 0, 1, 0, 1, 1, 2, 1], device='cuda:0')\n"
          ]
        },
        {
          "output_type": "stream",
          "name": "stderr",
          "text": [
            "\n",
            "Training iteration:   3%|▎         | 5/152 [00:01<00:38,  3.81it/s]\u001b[A"
          ]
        },
        {
          "output_type": "stream",
          "name": "stdout",
          "text": [
            "Invalid label found, adjusting: tensor([0, 1, 0, 2, 2, 2, 1, 2, 2, 2, 0, 1, 2, 2, 2, 0], device='cuda:0')\n"
          ]
        },
        {
          "output_type": "stream",
          "name": "stderr",
          "text": [
            "\n",
            "Training iteration:   4%|▍         | 6/152 [00:01<00:37,  3.86it/s]\u001b[A"
          ]
        },
        {
          "output_type": "stream",
          "name": "stdout",
          "text": [
            "Invalid label found, adjusting: tensor([2, 0, 2, 1, 1, 0, 2, 1, 1, 0, 0, 0, 2, 2, 1, 0], device='cuda:0')\n"
          ]
        },
        {
          "output_type": "stream",
          "name": "stderr",
          "text": [
            "\n",
            "Training iteration:   5%|▍         | 7/152 [00:01<00:37,  3.84it/s]\u001b[A"
          ]
        },
        {
          "output_type": "stream",
          "name": "stdout",
          "text": [
            "Invalid label found, adjusting: tensor([1, 0, 1, 0, 1, 1, 1, 1, 0, 1, 0, 0, 0, 2, 1, 0], device='cuda:0')\n"
          ]
        },
        {
          "output_type": "stream",
          "name": "stderr",
          "text": [
            "\n",
            "Training iteration:   5%|▌         | 8/152 [00:02<00:38,  3.78it/s]\u001b[A"
          ]
        },
        {
          "output_type": "stream",
          "name": "stdout",
          "text": [
            "Invalid label found, adjusting: tensor([1, 2, 0, 0, 2, 2, 1, 0, 2, 0, 2, 2, 2, 1, 1, 1], device='cuda:0')\n"
          ]
        },
        {
          "output_type": "stream",
          "name": "stderr",
          "text": [
            "\n",
            "Training iteration:   6%|▌         | 9/152 [00:02<00:37,  3.81it/s]\u001b[A"
          ]
        },
        {
          "output_type": "stream",
          "name": "stdout",
          "text": [
            "Invalid label found, adjusting: tensor([2, 2, 1, 0, 2, 2, 2, 0, 1, 1, 1, 2, 0, 1, 0, 0], device='cuda:0')\n"
          ]
        },
        {
          "output_type": "stream",
          "name": "stderr",
          "text": [
            "\n",
            "Training iteration:   7%|▋         | 10/152 [00:02<00:36,  3.85it/s]\u001b[A"
          ]
        },
        {
          "output_type": "stream",
          "name": "stdout",
          "text": [
            "Invalid label found, adjusting: tensor([0, 0, 1, 0, 2, 0, 2, 1, 1, 2, 1, 0, 2, 1, 0, 1], device='cuda:0')\n"
          ]
        },
        {
          "output_type": "stream",
          "name": "stderr",
          "text": [
            "\n",
            "Training iteration:   7%|▋         | 11/152 [00:02<00:36,  3.83it/s]\u001b[A"
          ]
        },
        {
          "output_type": "stream",
          "name": "stdout",
          "text": [
            "Invalid label found, adjusting: tensor([1, 2, 1, 1, 1, 2, 0, 1, 0, 0, 0, 1, 1, 2, 2, 2], device='cuda:0')\n"
          ]
        },
        {
          "output_type": "stream",
          "name": "stderr",
          "text": [
            "\n",
            "Training iteration:   8%|▊         | 12/152 [00:03<00:36,  3.82it/s]\u001b[A"
          ]
        },
        {
          "output_type": "stream",
          "name": "stdout",
          "text": [
            "Invalid label found, adjusting: tensor([0, 0, 0, 0, 2, 2, 2, 0, 1, 1, 1, 0, 1, 0, 2, 2], device='cuda:0')\n"
          ]
        },
        {
          "output_type": "stream",
          "name": "stderr",
          "text": [
            "\n",
            "Training iteration:   9%|▊         | 13/152 [00:03<00:36,  3.84it/s]\u001b[A"
          ]
        },
        {
          "output_type": "stream",
          "name": "stdout",
          "text": [
            "Invalid label found, adjusting: tensor([2, 1, 2, 2, 0, 0, 0, 2, 2, 2, 1, 0, 0, 2, 0, 2], device='cuda:0')\n"
          ]
        },
        {
          "output_type": "stream",
          "name": "stderr",
          "text": [
            "\n",
            "Training iteration:   9%|▉         | 14/152 [00:03<00:35,  3.84it/s]\u001b[A"
          ]
        },
        {
          "output_type": "stream",
          "name": "stdout",
          "text": [
            "Invalid label found, adjusting: tensor([0, 2, 2, 1, 1, 2, 1, 0, 0, 2, 0, 1, 2, 2, 0, 2], device='cuda:0')\n"
          ]
        },
        {
          "output_type": "stream",
          "name": "stderr",
          "text": [
            "\n",
            "Training iteration:  10%|▉         | 15/152 [00:03<00:36,  3.79it/s]\u001b[A"
          ]
        },
        {
          "output_type": "stream",
          "name": "stdout",
          "text": [
            "Invalid label found, adjusting: tensor([1, 2, 1, 0, 0, 1, 2, 2, 2, 2, 2, 1, 1, 1, 1, 0], device='cuda:0')\n"
          ]
        },
        {
          "output_type": "stream",
          "name": "stderr",
          "text": [
            "\n",
            "Training iteration:  11%|█         | 16/152 [00:04<00:35,  3.80it/s]\u001b[A"
          ]
        },
        {
          "output_type": "stream",
          "name": "stdout",
          "text": [
            "Invalid label found, adjusting: tensor([1, 1, 1, 1, 0, 1, 0, 2, 0, 1, 1, 2, 0, 2, 2, 0], device='cuda:0')\n"
          ]
        },
        {
          "output_type": "stream",
          "name": "stderr",
          "text": [
            "\n",
            "Training iteration:  11%|█         | 17/152 [00:04<00:35,  3.84it/s]\u001b[A"
          ]
        },
        {
          "output_type": "stream",
          "name": "stdout",
          "text": [
            "Invalid label found, adjusting: tensor([2, 2, 2, 1, 1, 2, 2, 0, 0, 2, 1, 1, 1, 0, 1, 0], device='cuda:0')\n"
          ]
        },
        {
          "output_type": "stream",
          "name": "stderr",
          "text": [
            "\n",
            "Training iteration:  12%|█▏        | 18/152 [00:04<00:34,  3.86it/s]\u001b[A"
          ]
        },
        {
          "output_type": "stream",
          "name": "stdout",
          "text": [
            "Invalid label found, adjusting: tensor([0, 1, 0, 1, 2, 2, 2, 1, 0, 0, 2, 1, 2, 2, 0, 1], device='cuda:0')\n"
          ]
        },
        {
          "output_type": "stream",
          "name": "stderr",
          "text": [
            "\n",
            "Training iteration:  12%|█▎        | 19/152 [00:04<00:34,  3.82it/s]\u001b[A"
          ]
        },
        {
          "output_type": "stream",
          "name": "stdout",
          "text": [
            "Invalid label found, adjusting: tensor([1, 0, 2, 2, 1, 2, 1, 0, 1, 0, 2, 1, 0, 2, 1, 0], device='cuda:0')\n"
          ]
        },
        {
          "output_type": "stream",
          "name": "stderr",
          "text": [
            "\n",
            "Training iteration:  13%|█▎        | 20/152 [00:05<00:34,  3.83it/s]\u001b[A"
          ]
        },
        {
          "output_type": "stream",
          "name": "stdout",
          "text": [
            "Invalid label found, adjusting: tensor([1, 0, 2, 2, 1, 0, 2, 0, 1, 1, 2, 2, 1, 1, 1, 2], device='cuda:0')\n"
          ]
        },
        {
          "output_type": "stream",
          "name": "stderr",
          "text": [
            "\n",
            "Training iteration:  14%|█▍        | 21/152 [00:05<00:33,  3.87it/s]\u001b[A"
          ]
        },
        {
          "output_type": "stream",
          "name": "stdout",
          "text": [
            "Invalid label found, adjusting: tensor([1, 1, 0, 2, 0, 0, 1, 1, 2, 2, 2, 1, 0, 2, 0, 2], device='cuda:0')\n"
          ]
        },
        {
          "output_type": "stream",
          "name": "stderr",
          "text": [
            "\n",
            "Training iteration:  14%|█▍        | 22/152 [00:05<00:33,  3.87it/s]\u001b[A"
          ]
        },
        {
          "output_type": "stream",
          "name": "stdout",
          "text": [
            "Invalid label found, adjusting: tensor([1, 2, 1, 2, 2, 0, 1, 0, 1, 0, 1, 2, 0, 2, 2, 1], device='cuda:0')\n"
          ]
        },
        {
          "output_type": "stream",
          "name": "stderr",
          "text": [
            "\n",
            "Training iteration:  15%|█▌        | 23/152 [00:05<00:33,  3.85it/s]\u001b[A"
          ]
        },
        {
          "output_type": "stream",
          "name": "stdout",
          "text": [
            "Invalid label found, adjusting: tensor([1, 2, 1, 2, 2, 2, 2, 1, 2, 2, 1, 0, 2, 0, 0, 0], device='cuda:0')\n"
          ]
        },
        {
          "output_type": "stream",
          "name": "stderr",
          "text": [
            "\n",
            "Training iteration:  16%|█▌        | 24/152 [00:06<00:33,  3.87it/s]\u001b[A"
          ]
        },
        {
          "output_type": "stream",
          "name": "stdout",
          "text": [
            "Invalid label found, adjusting: tensor([0, 2, 2, 1, 0, 0, 1, 2, 2, 0, 1, 0, 0, 0, 1, 2], device='cuda:0')\n"
          ]
        },
        {
          "output_type": "stream",
          "name": "stderr",
          "text": [
            "\n",
            "Training iteration:  16%|█▋        | 25/152 [00:06<00:32,  3.90it/s]\u001b[A"
          ]
        },
        {
          "output_type": "stream",
          "name": "stdout",
          "text": [
            "Invalid label found, adjusting: tensor([1, 1, 1, 0, 1, 0, 1, 2, 0, 0, 2, 2, 0, 0, 1, 2], device='cuda:0')\n"
          ]
        },
        {
          "output_type": "stream",
          "name": "stderr",
          "text": [
            "\n",
            "Training iteration:  17%|█▋        | 26/152 [00:06<00:32,  3.90it/s]\u001b[A"
          ]
        },
        {
          "output_type": "stream",
          "name": "stdout",
          "text": [
            "Invalid label found, adjusting: tensor([0, 1, 0, 1, 0, 1, 2, 0, 1, 2, 2, 0, 2, 1, 2, 2], device='cuda:0')\n"
          ]
        },
        {
          "output_type": "stream",
          "name": "stderr",
          "text": [
            "\n",
            "Training iteration:  18%|█▊        | 27/152 [00:07<00:32,  3.88it/s]\u001b[A"
          ]
        },
        {
          "output_type": "stream",
          "name": "stdout",
          "text": [
            "Invalid label found, adjusting: tensor([1, 1, 2, 0, 2, 2, 1, 2, 1, 1, 0, 1, 2, 2, 0, 1], device='cuda:0')\n"
          ]
        },
        {
          "output_type": "stream",
          "name": "stderr",
          "text": [
            "\n",
            "Training iteration:  18%|█▊        | 28/152 [00:07<00:31,  3.90it/s]\u001b[A"
          ]
        },
        {
          "output_type": "stream",
          "name": "stdout",
          "text": [
            "Invalid label found, adjusting: tensor([2, 1, 2, 0, 1, 0, 2, 2, 0, 1, 2, 1, 0, 1, 1, 2], device='cuda:0')\n"
          ]
        },
        {
          "output_type": "stream",
          "name": "stderr",
          "text": [
            "\n",
            "Training iteration:  19%|█▉        | 29/152 [00:07<00:31,  3.90it/s]\u001b[A"
          ]
        },
        {
          "output_type": "stream",
          "name": "stdout",
          "text": [
            "Invalid label found, adjusting: tensor([2, 2, 1, 1, 2, 0, 2, 2, 1, 0, 2, 2, 2, 0, 0, 1], device='cuda:0')\n"
          ]
        },
        {
          "output_type": "stream",
          "name": "stderr",
          "text": [
            "\n",
            "Training iteration:  20%|█▉        | 30/152 [00:07<00:31,  3.91it/s]\u001b[A"
          ]
        },
        {
          "output_type": "stream",
          "name": "stdout",
          "text": [
            "Invalid label found, adjusting: tensor([0, 2, 0, 2, 2, 1, 1, 2, 0, 1, 2, 1, 0, 0, 2, 0], device='cuda:0')\n"
          ]
        },
        {
          "output_type": "stream",
          "name": "stderr",
          "text": [
            "\n",
            "Training iteration:  20%|██        | 31/152 [00:08<00:31,  3.87it/s]\u001b[A"
          ]
        },
        {
          "output_type": "stream",
          "name": "stdout",
          "text": [
            "Invalid label found, adjusting: tensor([2, 2, 2, 2, 0, 1, 1, 0, 1, 0, 1, 0, 1, 0, 2, 1], device='cuda:0')\n"
          ]
        },
        {
          "output_type": "stream",
          "name": "stderr",
          "text": [
            "\n",
            "Training iteration:  21%|██        | 32/152 [00:08<00:30,  3.88it/s]\u001b[A"
          ]
        },
        {
          "output_type": "stream",
          "name": "stdout",
          "text": [
            "Invalid label found, adjusting: tensor([2, 2, 0, 0, 1, 1, 1, 2, 0, 0, 2, 1, 1, 1, 0, 2], device='cuda:0')\n"
          ]
        },
        {
          "output_type": "stream",
          "name": "stderr",
          "text": [
            "\n",
            "Training iteration:  22%|██▏       | 33/152 [00:08<00:30,  3.88it/s]\u001b[A"
          ]
        },
        {
          "output_type": "stream",
          "name": "stdout",
          "text": [
            "Invalid label found, adjusting: tensor([2, 1, 1, 0, 0, 2, 1, 2, 1, 1, 1, 2, 2, 1, 0, 1], device='cuda:0')\n"
          ]
        },
        {
          "output_type": "stream",
          "name": "stderr",
          "text": [
            "\n",
            "Training iteration:  22%|██▏       | 34/152 [00:08<00:30,  3.89it/s]\u001b[A"
          ]
        },
        {
          "output_type": "stream",
          "name": "stdout",
          "text": [
            "Invalid label found, adjusting: tensor([0, 1, 2, 0, 0, 2, 1, 2, 2, 2, 0, 0, 1, 0, 1, 0], device='cuda:0')\n"
          ]
        },
        {
          "output_type": "stream",
          "name": "stderr",
          "text": [
            "\n",
            "Training iteration:  23%|██▎       | 35/152 [00:09<00:30,  3.87it/s]\u001b[A"
          ]
        },
        {
          "output_type": "stream",
          "name": "stdout",
          "text": [
            "Invalid label found, adjusting: tensor([2, 0, 2, 2, 0, 1, 0, 2, 0, 1, 1, 0, 0, 0, 1, 2], device='cuda:0')\n"
          ]
        },
        {
          "output_type": "stream",
          "name": "stderr",
          "text": [
            "\n",
            "Training iteration:  24%|██▎       | 36/152 [00:09<00:29,  3.89it/s]\u001b[A"
          ]
        },
        {
          "output_type": "stream",
          "name": "stdout",
          "text": [
            "Invalid label found, adjusting: tensor([2, 1, 2, 0, 1, 1, 1, 2, 2, 1, 1, 0, 0, 1, 1, 2], device='cuda:0')\n"
          ]
        },
        {
          "output_type": "stream",
          "name": "stderr",
          "text": [
            "\n",
            "Training iteration:  24%|██▍       | 37/152 [00:09<00:29,  3.90it/s]\u001b[A"
          ]
        },
        {
          "output_type": "stream",
          "name": "stdout",
          "text": [
            "Invalid label found, adjusting: tensor([2, 2, 1, 2, 0, 0, 0, 2, 0, 1, 1, 2, 1, 1, 0, 1], device='cuda:0')\n"
          ]
        },
        {
          "output_type": "stream",
          "name": "stderr",
          "text": [
            "\n",
            "Training iteration:  25%|██▌       | 38/152 [00:09<00:29,  3.89it/s]\u001b[A"
          ]
        },
        {
          "output_type": "stream",
          "name": "stdout",
          "text": [
            "Invalid label found, adjusting: tensor([1, 2, 2, 0, 2, 2, 1, 0, 1, 0, 1, 0, 0, 1, 0, 0], device='cuda:0')\n"
          ]
        },
        {
          "output_type": "stream",
          "name": "stderr",
          "text": [
            "\n",
            "Training iteration:  26%|██▌       | 39/152 [00:10<00:29,  3.89it/s]\u001b[A"
          ]
        },
        {
          "output_type": "stream",
          "name": "stdout",
          "text": [
            "Invalid label found, adjusting: tensor([1, 1, 0, 0, 2, 2, 0, 1, 0, 0, 1, 1, 0, 2, 1, 0], device='cuda:0')\n"
          ]
        },
        {
          "output_type": "stream",
          "name": "stderr",
          "text": [
            "\n",
            "Training iteration:  26%|██▋       | 40/152 [00:10<00:28,  3.89it/s]\u001b[A"
          ]
        },
        {
          "output_type": "stream",
          "name": "stdout",
          "text": [
            "Invalid label found, adjusting: tensor([1, 1, 2, 2, 0, 0, 0, 1, 1, 0, 0, 0, 2, 2, 2, 2], device='cuda:0')\n"
          ]
        },
        {
          "output_type": "stream",
          "name": "stderr",
          "text": [
            "\n",
            "Training iteration:  27%|██▋       | 41/152 [00:10<00:28,  3.89it/s]\u001b[A"
          ]
        },
        {
          "output_type": "stream",
          "name": "stdout",
          "text": [
            "Invalid label found, adjusting: tensor([0, 0, 0, 0, 0, 2, 2, 1, 1, 1, 2, 0, 1, 1, 1, 1], device='cuda:0')\n"
          ]
        },
        {
          "output_type": "stream",
          "name": "stderr",
          "text": [
            "\n",
            "Training iteration:  28%|██▊       | 42/152 [00:10<00:28,  3.89it/s]\u001b[A"
          ]
        },
        {
          "output_type": "stream",
          "name": "stdout",
          "text": [
            "Invalid label found, adjusting: tensor([0, 1, 2, 1, 2, 2, 2, 1, 0, 0, 0, 0, 0, 2, 1, 2], device='cuda:0')\n"
          ]
        },
        {
          "output_type": "stream",
          "name": "stderr",
          "text": [
            "\n",
            "Training iteration:  28%|██▊       | 43/152 [00:11<00:28,  3.88it/s]\u001b[A"
          ]
        },
        {
          "output_type": "stream",
          "name": "stdout",
          "text": [
            "Invalid label found, adjusting: tensor([0, 2, 0, 2, 0, 1, 2, 0, 0, 0, 1, 0, 0, 0, 0, 2], device='cuda:0')\n"
          ]
        },
        {
          "output_type": "stream",
          "name": "stderr",
          "text": [
            "\n",
            "Training iteration:  29%|██▉       | 44/152 [00:11<00:27,  3.89it/s]\u001b[A"
          ]
        },
        {
          "output_type": "stream",
          "name": "stdout",
          "text": [
            "Invalid label found, adjusting: tensor([0, 2, 2, 2, 0, 1, 0, 1, 2, 0, 0, 2, 1, 1, 2, 2], device='cuda:0')\n"
          ]
        },
        {
          "output_type": "stream",
          "name": "stderr",
          "text": [
            "\n",
            "Training iteration:  30%|██▉       | 45/152 [00:11<00:27,  3.89it/s]\u001b[A"
          ]
        },
        {
          "output_type": "stream",
          "name": "stdout",
          "text": [
            "Invalid label found, adjusting: tensor([1, 2, 1, 0, 1, 0, 1, 0, 2, 2, 1, 2, 0, 2, 1, 2], device='cuda:0')\n"
          ]
        },
        {
          "output_type": "stream",
          "name": "stderr",
          "text": [
            "\n",
            "Training iteration:  30%|███       | 46/152 [00:11<00:27,  3.88it/s]\u001b[A"
          ]
        },
        {
          "output_type": "stream",
          "name": "stdout",
          "text": [
            "Invalid label found, adjusting: tensor([1, 1, 1, 1, 1, 0, 2, 0, 2, 0, 2, 2, 2, 1, 1, 0], device='cuda:0')\n"
          ]
        },
        {
          "output_type": "stream",
          "name": "stderr",
          "text": [
            "\n",
            "Training iteration:  31%|███       | 47/152 [00:12<00:27,  3.88it/s]\u001b[A"
          ]
        },
        {
          "output_type": "stream",
          "name": "stdout",
          "text": [
            "Invalid label found, adjusting: tensor([2, 0, 2, 0, 1, 0, 1, 0, 0, 1, 2, 0, 0, 1, 2, 0], device='cuda:0')\n"
          ]
        },
        {
          "output_type": "stream",
          "name": "stderr",
          "text": [
            "\n",
            "Training iteration:  32%|███▏      | 48/152 [00:12<00:26,  3.90it/s]\u001b[A"
          ]
        },
        {
          "output_type": "stream",
          "name": "stdout",
          "text": [
            "Invalid label found, adjusting: tensor([2, 0, 1, 0, 2, 0, 0, 2, 1, 0, 0, 1, 1, 1, 2, 2], device='cuda:0')\n"
          ]
        },
        {
          "output_type": "stream",
          "name": "stderr",
          "text": [
            "\n",
            "Training iteration:  32%|███▏      | 49/152 [00:12<00:26,  3.91it/s]\u001b[A"
          ]
        },
        {
          "output_type": "stream",
          "name": "stdout",
          "text": [
            "Invalid label found, adjusting: tensor([2, 0, 2, 0, 2, 1, 1, 0, 2, 0, 1, 2, 1, 2, 1, 2], device='cuda:0')\n"
          ]
        },
        {
          "output_type": "stream",
          "name": "stderr",
          "text": [
            "\n",
            "Training iteration:  33%|███▎      | 50/152 [00:12<00:26,  3.91it/s]\u001b[A"
          ]
        },
        {
          "output_type": "stream",
          "name": "stdout",
          "text": [
            "Invalid label found, adjusting: tensor([0, 0, 1, 1, 1, 2, 1, 1, 2, 0, 2, 2, 0, 1, 2, 0], device='cuda:0')\n"
          ]
        },
        {
          "output_type": "stream",
          "name": "stderr",
          "text": [
            "\n",
            "Training iteration:  34%|███▎      | 51/152 [00:13<00:25,  3.91it/s]\u001b[A"
          ]
        },
        {
          "output_type": "stream",
          "name": "stdout",
          "text": [
            "Invalid label found, adjusting: tensor([2, 2, 0, 1, 1, 1, 0, 2, 0, 2, 2, 1, 1, 2, 2, 2], device='cuda:0')\n"
          ]
        },
        {
          "output_type": "stream",
          "name": "stderr",
          "text": [
            "\n",
            "Training iteration:  34%|███▍      | 52/152 [00:13<00:25,  3.89it/s]\u001b[A"
          ]
        },
        {
          "output_type": "stream",
          "name": "stdout",
          "text": [
            "Invalid label found, adjusting: tensor([0, 0, 1, 1, 1, 0, 0, 2, 1, 0, 2, 0, 1, 2, 0, 2], device='cuda:0')\n"
          ]
        },
        {
          "output_type": "stream",
          "name": "stderr",
          "text": [
            "\n",
            "Training iteration:  35%|███▍      | 53/152 [00:13<00:25,  3.89it/s]\u001b[A"
          ]
        },
        {
          "output_type": "stream",
          "name": "stdout",
          "text": [
            "Invalid label found, adjusting: tensor([0, 1, 0, 2, 0, 0, 0, 0, 0, 2, 2, 0, 2, 0, 1, 0], device='cuda:0')\n"
          ]
        },
        {
          "output_type": "stream",
          "name": "stderr",
          "text": [
            "\n",
            "Training iteration:  36%|███▌      | 54/152 [00:13<00:25,  3.89it/s]\u001b[A"
          ]
        },
        {
          "output_type": "stream",
          "name": "stdout",
          "text": [
            "Invalid label found, adjusting: tensor([1, 2, 0, 0, 0, 0, 1, 2, 0, 2, 1, 0, 0, 2, 1, 1], device='cuda:0')\n"
          ]
        },
        {
          "output_type": "stream",
          "name": "stderr",
          "text": [
            "\n",
            "Training iteration:  36%|███▌      | 55/152 [00:14<00:24,  3.89it/s]\u001b[A"
          ]
        },
        {
          "output_type": "stream",
          "name": "stdout",
          "text": [
            "Invalid label found, adjusting: tensor([2, 2, 1, 2, 0, 1, 0, 0, 1, 0, 1, 1, 2, 1, 2, 1], device='cuda:0')\n"
          ]
        },
        {
          "output_type": "stream",
          "name": "stderr",
          "text": [
            "\n",
            "Training iteration:  37%|███▋      | 56/152 [00:14<00:24,  3.89it/s]\u001b[A"
          ]
        },
        {
          "output_type": "stream",
          "name": "stdout",
          "text": [
            "Invalid label found, adjusting: tensor([1, 2, 0, 1, 1, 1, 2, 0, 0, 0, 0, 1, 2, 0, 2, 0], device='cuda:0')\n"
          ]
        },
        {
          "output_type": "stream",
          "name": "stderr",
          "text": [
            "\n",
            "Training iteration:  38%|███▊      | 57/152 [00:14<00:24,  3.90it/s]\u001b[A"
          ]
        },
        {
          "output_type": "stream",
          "name": "stdout",
          "text": [
            "Invalid label found, adjusting: tensor([1, 2, 2, 1, 2, 2, 0, 2, 1, 1, 1, 1, 2, 1, 0, 0], device='cuda:0')\n"
          ]
        },
        {
          "output_type": "stream",
          "name": "stderr",
          "text": [
            "\n",
            "Training iteration:  38%|███▊      | 58/152 [00:14<00:24,  3.90it/s]\u001b[A"
          ]
        },
        {
          "output_type": "stream",
          "name": "stdout",
          "text": [
            "Invalid label found, adjusting: tensor([2, 1, 2, 2, 2, 2, 0, 0, 1, 1, 1, 0, 1, 0, 2, 0], device='cuda:0')\n"
          ]
        },
        {
          "output_type": "stream",
          "name": "stderr",
          "text": [
            "\n",
            "Training iteration:  39%|███▉      | 59/152 [00:15<00:23,  3.90it/s]\u001b[A"
          ]
        },
        {
          "output_type": "stream",
          "name": "stdout",
          "text": [
            "Invalid label found, adjusting: tensor([0, 2, 1, 2, 2, 1, 1, 0, 1, 2, 2, 2, 1, 0, 1, 0], device='cuda:0')\n"
          ]
        },
        {
          "output_type": "stream",
          "name": "stderr",
          "text": [
            "\n",
            "Training iteration:  39%|███▉      | 60/152 [00:15<00:23,  3.91it/s]\u001b[A"
          ]
        },
        {
          "output_type": "stream",
          "name": "stdout",
          "text": [
            "Invalid label found, adjusting: tensor([1, 0, 2, 2, 1, 1, 0, 0, 1, 1, 1, 1, 2, 1, 0, 1], device='cuda:0')\n"
          ]
        },
        {
          "output_type": "stream",
          "name": "stderr",
          "text": [
            "\n",
            "Training iteration:  40%|████      | 61/152 [00:15<00:23,  3.91it/s]\u001b[A"
          ]
        },
        {
          "output_type": "stream",
          "name": "stdout",
          "text": [
            "Invalid label found, adjusting: tensor([0, 2, 0, 2, 0, 0, 1, 0, 2, 0, 1, 0, 2, 1, 2, 1], device='cuda:0')\n"
          ]
        },
        {
          "output_type": "stream",
          "name": "stderr",
          "text": [
            "\n",
            "Training iteration:  41%|████      | 62/152 [00:16<00:23,  3.89it/s]\u001b[A"
          ]
        },
        {
          "output_type": "stream",
          "name": "stdout",
          "text": [
            "Invalid label found, adjusting: tensor([0, 0, 1, 1, 1, 0, 2, 0, 0, 2, 1, 0, 1, 2, 2, 2], device='cuda:0')\n"
          ]
        },
        {
          "output_type": "stream",
          "name": "stderr",
          "text": [
            "\n",
            "Training iteration:  41%|████▏     | 63/152 [00:16<00:22,  3.90it/s]\u001b[A"
          ]
        },
        {
          "output_type": "stream",
          "name": "stdout",
          "text": [
            "Invalid label found, adjusting: tensor([1, 2, 1, 1, 0, 1, 1, 0, 1, 0, 1, 0, 0, 0, 0, 1], device='cuda:0')\n"
          ]
        },
        {
          "output_type": "stream",
          "name": "stderr",
          "text": [
            "\n",
            "Training iteration:  42%|████▏     | 64/152 [00:16<00:22,  3.91it/s]\u001b[A"
          ]
        },
        {
          "output_type": "stream",
          "name": "stdout",
          "text": [
            "Invalid label found, adjusting: tensor([1, 0, 2, 1, 1, 2, 2, 2, 2, 1, 2, 1, 1, 2, 2, 2], device='cuda:0')\n"
          ]
        },
        {
          "output_type": "stream",
          "name": "stderr",
          "text": [
            "\n",
            "Training iteration:  43%|████▎     | 65/152 [00:16<00:22,  3.91it/s]\u001b[A"
          ]
        },
        {
          "output_type": "stream",
          "name": "stdout",
          "text": [
            "Invalid label found, adjusting: tensor([1, 1, 0, 2, 0, 0, 2, 2, 0, 1, 2, 0, 1, 0, 0, 2], device='cuda:0')\n"
          ]
        },
        {
          "output_type": "stream",
          "name": "stderr",
          "text": [
            "\n",
            "Training iteration:  43%|████▎     | 66/152 [00:17<00:22,  3.90it/s]\u001b[A"
          ]
        },
        {
          "output_type": "stream",
          "name": "stdout",
          "text": [
            "Invalid label found, adjusting: tensor([1, 0, 0, 0, 2, 1, 0, 1, 2, 2, 0, 2, 2, 0, 0, 0], device='cuda:0')\n"
          ]
        },
        {
          "output_type": "stream",
          "name": "stderr",
          "text": [
            "\n",
            "Training iteration:  44%|████▍     | 67/152 [00:17<00:21,  3.91it/s]\u001b[A"
          ]
        },
        {
          "output_type": "stream",
          "name": "stdout",
          "text": [
            "Invalid label found, adjusting: tensor([0, 1, 2, 0, 2, 0, 2, 1, 0, 2, 1, 2, 1, 1, 1, 0], device='cuda:0')\n"
          ]
        },
        {
          "output_type": "stream",
          "name": "stderr",
          "text": [
            "\n",
            "Training iteration:  45%|████▍     | 68/152 [00:17<00:21,  3.92it/s]\u001b[A"
          ]
        },
        {
          "output_type": "stream",
          "name": "stdout",
          "text": [
            "Invalid label found, adjusting: tensor([0, 0, 2, 2, 1, 0, 1, 2, 1, 0, 1, 1, 2, 1, 1, 2], device='cuda:0')\n"
          ]
        },
        {
          "output_type": "stream",
          "name": "stderr",
          "text": [
            "\n",
            "Training iteration:  45%|████▌     | 69/152 [00:17<00:21,  3.91it/s]\u001b[A"
          ]
        },
        {
          "output_type": "stream",
          "name": "stdout",
          "text": [
            "Invalid label found, adjusting: tensor([1, 1, 2, 0, 2, 1, 1, 1, 2, 1, 0, 2, 2, 1, 1, 1], device='cuda:0')\n"
          ]
        },
        {
          "output_type": "stream",
          "name": "stderr",
          "text": [
            "\n",
            "Training iteration:  46%|████▌     | 70/152 [00:18<00:20,  3.91it/s]\u001b[A"
          ]
        },
        {
          "output_type": "stream",
          "name": "stdout",
          "text": [
            "Invalid label found, adjusting: tensor([2, 0, 2, 2, 2, 0, 2, 1, 1, 0, 1, 2, 1, 0, 0, 0], device='cuda:0')\n"
          ]
        },
        {
          "output_type": "stream",
          "name": "stderr",
          "text": [
            "\n",
            "Training iteration:  47%|████▋     | 71/152 [00:18<00:20,  3.92it/s]\u001b[A"
          ]
        },
        {
          "output_type": "stream",
          "name": "stdout",
          "text": [
            "Invalid label found, adjusting: tensor([2, 0, 1, 0, 2, 0, 2, 0, 0, 0, 1, 1, 2, 0, 1, 1], device='cuda:0')\n"
          ]
        },
        {
          "output_type": "stream",
          "name": "stderr",
          "text": [
            "\n",
            "Training iteration:  47%|████▋     | 72/152 [00:18<00:20,  3.93it/s]\u001b[A"
          ]
        },
        {
          "output_type": "stream",
          "name": "stdout",
          "text": [
            "Invalid label found, adjusting: tensor([1, 2, 1, 0, 1, 1, 2, 0, 1, 2, 2, 2, 2, 0, 0, 1], device='cuda:0')\n"
          ]
        },
        {
          "output_type": "stream",
          "name": "stderr",
          "text": [
            "\n",
            "Training iteration:  48%|████▊     | 73/152 [00:18<00:20,  3.93it/s]\u001b[A"
          ]
        },
        {
          "output_type": "stream",
          "name": "stdout",
          "text": [
            "Invalid label found, adjusting: tensor([2, 2, 2, 1, 2, 1, 2, 2, 0, 0, 0, 2, 0, 1, 2, 0], device='cuda:0')\n"
          ]
        },
        {
          "output_type": "stream",
          "name": "stderr",
          "text": [
            "\n",
            "Training iteration:  49%|████▊     | 74/152 [00:19<00:19,  3.93it/s]\u001b[A"
          ]
        },
        {
          "output_type": "stream",
          "name": "stdout",
          "text": [
            "Invalid label found, adjusting: tensor([0, 0, 0, 0, 2, 1, 1, 1, 0, 0, 1, 0, 2, 1, 0, 0], device='cuda:0')\n"
          ]
        },
        {
          "output_type": "stream",
          "name": "stderr",
          "text": [
            "\n",
            "Training iteration:  49%|████▉     | 75/152 [00:19<00:19,  3.93it/s]\u001b[A"
          ]
        },
        {
          "output_type": "stream",
          "name": "stdout",
          "text": [
            "Invalid label found, adjusting: tensor([1, 2, 2, 1, 2, 1, 0, 0, 0, 0, 1, 0, 1, 1, 2, 1], device='cuda:0')\n"
          ]
        },
        {
          "output_type": "stream",
          "name": "stderr",
          "text": [
            "\n",
            "Training iteration:  50%|█████     | 76/152 [00:19<00:19,  3.94it/s]\u001b[A"
          ]
        },
        {
          "output_type": "stream",
          "name": "stdout",
          "text": [
            "Invalid label found, adjusting: tensor([2, 0, 0, 0, 1, 2, 0, 2, 1, 2, 0, 2, 1, 1, 1, 0], device='cuda:0')\n"
          ]
        },
        {
          "output_type": "stream",
          "name": "stderr",
          "text": [
            "\n",
            "Training iteration:  51%|█████     | 77/152 [00:19<00:19,  3.91it/s]\u001b[A"
          ]
        },
        {
          "output_type": "stream",
          "name": "stdout",
          "text": [
            "Invalid label found, adjusting: tensor([2, 1, 1, 1, 1, 2, 2, 1, 1, 0, 2, 1, 2, 0, 2, 2], device='cuda:0')\n"
          ]
        },
        {
          "output_type": "stream",
          "name": "stderr",
          "text": [
            "\n",
            "Training iteration:  51%|█████▏    | 78/152 [00:20<00:18,  3.92it/s]\u001b[A"
          ]
        },
        {
          "output_type": "stream",
          "name": "stdout",
          "text": [
            "Invalid label found, adjusting: tensor([1, 0, 2, 2, 2, 2, 1, 2, 0, 0, 2, 2, 2, 0, 1, 2], device='cuda:0')\n"
          ]
        },
        {
          "output_type": "stream",
          "name": "stderr",
          "text": [
            "\n",
            "Training iteration:  52%|█████▏    | 79/152 [00:20<00:18,  3.91it/s]\u001b[A"
          ]
        },
        {
          "output_type": "stream",
          "name": "stdout",
          "text": [
            "Invalid label found, adjusting: tensor([1, 1, 0, 0, 1, 1, 0, 2, 1, 2, 1, 0, 2, 1, 2, 0], device='cuda:0')\n"
          ]
        },
        {
          "output_type": "stream",
          "name": "stderr",
          "text": [
            "\n",
            "Training iteration:  53%|█████▎    | 80/152 [00:20<00:18,  3.93it/s]\u001b[A"
          ]
        },
        {
          "output_type": "stream",
          "name": "stdout",
          "text": [
            "Invalid label found, adjusting: tensor([0, 1, 0, 1, 2, 2, 2, 0, 1, 1, 0, 1, 0, 1, 2, 1], device='cuda:0')\n"
          ]
        },
        {
          "output_type": "stream",
          "name": "stderr",
          "text": [
            "\n",
            "Training iteration:  53%|█████▎    | 81/152 [00:20<00:18,  3.94it/s]\u001b[A"
          ]
        },
        {
          "output_type": "stream",
          "name": "stdout",
          "text": [
            "Invalid label found, adjusting: tensor([1, 0, 1, 2, 2, 0, 0, 2, 2, 1, 1, 2, 0, 0, 1, 2], device='cuda:0')\n"
          ]
        },
        {
          "output_type": "stream",
          "name": "stderr",
          "text": [
            "\n",
            "Training iteration:  54%|█████▍    | 82/152 [00:21<00:17,  3.92it/s]\u001b[A"
          ]
        },
        {
          "output_type": "stream",
          "name": "stdout",
          "text": [
            "Invalid label found, adjusting: tensor([1, 1, 2, 1, 1, 2, 0, 0, 0, 1, 2, 2, 1, 1, 2, 1], device='cuda:0')\n"
          ]
        },
        {
          "output_type": "stream",
          "name": "stderr",
          "text": [
            "\n",
            "Training iteration:  55%|█████▍    | 83/152 [00:21<00:17,  3.92it/s]\u001b[A"
          ]
        },
        {
          "output_type": "stream",
          "name": "stdout",
          "text": [
            "Invalid label found, adjusting: tensor([2, 1, 1, 1, 2, 1, 2, 1, 0, 0, 0, 0, 0, 0, 1, 0], device='cuda:0')\n"
          ]
        },
        {
          "output_type": "stream",
          "name": "stderr",
          "text": [
            "\n",
            "Training iteration:  55%|█████▌    | 84/152 [00:21<00:17,  3.93it/s]\u001b[A"
          ]
        },
        {
          "output_type": "stream",
          "name": "stdout",
          "text": [
            "Invalid label found, adjusting: tensor([2, 1, 0, 0, 1, 0, 0, 2, 1, 2, 2, 2, 1, 0, 2, 1], device='cuda:0')\n"
          ]
        },
        {
          "output_type": "stream",
          "name": "stderr",
          "text": [
            "\n",
            "Training iteration:  56%|█████▌    | 85/152 [00:21<00:17,  3.92it/s]\u001b[A"
          ]
        },
        {
          "output_type": "stream",
          "name": "stdout",
          "text": [
            "Invalid label found, adjusting: tensor([0, 2, 1, 2, 1, 2, 0, 1, 1, 0, 2, 0, 0, 0, 1, 2], device='cuda:0')\n"
          ]
        },
        {
          "output_type": "stream",
          "name": "stderr",
          "text": [
            "\n",
            "Training iteration:  57%|█████▋    | 86/152 [00:22<00:16,  3.93it/s]\u001b[A"
          ]
        },
        {
          "output_type": "stream",
          "name": "stdout",
          "text": [
            "Invalid label found, adjusting: tensor([0, 1, 2, 0, 1, 0, 0, 2, 0, 2, 1, 1, 2, 2, 1, 2], device='cuda:0')\n"
          ]
        },
        {
          "output_type": "stream",
          "name": "stderr",
          "text": [
            "\n",
            "Training iteration:  57%|█████▋    | 87/152 [00:22<00:16,  3.94it/s]\u001b[A"
          ]
        },
        {
          "output_type": "stream",
          "name": "stdout",
          "text": [
            "Invalid label found, adjusting: tensor([1, 0, 0, 1, 2, 1, 1, 2, 1, 1, 1, 0, 1, 1, 2, 2], device='cuda:0')\n"
          ]
        },
        {
          "output_type": "stream",
          "name": "stderr",
          "text": [
            "\n",
            "Training iteration:  58%|█████▊    | 88/152 [00:22<00:16,  3.94it/s]\u001b[A"
          ]
        },
        {
          "output_type": "stream",
          "name": "stdout",
          "text": [
            "Invalid label found, adjusting: tensor([2, 2, 1, 0, 2, 0, 2, 2, 0, 0, 0, 0, 2, 1, 1, 1], device='cuda:0')\n"
          ]
        },
        {
          "output_type": "stream",
          "name": "stderr",
          "text": [
            "\n",
            "Training iteration:  59%|█████▊    | 89/152 [00:22<00:15,  3.95it/s]\u001b[A"
          ]
        },
        {
          "output_type": "stream",
          "name": "stdout",
          "text": [
            "Invalid label found, adjusting: tensor([1, 0, 1, 2, 1, 2, 1, 2, 2, 2, 0, 2, 1, 1, 2, 1], device='cuda:0')\n"
          ]
        },
        {
          "output_type": "stream",
          "name": "stderr",
          "text": [
            "\n",
            "Training iteration:  59%|█████▉    | 90/152 [00:23<00:15,  3.94it/s]\u001b[A"
          ]
        },
        {
          "output_type": "stream",
          "name": "stdout",
          "text": [
            "Invalid label found, adjusting: tensor([2, 0, 0, 0, 2, 1, 0, 0, 1, 1, 0, 2, 1, 1, 2, 0], device='cuda:0')\n"
          ]
        },
        {
          "output_type": "stream",
          "name": "stderr",
          "text": [
            "\n",
            "Training iteration:  60%|█████▉    | 91/152 [00:23<00:15,  3.94it/s]\u001b[A"
          ]
        },
        {
          "output_type": "stream",
          "name": "stdout",
          "text": [
            "Invalid label found, adjusting: tensor([2, 0, 0, 1, 2, 2, 1, 2, 0, 2, 0, 2, 0, 2, 2, 1], device='cuda:0')\n"
          ]
        },
        {
          "output_type": "stream",
          "name": "stderr",
          "text": [
            "\n",
            "Training iteration:  61%|██████    | 92/152 [00:23<00:15,  3.93it/s]\u001b[A"
          ]
        },
        {
          "output_type": "stream",
          "name": "stdout",
          "text": [
            "Invalid label found, adjusting: tensor([0, 2, 2, 0, 1, 0, 1, 1, 2, 2, 2, 0, 1, 2, 0, 2], device='cuda:0')\n"
          ]
        },
        {
          "output_type": "stream",
          "name": "stderr",
          "text": [
            "\n",
            "Training iteration:  61%|██████    | 93/152 [00:23<00:14,  3.94it/s]\u001b[A"
          ]
        },
        {
          "output_type": "stream",
          "name": "stdout",
          "text": [
            "Invalid label found, adjusting: tensor([0, 1, 2, 1, 0, 2, 2, 0, 0, 2, 2, 0, 1, 1, 2, 1], device='cuda:0')\n"
          ]
        },
        {
          "output_type": "stream",
          "name": "stderr",
          "text": [
            "\n",
            "Training iteration:  62%|██████▏   | 94/152 [00:24<00:14,  3.91it/s]\u001b[A"
          ]
        },
        {
          "output_type": "stream",
          "name": "stdout",
          "text": [
            "Invalid label found, adjusting: tensor([0, 0, 2, 0, 2, 0, 0, 0, 2, 2, 0, 2, 2, 1, 0, 2], device='cuda:0')\n"
          ]
        },
        {
          "output_type": "stream",
          "name": "stderr",
          "text": [
            "\n",
            "Training iteration:  62%|██████▎   | 95/152 [00:24<00:14,  3.91it/s]\u001b[A"
          ]
        },
        {
          "output_type": "stream",
          "name": "stdout",
          "text": [
            "Invalid label found, adjusting: tensor([2, 2, 0, 1, 1, 0, 1, 2, 2, 0, 0, 1, 1, 2, 0, 2], device='cuda:0')\n"
          ]
        },
        {
          "output_type": "stream",
          "name": "stderr",
          "text": [
            "\n",
            "Training iteration:  63%|██████▎   | 96/152 [00:24<00:14,  3.93it/s]\u001b[A"
          ]
        },
        {
          "output_type": "stream",
          "name": "stdout",
          "text": [
            "Invalid label found, adjusting: tensor([2, 0, 2, 0, 1, 0, 2, 1, 2, 1, 1, 0, 2, 2, 2, 0], device='cuda:0')\n"
          ]
        },
        {
          "output_type": "stream",
          "name": "stderr",
          "text": [
            "\n",
            "Training iteration:  64%|██████▍   | 97/152 [00:24<00:14,  3.91it/s]\u001b[A"
          ]
        },
        {
          "output_type": "stream",
          "name": "stdout",
          "text": [
            "Invalid label found, adjusting: tensor([2, 1, 2, 0, 0, 0, 1, 2, 1, 2, 0, 0, 0, 1, 2, 0], device='cuda:0')\n"
          ]
        },
        {
          "output_type": "stream",
          "name": "stderr",
          "text": [
            "\n",
            "Training iteration:  64%|██████▍   | 98/152 [00:25<00:13,  3.92it/s]\u001b[A"
          ]
        },
        {
          "output_type": "stream",
          "name": "stdout",
          "text": [
            "Invalid label found, adjusting: tensor([1, 0, 2, 1, 2, 1, 2, 0, 1, 2, 0, 0, 1, 1, 1, 2], device='cuda:0')\n"
          ]
        },
        {
          "output_type": "stream",
          "name": "stderr",
          "text": [
            "\n",
            "Training iteration:  65%|██████▌   | 99/152 [00:25<00:13,  3.93it/s]\u001b[A"
          ]
        },
        {
          "output_type": "stream",
          "name": "stdout",
          "text": [
            "Invalid label found, adjusting: tensor([2, 1, 1, 1, 0, 0, 0, 0, 1, 1, 1, 1, 0, 0, 2, 1], device='cuda:0')\n"
          ]
        },
        {
          "output_type": "stream",
          "name": "stderr",
          "text": [
            "\n",
            "Training iteration:  66%|██████▌   | 100/152 [00:25<00:13,  3.93it/s]\u001b[A"
          ]
        },
        {
          "output_type": "stream",
          "name": "stdout",
          "text": [
            "Invalid label found, adjusting: tensor([0, 1, 0, 2, 1, 0, 0, 0, 2, 1, 0, 0, 1, 0, 1, 1], device='cuda:0')\n"
          ]
        },
        {
          "output_type": "stream",
          "name": "stderr",
          "text": [
            "\n",
            "Training iteration:  66%|██████▋   | 101/152 [00:25<00:13,  3.92it/s]\u001b[A"
          ]
        },
        {
          "output_type": "stream",
          "name": "stdout",
          "text": [
            "Invalid label found, adjusting: tensor([0, 0, 0, 0, 1, 0, 1, 0, 1, 0, 2, 0, 2, 0, 0, 2], device='cuda:0')\n"
          ]
        },
        {
          "output_type": "stream",
          "name": "stderr",
          "text": [
            "\n",
            "Training iteration:  67%|██████▋   | 102/152 [00:26<00:12,  3.90it/s]\u001b[A"
          ]
        },
        {
          "output_type": "stream",
          "name": "stdout",
          "text": [
            "Invalid label found, adjusting: tensor([1, 0, 1, 2, 1, 0, 0, 2, 2, 2, 0, 1, 2, 2, 1, 0], device='cuda:0')\n"
          ]
        },
        {
          "output_type": "stream",
          "name": "stderr",
          "text": [
            "\n",
            "Training iteration:  68%|██████▊   | 103/152 [00:26<00:12,  3.91it/s]\u001b[A"
          ]
        },
        {
          "output_type": "stream",
          "name": "stdout",
          "text": [
            "Invalid label found, adjusting: tensor([1, 2, 1, 0, 1, 2, 0, 2, 1, 0, 1, 0, 0, 2, 0, 2], device='cuda:0')\n"
          ]
        },
        {
          "output_type": "stream",
          "name": "stderr",
          "text": [
            "\n",
            "Training iteration:  68%|██████▊   | 104/152 [00:26<00:12,  3.91it/s]\u001b[A"
          ]
        },
        {
          "output_type": "stream",
          "name": "stdout",
          "text": [
            "Invalid label found, adjusting: tensor([0, 2, 1, 1, 2, 2, 2, 2, 2, 1, 2, 1, 1, 1, 0, 1], device='cuda:0')\n"
          ]
        },
        {
          "output_type": "stream",
          "name": "stderr",
          "text": [
            "\n",
            "Training iteration:  69%|██████▉   | 105/152 [00:26<00:11,  3.92it/s]\u001b[A"
          ]
        },
        {
          "output_type": "stream",
          "name": "stdout",
          "text": [
            "Invalid label found, adjusting: tensor([2, 2, 1, 0, 1, 1, 0, 1, 2, 1, 0, 0, 2, 2, 1, 0], device='cuda:0')\n"
          ]
        },
        {
          "output_type": "stream",
          "name": "stderr",
          "text": [
            "\n",
            "Training iteration:  70%|██████▉   | 106/152 [00:27<00:11,  3.90it/s]\u001b[A"
          ]
        },
        {
          "output_type": "stream",
          "name": "stdout",
          "text": [
            "Invalid label found, adjusting: tensor([0, 1, 2, 2, 0, 0, 0, 2, 2, 2, 0, 0, 1, 0, 1, 2], device='cuda:0')\n"
          ]
        },
        {
          "output_type": "stream",
          "name": "stderr",
          "text": [
            "\n",
            "Training iteration:  70%|███████   | 107/152 [00:27<00:11,  3.91it/s]\u001b[A"
          ]
        },
        {
          "output_type": "stream",
          "name": "stdout",
          "text": [
            "Invalid label found, adjusting: tensor([1, 0, 0, 2, 0, 2, 0, 1, 0, 2, 0, 0, 0, 1, 2, 1], device='cuda:0')\n"
          ]
        },
        {
          "output_type": "stream",
          "name": "stderr",
          "text": [
            "\n",
            "Training iteration:  71%|███████   | 108/152 [00:27<00:11,  3.92it/s]\u001b[A"
          ]
        },
        {
          "output_type": "stream",
          "name": "stdout",
          "text": [
            "Invalid label found, adjusting: tensor([1, 2, 1, 2, 0, 0, 1, 2, 2, 1, 2, 2, 2, 1, 1, 2], device='cuda:0')\n"
          ]
        },
        {
          "output_type": "stream",
          "name": "stderr",
          "text": [
            "\n",
            "Training iteration:  72%|███████▏  | 109/152 [00:27<00:10,  3.92it/s]\u001b[A"
          ]
        },
        {
          "output_type": "stream",
          "name": "stdout",
          "text": [
            "Invalid label found, adjusting: tensor([1, 0, 1, 2, 2, 1, 2, 2, 1, 0, 1, 0, 2, 2, 0, 2], device='cuda:0')\n"
          ]
        },
        {
          "output_type": "stream",
          "name": "stderr",
          "text": [
            "\n",
            "Training iteration:  72%|███████▏  | 110/152 [00:28<00:10,  3.90it/s]\u001b[A"
          ]
        },
        {
          "output_type": "stream",
          "name": "stdout",
          "text": [
            "Invalid label found, adjusting: tensor([2, 0, 0, 0, 2, 0, 0, 1, 0, 0, 0, 0, 0, 0, 0, 0], device='cuda:0')\n"
          ]
        },
        {
          "output_type": "stream",
          "name": "stderr",
          "text": [
            "\n",
            "Training iteration:  73%|███████▎  | 111/152 [00:28<00:10,  3.92it/s]\u001b[A"
          ]
        },
        {
          "output_type": "stream",
          "name": "stdout",
          "text": [
            "Invalid label found, adjusting: tensor([0, 1, 1, 0, 2, 0, 1, 2, 1, 2, 2, 2, 0, 0, 1, 1], device='cuda:0')\n"
          ]
        },
        {
          "output_type": "stream",
          "name": "stderr",
          "text": [
            "\n",
            "Training iteration:  74%|███████▎  | 112/152 [00:28<00:10,  3.90it/s]\u001b[A"
          ]
        },
        {
          "output_type": "stream",
          "name": "stdout",
          "text": [
            "Invalid label found, adjusting: tensor([2, 1, 2, 1, 2, 1, 0, 1, 2, 1, 2, 2, 0, 0, 0, 2], device='cuda:0')\n"
          ]
        },
        {
          "output_type": "stream",
          "name": "stderr",
          "text": [
            "\n",
            "Training iteration:  74%|███████▍  | 113/152 [00:29<00:10,  3.89it/s]\u001b[A"
          ]
        },
        {
          "output_type": "stream",
          "name": "stdout",
          "text": [
            "Invalid label found, adjusting: tensor([2, 2, 0, 2, 0, 1, 1, 0, 1, 2, 2, 1, 1, 1, 2, 1], device='cuda:0')\n"
          ]
        },
        {
          "output_type": "stream",
          "name": "stderr",
          "text": [
            "\n",
            "Training iteration:  75%|███████▌  | 114/152 [00:29<00:09,  3.91it/s]\u001b[A"
          ]
        },
        {
          "output_type": "stream",
          "name": "stdout",
          "text": [
            "Invalid label found, adjusting: tensor([0, 0, 2, 0, 1, 0, 2, 2, 2, 1, 2, 0, 2, 1, 1, 0], device='cuda:0')\n"
          ]
        },
        {
          "output_type": "stream",
          "name": "stderr",
          "text": [
            "\n",
            "Training iteration:  76%|███████▌  | 115/152 [00:29<00:09,  3.92it/s]\u001b[A"
          ]
        },
        {
          "output_type": "stream",
          "name": "stdout",
          "text": [
            "Invalid label found, adjusting: tensor([2, 1, 1, 1, 1, 1, 1, 2, 0, 1, 2, 2, 2, 2, 1, 2], device='cuda:0')\n"
          ]
        },
        {
          "output_type": "stream",
          "name": "stderr",
          "text": [
            "\n",
            "Training iteration:  76%|███████▋  | 116/152 [00:29<00:09,  3.92it/s]\u001b[A"
          ]
        },
        {
          "output_type": "stream",
          "name": "stdout",
          "text": [
            "Invalid label found, adjusting: tensor([0, 2, 0, 2, 0, 1, 1, 1, 0, 2, 2, 2, 2, 2, 2, 2], device='cuda:0')\n"
          ]
        },
        {
          "output_type": "stream",
          "name": "stderr",
          "text": [
            "\n",
            "Training iteration:  77%|███████▋  | 117/152 [00:30<00:08,  3.91it/s]\u001b[A"
          ]
        },
        {
          "output_type": "stream",
          "name": "stdout",
          "text": [
            "Invalid label found, adjusting: tensor([0, 2, 0, 1, 2, 0, 1, 2, 0, 2, 2, 1, 2, 1, 2, 2], device='cuda:0')\n"
          ]
        },
        {
          "output_type": "stream",
          "name": "stderr",
          "text": [
            "\n",
            "Training iteration:  78%|███████▊  | 118/152 [00:30<00:08,  3.91it/s]\u001b[A"
          ]
        },
        {
          "output_type": "stream",
          "name": "stdout",
          "text": [
            "Invalid label found, adjusting: tensor([0, 2, 1, 1, 2, 0, 2, 0, 1, 0, 2, 2, 0, 2, 2, 2], device='cuda:0')\n"
          ]
        },
        {
          "output_type": "stream",
          "name": "stderr",
          "text": [
            "\n",
            "Training iteration:  78%|███████▊  | 119/152 [00:30<00:08,  3.93it/s]\u001b[A"
          ]
        },
        {
          "output_type": "stream",
          "name": "stdout",
          "text": [
            "Invalid label found, adjusting: tensor([2, 1, 2, 2, 1, 1, 1, 2, 0, 2, 0, 1, 1, 1, 0, 2], device='cuda:0')\n"
          ]
        },
        {
          "output_type": "stream",
          "name": "stderr",
          "text": [
            "\n",
            "Training iteration:  79%|███████▉  | 120/152 [00:30<00:08,  3.94it/s]\u001b[A"
          ]
        },
        {
          "output_type": "stream",
          "name": "stdout",
          "text": [
            "Invalid label found, adjusting: tensor([1, 2, 0, 0, 2, 2, 1, 1, 1, 0, 1, 2, 1, 2, 1, 2], device='cuda:0')\n"
          ]
        },
        {
          "output_type": "stream",
          "name": "stderr",
          "text": [
            "\n",
            "Training iteration:  80%|███████▉  | 121/152 [00:31<00:07,  3.94it/s]\u001b[A"
          ]
        },
        {
          "output_type": "stream",
          "name": "stdout",
          "text": [
            "Invalid label found, adjusting: tensor([2, 1, 0, 2, 0, 2, 2, 1, 1, 0, 0, 0, 2, 0, 1, 0], device='cuda:0')\n"
          ]
        },
        {
          "output_type": "stream",
          "name": "stderr",
          "text": [
            "\n",
            "Training iteration:  80%|████████  | 122/152 [00:31<00:07,  3.94it/s]\u001b[A"
          ]
        },
        {
          "output_type": "stream",
          "name": "stdout",
          "text": [
            "Invalid label found, adjusting: tensor([1, 0, 1, 1, 2, 0, 0, 0, 2, 0, 0, 0, 2, 0, 2, 0], device='cuda:0')\n"
          ]
        },
        {
          "output_type": "stream",
          "name": "stderr",
          "text": [
            "\n",
            "Training iteration:  81%|████████  | 123/152 [00:31<00:07,  3.93it/s]\u001b[A"
          ]
        },
        {
          "output_type": "stream",
          "name": "stdout",
          "text": [
            "Invalid label found, adjusting: tensor([1, 2, 2, 1, 2, 1, 2, 2, 0, 0, 2, 2, 0, 2, 1, 2], device='cuda:0')\n"
          ]
        },
        {
          "output_type": "stream",
          "name": "stderr",
          "text": [
            "\n",
            "Training iteration:  82%|████████▏ | 124/152 [00:31<00:07,  3.92it/s]\u001b[A"
          ]
        },
        {
          "output_type": "stream",
          "name": "stdout",
          "text": [
            "Invalid label found, adjusting: tensor([1, 1, 2, 1, 0, 2, 2, 2, 0, 0, 0, 2, 2, 1, 1, 0], device='cuda:0')\n"
          ]
        },
        {
          "output_type": "stream",
          "name": "stderr",
          "text": [
            "\n",
            "Training iteration:  82%|████████▏ | 125/152 [00:32<00:06,  3.92it/s]\u001b[A"
          ]
        },
        {
          "output_type": "stream",
          "name": "stdout",
          "text": [
            "Invalid label found, adjusting: tensor([2, 0, 1, 2, 0, 2, 2, 1, 2, 2, 1, 1, 1, 1, 2, 1], device='cuda:0')\n"
          ]
        },
        {
          "output_type": "stream",
          "name": "stderr",
          "text": [
            "\n",
            "Training iteration:  83%|████████▎ | 126/152 [00:32<00:06,  3.92it/s]\u001b[A"
          ]
        },
        {
          "output_type": "stream",
          "name": "stdout",
          "text": [
            "Invalid label found, adjusting: tensor([0, 2, 2, 2, 1, 1, 2, 0, 1, 2, 2, 0, 0, 0, 0, 1], device='cuda:0')\n"
          ]
        },
        {
          "output_type": "stream",
          "name": "stderr",
          "text": [
            "\n",
            "Training iteration:  84%|████████▎ | 127/152 [00:32<00:06,  3.91it/s]\u001b[A"
          ]
        },
        {
          "output_type": "stream",
          "name": "stdout",
          "text": [
            "Invalid label found, adjusting: tensor([1, 0, 2, 0, 1, 2, 0, 2, 0, 2, 2, 2, 0, 0, 2, 2], device='cuda:0')\n"
          ]
        },
        {
          "output_type": "stream",
          "name": "stderr",
          "text": [
            "\n",
            "Training iteration:  84%|████████▍ | 128/152 [00:32<00:06,  3.92it/s]\u001b[A"
          ]
        },
        {
          "output_type": "stream",
          "name": "stdout",
          "text": [
            "Invalid label found, adjusting: tensor([0, 0, 1, 1, 0, 1, 1, 0, 0, 1, 2, 1, 0, 1, 1, 1], device='cuda:0')\n"
          ]
        },
        {
          "output_type": "stream",
          "name": "stderr",
          "text": [
            "\n",
            "Training iteration:  85%|████████▍ | 129/152 [00:33<00:05,  3.90it/s]\u001b[A"
          ]
        },
        {
          "output_type": "stream",
          "name": "stdout",
          "text": [
            "Invalid label found, adjusting: tensor([2, 0, 2, 1, 1, 2, 0, 2, 0, 2, 1, 2, 0, 1, 0, 2], device='cuda:0')\n"
          ]
        },
        {
          "output_type": "stream",
          "name": "stderr",
          "text": [
            "\n",
            "Training iteration:  86%|████████▌ | 130/152 [00:33<00:05,  3.92it/s]\u001b[A"
          ]
        },
        {
          "output_type": "stream",
          "name": "stdout",
          "text": [
            "Invalid label found, adjusting: tensor([1, 2, 1, 0, 1, 0, 0, 0, 0, 1, 1, 0, 1, 2, 2, 2], device='cuda:0')\n"
          ]
        },
        {
          "output_type": "stream",
          "name": "stderr",
          "text": [
            "\n",
            "Training iteration:  86%|████████▌ | 131/152 [00:33<00:05,  3.93it/s]\u001b[A"
          ]
        },
        {
          "output_type": "stream",
          "name": "stdout",
          "text": [
            "Invalid label found, adjusting: tensor([2, 2, 1, 2, 2, 0, 2, 2, 1, 1, 1, 2, 0, 2, 0, 0], device='cuda:0')\n"
          ]
        },
        {
          "output_type": "stream",
          "name": "stderr",
          "text": [
            "\n",
            "Training iteration:  87%|████████▋ | 132/152 [00:33<00:05,  3.93it/s]\u001b[A"
          ]
        },
        {
          "output_type": "stream",
          "name": "stdout",
          "text": [
            "Invalid label found, adjusting: tensor([2, 1, 1, 1, 2, 1, 1, 1, 1, 0, 2, 1, 2, 0, 2, 0], device='cuda:0')\n"
          ]
        },
        {
          "output_type": "stream",
          "name": "stderr",
          "text": [
            "\n",
            "Training iteration:  88%|████████▊ | 133/152 [00:34<00:04,  3.91it/s]\u001b[A"
          ]
        },
        {
          "output_type": "stream",
          "name": "stdout",
          "text": [
            "Invalid label found, adjusting: tensor([0, 0, 2, 2, 0, 1, 1, 0, 2, 0, 1, 0, 1, 2, 2, 0], device='cuda:0')\n"
          ]
        },
        {
          "output_type": "stream",
          "name": "stderr",
          "text": [
            "\n",
            "Training iteration:  88%|████████▊ | 134/152 [00:34<00:04,  3.90it/s]\u001b[A"
          ]
        },
        {
          "output_type": "stream",
          "name": "stdout",
          "text": [
            "Invalid label found, adjusting: tensor([1, 2, 1, 2, 1, 1, 2, 0, 1, 0, 0, 2, 1, 2, 0, 2], device='cuda:0')\n"
          ]
        },
        {
          "output_type": "stream",
          "name": "stderr",
          "text": [
            "\n",
            "Training iteration:  89%|████████▉ | 135/152 [00:34<00:04,  3.89it/s]\u001b[A"
          ]
        },
        {
          "output_type": "stream",
          "name": "stdout",
          "text": [
            "Invalid label found, adjusting: tensor([2, 0, 1, 2, 0, 1, 1, 0, 0, 1, 2, 2, 1, 0, 2, 2], device='cuda:0')\n"
          ]
        },
        {
          "output_type": "stream",
          "name": "stderr",
          "text": [
            "\n",
            "Training iteration:  89%|████████▉ | 136/152 [00:34<00:04,  3.90it/s]\u001b[A"
          ]
        },
        {
          "output_type": "stream",
          "name": "stdout",
          "text": [
            "Invalid label found, adjusting: tensor([1, 1, 0, 1, 1, 0, 1, 1, 1, 2, 1, 1, 0, 0, 1, 2], device='cuda:0')\n"
          ]
        },
        {
          "output_type": "stream",
          "name": "stderr",
          "text": [
            "\n",
            "Training iteration:  90%|█████████ | 137/152 [00:35<00:03,  3.90it/s]\u001b[A"
          ]
        },
        {
          "output_type": "stream",
          "name": "stdout",
          "text": [
            "Invalid label found, adjusting: tensor([1, 0, 2, 0, 0, 1, 2, 1, 2, 2, 2, 2, 2, 2, 0, 2], device='cuda:0')\n"
          ]
        },
        {
          "output_type": "stream",
          "name": "stderr",
          "text": [
            "\n",
            "Training iteration:  91%|█████████ | 138/152 [00:35<00:03,  3.89it/s]\u001b[A"
          ]
        },
        {
          "output_type": "stream",
          "name": "stdout",
          "text": [
            "Invalid label found, adjusting: tensor([1, 1, 0, 2, 0, 0, 0, 2, 0, 2, 2, 0, 1, 0, 1, 1], device='cuda:0')\n"
          ]
        },
        {
          "output_type": "stream",
          "name": "stderr",
          "text": [
            "\n",
            "Training iteration:  91%|█████████▏| 139/152 [00:35<00:03,  3.89it/s]\u001b[A"
          ]
        },
        {
          "output_type": "stream",
          "name": "stdout",
          "text": [
            "Invalid label found, adjusting: tensor([2, 0, 0, 1, 2, 0, 2, 1, 2, 2, 0, 0, 1, 1, 1, 2], device='cuda:0')\n"
          ]
        },
        {
          "output_type": "stream",
          "name": "stderr",
          "text": [
            "\n",
            "Training iteration:  92%|█████████▏| 140/152 [00:35<00:03,  3.89it/s]\u001b[A"
          ]
        },
        {
          "output_type": "stream",
          "name": "stdout",
          "text": [
            "Invalid label found, adjusting: tensor([1, 0, 0, 0, 2, 2, 1, 2, 2, 1, 1, 1, 0, 0, 0, 1], device='cuda:0')\n"
          ]
        },
        {
          "output_type": "stream",
          "name": "stderr",
          "text": [
            "\n",
            "Training iteration:  93%|█████████▎| 141/152 [00:36<00:02,  3.90it/s]\u001b[A"
          ]
        },
        {
          "output_type": "stream",
          "name": "stdout",
          "text": [
            "Invalid label found, adjusting: tensor([0, 1, 1, 2, 0, 2, 1, 1, 2, 1, 1, 2, 0, 0, 1, 2], device='cuda:0')\n"
          ]
        },
        {
          "output_type": "stream",
          "name": "stderr",
          "text": [
            "\n",
            "Training iteration:  93%|█████████▎| 142/152 [00:36<00:02,  3.89it/s]\u001b[A"
          ]
        },
        {
          "output_type": "stream",
          "name": "stdout",
          "text": [
            "Invalid label found, adjusting: tensor([0, 0, 1, 0, 0, 1, 0, 0, 1, 0, 0, 1, 0, 2, 2, 2], device='cuda:0')\n"
          ]
        },
        {
          "output_type": "stream",
          "name": "stderr",
          "text": [
            "\n",
            "Training iteration:  94%|█████████▍| 143/152 [00:36<00:02,  3.89it/s]\u001b[A"
          ]
        },
        {
          "output_type": "stream",
          "name": "stdout",
          "text": [
            "Invalid label found, adjusting: tensor([2, 0, 0, 2, 0, 2, 2, 1, 0, 1, 1, 0, 1, 0, 2, 0], device='cuda:0')\n"
          ]
        },
        {
          "output_type": "stream",
          "name": "stderr",
          "text": [
            "\n",
            "Training iteration:  95%|█████████▍| 144/152 [00:36<00:02,  3.88it/s]\u001b[A"
          ]
        },
        {
          "output_type": "stream",
          "name": "stdout",
          "text": [
            "Invalid label found, adjusting: tensor([1, 1, 0, 0, 1, 0, 0, 2, 2, 2, 1, 0, 0, 1, 1, 1], device='cuda:0')\n"
          ]
        },
        {
          "output_type": "stream",
          "name": "stderr",
          "text": [
            "\n",
            "Training iteration:  95%|█████████▌| 145/152 [00:37<00:01,  3.89it/s]\u001b[A"
          ]
        },
        {
          "output_type": "stream",
          "name": "stdout",
          "text": [
            "Invalid label found, adjusting: tensor([2, 1, 2, 2, 0, 2, 0, 2, 1, 1, 1, 0, 2, 2, 2, 0], device='cuda:0')\n"
          ]
        },
        {
          "output_type": "stream",
          "name": "stderr",
          "text": [
            "\n",
            "Training iteration:  96%|█████████▌| 146/152 [00:37<00:01,  3.89it/s]\u001b[A"
          ]
        },
        {
          "output_type": "stream",
          "name": "stdout",
          "text": [
            "Invalid label found, adjusting: tensor([1, 0, 1, 1, 1, 1, 2, 0, 0, 0, 2, 1, 1, 1, 2, 0], device='cuda:0')\n"
          ]
        },
        {
          "output_type": "stream",
          "name": "stderr",
          "text": [
            "\n",
            "Training iteration:  97%|█████████▋| 147/152 [00:37<00:01,  3.88it/s]\u001b[A"
          ]
        },
        {
          "output_type": "stream",
          "name": "stdout",
          "text": [
            "Invalid label found, adjusting: tensor([0, 1, 2, 2, 1, 0, 2, 1, 2, 0, 0, 1, 0, 2, 2, 1], device='cuda:0')\n"
          ]
        },
        {
          "output_type": "stream",
          "name": "stderr",
          "text": [
            "\n",
            "Training iteration:  97%|█████████▋| 148/152 [00:37<00:01,  3.88it/s]\u001b[A"
          ]
        },
        {
          "output_type": "stream",
          "name": "stdout",
          "text": [
            "Invalid label found, adjusting: tensor([2, 1, 1, 0, 2, 2, 0, 1, 2, 2, 1, 2, 0, 1, 2, 1], device='cuda:0')\n"
          ]
        },
        {
          "output_type": "stream",
          "name": "stderr",
          "text": [
            "\n",
            "Training iteration:  98%|█████████▊| 149/152 [00:38<00:00,  3.88it/s]\u001b[A"
          ]
        },
        {
          "output_type": "stream",
          "name": "stdout",
          "text": [
            "Invalid label found, adjusting: tensor([0, 2, 0, 1, 1, 1, 2, 0, 0, 0, 2, 0, 0, 0, 2, 0], device='cuda:0')\n"
          ]
        },
        {
          "output_type": "stream",
          "name": "stderr",
          "text": [
            "\n",
            "Training iteration:  99%|█████████▊| 150/152 [00:38<00:00,  3.90it/s]\u001b[A"
          ]
        },
        {
          "output_type": "stream",
          "name": "stdout",
          "text": [
            "Invalid label found, adjusting: tensor([0, 0, 2, 1, 2, 0, 2, 2, 0, 0, 2, 2, 1, 0, 1, 2], device='cuda:0')\n"
          ]
        },
        {
          "output_type": "stream",
          "name": "stderr",
          "text": [
            "\n",
            "Training iteration:  99%|█████████▉| 151/152 [00:38<00:00,  3.88it/s]\u001b[A"
          ]
        },
        {
          "output_type": "stream",
          "name": "stdout",
          "text": [
            "Invalid label found, adjusting: tensor([2, 0, 0, 1, 2, 1, 1, 1, 0, 0, 1, 1, 1, 0], device='cuda:0')\n"
          ]
        },
        {
          "output_type": "stream",
          "name": "stderr",
          "text": [
            "\n",
            "Training iteration: 100%|██████████| 152/152 [00:38<00:00,  3.90it/s]\n",
            "\n",
            "Evaluating:   0%|          | 0/17 [00:00<?, ?it/s]\u001b[A\n",
            "Evaluating:  12%|█▏        | 2/17 [00:00<00:01, 11.71it/s]\u001b[A"
          ]
        },
        {
          "output_type": "stream",
          "name": "stdout",
          "text": [
            "Invalid label found in evaluation, adjusting: tensor([1, 0, 1, 0, 0, 1, 0, 2, 2, 1, 1, 1, 0, 2, 1, 2], device='cuda:0')\n",
            "Invalid label found in evaluation, adjusting: tensor([1, 1, 1, 0, 2, 0, 2, 2, 0, 2, 0, 0, 1, 2, 1, 1], device='cuda:0')\n",
            "Invalid label found in evaluation, adjusting: tensor([2, 0, 1, 0, 0, 0, 1, 1, 1, 1, 2, 1, 0, 1, 0, 0], device='cuda:0')\n"
          ]
        },
        {
          "output_type": "stream",
          "name": "stderr",
          "text": [
            "\n",
            "Evaluating:  24%|██▎       | 4/17 [00:00<00:01, 11.36it/s]\u001b[A"
          ]
        },
        {
          "output_type": "stream",
          "name": "stdout",
          "text": [
            "Invalid label found in evaluation, adjusting: tensor([1, 1, 2, 1, 2, 0, 1, 2, 1, 1, 2, 1, 0, 0, 1, 2], device='cuda:0')\n",
            "Invalid label found in evaluation, adjusting: tensor([1, 2, 2, 0, 2, 2, 0, 2, 0, 0, 1, 0, 1, 0, 1, 2], device='cuda:0')\n",
            "Invalid label found in evaluation, adjusting: tensor([1, 2, 2, 2, 1, 0, 1, 0, 2, 2, 2, 1, 0, 0, 0, 0], device='cuda:0')\n"
          ]
        },
        {
          "output_type": "stream",
          "name": "stderr",
          "text": [
            "\n",
            "Evaluating:  35%|███▌      | 6/17 [00:00<00:00, 11.18it/s]\u001b[A\n",
            "Evaluating:  47%|████▋     | 8/17 [00:00<00:00, 11.09it/s]\u001b[A"
          ]
        },
        {
          "output_type": "stream",
          "name": "stdout",
          "text": [
            "Invalid label found in evaluation, adjusting: tensor([1, 1, 2, 2, 1, 2, 2, 1, 0, 0, 0, 0, 1, 0, 0, 0], device='cuda:0')\n",
            "Invalid label found in evaluation, adjusting: tensor([2, 0, 1, 1, 0, 2, 0, 1, 1, 0, 1, 2, 1, 1, 1, 0], device='cuda:0')\n",
            "Invalid label found in evaluation, adjusting: tensor([2, 0, 1, 2, 0, 1, 1, 1, 1, 0, 2, 2, 1, 0, 2, 2], device='cuda:0')\n"
          ]
        },
        {
          "output_type": "stream",
          "name": "stderr",
          "text": [
            "\n",
            "Evaluating:  59%|█████▉    | 10/17 [00:00<00:00, 10.98it/s]\u001b[A"
          ]
        },
        {
          "output_type": "stream",
          "name": "stdout",
          "text": [
            "Invalid label found in evaluation, adjusting: tensor([1, 0, 0, 1, 2, 1, 1, 0, 1, 1, 2, 0, 2, 1, 1, 0], device='cuda:0')\n",
            "Invalid label found in evaluation, adjusting: tensor([1, 0, 1, 2, 1, 1, 2, 0, 0, 0, 1, 1, 1, 1, 1, 1], device='cuda:0')\n",
            "Invalid label found in evaluation, adjusting: tensor([2, 2, 1, 0, 1, 0, 2, 2, 2, 0, 0, 0, 1, 1, 1, 0], device='cuda:0')\n"
          ]
        },
        {
          "output_type": "stream",
          "name": "stderr",
          "text": [
            "\n",
            "Evaluating:  71%|███████   | 12/17 [00:01<00:00, 11.03it/s]\u001b[A\n",
            "Evaluating:  82%|████████▏ | 14/17 [00:01<00:00, 11.05it/s]\u001b[A"
          ]
        },
        {
          "output_type": "stream",
          "name": "stdout",
          "text": [
            "Invalid label found in evaluation, adjusting: tensor([2, 1, 0, 0, 2, 2, 2, 1, 2, 0, 2, 1, 1, 1, 1, 2], device='cuda:0')\n",
            "Invalid label found in evaluation, adjusting: tensor([1, 0, 1, 0, 1, 0, 2, 2, 2, 2, 0, 2, 2, 1, 1, 2], device='cuda:0')\n",
            "Invalid label found in evaluation, adjusting: tensor([0, 2, 2, 1, 1, 0, 0, 1, 2, 1, 1, 2, 1, 2, 2, 2], device='cuda:0')\n"
          ]
        },
        {
          "output_type": "stream",
          "name": "stderr",
          "text": [
            "\n",
            "Evaluating: 100%|██████████| 17/17 [00:01<00:00, 11.14it/s]\n",
            "Epoch:  10%|█         | 2/20 [01:23<12:27, 41.54s/it]"
          ]
        },
        {
          "output_type": "stream",
          "name": "stdout",
          "text": [
            "Invalid label found in evaluation, adjusting: tensor([2, 1, 0, 1, 1, 2, 0, 2, 0, 0, 2, 2, 1, 2, 0, 2], device='cuda:0')\n",
            "Invalid label found in evaluation, adjusting: tensor([1, 0, 2, 1, 1, 1, 1, 1, 1, 0, 1, 0, 2, 0], device='cuda:0')\n",
            "Loss history: [0.8622320574872634]\n",
            "Dev loss: 0.8622320574872634\n"
          ]
        },
        {
          "output_type": "stream",
          "name": "stderr",
          "text": [
            "\n",
            "Training iteration:   0%|          | 0/152 [00:00<?, ?it/s]\u001b[A"
          ]
        },
        {
          "output_type": "stream",
          "name": "stdout",
          "text": [
            "Invalid label found, adjusting: tensor([0, 0, 1, 0, 0, 1, 0, 2, 1, 1, 1, 2, 1, 1, 2, 0], device='cuda:0')\n"
          ]
        },
        {
          "output_type": "stream",
          "name": "stderr",
          "text": [
            "\n",
            "Training iteration:   1%|          | 1/152 [00:00<00:38,  3.89it/s]\u001b[A"
          ]
        },
        {
          "output_type": "stream",
          "name": "stdout",
          "text": [
            "Invalid label found, adjusting: tensor([1, 2, 1, 1, 1, 1, 1, 2, 1, 2, 0, 0, 1, 0, 2, 1], device='cuda:0')\n"
          ]
        },
        {
          "output_type": "stream",
          "name": "stderr",
          "text": [
            "\n",
            "Training iteration:   1%|▏         | 2/152 [00:00<00:38,  3.88it/s]\u001b[A"
          ]
        },
        {
          "output_type": "stream",
          "name": "stdout",
          "text": [
            "Invalid label found, adjusting: tensor([2, 2, 2, 0, 2, 0, 1, 1, 0, 0, 1, 1, 1, 0, 2, 0], device='cuda:0')\n"
          ]
        },
        {
          "output_type": "stream",
          "name": "stderr",
          "text": [
            "\n",
            "Training iteration:   2%|▏         | 3/152 [00:00<00:38,  3.88it/s]\u001b[A"
          ]
        },
        {
          "output_type": "stream",
          "name": "stdout",
          "text": [
            "Invalid label found, adjusting: tensor([2, 0, 2, 0, 1, 1, 1, 2, 1, 1, 0, 2, 1, 2, 1, 2], device='cuda:0')\n"
          ]
        },
        {
          "output_type": "stream",
          "name": "stderr",
          "text": [
            "\n",
            "Training iteration:   3%|▎         | 4/152 [00:01<00:38,  3.86it/s]\u001b[A"
          ]
        },
        {
          "output_type": "stream",
          "name": "stdout",
          "text": [
            "Invalid label found, adjusting: tensor([0, 1, 0, 2, 1, 2, 0, 0, 0, 0, 1, 1, 1, 1, 0, 2], device='cuda:0')\n"
          ]
        },
        {
          "output_type": "stream",
          "name": "stderr",
          "text": [
            "\n",
            "Training iteration:   3%|▎         | 5/152 [00:01<00:38,  3.85it/s]\u001b[A"
          ]
        },
        {
          "output_type": "stream",
          "name": "stdout",
          "text": [
            "Invalid label found, adjusting: tensor([1, 0, 2, 1, 2, 2, 0, 0, 0, 0, 2, 2, 0, 1, 0, 0], device='cuda:0')\n"
          ]
        },
        {
          "output_type": "stream",
          "name": "stderr",
          "text": [
            "\n",
            "Training iteration:   4%|▍         | 6/152 [00:01<00:37,  3.85it/s]\u001b[A"
          ]
        },
        {
          "output_type": "stream",
          "name": "stdout",
          "text": [
            "Invalid label found, adjusting: tensor([1, 0, 0, 0, 1, 2, 2, 1, 1, 1, 0, 2, 2, 1, 0, 1], device='cuda:0')\n"
          ]
        },
        {
          "output_type": "stream",
          "name": "stderr",
          "text": [
            "\n",
            "Training iteration:   5%|▍         | 7/152 [00:01<00:37,  3.86it/s]\u001b[A"
          ]
        },
        {
          "output_type": "stream",
          "name": "stdout",
          "text": [
            "Invalid label found, adjusting: tensor([0, 2, 0, 1, 1, 1, 0, 2, 2, 2, 2, 0, 2, 2, 0, 0], device='cuda:0')\n"
          ]
        },
        {
          "output_type": "stream",
          "name": "stderr",
          "text": [
            "\n",
            "Training iteration:   5%|▌         | 8/152 [00:02<00:37,  3.85it/s]\u001b[A"
          ]
        },
        {
          "output_type": "stream",
          "name": "stdout",
          "text": [
            "Invalid label found, adjusting: tensor([1, 0, 2, 2, 2, 0, 0, 1, 0, 0, 2, 0, 0, 0, 0, 2], device='cuda:0')\n"
          ]
        },
        {
          "output_type": "stream",
          "name": "stderr",
          "text": [
            "\n",
            "Training iteration:   6%|▌         | 9/152 [00:02<00:37,  3.85it/s]\u001b[A"
          ]
        },
        {
          "output_type": "stream",
          "name": "stdout",
          "text": [
            "Invalid label found, adjusting: tensor([0, 2, 2, 1, 1, 1, 0, 1, 0, 1, 2, 2, 2, 1, 0, 0], device='cuda:0')\n"
          ]
        },
        {
          "output_type": "stream",
          "name": "stderr",
          "text": [
            "\n",
            "Training iteration:   7%|▋         | 10/152 [00:02<00:36,  3.87it/s]\u001b[A"
          ]
        },
        {
          "output_type": "stream",
          "name": "stdout",
          "text": [
            "Invalid label found, adjusting: tensor([0, 2, 2, 2, 1, 2, 0, 1, 0, 0, 2, 1, 1, 1, 1, 2], device='cuda:0')\n"
          ]
        },
        {
          "output_type": "stream",
          "name": "stderr",
          "text": [
            "\n",
            "Training iteration:   7%|▋         | 11/152 [00:02<00:36,  3.88it/s]\u001b[A"
          ]
        },
        {
          "output_type": "stream",
          "name": "stdout",
          "text": [
            "Invalid label found, adjusting: tensor([0, 2, 2, 2, 2, 1, 0, 1, 1, 2, 0, 2, 2, 0, 2, 0], device='cuda:0')\n"
          ]
        },
        {
          "output_type": "stream",
          "name": "stderr",
          "text": [
            "\n",
            "Training iteration:   8%|▊         | 12/152 [00:03<00:36,  3.86it/s]\u001b[A"
          ]
        },
        {
          "output_type": "stream",
          "name": "stdout",
          "text": [
            "Invalid label found, adjusting: tensor([0, 0, 0, 1, 2, 0, 0, 2, 1, 2, 1, 0, 2, 2, 1, 2], device='cuda:0')\n"
          ]
        },
        {
          "output_type": "stream",
          "name": "stderr",
          "text": [
            "\n",
            "Training iteration:   9%|▊         | 13/152 [00:03<00:36,  3.85it/s]\u001b[A"
          ]
        },
        {
          "output_type": "stream",
          "name": "stdout",
          "text": [
            "Invalid label found, adjusting: tensor([2, 1, 2, 1, 0, 0, 1, 0, 1, 0, 1, 0, 1, 1, 1, 2], device='cuda:0')\n"
          ]
        },
        {
          "output_type": "stream",
          "name": "stderr",
          "text": [
            "\n",
            "Training iteration:   9%|▉         | 14/152 [00:03<00:35,  3.84it/s]\u001b[A"
          ]
        },
        {
          "output_type": "stream",
          "name": "stdout",
          "text": [
            "Invalid label found, adjusting: tensor([1, 0, 2, 2, 0, 1, 0, 0, 2, 0, 0, 1, 0, 1, 2, 1], device='cuda:0')\n"
          ]
        },
        {
          "output_type": "stream",
          "name": "stderr",
          "text": [
            "\n",
            "Training iteration:  10%|▉         | 15/152 [00:03<00:35,  3.86it/s]\u001b[A"
          ]
        },
        {
          "output_type": "stream",
          "name": "stdout",
          "text": [
            "Invalid label found, adjusting: tensor([1, 2, 0, 1, 1, 1, 2, 1, 1, 2, 1, 1, 1, 0, 0, 0], device='cuda:0')\n"
          ]
        },
        {
          "output_type": "stream",
          "name": "stderr",
          "text": [
            "\n",
            "Training iteration:  11%|█         | 16/152 [00:04<00:35,  3.87it/s]\u001b[A"
          ]
        },
        {
          "output_type": "stream",
          "name": "stdout",
          "text": [
            "Invalid label found, adjusting: tensor([1, 2, 0, 2, 0, 1, 1, 2, 1, 2, 1, 1, 2, 0, 0, 2], device='cuda:0')\n"
          ]
        },
        {
          "output_type": "stream",
          "name": "stderr",
          "text": [
            "\n",
            "Training iteration:  11%|█         | 17/152 [00:04<00:35,  3.85it/s]\u001b[A"
          ]
        },
        {
          "output_type": "stream",
          "name": "stdout",
          "text": [
            "Invalid label found, adjusting: tensor([0, 2, 2, 0, 0, 2, 2, 2, 2, 1, 0, 1, 0, 2, 0, 0], device='cuda:0')\n"
          ]
        },
        {
          "output_type": "stream",
          "name": "stderr",
          "text": [
            "\n",
            "Training iteration:  12%|█▏        | 18/152 [00:04<00:34,  3.85it/s]\u001b[A"
          ]
        },
        {
          "output_type": "stream",
          "name": "stdout",
          "text": [
            "Invalid label found, adjusting: tensor([2, 0, 2, 2, 0, 1, 1, 0, 2, 0, 1, 0, 1, 2, 0, 2], device='cuda:0')\n"
          ]
        },
        {
          "output_type": "stream",
          "name": "stderr",
          "text": [
            "\n",
            "Training iteration:  12%|█▎        | 19/152 [00:04<00:34,  3.84it/s]\u001b[A"
          ]
        },
        {
          "output_type": "stream",
          "name": "stdout",
          "text": [
            "Invalid label found, adjusting: tensor([0, 1, 0, 1, 2, 2, 2, 1, 2, 0, 1, 2, 2, 2, 2, 1], device='cuda:0')\n"
          ]
        },
        {
          "output_type": "stream",
          "name": "stderr",
          "text": [
            "\n",
            "Training iteration:  13%|█▎        | 20/152 [00:05<00:34,  3.84it/s]\u001b[A"
          ]
        },
        {
          "output_type": "stream",
          "name": "stdout",
          "text": [
            "Invalid label found, adjusting: tensor([1, 0, 2, 2, 1, 0, 2, 1, 0, 1, 0, 2, 0, 1, 0, 2], device='cuda:0')\n"
          ]
        },
        {
          "output_type": "stream",
          "name": "stderr",
          "text": [
            "\n",
            "Training iteration:  14%|█▍        | 21/152 [00:05<00:34,  3.84it/s]\u001b[A"
          ]
        },
        {
          "output_type": "stream",
          "name": "stdout",
          "text": [
            "Invalid label found, adjusting: tensor([2, 1, 1, 1, 1, 2, 2, 2, 0, 0, 1, 1, 2, 2, 0, 2], device='cuda:0')\n"
          ]
        },
        {
          "output_type": "stream",
          "name": "stderr",
          "text": [
            "\n",
            "Training iteration:  14%|█▍        | 22/152 [00:05<00:33,  3.86it/s]\u001b[A"
          ]
        },
        {
          "output_type": "stream",
          "name": "stdout",
          "text": [
            "Invalid label found, adjusting: tensor([0, 2, 2, 2, 2, 1, 1, 1, 0, 1, 1, 2, 2, 1, 0, 1], device='cuda:0')\n"
          ]
        },
        {
          "output_type": "stream",
          "name": "stderr",
          "text": [
            "\n",
            "Training iteration:  15%|█▌        | 23/152 [00:05<00:33,  3.86it/s]\u001b[A"
          ]
        },
        {
          "output_type": "stream",
          "name": "stdout",
          "text": [
            "Invalid label found, adjusting: tensor([0, 1, 2, 1, 2, 1, 1, 2, 1, 2, 1, 1, 1, 0, 1, 1], device='cuda:0')\n"
          ]
        },
        {
          "output_type": "stream",
          "name": "stderr",
          "text": [
            "\n",
            "Training iteration:  16%|█▌        | 24/152 [00:06<00:33,  3.85it/s]\u001b[A"
          ]
        },
        {
          "output_type": "stream",
          "name": "stdout",
          "text": [
            "Invalid label found, adjusting: tensor([0, 2, 2, 1, 2, 0, 1, 1, 0, 1, 1, 2, 0, 1, 0, 0], device='cuda:0')\n"
          ]
        },
        {
          "output_type": "stream",
          "name": "stderr",
          "text": [
            "\n",
            "Training iteration:  16%|█▋        | 25/152 [00:06<00:33,  3.83it/s]\u001b[A"
          ]
        },
        {
          "output_type": "stream",
          "name": "stdout",
          "text": [
            "Invalid label found, adjusting: tensor([2, 2, 0, 2, 1, 0, 1, 0, 1, 1, 1, 1, 2, 0, 1, 0], device='cuda:0')\n"
          ]
        },
        {
          "output_type": "stream",
          "name": "stderr",
          "text": [
            "\n",
            "Training iteration:  17%|█▋        | 26/152 [00:06<00:32,  3.83it/s]\u001b[A"
          ]
        },
        {
          "output_type": "stream",
          "name": "stdout",
          "text": [
            "Invalid label found, adjusting: tensor([0, 0, 0, 2, 2, 1, 0, 1, 2, 0, 1, 2, 0, 0, 2, 1], device='cuda:0')\n"
          ]
        },
        {
          "output_type": "stream",
          "name": "stderr",
          "text": [
            "\n",
            "Training iteration:  18%|█▊        | 27/152 [00:07<00:32,  3.82it/s]\u001b[A"
          ]
        },
        {
          "output_type": "stream",
          "name": "stdout",
          "text": [
            "Invalid label found, adjusting: tensor([0, 1, 1, 1, 2, 1, 1, 1, 2, 2, 2, 1, 1, 2, 2, 1], device='cuda:0')\n"
          ]
        },
        {
          "output_type": "stream",
          "name": "stderr",
          "text": [
            "\n",
            "Training iteration:  18%|█▊        | 28/152 [00:07<00:32,  3.82it/s]\u001b[A"
          ]
        },
        {
          "output_type": "stream",
          "name": "stdout",
          "text": [
            "Invalid label found, adjusting: tensor([2, 0, 0, 2, 2, 1, 0, 2, 1, 2, 2, 1, 2, 0, 0, 0], device='cuda:0')\n"
          ]
        },
        {
          "output_type": "stream",
          "name": "stderr",
          "text": [
            "\n",
            "Training iteration:  19%|█▉        | 29/152 [00:07<00:32,  3.81it/s]\u001b[A"
          ]
        },
        {
          "output_type": "stream",
          "name": "stdout",
          "text": [
            "Invalid label found, adjusting: tensor([2, 0, 1, 2, 0, 2, 0, 0, 1, 0, 0, 2, 2, 2, 2, 0], device='cuda:0')\n"
          ]
        },
        {
          "output_type": "stream",
          "name": "stderr",
          "text": [
            "\n",
            "Training iteration:  20%|█▉        | 30/152 [00:07<00:32,  3.80it/s]\u001b[A"
          ]
        },
        {
          "output_type": "stream",
          "name": "stdout",
          "text": [
            "Invalid label found, adjusting: tensor([0, 2, 0, 0, 2, 1, 2, 0, 2, 0, 1, 2, 1, 2, 2, 0], device='cuda:0')\n"
          ]
        },
        {
          "output_type": "stream",
          "name": "stderr",
          "text": [
            "\n",
            "Training iteration:  20%|██        | 31/152 [00:08<00:31,  3.80it/s]\u001b[A"
          ]
        },
        {
          "output_type": "stream",
          "name": "stdout",
          "text": [
            "Invalid label found, adjusting: tensor([1, 0, 2, 0, 0, 1, 1, 2, 2, 2, 0, 2, 0, 0, 2, 2], device='cuda:0')\n"
          ]
        },
        {
          "output_type": "stream",
          "name": "stderr",
          "text": [
            "\n",
            "Training iteration:  21%|██        | 32/152 [00:08<00:31,  3.79it/s]\u001b[A"
          ]
        },
        {
          "output_type": "stream",
          "name": "stdout",
          "text": [
            "Invalid label found, adjusting: tensor([2, 1, 0, 2, 2, 0, 0, 0, 0, 2, 1, 0, 1, 0, 0, 0], device='cuda:0')\n"
          ]
        },
        {
          "output_type": "stream",
          "name": "stderr",
          "text": [
            "\n",
            "Training iteration:  22%|██▏       | 33/152 [00:08<00:31,  3.80it/s]\u001b[A"
          ]
        },
        {
          "output_type": "stream",
          "name": "stdout",
          "text": [
            "Invalid label found, adjusting: tensor([0, 1, 0, 0, 0, 0, 2, 0, 1, 0, 2, 2, 0, 1, 0, 1], device='cuda:0')\n"
          ]
        },
        {
          "output_type": "stream",
          "name": "stderr",
          "text": [
            "\n",
            "Training iteration:  22%|██▏       | 34/152 [00:08<00:30,  3.81it/s]\u001b[A"
          ]
        },
        {
          "output_type": "stream",
          "name": "stdout",
          "text": [
            "Invalid label found, adjusting: tensor([2, 2, 1, 2, 2, 1, 2, 2, 0, 2, 1, 0, 0, 2, 0, 2], device='cuda:0')\n"
          ]
        },
        {
          "output_type": "stream",
          "name": "stderr",
          "text": [
            "\n",
            "Training iteration:  23%|██▎       | 35/152 [00:09<00:30,  3.81it/s]\u001b[A"
          ]
        },
        {
          "output_type": "stream",
          "name": "stdout",
          "text": [
            "Invalid label found, adjusting: tensor([1, 1, 2, 0, 1, 0, 1, 2, 2, 2, 2, 2, 2, 1, 2, 0], device='cuda:0')\n"
          ]
        },
        {
          "output_type": "stream",
          "name": "stderr",
          "text": [
            "\n",
            "Training iteration:  24%|██▎       | 36/152 [00:09<00:30,  3.80it/s]\u001b[A"
          ]
        },
        {
          "output_type": "stream",
          "name": "stdout",
          "text": [
            "Invalid label found, adjusting: tensor([0, 2, 0, 0, 2, 0, 1, 0, 0, 1, 0, 1, 2, 0, 1, 2], device='cuda:0')\n"
          ]
        },
        {
          "output_type": "stream",
          "name": "stderr",
          "text": [
            "\n",
            "Training iteration:  24%|██▍       | 37/152 [00:09<00:30,  3.81it/s]\u001b[A"
          ]
        },
        {
          "output_type": "stream",
          "name": "stdout",
          "text": [
            "Invalid label found, adjusting: tensor([1, 0, 0, 2, 2, 0, 0, 2, 2, 2, 2, 1, 1, 2, 0, 1], device='cuda:0')\n"
          ]
        },
        {
          "output_type": "stream",
          "name": "stderr",
          "text": [
            "\n",
            "Training iteration:  25%|██▌       | 38/152 [00:09<00:29,  3.82it/s]\u001b[A"
          ]
        },
        {
          "output_type": "stream",
          "name": "stdout",
          "text": [
            "Invalid label found, adjusting: tensor([0, 2, 1, 0, 2, 2, 1, 1, 1, 2, 0, 0, 1, 1, 1, 2], device='cuda:0')\n"
          ]
        },
        {
          "output_type": "stream",
          "name": "stderr",
          "text": [
            "\n",
            "Training iteration:  26%|██▌       | 39/152 [00:10<00:29,  3.81it/s]\u001b[A"
          ]
        },
        {
          "output_type": "stream",
          "name": "stdout",
          "text": [
            "Invalid label found, adjusting: tensor([1, 0, 1, 2, 0, 1, 0, 1, 1, 2, 0, 1, 1, 0, 1, 2], device='cuda:0')\n"
          ]
        },
        {
          "output_type": "stream",
          "name": "stderr",
          "text": [
            "\n",
            "Training iteration:  26%|██▋       | 40/152 [00:10<00:29,  3.81it/s]\u001b[A"
          ]
        },
        {
          "output_type": "stream",
          "name": "stdout",
          "text": [
            "Invalid label found, adjusting: tensor([0, 1, 2, 2, 0, 2, 0, 2, 0, 0, 0, 1, 1, 0, 0, 1], device='cuda:0')\n"
          ]
        },
        {
          "output_type": "stream",
          "name": "stderr",
          "text": [
            "\n",
            "Training iteration:  27%|██▋       | 41/152 [00:10<00:29,  3.81it/s]\u001b[A"
          ]
        },
        {
          "output_type": "stream",
          "name": "stdout",
          "text": [
            "Invalid label found, adjusting: tensor([0, 0, 2, 0, 1, 2, 1, 2, 1, 1, 2, 0, 2, 1, 0, 2], device='cuda:0')\n"
          ]
        },
        {
          "output_type": "stream",
          "name": "stderr",
          "text": [
            "\n",
            "Training iteration:  28%|██▊       | 42/152 [00:10<00:28,  3.80it/s]\u001b[A"
          ]
        },
        {
          "output_type": "stream",
          "name": "stdout",
          "text": [
            "Invalid label found, adjusting: tensor([2, 0, 1, 2, 0, 1, 1, 1, 1, 0, 2, 0, 0, 2, 1, 0], device='cuda:0')\n"
          ]
        },
        {
          "output_type": "stream",
          "name": "stderr",
          "text": [
            "\n",
            "Training iteration:  28%|██▊       | 43/152 [00:11<00:28,  3.79it/s]\u001b[A"
          ]
        },
        {
          "output_type": "stream",
          "name": "stdout",
          "text": [
            "Invalid label found, adjusting: tensor([2, 2, 2, 2, 0, 1, 1, 2, 1, 2, 0, 2, 2, 2, 2, 2], device='cuda:0')\n"
          ]
        },
        {
          "output_type": "stream",
          "name": "stderr",
          "text": [
            "\n",
            "Training iteration:  29%|██▉       | 44/152 [00:11<00:28,  3.78it/s]\u001b[A"
          ]
        },
        {
          "output_type": "stream",
          "name": "stdout",
          "text": [
            "Invalid label found, adjusting: tensor([0, 1, 2, 1, 2, 0, 0, 2, 2, 2, 1, 2, 2, 2, 1, 2], device='cuda:0')\n"
          ]
        },
        {
          "output_type": "stream",
          "name": "stderr",
          "text": [
            "\n",
            "Training iteration:  30%|██▉       | 45/152 [00:11<00:28,  3.79it/s]\u001b[A"
          ]
        },
        {
          "output_type": "stream",
          "name": "stdout",
          "text": [
            "Invalid label found, adjusting: tensor([1, 0, 1, 0, 2, 0, 2, 2, 2, 2, 1, 2, 0, 1, 2, 1], device='cuda:0')\n"
          ]
        },
        {
          "output_type": "stream",
          "name": "stderr",
          "text": [
            "\n",
            "Training iteration:  30%|███       | 46/152 [00:12<00:27,  3.80it/s]\u001b[A"
          ]
        },
        {
          "output_type": "stream",
          "name": "stdout",
          "text": [
            "Invalid label found, adjusting: tensor([2, 0, 1, 1, 1, 0, 0, 0, 0, 2, 0, 0, 1, 2, 1, 1], device='cuda:0')\n"
          ]
        },
        {
          "output_type": "stream",
          "name": "stderr",
          "text": [
            "\n",
            "Training iteration:  31%|███       | 47/152 [00:12<00:27,  3.79it/s]\u001b[A"
          ]
        },
        {
          "output_type": "stream",
          "name": "stdout",
          "text": [
            "Invalid label found, adjusting: tensor([0, 0, 2, 1, 0, 2, 0, 1, 2, 0, 2, 2, 0, 0, 2, 2], device='cuda:0')\n"
          ]
        },
        {
          "output_type": "stream",
          "name": "stderr",
          "text": [
            "\n",
            "Training iteration:  32%|███▏      | 48/152 [00:12<00:27,  3.80it/s]\u001b[A"
          ]
        },
        {
          "output_type": "stream",
          "name": "stdout",
          "text": [
            "Invalid label found, adjusting: tensor([1, 1, 1, 2, 1, 1, 2, 0, 0, 0, 2, 2, 2, 1, 1, 2], device='cuda:0')\n"
          ]
        },
        {
          "output_type": "stream",
          "name": "stderr",
          "text": [
            "\n",
            "Training iteration:  32%|███▏      | 49/152 [00:12<00:27,  3.80it/s]\u001b[A"
          ]
        },
        {
          "output_type": "stream",
          "name": "stdout",
          "text": [
            "Invalid label found, adjusting: tensor([0, 2, 0, 0, 1, 1, 2, 1, 2, 1, 0, 2, 0, 1, 2, 1], device='cuda:0')\n"
          ]
        },
        {
          "output_type": "stream",
          "name": "stderr",
          "text": [
            "\n",
            "Training iteration:  33%|███▎      | 50/152 [00:13<00:26,  3.80it/s]\u001b[A"
          ]
        },
        {
          "output_type": "stream",
          "name": "stdout",
          "text": [
            "Invalid label found, adjusting: tensor([1, 0, 0, 1, 2, 2, 0, 1, 0, 1, 1, 0, 1, 2, 1, 1], device='cuda:0')\n"
          ]
        },
        {
          "output_type": "stream",
          "name": "stderr",
          "text": [
            "\n",
            "Training iteration:  34%|███▎      | 51/152 [00:13<00:26,  3.80it/s]\u001b[A"
          ]
        },
        {
          "output_type": "stream",
          "name": "stdout",
          "text": [
            "Invalid label found, adjusting: tensor([1, 2, 2, 2, 1, 1, 1, 0, 1, 0, 2, 1, 2, 2, 2, 1], device='cuda:0')\n"
          ]
        },
        {
          "output_type": "stream",
          "name": "stderr",
          "text": [
            "\n",
            "Training iteration:  34%|███▍      | 52/152 [00:13<00:26,  3.79it/s]\u001b[A"
          ]
        },
        {
          "output_type": "stream",
          "name": "stdout",
          "text": [
            "Invalid label found, adjusting: tensor([2, 2, 1, 0, 0, 1, 0, 2, 2, 0, 1, 2, 1, 0, 0, 2], device='cuda:0')\n"
          ]
        },
        {
          "output_type": "stream",
          "name": "stderr",
          "text": [
            "\n",
            "Training iteration:  35%|███▍      | 53/152 [00:13<00:26,  3.79it/s]\u001b[A"
          ]
        },
        {
          "output_type": "stream",
          "name": "stdout",
          "text": [
            "Invalid label found, adjusting: tensor([0, 0, 0, 1, 0, 0, 1, 2, 2, 0, 1, 1, 0, 1, 0, 0], device='cuda:0')\n"
          ]
        },
        {
          "output_type": "stream",
          "name": "stderr",
          "text": [
            "\n",
            "Training iteration:  36%|███▌      | 54/152 [00:14<00:25,  3.80it/s]\u001b[A"
          ]
        },
        {
          "output_type": "stream",
          "name": "stdout",
          "text": [
            "Invalid label found, adjusting: tensor([0, 1, 2, 1, 1, 2, 1, 1, 1, 2, 2, 2, 2, 0, 0, 2], device='cuda:0')\n"
          ]
        },
        {
          "output_type": "stream",
          "name": "stderr",
          "text": [
            "\n",
            "Training iteration:  36%|███▌      | 55/152 [00:14<00:25,  3.80it/s]\u001b[A"
          ]
        },
        {
          "output_type": "stream",
          "name": "stdout",
          "text": [
            "Invalid label found, adjusting: tensor([0, 1, 1, 1, 2, 2, 1, 1, 1, 1, 0, 1, 2, 2, 1, 1], device='cuda:0')\n"
          ]
        },
        {
          "output_type": "stream",
          "name": "stderr",
          "text": [
            "\n",
            "Training iteration:  37%|███▋      | 56/152 [00:14<00:25,  3.80it/s]\u001b[A"
          ]
        },
        {
          "output_type": "stream",
          "name": "stdout",
          "text": [
            "Invalid label found, adjusting: tensor([1, 1, 0, 2, 0, 1, 1, 1, 1, 1, 2, 1, 2, 2, 2, 1], device='cuda:0')\n"
          ]
        },
        {
          "output_type": "stream",
          "name": "stderr",
          "text": [
            "\n",
            "Training iteration:  38%|███▊      | 57/152 [00:14<00:25,  3.79it/s]\u001b[A"
          ]
        },
        {
          "output_type": "stream",
          "name": "stdout",
          "text": [
            "Invalid label found, adjusting: tensor([0, 1, 1, 0, 2, 1, 0, 2, 1, 0, 0, 2, 2, 1, 0, 2], device='cuda:0')\n"
          ]
        },
        {
          "output_type": "stream",
          "name": "stderr",
          "text": [
            "\n",
            "Training iteration:  38%|███▊      | 58/152 [00:15<00:24,  3.79it/s]\u001b[A"
          ]
        },
        {
          "output_type": "stream",
          "name": "stdout",
          "text": [
            "Invalid label found, adjusting: tensor([2, 1, 1, 2, 0, 2, 2, 0, 1, 0, 2, 1, 0, 1, 1, 2], device='cuda:0')\n"
          ]
        },
        {
          "output_type": "stream",
          "name": "stderr",
          "text": [
            "\n",
            "Training iteration:  39%|███▉      | 59/152 [00:15<00:24,  3.80it/s]\u001b[A"
          ]
        },
        {
          "output_type": "stream",
          "name": "stdout",
          "text": [
            "Invalid label found, adjusting: tensor([2, 0, 0, 1, 2, 0, 1, 2, 1, 1, 0, 2, 0, 2, 2, 0], device='cuda:0')\n"
          ]
        },
        {
          "output_type": "stream",
          "name": "stderr",
          "text": [
            "\n",
            "Training iteration:  39%|███▉      | 60/152 [00:15<00:24,  3.81it/s]\u001b[A"
          ]
        },
        {
          "output_type": "stream",
          "name": "stdout",
          "text": [
            "Invalid label found, adjusting: tensor([1, 0, 0, 0, 0, 0, 2, 1, 1, 0, 2, 0, 2, 2, 1, 1], device='cuda:0')\n"
          ]
        },
        {
          "output_type": "stream",
          "name": "stderr",
          "text": [
            "\n",
            "Training iteration:  40%|████      | 61/152 [00:15<00:23,  3.80it/s]\u001b[A"
          ]
        },
        {
          "output_type": "stream",
          "name": "stdout",
          "text": [
            "Invalid label found, adjusting: tensor([1, 1, 2, 1, 2, 1, 0, 1, 2, 0, 2, 1, 2, 2, 2, 1], device='cuda:0')\n"
          ]
        },
        {
          "output_type": "stream",
          "name": "stderr",
          "text": [
            "\n",
            "Training iteration:  41%|████      | 62/152 [00:16<00:23,  3.79it/s]\u001b[A"
          ]
        },
        {
          "output_type": "stream",
          "name": "stdout",
          "text": [
            "Invalid label found, adjusting: tensor([0, 1, 0, 0, 2, 2, 0, 2, 0, 2, 0, 1, 2, 1, 2, 2], device='cuda:0')\n"
          ]
        },
        {
          "output_type": "stream",
          "name": "stderr",
          "text": [
            "\n",
            "Training iteration:  41%|████▏     | 63/152 [00:16<00:23,  3.77it/s]\u001b[A"
          ]
        },
        {
          "output_type": "stream",
          "name": "stdout",
          "text": [
            "Invalid label found, adjusting: tensor([0, 1, 0, 0, 2, 1, 0, 2, 2, 2, 2, 0, 2, 0, 2, 0], device='cuda:0')\n"
          ]
        },
        {
          "output_type": "stream",
          "name": "stderr",
          "text": [
            "\n",
            "Training iteration:  42%|████▏     | 64/152 [00:16<00:23,  3.76it/s]\u001b[A"
          ]
        },
        {
          "output_type": "stream",
          "name": "stdout",
          "text": [
            "Invalid label found, adjusting: tensor([2, 1, 0, 2, 1, 1, 0, 1, 1, 1, 0, 0, 0, 1, 2, 2], device='cuda:0')\n"
          ]
        },
        {
          "output_type": "stream",
          "name": "stderr",
          "text": [
            "\n",
            "Training iteration:  43%|████▎     | 65/152 [00:17<00:23,  3.77it/s]\u001b[A"
          ]
        },
        {
          "output_type": "stream",
          "name": "stdout",
          "text": [
            "Invalid label found, adjusting: tensor([0, 2, 1, 1, 2, 2, 0, 1, 1, 0, 0, 2, 1, 1, 1, 2], device='cuda:0')\n"
          ]
        },
        {
          "output_type": "stream",
          "name": "stderr",
          "text": [
            "\n",
            "Training iteration:  43%|████▎     | 66/152 [00:17<00:22,  3.77it/s]\u001b[A"
          ]
        },
        {
          "output_type": "stream",
          "name": "stdout",
          "text": [
            "Invalid label found, adjusting: tensor([0, 2, 1, 1, 2, 2, 0, 1, 0, 2, 0, 1, 1, 0, 2, 0], device='cuda:0')\n"
          ]
        },
        {
          "output_type": "stream",
          "name": "stderr",
          "text": [
            "\n",
            "Training iteration:  44%|████▍     | 67/152 [00:17<00:22,  3.76it/s]\u001b[A"
          ]
        },
        {
          "output_type": "stream",
          "name": "stdout",
          "text": [
            "Invalid label found, adjusting: tensor([1, 2, 1, 2, 0, 1, 2, 0, 1, 1, 2, 1, 0, 1, 2, 2], device='cuda:0')\n"
          ]
        },
        {
          "output_type": "stream",
          "name": "stderr",
          "text": [
            "\n",
            "Training iteration:  45%|████▍     | 68/152 [00:17<00:22,  3.76it/s]\u001b[A"
          ]
        },
        {
          "output_type": "stream",
          "name": "stdout",
          "text": [
            "Invalid label found, adjusting: tensor([2, 0, 0, 1, 2, 1, 0, 1, 0, 1, 0, 1, 2, 2, 2, 2], device='cuda:0')\n"
          ]
        },
        {
          "output_type": "stream",
          "name": "stderr",
          "text": [
            "\n",
            "Training iteration:  45%|████▌     | 69/152 [00:18<00:21,  3.78it/s]\u001b[A"
          ]
        },
        {
          "output_type": "stream",
          "name": "stdout",
          "text": [
            "Invalid label found, adjusting: tensor([1, 1, 1, 1, 2, 1, 0, 1, 2, 1, 0, 1, 2, 2, 0, 1], device='cuda:0')\n"
          ]
        },
        {
          "output_type": "stream",
          "name": "stderr",
          "text": [
            "\n",
            "Training iteration:  46%|████▌     | 70/152 [00:18<00:21,  3.78it/s]\u001b[A"
          ]
        },
        {
          "output_type": "stream",
          "name": "stdout",
          "text": [
            "Invalid label found, adjusting: tensor([0, 0, 0, 1, 2, 1, 2, 1, 0, 2, 1, 0, 2, 0, 2, 1], device='cuda:0')\n"
          ]
        },
        {
          "output_type": "stream",
          "name": "stderr",
          "text": [
            "\n",
            "Training iteration:  47%|████▋     | 71/152 [00:18<00:21,  3.77it/s]\u001b[A"
          ]
        },
        {
          "output_type": "stream",
          "name": "stdout",
          "text": [
            "Invalid label found, adjusting: tensor([0, 0, 2, 1, 0, 0, 0, 1, 2, 1, 1, 2, 1, 1, 1, 0], device='cuda:0')\n"
          ]
        },
        {
          "output_type": "stream",
          "name": "stderr",
          "text": [
            "\n",
            "Training iteration:  47%|████▋     | 72/152 [00:18<00:21,  3.77it/s]\u001b[A"
          ]
        },
        {
          "output_type": "stream",
          "name": "stdout",
          "text": [
            "Invalid label found, adjusting: tensor([0, 0, 1, 1, 0, 2, 2, 0, 0, 2, 0, 2, 2, 0, 2, 2], device='cuda:0')\n"
          ]
        },
        {
          "output_type": "stream",
          "name": "stderr",
          "text": [
            "\n",
            "Training iteration:  48%|████▊     | 73/152 [00:19<00:20,  3.77it/s]\u001b[A"
          ]
        },
        {
          "output_type": "stream",
          "name": "stdout",
          "text": [
            "Invalid label found, adjusting: tensor([2, 0, 0, 1, 1, 0, 1, 0, 1, 2, 2, 0, 0, 0, 0, 1], device='cuda:0')\n"
          ]
        },
        {
          "output_type": "stream",
          "name": "stderr",
          "text": [
            "\n",
            "Training iteration:  49%|████▊     | 74/152 [00:19<00:20,  3.77it/s]\u001b[A"
          ]
        },
        {
          "output_type": "stream",
          "name": "stdout",
          "text": [
            "Invalid label found, adjusting: tensor([1, 1, 0, 0, 1, 1, 0, 0, 1, 0, 0, 2, 0, 2, 0, 0], device='cuda:0')\n"
          ]
        },
        {
          "output_type": "stream",
          "name": "stderr",
          "text": [
            "\n",
            "Training iteration:  49%|████▉     | 75/152 [00:19<00:20,  3.78it/s]\u001b[A"
          ]
        },
        {
          "output_type": "stream",
          "name": "stdout",
          "text": [
            "Invalid label found, adjusting: tensor([1, 0, 2, 1, 1, 1, 0, 2, 2, 2, 1, 2, 2, 2, 2, 1], device='cuda:0')\n"
          ]
        },
        {
          "output_type": "stream",
          "name": "stderr",
          "text": [
            "\n",
            "Training iteration:  50%|█████     | 76/152 [00:19<00:20,  3.78it/s]\u001b[A"
          ]
        },
        {
          "output_type": "stream",
          "name": "stdout",
          "text": [
            "Invalid label found, adjusting: tensor([2, 2, 0, 2, 2, 0, 1, 0, 1, 1, 0, 1, 0, 0, 0, 2], device='cuda:0')\n"
          ]
        },
        {
          "output_type": "stream",
          "name": "stderr",
          "text": [
            "\n",
            "Training iteration:  51%|█████     | 77/152 [00:20<00:19,  3.80it/s]\u001b[A"
          ]
        },
        {
          "output_type": "stream",
          "name": "stdout",
          "text": [
            "Invalid label found, adjusting: tensor([2, 2, 2, 1, 0, 2, 2, 1, 1, 0, 0, 1, 0, 0, 0, 0], device='cuda:0')\n"
          ]
        },
        {
          "output_type": "stream",
          "name": "stderr",
          "text": [
            "\n",
            "Training iteration:  51%|█████▏    | 78/152 [00:20<00:19,  3.79it/s]\u001b[A"
          ]
        },
        {
          "output_type": "stream",
          "name": "stdout",
          "text": [
            "Invalid label found, adjusting: tensor([2, 1, 2, 1, 2, 1, 2, 2, 1, 2, 1, 2, 1, 0, 0, 0], device='cuda:0')\n"
          ]
        },
        {
          "output_type": "stream",
          "name": "stderr",
          "text": [
            "\n",
            "Training iteration:  52%|█████▏    | 79/152 [00:20<00:19,  3.78it/s]\u001b[A"
          ]
        },
        {
          "output_type": "stream",
          "name": "stdout",
          "text": [
            "Invalid label found, adjusting: tensor([2, 1, 0, 0, 0, 1, 0, 0, 2, 1, 1, 1, 2, 0, 0, 0], device='cuda:0')\n"
          ]
        },
        {
          "output_type": "stream",
          "name": "stderr",
          "text": [
            "\n",
            "Training iteration:  53%|█████▎    | 80/152 [00:20<00:19,  3.79it/s]\u001b[A"
          ]
        },
        {
          "output_type": "stream",
          "name": "stdout",
          "text": [
            "Invalid label found, adjusting: tensor([2, 2, 0, 2, 2, 2, 1, 2, 2, 1, 0, 1, 0, 2, 2, 0], device='cuda:0')\n"
          ]
        },
        {
          "output_type": "stream",
          "name": "stderr",
          "text": [
            "\n",
            "Training iteration:  53%|█████▎    | 81/152 [00:21<00:18,  3.80it/s]\u001b[A"
          ]
        },
        {
          "output_type": "stream",
          "name": "stdout",
          "text": [
            "Invalid label found, adjusting: tensor([1, 1, 2, 1, 1, 2, 1, 1, 1, 2, 2, 0, 2, 2, 2, 1], device='cuda:0')\n"
          ]
        },
        {
          "output_type": "stream",
          "name": "stderr",
          "text": [
            "\n",
            "Training iteration:  54%|█████▍    | 82/152 [00:21<00:18,  3.80it/s]\u001b[A"
          ]
        },
        {
          "output_type": "stream",
          "name": "stdout",
          "text": [
            "Invalid label found, adjusting: tensor([2, 1, 2, 2, 0, 1, 1, 1, 1, 0, 1, 1, 2, 1, 1, 1], device='cuda:0')\n"
          ]
        },
        {
          "output_type": "stream",
          "name": "stderr",
          "text": [
            "\n",
            "Training iteration:  55%|█████▍    | 83/152 [00:21<00:18,  3.81it/s]\u001b[A"
          ]
        },
        {
          "output_type": "stream",
          "name": "stdout",
          "text": [
            "Invalid label found, adjusting: tensor([0, 1, 2, 2, 2, 2, 0, 0, 2, 0, 2, 1, 1, 1, 2, 2], device='cuda:0')\n"
          ]
        },
        {
          "output_type": "stream",
          "name": "stderr",
          "text": [
            "\n",
            "Training iteration:  55%|█████▌    | 84/152 [00:22<00:17,  3.80it/s]\u001b[A"
          ]
        },
        {
          "output_type": "stream",
          "name": "stdout",
          "text": [
            "Invalid label found, adjusting: tensor([1, 2, 0, 2, 0, 0, 2, 0, 0, 1, 1, 1, 1, 1, 0, 0], device='cuda:0')\n"
          ]
        },
        {
          "output_type": "stream",
          "name": "stderr",
          "text": [
            "\n",
            "Training iteration:  56%|█████▌    | 85/152 [00:22<00:17,  3.82it/s]\u001b[A"
          ]
        },
        {
          "output_type": "stream",
          "name": "stdout",
          "text": [
            "Invalid label found, adjusting: tensor([0, 2, 2, 2, 0, 0, 1, 2, 2, 2, 2, 1, 0, 2, 0, 0], device='cuda:0')\n"
          ]
        },
        {
          "output_type": "stream",
          "name": "stderr",
          "text": [
            "\n",
            "Training iteration:  57%|█████▋    | 86/152 [00:22<00:17,  3.81it/s]\u001b[A"
          ]
        },
        {
          "output_type": "stream",
          "name": "stdout",
          "text": [
            "Invalid label found, adjusting: tensor([2, 0, 2, 0, 2, 1, 2, 0, 2, 2, 0, 2, 1, 2, 0, 0], device='cuda:0')\n"
          ]
        },
        {
          "output_type": "stream",
          "name": "stderr",
          "text": [
            "\n",
            "Training iteration:  57%|█████▋    | 87/152 [00:22<00:17,  3.81it/s]\u001b[A"
          ]
        },
        {
          "output_type": "stream",
          "name": "stdout",
          "text": [
            "Invalid label found, adjusting: tensor([1, 0, 2, 2, 0, 0, 1, 1, 2, 0, 0, 1, 2, 2, 0, 2], device='cuda:0')\n"
          ]
        },
        {
          "output_type": "stream",
          "name": "stderr",
          "text": [
            "\n",
            "Training iteration:  58%|█████▊    | 88/152 [00:23<00:16,  3.81it/s]\u001b[A"
          ]
        },
        {
          "output_type": "stream",
          "name": "stdout",
          "text": [
            "Invalid label found, adjusting: tensor([1, 1, 2, 0, 1, 2, 0, 0, 2, 2, 2, 1, 0, 0, 0, 2], device='cuda:0')\n"
          ]
        },
        {
          "output_type": "stream",
          "name": "stderr",
          "text": [
            "\n",
            "Training iteration:  59%|█████▊    | 89/152 [00:23<00:16,  3.80it/s]\u001b[A"
          ]
        },
        {
          "output_type": "stream",
          "name": "stdout",
          "text": [
            "Invalid label found, adjusting: tensor([2, 1, 0, 0, 0, 2, 1, 0, 0, 0, 1, 2, 1, 0, 1, 2], device='cuda:0')\n"
          ]
        },
        {
          "output_type": "stream",
          "name": "stderr",
          "text": [
            "\n",
            "Training iteration:  59%|█████▉    | 90/152 [00:23<00:16,  3.78it/s]\u001b[A"
          ]
        },
        {
          "output_type": "stream",
          "name": "stdout",
          "text": [
            "Invalid label found, adjusting: tensor([2, 2, 2, 0, 2, 0, 2, 1, 1, 2, 0, 0, 0, 0, 2, 2], device='cuda:0')\n"
          ]
        },
        {
          "output_type": "stream",
          "name": "stderr",
          "text": [
            "\n",
            "Training iteration:  60%|█████▉    | 91/152 [00:23<00:16,  3.77it/s]\u001b[A"
          ]
        },
        {
          "output_type": "stream",
          "name": "stdout",
          "text": [
            "Invalid label found, adjusting: tensor([0, 0, 2, 1, 2, 0, 0, 1, 2, 1, 0, 2, 0, 2, 2, 1], device='cuda:0')\n"
          ]
        },
        {
          "output_type": "stream",
          "name": "stderr",
          "text": [
            "\n",
            "Training iteration:  61%|██████    | 92/152 [00:24<00:15,  3.77it/s]\u001b[A"
          ]
        },
        {
          "output_type": "stream",
          "name": "stdout",
          "text": [
            "Invalid label found, adjusting: tensor([0, 0, 0, 0, 0, 0, 2, 1, 1, 2, 2, 1, 2, 1, 2, 1], device='cuda:0')\n"
          ]
        },
        {
          "output_type": "stream",
          "name": "stderr",
          "text": [
            "\n",
            "Training iteration:  61%|██████    | 93/152 [00:24<00:15,  3.75it/s]\u001b[A"
          ]
        },
        {
          "output_type": "stream",
          "name": "stdout",
          "text": [
            "Invalid label found, adjusting: tensor([0, 0, 2, 1, 1, 1, 2, 2, 0, 2, 0, 0, 1, 0, 1, 2], device='cuda:0')\n"
          ]
        },
        {
          "output_type": "stream",
          "name": "stderr",
          "text": [
            "\n",
            "Training iteration:  62%|██████▏   | 94/152 [00:24<00:15,  3.75it/s]\u001b[A"
          ]
        },
        {
          "output_type": "stream",
          "name": "stdout",
          "text": [
            "Invalid label found, adjusting: tensor([2, 1, 1, 0, 1, 1, 0, 2, 0, 1, 1, 0, 0, 1, 2, 2], device='cuda:0')\n"
          ]
        },
        {
          "output_type": "stream",
          "name": "stderr",
          "text": [
            "\n",
            "Training iteration:  62%|██████▎   | 95/152 [00:24<00:15,  3.76it/s]\u001b[A"
          ]
        },
        {
          "output_type": "stream",
          "name": "stdout",
          "text": [
            "Invalid label found, adjusting: tensor([2, 1, 2, 0, 2, 2, 2, 0, 1, 2, 1, 1, 2, 0, 1, 0], device='cuda:0')\n"
          ]
        },
        {
          "output_type": "stream",
          "name": "stderr",
          "text": [
            "\n",
            "Training iteration:  63%|██████▎   | 96/152 [00:25<00:14,  3.75it/s]\u001b[A"
          ]
        },
        {
          "output_type": "stream",
          "name": "stdout",
          "text": [
            "Invalid label found, adjusting: tensor([1, 0, 2, 0, 2, 0, 2, 0, 1, 0, 2, 0, 1, 2, 2, 0], device='cuda:0')\n"
          ]
        },
        {
          "output_type": "stream",
          "name": "stderr",
          "text": [
            "\n",
            "Training iteration:  64%|██████▍   | 97/152 [00:25<00:14,  3.74it/s]\u001b[A"
          ]
        },
        {
          "output_type": "stream",
          "name": "stdout",
          "text": [
            "Invalid label found, adjusting: tensor([0, 1, 1, 2, 1, 0, 0, 0, 1, 0, 1, 0, 2, 0, 1, 1], device='cuda:0')\n"
          ]
        },
        {
          "output_type": "stream",
          "name": "stderr",
          "text": [
            "\n",
            "Training iteration:  64%|██████▍   | 98/152 [00:25<00:14,  3.75it/s]\u001b[A"
          ]
        },
        {
          "output_type": "stream",
          "name": "stdout",
          "text": [
            "Invalid label found, adjusting: tensor([0, 1, 2, 2, 2, 0, 1, 1, 1, 2, 0, 2, 0, 0, 2, 1], device='cuda:0')\n"
          ]
        },
        {
          "output_type": "stream",
          "name": "stderr",
          "text": [
            "\n",
            "Training iteration:  65%|██████▌   | 99/152 [00:26<00:14,  3.77it/s]\u001b[A"
          ]
        },
        {
          "output_type": "stream",
          "name": "stdout",
          "text": [
            "Invalid label found, adjusting: tensor([1, 2, 2, 2, 1, 2, 0, 2, 1, 0, 1, 2, 0, 2, 1, 2], device='cuda:0')\n"
          ]
        },
        {
          "output_type": "stream",
          "name": "stderr",
          "text": [
            "\n",
            "Training iteration:  66%|██████▌   | 100/152 [00:26<00:13,  3.75it/s]\u001b[A"
          ]
        },
        {
          "output_type": "stream",
          "name": "stdout",
          "text": [
            "Invalid label found, adjusting: tensor([2, 0, 0, 0, 1, 1, 1, 0, 1, 1, 0, 2, 1, 1, 1, 2], device='cuda:0')\n"
          ]
        },
        {
          "output_type": "stream",
          "name": "stderr",
          "text": [
            "\n",
            "Training iteration:  66%|██████▋   | 101/152 [00:26<00:13,  3.75it/s]\u001b[A"
          ]
        },
        {
          "output_type": "stream",
          "name": "stdout",
          "text": [
            "Invalid label found, adjusting: tensor([0, 0, 2, 0, 0, 1, 2, 1, 2, 2, 2, 2, 1, 1, 2, 1], device='cuda:0')\n"
          ]
        },
        {
          "output_type": "stream",
          "name": "stderr",
          "text": [
            "\n",
            "Training iteration:  67%|██████▋   | 102/152 [00:26<00:13,  3.76it/s]\u001b[A"
          ]
        },
        {
          "output_type": "stream",
          "name": "stdout",
          "text": [
            "Invalid label found, adjusting: tensor([2, 2, 1, 0, 1, 2, 2, 1, 2, 1, 2, 0, 1, 1, 1, 1], device='cuda:0')\n"
          ]
        },
        {
          "output_type": "stream",
          "name": "stderr",
          "text": [
            "\n",
            "Training iteration:  68%|██████▊   | 103/152 [00:27<00:13,  3.77it/s]\u001b[A"
          ]
        },
        {
          "output_type": "stream",
          "name": "stdout",
          "text": [
            "Invalid label found, adjusting: tensor([0, 2, 2, 2, 1, 1, 2, 0, 2, 1, 0, 0, 1, 1, 1, 2], device='cuda:0')\n"
          ]
        },
        {
          "output_type": "stream",
          "name": "stderr",
          "text": [
            "\n",
            "Training iteration:  68%|██████▊   | 104/152 [00:27<00:12,  3.77it/s]\u001b[A"
          ]
        },
        {
          "output_type": "stream",
          "name": "stdout",
          "text": [
            "Invalid label found, adjusting: tensor([0, 0, 2, 1, 1, 1, 2, 1, 0, 0, 0, 0, 2, 0, 2, 2], device='cuda:0')\n"
          ]
        },
        {
          "output_type": "stream",
          "name": "stderr",
          "text": [
            "\n",
            "Training iteration:  69%|██████▉   | 105/152 [00:27<00:12,  3.76it/s]\u001b[A"
          ]
        },
        {
          "output_type": "stream",
          "name": "stdout",
          "text": [
            "Invalid label found, adjusting: tensor([2, 0, 0, 1, 0, 1, 1, 0, 0, 0, 0, 1, 0, 2, 2, 0], device='cuda:0')\n"
          ]
        },
        {
          "output_type": "stream",
          "name": "stderr",
          "text": [
            "\n",
            "Training iteration:  70%|██████▉   | 106/152 [00:27<00:12,  3.76it/s]\u001b[A"
          ]
        },
        {
          "output_type": "stream",
          "name": "stdout",
          "text": [
            "Invalid label found, adjusting: tensor([1, 0, 2, 2, 2, 2, 1, 0, 2, 1, 0, 2, 0, 2, 2, 0], device='cuda:0')\n"
          ]
        },
        {
          "output_type": "stream",
          "name": "stderr",
          "text": [
            "\n",
            "Training iteration:  70%|███████   | 107/152 [00:28<00:12,  3.75it/s]\u001b[A"
          ]
        },
        {
          "output_type": "stream",
          "name": "stdout",
          "text": [
            "Invalid label found, adjusting: tensor([1, 0, 2, 0, 0, 2, 2, 0, 1, 0, 2, 2, 2, 0, 2, 2], device='cuda:0')\n"
          ]
        },
        {
          "output_type": "stream",
          "name": "stderr",
          "text": [
            "\n",
            "Training iteration:  71%|███████   | 108/152 [00:28<00:11,  3.77it/s]\u001b[A"
          ]
        },
        {
          "output_type": "stream",
          "name": "stdout",
          "text": [
            "Invalid label found, adjusting: tensor([2, 0, 0, 1, 1, 1, 1, 1, 2, 0, 1, 2, 0, 0, 1, 0], device='cuda:0')\n"
          ]
        },
        {
          "output_type": "stream",
          "name": "stderr",
          "text": [
            "\n",
            "Training iteration:  72%|███████▏  | 109/152 [00:28<00:11,  3.77it/s]\u001b[A"
          ]
        },
        {
          "output_type": "stream",
          "name": "stdout",
          "text": [
            "Invalid label found, adjusting: tensor([1, 2, 2, 0, 2, 0, 2, 2, 1, 0, 1, 1, 0, 1, 2, 2], device='cuda:0')\n"
          ]
        },
        {
          "output_type": "stream",
          "name": "stderr",
          "text": [
            "\n",
            "Training iteration:  72%|███████▏  | 110/152 [00:28<00:11,  3.77it/s]\u001b[A"
          ]
        },
        {
          "output_type": "stream",
          "name": "stdout",
          "text": [
            "Invalid label found, adjusting: tensor([0, 1, 0, 1, 0, 0, 2, 0, 2, 0, 2, 2, 1, 1, 1, 2], device='cuda:0')\n"
          ]
        },
        {
          "output_type": "stream",
          "name": "stderr",
          "text": [
            "\n",
            "Training iteration:  73%|███████▎  | 111/152 [00:29<00:10,  3.77it/s]\u001b[A"
          ]
        },
        {
          "output_type": "stream",
          "name": "stdout",
          "text": [
            "Invalid label found, adjusting: tensor([0, 0, 1, 1, 1, 0, 1, 0, 1, 0, 1, 2, 1, 0, 2, 0], device='cuda:0')\n"
          ]
        },
        {
          "output_type": "stream",
          "name": "stderr",
          "text": [
            "\n",
            "Training iteration:  74%|███████▎  | 112/152 [00:29<00:10,  3.79it/s]\u001b[A"
          ]
        },
        {
          "output_type": "stream",
          "name": "stdout",
          "text": [
            "Invalid label found, adjusting: tensor([0, 0, 1, 2, 1, 1, 2, 2, 2, 0, 0, 1, 2, 0, 0, 1], device='cuda:0')\n"
          ]
        },
        {
          "output_type": "stream",
          "name": "stderr",
          "text": [
            "\n",
            "Training iteration:  74%|███████▍  | 113/152 [00:29<00:10,  3.78it/s]\u001b[A"
          ]
        },
        {
          "output_type": "stream",
          "name": "stdout",
          "text": [
            "Invalid label found, adjusting: tensor([2, 1, 2, 1, 2, 2, 0, 2, 1, 0, 0, 1, 0, 2, 1, 2], device='cuda:0')\n"
          ]
        },
        {
          "output_type": "stream",
          "name": "stderr",
          "text": [
            "\n",
            "Training iteration:  75%|███████▌  | 114/152 [00:30<00:10,  3.77it/s]\u001b[A"
          ]
        },
        {
          "output_type": "stream",
          "name": "stdout",
          "text": [
            "Invalid label found, adjusting: tensor([1, 2, 2, 0, 0, 0, 2, 2, 1, 2, 2, 0, 2, 0, 0, 0], device='cuda:0')\n"
          ]
        },
        {
          "output_type": "stream",
          "name": "stderr",
          "text": [
            "\n",
            "Training iteration:  76%|███████▌  | 115/152 [00:30<00:09,  3.76it/s]\u001b[A"
          ]
        },
        {
          "output_type": "stream",
          "name": "stdout",
          "text": [
            "Invalid label found, adjusting: tensor([1, 0, 0, 0, 2, 1, 0, 1, 0, 0, 0, 0, 2, 2, 1, 0], device='cuda:0')\n"
          ]
        },
        {
          "output_type": "stream",
          "name": "stderr",
          "text": [
            "\n",
            "Training iteration:  76%|███████▋  | 116/152 [00:30<00:09,  3.76it/s]\u001b[A"
          ]
        },
        {
          "output_type": "stream",
          "name": "stdout",
          "text": [
            "Invalid label found, adjusting: tensor([0, 2, 1, 1, 0, 0, 1, 2, 1, 2, 0, 1, 1, 2, 2, 1], device='cuda:0')\n"
          ]
        },
        {
          "output_type": "stream",
          "name": "stderr",
          "text": [
            "\n",
            "Training iteration:  77%|███████▋  | 117/152 [00:30<00:09,  3.78it/s]\u001b[A"
          ]
        },
        {
          "output_type": "stream",
          "name": "stdout",
          "text": [
            "Invalid label found, adjusting: tensor([0, 0, 1, 2, 0, 0, 2, 0, 2, 1, 1, 2, 2, 1, 2, 0], device='cuda:0')\n"
          ]
        },
        {
          "output_type": "stream",
          "name": "stderr",
          "text": [
            "\n",
            "Training iteration:  78%|███████▊  | 118/152 [00:31<00:09,  3.78it/s]\u001b[A"
          ]
        },
        {
          "output_type": "stream",
          "name": "stdout",
          "text": [
            "Invalid label found, adjusting: tensor([2, 0, 0, 2, 1, 0, 2, 1, 1, 0, 0, 1, 2, 2, 0, 1], device='cuda:0')\n"
          ]
        },
        {
          "output_type": "stream",
          "name": "stderr",
          "text": [
            "\n",
            "Training iteration:  78%|███████▊  | 119/152 [00:31<00:08,  3.78it/s]\u001b[A"
          ]
        },
        {
          "output_type": "stream",
          "name": "stdout",
          "text": [
            "Invalid label found, adjusting: tensor([0, 1, 0, 1, 1, 2, 2, 0, 0, 2, 2, 0, 0, 1, 2, 1], device='cuda:0')\n"
          ]
        },
        {
          "output_type": "stream",
          "name": "stderr",
          "text": [
            "\n",
            "Training iteration:  79%|███████▉  | 120/152 [00:31<00:08,  3.77it/s]\u001b[A"
          ]
        },
        {
          "output_type": "stream",
          "name": "stdout",
          "text": [
            "Invalid label found, adjusting: tensor([1, 1, 2, 2, 0, 0, 2, 0, 2, 0, 2, 1, 0, 2, 1, 2], device='cuda:0')\n"
          ]
        },
        {
          "output_type": "stream",
          "name": "stderr",
          "text": [
            "\n",
            "Training iteration:  80%|███████▉  | 121/152 [00:31<00:08,  3.78it/s]\u001b[A"
          ]
        },
        {
          "output_type": "stream",
          "name": "stdout",
          "text": [
            "Invalid label found, adjusting: tensor([0, 1, 2, 1, 1, 0, 0, 2, 0, 1, 0, 1, 1, 2, 1, 2], device='cuda:0')\n"
          ]
        },
        {
          "output_type": "stream",
          "name": "stderr",
          "text": [
            "\n",
            "Training iteration:  80%|████████  | 122/152 [00:32<00:07,  3.79it/s]\u001b[A"
          ]
        },
        {
          "output_type": "stream",
          "name": "stdout",
          "text": [
            "Invalid label found, adjusting: tensor([1, 2, 2, 2, 0, 2, 2, 1, 2, 1, 2, 0, 1, 0, 2, 0], device='cuda:0')\n"
          ]
        },
        {
          "output_type": "stream",
          "name": "stderr",
          "text": [
            "\n",
            "Training iteration:  81%|████████  | 123/152 [00:32<00:07,  3.80it/s]\u001b[A"
          ]
        },
        {
          "output_type": "stream",
          "name": "stdout",
          "text": [
            "Invalid label found, adjusting: tensor([2, 0, 0, 2, 0, 2, 2, 0, 0, 0, 2, 1, 2, 2, 1, 1], device='cuda:0')\n"
          ]
        },
        {
          "output_type": "stream",
          "name": "stderr",
          "text": [
            "\n",
            "Training iteration:  82%|████████▏ | 124/152 [00:32<00:07,  3.77it/s]\u001b[A"
          ]
        },
        {
          "output_type": "stream",
          "name": "stdout",
          "text": [
            "Invalid label found, adjusting: tensor([2, 0, 0, 0, 1, 1, 2, 2, 1, 1, 2, 2, 1, 2, 0, 1], device='cuda:0')\n"
          ]
        },
        {
          "output_type": "stream",
          "name": "stderr",
          "text": [
            "\n",
            "Training iteration:  82%|████████▏ | 125/152 [00:32<00:07,  3.77it/s]\u001b[A"
          ]
        },
        {
          "output_type": "stream",
          "name": "stdout",
          "text": [
            "Invalid label found, adjusting: tensor([2, 1, 1, 0, 2, 2, 0, 1, 1, 0, 1, 2, 0, 0, 0, 1], device='cuda:0')\n"
          ]
        },
        {
          "output_type": "stream",
          "name": "stderr",
          "text": [
            "\n",
            "Training iteration:  83%|████████▎ | 126/152 [00:33<00:06,  3.76it/s]\u001b[A"
          ]
        },
        {
          "output_type": "stream",
          "name": "stdout",
          "text": [
            "Invalid label found, adjusting: tensor([1, 0, 2, 1, 1, 2, 0, 2, 2, 0, 0, 2, 2, 0, 0, 1], device='cuda:0')\n"
          ]
        },
        {
          "output_type": "stream",
          "name": "stderr",
          "text": [
            "\n",
            "Training iteration:  84%|████████▎ | 127/152 [00:33<00:06,  3.77it/s]\u001b[A"
          ]
        },
        {
          "output_type": "stream",
          "name": "stdout",
          "text": [
            "Invalid label found, adjusting: tensor([2, 0, 2, 1, 0, 0, 2, 2, 0, 1, 1, 0, 2, 1, 0, 1], device='cuda:0')\n"
          ]
        },
        {
          "output_type": "stream",
          "name": "stderr",
          "text": [
            "\n",
            "Training iteration:  84%|████████▍ | 128/152 [00:33<00:06,  3.77it/s]\u001b[A"
          ]
        },
        {
          "output_type": "stream",
          "name": "stdout",
          "text": [
            "Invalid label found, adjusting: tensor([1, 2, 2, 2, 0, 2, 1, 1, 2, 1, 2, 0, 2, 0, 0, 0], device='cuda:0')\n"
          ]
        },
        {
          "output_type": "stream",
          "name": "stderr",
          "text": [
            "\n",
            "Training iteration:  85%|████████▍ | 129/152 [00:33<00:06,  3.77it/s]\u001b[A"
          ]
        },
        {
          "output_type": "stream",
          "name": "stdout",
          "text": [
            "Invalid label found, adjusting: tensor([2, 1, 0, 1, 2, 0, 0, 1, 2, 1, 1, 1, 0, 2, 0, 2], device='cuda:0')\n"
          ]
        },
        {
          "output_type": "stream",
          "name": "stderr",
          "text": [
            "\n",
            "Training iteration:  86%|████████▌ | 130/152 [00:34<00:05,  3.76it/s]\u001b[A"
          ]
        },
        {
          "output_type": "stream",
          "name": "stdout",
          "text": [
            "Invalid label found, adjusting: tensor([1, 1, 2, 0, 1, 1, 1, 0, 2, 2, 1, 1, 0, 1, 0, 2], device='cuda:0')\n"
          ]
        },
        {
          "output_type": "stream",
          "name": "stderr",
          "text": [
            "\n",
            "Training iteration:  86%|████████▌ | 131/152 [00:34<00:05,  3.78it/s]\u001b[A"
          ]
        },
        {
          "output_type": "stream",
          "name": "stdout",
          "text": [
            "Invalid label found, adjusting: tensor([1, 2, 1, 1, 0, 2, 2, 2, 0, 0, 2, 2, 0, 2, 2, 2], device='cuda:0')\n"
          ]
        },
        {
          "output_type": "stream",
          "name": "stderr",
          "text": [
            "\n",
            "Training iteration:  87%|████████▋ | 132/152 [00:34<00:05,  3.78it/s]\u001b[A"
          ]
        },
        {
          "output_type": "stream",
          "name": "stdout",
          "text": [
            "Invalid label found, adjusting: tensor([2, 1, 2, 0, 1, 1, 0, 1, 0, 0, 2, 0, 1, 2, 0, 2], device='cuda:0')\n"
          ]
        },
        {
          "output_type": "stream",
          "name": "stderr",
          "text": [
            "\n",
            "Training iteration:  88%|████████▊ | 133/152 [00:35<00:05,  3.77it/s]\u001b[A"
          ]
        },
        {
          "output_type": "stream",
          "name": "stdout",
          "text": [
            "Invalid label found, adjusting: tensor([0, 1, 1, 0, 0, 1, 1, 2, 0, 0, 2, 2, 1, 1, 0, 0], device='cuda:0')\n"
          ]
        },
        {
          "output_type": "stream",
          "name": "stderr",
          "text": [
            "\n",
            "Training iteration:  88%|████████▊ | 134/152 [00:35<00:04,  3.77it/s]\u001b[A"
          ]
        },
        {
          "output_type": "stream",
          "name": "stdout",
          "text": [
            "Invalid label found, adjusting: tensor([0, 2, 1, 1, 1, 2, 2, 0, 1, 0, 2, 2, 1, 1, 1, 2], device='cuda:0')\n"
          ]
        },
        {
          "output_type": "stream",
          "name": "stderr",
          "text": [
            "\n",
            "Training iteration:  89%|████████▉ | 135/152 [00:35<00:04,  3.77it/s]\u001b[A"
          ]
        },
        {
          "output_type": "stream",
          "name": "stdout",
          "text": [
            "Invalid label found, adjusting: tensor([0, 0, 1, 1, 1, 0, 1, 2, 0, 0, 0, 1, 2, 0, 0, 2], device='cuda:0')\n"
          ]
        },
        {
          "output_type": "stream",
          "name": "stderr",
          "text": [
            "\n",
            "Training iteration:  89%|████████▉ | 136/152 [00:35<00:04,  3.76it/s]\u001b[A"
          ]
        },
        {
          "output_type": "stream",
          "name": "stdout",
          "text": [
            "Invalid label found, adjusting: tensor([2, 0, 0, 0, 2, 0, 0, 2, 2, 1, 2, 1, 0, 2, 2, 1], device='cuda:0')\n"
          ]
        },
        {
          "output_type": "stream",
          "name": "stderr",
          "text": [
            "\n",
            "Training iteration:  90%|█████████ | 137/152 [00:36<00:03,  3.75it/s]\u001b[A"
          ]
        },
        {
          "output_type": "stream",
          "name": "stdout",
          "text": [
            "Invalid label found, adjusting: tensor([1, 1, 1, 0, 1, 2, 2, 1, 0, 1, 0, 1, 2, 1, 1, 0], device='cuda:0')\n"
          ]
        },
        {
          "output_type": "stream",
          "name": "stderr",
          "text": [
            "\n",
            "Training iteration:  91%|█████████ | 138/152 [00:36<00:03,  3.77it/s]\u001b[A"
          ]
        },
        {
          "output_type": "stream",
          "name": "stdout",
          "text": [
            "Invalid label found, adjusting: tensor([1, 1, 0, 0, 0, 0, 0, 1, 1, 2, 2, 2, 0, 1, 2, 0], device='cuda:0')\n"
          ]
        },
        {
          "output_type": "stream",
          "name": "stderr",
          "text": [
            "\n",
            "Training iteration:  91%|█████████▏| 139/152 [00:36<00:03,  3.77it/s]\u001b[A"
          ]
        },
        {
          "output_type": "stream",
          "name": "stdout",
          "text": [
            "Invalid label found, adjusting: tensor([1, 2, 0, 2, 0, 2, 2, 1, 1, 1, 0, 1, 0, 0, 1, 0], device='cuda:0')\n"
          ]
        },
        {
          "output_type": "stream",
          "name": "stderr",
          "text": [
            "\n",
            "Training iteration:  92%|█████████▏| 140/152 [00:36<00:03,  3.79it/s]\u001b[A"
          ]
        },
        {
          "output_type": "stream",
          "name": "stdout",
          "text": [
            "Invalid label found, adjusting: tensor([2, 2, 1, 1, 1, 1, 0, 0, 0, 2, 1, 0, 1, 2, 2, 0], device='cuda:0')\n"
          ]
        },
        {
          "output_type": "stream",
          "name": "stderr",
          "text": [
            "\n",
            "Training iteration:  93%|█████████▎| 141/152 [00:37<00:02,  3.77it/s]\u001b[A"
          ]
        },
        {
          "output_type": "stream",
          "name": "stdout",
          "text": [
            "Invalid label found, adjusting: tensor([0, 1, 1, 0, 2, 0, 1, 0, 2, 1, 1, 2, 2, 2, 2, 0], device='cuda:0')\n"
          ]
        },
        {
          "output_type": "stream",
          "name": "stderr",
          "text": [
            "\n",
            "Training iteration:  93%|█████████▎| 142/152 [00:37<00:02,  3.79it/s]\u001b[A"
          ]
        },
        {
          "output_type": "stream",
          "name": "stdout",
          "text": [
            "Invalid label found, adjusting: tensor([0, 0, 0, 2, 2, 0, 0, 0, 1, 0, 2, 1, 1, 1, 0, 0], device='cuda:0')\n"
          ]
        },
        {
          "output_type": "stream",
          "name": "stderr",
          "text": [
            "\n",
            "Training iteration:  94%|█████████▍| 143/152 [00:37<00:02,  3.80it/s]\u001b[A"
          ]
        },
        {
          "output_type": "stream",
          "name": "stdout",
          "text": [
            "Invalid label found, adjusting: tensor([0, 0, 2, 0, 1, 1, 1, 2, 0, 1, 2, 0, 1, 2, 2, 0], device='cuda:0')\n"
          ]
        },
        {
          "output_type": "stream",
          "name": "stderr",
          "text": [
            "\n",
            "Training iteration:  95%|█████████▍| 144/152 [00:37<00:02,  3.78it/s]\u001b[A"
          ]
        },
        {
          "output_type": "stream",
          "name": "stdout",
          "text": [
            "Invalid label found, adjusting: tensor([2, 2, 2, 2, 1, 1, 1, 2, 2, 0, 1, 0, 1, 0, 2, 0], device='cuda:0')\n"
          ]
        },
        {
          "output_type": "stream",
          "name": "stderr",
          "text": [
            "\n",
            "Training iteration:  95%|█████████▌| 145/152 [00:38<00:01,  3.78it/s]\u001b[A"
          ]
        },
        {
          "output_type": "stream",
          "name": "stdout",
          "text": [
            "Invalid label found, adjusting: tensor([0, 1, 2, 1, 2, 1, 1, 2, 0, 0, 1, 1, 1, 1, 1, 2], device='cuda:0')\n"
          ]
        },
        {
          "output_type": "stream",
          "name": "stderr",
          "text": [
            "\n",
            "Training iteration:  96%|█████████▌| 146/152 [00:38<00:01,  3.79it/s]\u001b[A"
          ]
        },
        {
          "output_type": "stream",
          "name": "stdout",
          "text": [
            "Invalid label found, adjusting: tensor([2, 0, 1, 2, 2, 0, 2, 0, 2, 0, 2, 0, 0, 1, 1, 1], device='cuda:0')\n"
          ]
        },
        {
          "output_type": "stream",
          "name": "stderr",
          "text": [
            "\n",
            "Training iteration:  97%|█████████▋| 147/152 [00:38<00:01,  3.78it/s]\u001b[A"
          ]
        },
        {
          "output_type": "stream",
          "name": "stdout",
          "text": [
            "Invalid label found, adjusting: tensor([1, 0, 2, 0, 2, 0, 2, 0, 0, 1, 1, 2, 1, 1, 2, 2], device='cuda:0')\n"
          ]
        },
        {
          "output_type": "stream",
          "name": "stderr",
          "text": [
            "\n",
            "Training iteration:  97%|█████████▋| 148/152 [00:39<00:01,  3.78it/s]\u001b[A"
          ]
        },
        {
          "output_type": "stream",
          "name": "stdout",
          "text": [
            "Invalid label found, adjusting: tensor([0, 0, 2, 1, 1, 0, 1, 2, 2, 1, 1, 2, 1, 1, 1, 0], device='cuda:0')\n"
          ]
        },
        {
          "output_type": "stream",
          "name": "stderr",
          "text": [
            "\n",
            "Training iteration:  98%|█████████▊| 149/152 [00:39<00:00,  3.77it/s]\u001b[A"
          ]
        },
        {
          "output_type": "stream",
          "name": "stdout",
          "text": [
            "Invalid label found, adjusting: tensor([0, 2, 1, 1, 1, 1, 2, 1, 0, 2, 1, 1, 0, 1, 1, 0], device='cuda:0')\n"
          ]
        },
        {
          "output_type": "stream",
          "name": "stderr",
          "text": [
            "\n",
            "Training iteration:  99%|█████████▊| 150/152 [00:39<00:00,  3.79it/s]\u001b[A"
          ]
        },
        {
          "output_type": "stream",
          "name": "stdout",
          "text": [
            "Invalid label found, adjusting: tensor([1, 2, 0, 0, 2, 2, 2, 0, 2, 1, 2, 2, 0, 0, 1, 1], device='cuda:0')\n"
          ]
        },
        {
          "output_type": "stream",
          "name": "stderr",
          "text": [
            "\n",
            "Training iteration:  99%|█████████▉| 151/152 [00:39<00:00,  3.78it/s]\u001b[A"
          ]
        },
        {
          "output_type": "stream",
          "name": "stdout",
          "text": [
            "Invalid label found, adjusting: tensor([0, 0, 2, 2, 0, 0, 1, 2, 2, 0, 2, 1, 0, 1], device='cuda:0')\n"
          ]
        },
        {
          "output_type": "stream",
          "name": "stderr",
          "text": [
            "\n",
            "Training iteration: 100%|██████████| 152/152 [00:40<00:00,  3.80it/s]\n",
            "\n",
            "Evaluating:   0%|          | 0/17 [00:00<?, ?it/s]\u001b[A\n",
            "Evaluating:  12%|█▏        | 2/17 [00:00<00:01, 11.40it/s]\u001b[A"
          ]
        },
        {
          "output_type": "stream",
          "name": "stdout",
          "text": [
            "Invalid label found in evaluation, adjusting: tensor([1, 0, 1, 0, 0, 1, 0, 2, 2, 1, 1, 1, 0, 2, 1, 2], device='cuda:0')\n",
            "Invalid label found in evaluation, adjusting: tensor([1, 1, 1, 0, 2, 0, 2, 2, 0, 2, 0, 0, 1, 2, 1, 1], device='cuda:0')\n",
            "Invalid label found in evaluation, adjusting: tensor([2, 0, 1, 0, 0, 0, 1, 1, 1, 1, 2, 1, 0, 1, 0, 0], device='cuda:0')\n"
          ]
        },
        {
          "output_type": "stream",
          "name": "stderr",
          "text": [
            "\n",
            "Evaluating:  24%|██▎       | 4/17 [00:00<00:01, 11.15it/s]\u001b[A"
          ]
        },
        {
          "output_type": "stream",
          "name": "stdout",
          "text": [
            "Invalid label found in evaluation, adjusting: tensor([1, 1, 2, 1, 2, 0, 1, 2, 1, 1, 2, 1, 0, 0, 1, 2], device='cuda:0')\n",
            "Invalid label found in evaluation, adjusting: tensor([1, 2, 2, 0, 2, 2, 0, 2, 0, 0, 1, 0, 1, 0, 1, 2], device='cuda:0')\n",
            "Invalid label found in evaluation, adjusting: tensor([1, 2, 2, 2, 1, 0, 1, 0, 2, 2, 2, 1, 0, 0, 0, 0], device='cuda:0')\n"
          ]
        },
        {
          "output_type": "stream",
          "name": "stderr",
          "text": [
            "\n",
            "Evaluating:  35%|███▌      | 6/17 [00:00<00:00, 11.16it/s]\u001b[A\n",
            "Evaluating:  47%|████▋     | 8/17 [00:00<00:00, 11.06it/s]\u001b[A"
          ]
        },
        {
          "output_type": "stream",
          "name": "stdout",
          "text": [
            "Invalid label found in evaluation, adjusting: tensor([1, 1, 2, 2, 1, 2, 2, 1, 0, 0, 0, 0, 1, 0, 0, 0], device='cuda:0')\n",
            "Invalid label found in evaluation, adjusting: tensor([2, 0, 1, 1, 0, 2, 0, 1, 1, 0, 1, 2, 1, 1, 1, 0], device='cuda:0')\n",
            "Invalid label found in evaluation, adjusting: tensor([2, 0, 1, 2, 0, 1, 1, 1, 1, 0, 2, 2, 1, 0, 2, 2], device='cuda:0')\n"
          ]
        },
        {
          "output_type": "stream",
          "name": "stderr",
          "text": [
            "\n",
            "Evaluating:  59%|█████▉    | 10/17 [00:00<00:00, 10.92it/s]\u001b[A"
          ]
        },
        {
          "output_type": "stream",
          "name": "stdout",
          "text": [
            "Invalid label found in evaluation, adjusting: tensor([1, 0, 0, 1, 2, 1, 1, 0, 1, 1, 2, 0, 2, 1, 1, 0], device='cuda:0')\n",
            "Invalid label found in evaluation, adjusting: tensor([1, 0, 1, 2, 1, 1, 2, 0, 0, 0, 1, 1, 1, 1, 1, 1], device='cuda:0')\n",
            "Invalid label found in evaluation, adjusting: tensor([2, 2, 1, 0, 1, 0, 2, 2, 2, 0, 0, 0, 1, 1, 1, 0], device='cuda:0')\n"
          ]
        },
        {
          "output_type": "stream",
          "name": "stderr",
          "text": [
            "\n",
            "Evaluating:  71%|███████   | 12/17 [00:01<00:00, 10.93it/s]\u001b[A\n",
            "Evaluating:  82%|████████▏ | 14/17 [00:01<00:00, 10.93it/s]\u001b[A"
          ]
        },
        {
          "output_type": "stream",
          "name": "stdout",
          "text": [
            "Invalid label found in evaluation, adjusting: tensor([2, 1, 0, 0, 2, 2, 2, 1, 2, 0, 2, 1, 1, 1, 1, 2], device='cuda:0')\n",
            "Invalid label found in evaluation, adjusting: tensor([1, 0, 1, 0, 1, 0, 2, 2, 2, 2, 0, 2, 2, 1, 1, 2], device='cuda:0')\n",
            "Invalid label found in evaluation, adjusting: tensor([0, 2, 2, 1, 1, 0, 0, 1, 2, 1, 1, 2, 1, 2, 2, 2], device='cuda:0')\n"
          ]
        },
        {
          "output_type": "stream",
          "name": "stderr",
          "text": [
            "\n",
            "Evaluating: 100%|██████████| 17/17 [00:01<00:00, 11.06it/s]\n",
            "Epoch:  10%|█         | 2/20 [02:05<18:46, 62.56s/it]"
          ]
        },
        {
          "output_type": "stream",
          "name": "stdout",
          "text": [
            "Invalid label found in evaluation, adjusting: tensor([2, 1, 0, 1, 1, 2, 0, 2, 0, 0, 2, 2, 1, 2, 0, 2], device='cuda:0')\n",
            "Invalid label found in evaluation, adjusting: tensor([1, 0, 2, 1, 1, 1, 1, 1, 1, 0, 1, 0, 2, 0], device='cuda:0')\n",
            "Loss history: [0.8622320574872634, 0.8622320574872634]\n",
            "Dev loss: 0.8622320574872634\n",
            "No improvement on development set. Finish training.\n"
          ]
        },
        {
          "output_type": "stream",
          "name": "stderr",
          "text": [
            "\n"
          ]
        }
      ]
    },
    {
      "cell_type": "code",
      "source": [
        "from tqdm import trange, tqdm\n",
        "import torch\n",
        "from torch.nn import CrossEntropyLoss\n",
        "from sklearn.metrics import classification_report\n",
        "import numpy as np\n",
        "\n",
        "def evaluate(model, dataloader, device):\n",
        "    model.eval()\n",
        "    total_loss = 0\n",
        "    nb_eval_steps = 0\n",
        "    predictions = []\n",
        "    true_labels = []\n",
        "\n",
        "    for batch in tqdm(dataloader, desc=\"Evaluating\"):\n",
        "        batch = tuple(t.to(device) for t in batch)\n",
        "        input_ids, input_mask, segment_ids, label_ids = batch\n",
        "\n",
        "        # Check and convert labels if necessary\n",
        "        if any(label_ids > 1):\n",
        "            print(\"Invalid label found in evaluation, adjusting:\", label_ids)\n",
        "            label_ids = torch.where(label_ids == 2, 1, label_ids)\n",
        "\n",
        "        with torch.no_grad():\n",
        "            outputs = model(input_ids, attention_mask=input_mask, token_type_ids=segment_ids, labels=label_ids)\n",
        "            logits = outputs.logits\n",
        "            loss_fct = CrossEntropyLoss()\n",
        "            loss = loss_fct(logits.view(-1, 2), label_ids.view(-1))\n",
        "\n",
        "        total_loss += loss.item()\n",
        "        nb_eval_steps += 1\n",
        "\n",
        "        preds = torch.argmax(logits, dim=1).cpu().numpy()\n",
        "        labels = label_ids.cpu().numpy()\n",
        "        predictions.extend(preds)\n",
        "        true_labels.extend(labels)\n",
        "\n",
        "    avg_loss = total_loss / nb_eval_steps\n",
        "    return avg_loss, predictions, true_labels\n",
        "\n",
        "for _ in trange(int(NUM_TRAIN_EPOCHS), desc=\"Epoch\"):\n",
        "    model.train()\n",
        "    tr_loss = 0\n",
        "    nb_tr_examples, nb_tr_steps = 0, 0\n",
        "\n",
        "    for step, batch in enumerate(tqdm(train_dataloader, desc=\"Training iteration\")):\n",
        "        try:\n",
        "            batch = tuple(t.to(device) for t in batch)\n",
        "            input_ids, input_mask, segment_ids, label_ids = batch\n",
        "\n",
        "            # Check and convert labels if necessary\n",
        "            if any(label_ids > 1):\n",
        "                print(\"Invalid label found, adjusting:\", label_ids)\n",
        "                label_ids = torch.where(label_ids == 2, 1, label_ids)\n",
        "\n",
        "            outputs = model(input_ids, attention_mask=input_mask, token_type_ids=segment_ids, labels=label_ids)\n",
        "            loss = outputs[0]\n",
        "\n",
        "            if GRADIENT_ACCUMULATION_STEPS > 1:\n",
        "                loss = loss / GRADIENT_ACCUMULATION_STEPS\n",
        "\n",
        "            loss.backward()\n",
        "            tr_loss += loss.item()\n",
        "\n",
        "            if (step + 1) % GRADIENT_ACCUMULATION_STEPS == 0:\n",
        "                torch.nn.utils.clip_grad_norm_(model.parameters(), MAX_GRAD_NORM)\n",
        "                optimizer.step()\n",
        "                optimizer.zero_grad()\n",
        "                scheduler.step()\n",
        "\n",
        "        except IndexError as e:\n",
        "            print(f\"An error occurred: {e}\")\n",
        "            print(f\"Labels causing the issue: {label_ids}\")\n",
        "            continue  # Correctly placed within the for loop to skip this batch\n",
        "\n",
        "    dev_loss, predictions, true_labels = evaluate(model, dev_dataloader, device)\n",
        "    print(\"Loss history:\", loss_history)\n",
        "    print(\"Dev loss:\", dev_loss)\n",
        "    print(\"Classification Report:\\n\", classification_report(true_labels, predictions))\n",
        "\n",
        "    if len(loss_history) == 0 or dev_loss < min(loss_history):\n",
        "        no_improvement = 0\n",
        "        model_to_save = model.module if hasattr(model, 'module') else model\n",
        "        output_model_file = os.path.join(OUTPUT_DIR, MODEL_FILE_NAME)\n",
        "        torch.save(model_to_save.state_dict(), output_model_file)\n",
        "    else:\n",
        "        no_improvement += 1\n",
        "\n",
        "    if no_improvement >= PATIENCE:\n",
        "        print(\"No improvement on development set. Finish training.\")\n",
        "        break\n",
        "\n",
        "    loss_history.append(dev_loss)\n"
      ],
      "metadata": {
        "colab": {
          "base_uri": "https://localhost:8080/"
        },
        "id": "FzVYl9e1nPqf",
        "outputId": "6f760dd6-1e5c-498b-ed62-0fb3bd34d8c0"
      },
      "execution_count": 27,
      "outputs": [
        {
          "output_type": "stream",
          "name": "stderr",
          "text": [
            "Epoch:   0%|          | 0/20 [00:00<?, ?it/s]\n",
            "Training iteration:   0%|          | 0/152 [00:00<?, ?it/s]\u001b[A"
          ]
        },
        {
          "output_type": "stream",
          "name": "stdout",
          "text": [
            "Invalid label found, adjusting: tensor([1, 0, 0, 1, 0, 2, 1, 2, 1, 1, 0, 1, 2, 2, 1, 2], device='cuda:0')\n"
          ]
        },
        {
          "output_type": "stream",
          "name": "stderr",
          "text": [
            "\n",
            "Training iteration:   1%|          | 1/152 [00:00<00:49,  3.07it/s]\u001b[A"
          ]
        },
        {
          "output_type": "stream",
          "name": "stdout",
          "text": [
            "Invalid label found, adjusting: tensor([1, 0, 1, 0, 2, 2, 1, 0, 2, 0, 0, 2, 1, 2, 0, 2], device='cuda:0')\n"
          ]
        },
        {
          "output_type": "stream",
          "name": "stderr",
          "text": [
            "\n",
            "Training iteration:   1%|▏         | 2/152 [00:00<00:41,  3.61it/s]\u001b[A"
          ]
        },
        {
          "output_type": "stream",
          "name": "stdout",
          "text": [
            "Invalid label found, adjusting: tensor([2, 2, 1, 1, 1, 1, 0, 2, 1, 0, 2, 1, 2, 1, 2, 1], device='cuda:0')\n"
          ]
        },
        {
          "output_type": "stream",
          "name": "stderr",
          "text": [
            "\n",
            "Training iteration:   2%|▏         | 3/152 [00:00<00:39,  3.81it/s]\u001b[A"
          ]
        },
        {
          "output_type": "stream",
          "name": "stdout",
          "text": [
            "Invalid label found, adjusting: tensor([2, 1, 0, 2, 0, 0, 2, 0, 0, 1, 2, 1, 2, 2, 2, 2], device='cuda:0')\n"
          ]
        },
        {
          "output_type": "stream",
          "name": "stderr",
          "text": [
            "\n",
            "Training iteration:   3%|▎         | 4/152 [00:01<00:37,  3.91it/s]\u001b[A"
          ]
        },
        {
          "output_type": "stream",
          "name": "stdout",
          "text": [
            "Invalid label found, adjusting: tensor([1, 0, 2, 2, 1, 2, 2, 1, 1, 0, 0, 2, 1, 2, 1, 0], device='cuda:0')\n"
          ]
        },
        {
          "output_type": "stream",
          "name": "stderr",
          "text": [
            "\n",
            "Training iteration:   3%|▎         | 5/152 [00:01<00:38,  3.86it/s]\u001b[A"
          ]
        },
        {
          "output_type": "stream",
          "name": "stdout",
          "text": [
            "Invalid label found, adjusting: tensor([1, 2, 0, 1, 1, 1, 0, 1, 1, 2, 1, 2, 2, 0, 0, 0], device='cuda:0')\n"
          ]
        },
        {
          "output_type": "stream",
          "name": "stderr",
          "text": [
            "\n",
            "Training iteration:   4%|▍         | 6/152 [00:01<00:37,  3.92it/s]\u001b[A"
          ]
        },
        {
          "output_type": "stream",
          "name": "stdout",
          "text": [
            "Invalid label found, adjusting: tensor([1, 2, 2, 2, 0, 1, 1, 2, 2, 1, 1, 1, 2, 0, 2, 0], device='cuda:0')\n"
          ]
        },
        {
          "output_type": "stream",
          "name": "stderr",
          "text": [
            "\n",
            "Training iteration:   5%|▍         | 7/152 [00:01<00:36,  3.97it/s]\u001b[A"
          ]
        },
        {
          "output_type": "stream",
          "name": "stdout",
          "text": [
            "Invalid label found, adjusting: tensor([2, 2, 2, 1, 2, 1, 0, 0, 0, 1, 2, 0, 1, 0, 1, 0], device='cuda:0')\n"
          ]
        },
        {
          "output_type": "stream",
          "name": "stderr",
          "text": [
            "\n",
            "Training iteration:   5%|▌         | 8/152 [00:02<00:36,  3.99it/s]\u001b[A"
          ]
        },
        {
          "output_type": "stream",
          "name": "stdout",
          "text": [
            "Invalid label found, adjusting: tensor([2, 0, 1, 0, 0, 1, 0, 2, 0, 2, 2, 0, 2, 0, 1, 1], device='cuda:0')\n"
          ]
        },
        {
          "output_type": "stream",
          "name": "stderr",
          "text": [
            "\n",
            "Training iteration:   6%|▌         | 9/152 [00:02<00:36,  3.96it/s]\u001b[A"
          ]
        },
        {
          "output_type": "stream",
          "name": "stdout",
          "text": [
            "Invalid label found, adjusting: tensor([1, 1, 1, 1, 1, 2, 0, 1, 0, 1, 0, 0, 2, 0, 0, 1], device='cuda:0')\n"
          ]
        },
        {
          "output_type": "stream",
          "name": "stderr",
          "text": [
            "\n",
            "Training iteration:   7%|▋         | 10/152 [00:02<00:35,  3.97it/s]\u001b[A"
          ]
        },
        {
          "output_type": "stream",
          "name": "stdout",
          "text": [
            "Invalid label found, adjusting: tensor([1, 1, 1, 0, 1, 2, 0, 0, 0, 1, 1, 2, 0, 1, 2, 2], device='cuda:0')\n"
          ]
        },
        {
          "output_type": "stream",
          "name": "stderr",
          "text": [
            "\n",
            "Training iteration:   7%|▋         | 11/152 [00:02<00:35,  3.99it/s]\u001b[A"
          ]
        },
        {
          "output_type": "stream",
          "name": "stdout",
          "text": [
            "Invalid label found, adjusting: tensor([0, 1, 0, 0, 1, 1, 2, 0, 1, 1, 2, 0, 1, 2, 0, 2], device='cuda:0')\n"
          ]
        },
        {
          "output_type": "stream",
          "name": "stderr",
          "text": [
            "\n",
            "Training iteration:   8%|▊         | 12/152 [00:03<00:35,  3.99it/s]\u001b[A"
          ]
        },
        {
          "output_type": "stream",
          "name": "stdout",
          "text": [
            "Invalid label found, adjusting: tensor([1, 1, 2, 0, 2, 0, 1, 1, 1, 1, 0, 1, 2, 2, 1, 0], device='cuda:0')\n"
          ]
        },
        {
          "output_type": "stream",
          "name": "stderr",
          "text": [
            "\n",
            "Training iteration:   9%|▊         | 13/152 [00:03<00:35,  3.97it/s]\u001b[A"
          ]
        },
        {
          "output_type": "stream",
          "name": "stdout",
          "text": [
            "Invalid label found, adjusting: tensor([2, 0, 0, 1, 1, 1, 0, 2, 1, 0, 0, 1, 2, 0, 0, 0], device='cuda:0')\n"
          ]
        },
        {
          "output_type": "stream",
          "name": "stderr",
          "text": [
            "\n",
            "Training iteration:   9%|▉         | 14/152 [00:03<00:34,  3.97it/s]\u001b[A"
          ]
        },
        {
          "output_type": "stream",
          "name": "stdout",
          "text": [
            "Invalid label found, adjusting: tensor([0, 0, 1, 2, 1, 2, 0, 1, 2, 2, 2, 0, 1, 0, 1, 2], device='cuda:0')\n"
          ]
        },
        {
          "output_type": "stream",
          "name": "stderr",
          "text": [
            "\n",
            "Training iteration:  10%|▉         | 15/152 [00:03<00:34,  3.99it/s]\u001b[A"
          ]
        },
        {
          "output_type": "stream",
          "name": "stdout",
          "text": [
            "Invalid label found, adjusting: tensor([1, 1, 2, 2, 0, 0, 1, 0, 0, 2, 0, 1, 1, 1, 0, 2], device='cuda:0')\n"
          ]
        },
        {
          "output_type": "stream",
          "name": "stderr",
          "text": [
            "\n",
            "Training iteration:  11%|█         | 16/152 [00:04<00:34,  3.97it/s]\u001b[A"
          ]
        },
        {
          "output_type": "stream",
          "name": "stdout",
          "text": [
            "Invalid label found, adjusting: tensor([0, 0, 0, 2, 1, 0, 1, 2, 0, 0, 1, 2, 2, 0, 2, 2], device='cuda:0')\n"
          ]
        },
        {
          "output_type": "stream",
          "name": "stderr",
          "text": [
            "\n",
            "Training iteration:  11%|█         | 17/152 [00:04<00:34,  3.94it/s]\u001b[A"
          ]
        },
        {
          "output_type": "stream",
          "name": "stdout",
          "text": [
            "Invalid label found, adjusting: tensor([1, 2, 0, 0, 0, 2, 0, 0, 1, 0, 1, 0, 2, 2, 2, 1], device='cuda:0')\n"
          ]
        },
        {
          "output_type": "stream",
          "name": "stderr",
          "text": [
            "\n",
            "Training iteration:  12%|█▏        | 18/152 [00:04<00:33,  3.95it/s]\u001b[A"
          ]
        },
        {
          "output_type": "stream",
          "name": "stdout",
          "text": [
            "Invalid label found, adjusting: tensor([1, 1, 1, 1, 2, 2, 1, 1, 1, 0, 1, 0, 2, 1, 0, 0], device='cuda:0')\n"
          ]
        },
        {
          "output_type": "stream",
          "name": "stderr",
          "text": [
            "\n",
            "Training iteration:  12%|█▎        | 19/152 [00:04<00:33,  3.97it/s]\u001b[A"
          ]
        },
        {
          "output_type": "stream",
          "name": "stdout",
          "text": [
            "Invalid label found, adjusting: tensor([1, 0, 0, 1, 0, 1, 2, 2, 2, 1, 2, 1, 1, 2, 1, 1], device='cuda:0')\n"
          ]
        },
        {
          "output_type": "stream",
          "name": "stderr",
          "text": [
            "\n",
            "Training iteration:  13%|█▎        | 20/152 [00:05<00:33,  3.98it/s]\u001b[A"
          ]
        },
        {
          "output_type": "stream",
          "name": "stdout",
          "text": [
            "Invalid label found, adjusting: tensor([2, 2, 2, 1, 0, 2, 0, 1, 0, 2, 1, 0, 0, 1, 1, 1], device='cuda:0')\n"
          ]
        },
        {
          "output_type": "stream",
          "name": "stderr",
          "text": [
            "\n",
            "Training iteration:  14%|█▍        | 21/152 [00:05<00:33,  3.96it/s]\u001b[A"
          ]
        },
        {
          "output_type": "stream",
          "name": "stdout",
          "text": [
            "Invalid label found, adjusting: tensor([1, 0, 0, 1, 2, 0, 0, 1, 1, 0, 2, 0, 2, 1, 0, 1], device='cuda:0')\n"
          ]
        },
        {
          "output_type": "stream",
          "name": "stderr",
          "text": [
            "\n",
            "Training iteration:  14%|█▍        | 22/152 [00:05<00:32,  3.95it/s]\u001b[A"
          ]
        },
        {
          "output_type": "stream",
          "name": "stdout",
          "text": [
            "Invalid label found, adjusting: tensor([0, 1, 0, 0, 2, 2, 1, 1, 1, 1, 0, 0, 2, 1, 2, 1], device='cuda:0')\n"
          ]
        },
        {
          "output_type": "stream",
          "name": "stderr",
          "text": [
            "\n",
            "Training iteration:  15%|█▌        | 23/152 [00:05<00:32,  3.95it/s]\u001b[A"
          ]
        },
        {
          "output_type": "stream",
          "name": "stdout",
          "text": [
            "Invalid label found, adjusting: tensor([1, 2, 1, 0, 1, 0, 1, 0, 2, 1, 2, 1, 2, 2, 1, 2], device='cuda:0')\n"
          ]
        },
        {
          "output_type": "stream",
          "name": "stderr",
          "text": [
            "\n",
            "Training iteration:  16%|█▌        | 24/152 [00:06<00:32,  3.94it/s]\u001b[A"
          ]
        },
        {
          "output_type": "stream",
          "name": "stdout",
          "text": [
            "Invalid label found, adjusting: tensor([0, 2, 2, 1, 2, 0, 0, 0, 1, 0, 1, 0, 1, 0, 2, 1], device='cuda:0')\n"
          ]
        },
        {
          "output_type": "stream",
          "name": "stderr",
          "text": [
            "\n",
            "Training iteration:  16%|█▋        | 25/152 [00:06<00:32,  3.93it/s]\u001b[A"
          ]
        },
        {
          "output_type": "stream",
          "name": "stdout",
          "text": [
            "Invalid label found, adjusting: tensor([2, 1, 1, 0, 2, 2, 1, 0, 0, 0, 0, 2, 2, 2, 0, 0], device='cuda:0')\n"
          ]
        },
        {
          "output_type": "stream",
          "name": "stderr",
          "text": [
            "\n",
            "Training iteration:  17%|█▋        | 26/152 [00:06<00:32,  3.92it/s]\u001b[A"
          ]
        },
        {
          "output_type": "stream",
          "name": "stdout",
          "text": [
            "Invalid label found, adjusting: tensor([0, 2, 1, 1, 2, 0, 1, 2, 0, 0, 2, 1, 0, 2, 1, 1], device='cuda:0')\n"
          ]
        },
        {
          "output_type": "stream",
          "name": "stderr",
          "text": [
            "\n",
            "Training iteration:  18%|█▊        | 27/152 [00:06<00:31,  3.93it/s]\u001b[A"
          ]
        },
        {
          "output_type": "stream",
          "name": "stdout",
          "text": [
            "Invalid label found, adjusting: tensor([1, 2, 2, 2, 1, 0, 0, 0, 1, 1, 2, 0, 2, 2, 1, 0], device='cuda:0')\n"
          ]
        },
        {
          "output_type": "stream",
          "name": "stderr",
          "text": [
            "\n",
            "Training iteration:  18%|█▊        | 28/152 [00:07<00:31,  3.93it/s]\u001b[A"
          ]
        },
        {
          "output_type": "stream",
          "name": "stdout",
          "text": [
            "Invalid label found, adjusting: tensor([0, 1, 2, 0, 2, 0, 1, 1, 1, 0, 0, 1, 2, 1, 1, 0], device='cuda:0')\n"
          ]
        },
        {
          "output_type": "stream",
          "name": "stderr",
          "text": [
            "\n",
            "Training iteration:  19%|█▉        | 29/152 [00:07<00:31,  3.91it/s]\u001b[A"
          ]
        },
        {
          "output_type": "stream",
          "name": "stdout",
          "text": [
            "Invalid label found, adjusting: tensor([1, 1, 1, 0, 1, 2, 1, 2, 1, 0, 2, 2, 2, 2, 0, 1], device='cuda:0')\n"
          ]
        },
        {
          "output_type": "stream",
          "name": "stderr",
          "text": [
            "\n",
            "Training iteration:  20%|█▉        | 30/152 [00:07<00:31,  3.92it/s]\u001b[A"
          ]
        },
        {
          "output_type": "stream",
          "name": "stdout",
          "text": [
            "Invalid label found, adjusting: tensor([0, 1, 1, 0, 1, 1, 1, 1, 1, 2, 0, 0, 1, 1, 1, 2], device='cuda:0')\n"
          ]
        },
        {
          "output_type": "stream",
          "name": "stderr",
          "text": [
            "\n",
            "Training iteration:  20%|██        | 31/152 [00:07<00:30,  3.93it/s]\u001b[A"
          ]
        },
        {
          "output_type": "stream",
          "name": "stdout",
          "text": [
            "Invalid label found, adjusting: tensor([2, 2, 0, 1, 1, 1, 0, 1, 1, 1, 0, 1, 2, 1, 1, 1], device='cuda:0')\n"
          ]
        },
        {
          "output_type": "stream",
          "name": "stderr",
          "text": [
            "\n",
            "Training iteration:  21%|██        | 32/152 [00:08<00:30,  3.94it/s]\u001b[A"
          ]
        },
        {
          "output_type": "stream",
          "name": "stdout",
          "text": [
            "Invalid label found, adjusting: tensor([2, 2, 0, 0, 2, 0, 0, 1, 2, 1, 0, 2, 2, 1, 0, 2], device='cuda:0')\n"
          ]
        },
        {
          "output_type": "stream",
          "name": "stderr",
          "text": [
            "\n",
            "Training iteration:  22%|██▏       | 33/152 [00:08<00:30,  3.91it/s]\u001b[A"
          ]
        },
        {
          "output_type": "stream",
          "name": "stdout",
          "text": [
            "Invalid label found, adjusting: tensor([0, 1, 2, 2, 0, 2, 2, 1, 0, 0, 2, 2, 1, 2, 2, 2], device='cuda:0')\n"
          ]
        },
        {
          "output_type": "stream",
          "name": "stderr",
          "text": [
            "\n",
            "Training iteration:  22%|██▏       | 34/152 [00:08<00:30,  3.91it/s]\u001b[A"
          ]
        },
        {
          "output_type": "stream",
          "name": "stdout",
          "text": [
            "Invalid label found, adjusting: tensor([1, 0, 0, 0, 2, 2, 2, 0, 2, 0, 1, 1, 0, 0, 0, 1], device='cuda:0')\n"
          ]
        },
        {
          "output_type": "stream",
          "name": "stderr",
          "text": [
            "\n",
            "Training iteration:  23%|██▎       | 35/152 [00:08<00:29,  3.90it/s]\u001b[A"
          ]
        },
        {
          "output_type": "stream",
          "name": "stdout",
          "text": [
            "Invalid label found, adjusting: tensor([0, 0, 2, 2, 1, 2, 1, 0, 1, 2, 0, 1, 0, 2, 0, 1], device='cuda:0')\n"
          ]
        },
        {
          "output_type": "stream",
          "name": "stderr",
          "text": [
            "\n",
            "Training iteration:  24%|██▎       | 36/152 [00:09<00:29,  3.90it/s]\u001b[A"
          ]
        },
        {
          "output_type": "stream",
          "name": "stdout",
          "text": [
            "Invalid label found, adjusting: tensor([0, 0, 1, 0, 2, 0, 1, 2, 1, 2, 1, 2, 0, 2, 1, 2], device='cuda:0')\n"
          ]
        },
        {
          "output_type": "stream",
          "name": "stderr",
          "text": [
            "\n",
            "Training iteration:  24%|██▍       | 37/152 [00:09<00:29,  3.90it/s]\u001b[A"
          ]
        },
        {
          "output_type": "stream",
          "name": "stdout",
          "text": [
            "Invalid label found, adjusting: tensor([0, 0, 2, 0, 0, 1, 1, 0, 2, 0, 0, 1, 1, 0, 1, 1], device='cuda:0')\n"
          ]
        },
        {
          "output_type": "stream",
          "name": "stderr",
          "text": [
            "\n",
            "Training iteration:  25%|██▌       | 38/152 [00:09<00:29,  3.90it/s]\u001b[A"
          ]
        },
        {
          "output_type": "stream",
          "name": "stdout",
          "text": [
            "Invalid label found, adjusting: tensor([0, 0, 0, 2, 0, 2, 2, 2, 2, 0, 2, 1, 1, 0, 2, 2], device='cuda:0')\n"
          ]
        },
        {
          "output_type": "stream",
          "name": "stderr",
          "text": [
            "\n",
            "Training iteration:  26%|██▌       | 39/152 [00:09<00:28,  3.90it/s]\u001b[A"
          ]
        },
        {
          "output_type": "stream",
          "name": "stdout",
          "text": [
            "Invalid label found, adjusting: tensor([0, 0, 1, 0, 0, 0, 0, 2, 1, 1, 0, 1, 2, 2, 2, 0], device='cuda:0')\n"
          ]
        },
        {
          "output_type": "stream",
          "name": "stderr",
          "text": [
            "\n",
            "Training iteration:  26%|██▋       | 40/152 [00:10<00:28,  3.89it/s]\u001b[A"
          ]
        },
        {
          "output_type": "stream",
          "name": "stdout",
          "text": [
            "Invalid label found, adjusting: tensor([1, 2, 1, 2, 2, 1, 2, 1, 2, 2, 0, 0, 2, 2, 1, 0], device='cuda:0')\n"
          ]
        },
        {
          "output_type": "stream",
          "name": "stderr",
          "text": [
            "\n",
            "Training iteration:  27%|██▋       | 41/152 [00:10<00:28,  3.86it/s]\u001b[A"
          ]
        },
        {
          "output_type": "stream",
          "name": "stdout",
          "text": [
            "Invalid label found, adjusting: tensor([0, 1, 0, 1, 2, 1, 2, 1, 2, 1, 2, 2, 1, 1, 0, 1], device='cuda:0')\n"
          ]
        },
        {
          "output_type": "stream",
          "name": "stderr",
          "text": [
            "\n",
            "Training iteration:  28%|██▊       | 42/152 [00:10<00:28,  3.87it/s]\u001b[A"
          ]
        },
        {
          "output_type": "stream",
          "name": "stdout",
          "text": [
            "Invalid label found, adjusting: tensor([0, 2, 0, 0, 2, 0, 2, 0, 1, 1, 2, 1, 0, 2, 2, 2], device='cuda:0')\n"
          ]
        },
        {
          "output_type": "stream",
          "name": "stderr",
          "text": [
            "\n",
            "Training iteration:  28%|██▊       | 43/152 [00:10<00:28,  3.87it/s]\u001b[A"
          ]
        },
        {
          "output_type": "stream",
          "name": "stdout",
          "text": [
            "Invalid label found, adjusting: tensor([2, 0, 1, 1, 2, 2, 0, 1, 0, 0, 0, 1, 1, 1, 0, 0], device='cuda:0')\n"
          ]
        },
        {
          "output_type": "stream",
          "name": "stderr",
          "text": [
            "\n",
            "Training iteration:  29%|██▉       | 44/152 [00:11<00:27,  3.86it/s]\u001b[A"
          ]
        },
        {
          "output_type": "stream",
          "name": "stdout",
          "text": [
            "Invalid label found, adjusting: tensor([2, 1, 1, 1, 2, 1, 0, 2, 0, 0, 0, 2, 2, 0, 2, 1], device='cuda:0')\n"
          ]
        },
        {
          "output_type": "stream",
          "name": "stderr",
          "text": [
            "\n",
            "Training iteration:  30%|██▉       | 45/152 [00:11<00:27,  3.85it/s]\u001b[A"
          ]
        },
        {
          "output_type": "stream",
          "name": "stdout",
          "text": [
            "Invalid label found, adjusting: tensor([1, 0, 0, 0, 2, 0, 1, 0, 2, 0, 0, 2, 0, 2, 1, 0], device='cuda:0')\n"
          ]
        },
        {
          "output_type": "stream",
          "name": "stderr",
          "text": [
            "\n",
            "Training iteration:  30%|███       | 46/152 [00:11<00:27,  3.86it/s]\u001b[A"
          ]
        },
        {
          "output_type": "stream",
          "name": "stdout",
          "text": [
            "Invalid label found, adjusting: tensor([0, 2, 1, 2, 1, 0, 1, 0, 0, 1, 2, 1, 1, 0, 0, 2], device='cuda:0')\n"
          ]
        },
        {
          "output_type": "stream",
          "name": "stderr",
          "text": [
            "\n",
            "Training iteration:  31%|███       | 47/152 [00:12<00:27,  3.84it/s]\u001b[A"
          ]
        },
        {
          "output_type": "stream",
          "name": "stdout",
          "text": [
            "Invalid label found, adjusting: tensor([2, 1, 2, 1, 1, 0, 2, 0, 2, 2, 1, 2, 1, 2, 0, 1], device='cuda:0')\n"
          ]
        },
        {
          "output_type": "stream",
          "name": "stderr",
          "text": [
            "\n",
            "Training iteration:  32%|███▏      | 48/152 [00:12<00:27,  3.82it/s]\u001b[A"
          ]
        },
        {
          "output_type": "stream",
          "name": "stdout",
          "text": [
            "Invalid label found, adjusting: tensor([2, 1, 2, 0, 2, 0, 0, 0, 1, 1, 2, 1, 2, 0, 1, 0], device='cuda:0')\n"
          ]
        },
        {
          "output_type": "stream",
          "name": "stderr",
          "text": [
            "\n",
            "Training iteration:  32%|███▏      | 49/152 [00:12<00:27,  3.81it/s]\u001b[A"
          ]
        },
        {
          "output_type": "stream",
          "name": "stdout",
          "text": [
            "Invalid label found, adjusting: tensor([1, 1, 0, 1, 1, 1, 2, 2, 0, 0, 0, 0, 1, 0, 0, 1], device='cuda:0')\n"
          ]
        },
        {
          "output_type": "stream",
          "name": "stderr",
          "text": [
            "\n",
            "Training iteration:  33%|███▎      | 50/152 [00:12<00:26,  3.83it/s]\u001b[A"
          ]
        },
        {
          "output_type": "stream",
          "name": "stdout",
          "text": [
            "Invalid label found, adjusting: tensor([2, 1, 1, 0, 2, 2, 1, 1, 0, 2, 0, 0, 0, 1, 0, 0], device='cuda:0')\n"
          ]
        },
        {
          "output_type": "stream",
          "name": "stderr",
          "text": [
            "\n",
            "Training iteration:  34%|███▎      | 51/152 [00:13<00:26,  3.82it/s]\u001b[A"
          ]
        },
        {
          "output_type": "stream",
          "name": "stdout",
          "text": [
            "Invalid label found, adjusting: tensor([2, 0, 2, 2, 2, 1, 1, 1, 1, 0, 2, 2, 1, 1, 0, 0], device='cuda:0')\n"
          ]
        },
        {
          "output_type": "stream",
          "name": "stderr",
          "text": [
            "\n",
            "Training iteration:  34%|███▍      | 52/152 [00:13<00:26,  3.80it/s]\u001b[A"
          ]
        },
        {
          "output_type": "stream",
          "name": "stdout",
          "text": [
            "Invalid label found, adjusting: tensor([0, 1, 2, 2, 2, 2, 0, 2, 2, 1, 2, 2, 1, 1, 1, 2], device='cuda:0')\n"
          ]
        },
        {
          "output_type": "stream",
          "name": "stderr",
          "text": [
            "\n",
            "Training iteration:  35%|███▍      | 53/152 [00:13<00:26,  3.80it/s]\u001b[A"
          ]
        },
        {
          "output_type": "stream",
          "name": "stdout",
          "text": [
            "Invalid label found, adjusting: tensor([0, 2, 1, 0, 0, 1, 0, 2, 1, 2, 0, 0, 0, 2, 1, 1], device='cuda:0')\n"
          ]
        },
        {
          "output_type": "stream",
          "name": "stderr",
          "text": [
            "\n",
            "Training iteration:  36%|███▌      | 54/152 [00:13<00:25,  3.80it/s]\u001b[A"
          ]
        },
        {
          "output_type": "stream",
          "name": "stdout",
          "text": [
            "Invalid label found, adjusting: tensor([1, 2, 1, 2, 2, 2, 2, 1, 0, 0, 0, 0, 0, 2, 1, 2], device='cuda:0')\n"
          ]
        },
        {
          "output_type": "stream",
          "name": "stderr",
          "text": [
            "\n",
            "Training iteration:  36%|███▌      | 55/152 [00:14<00:25,  3.81it/s]\u001b[A"
          ]
        },
        {
          "output_type": "stream",
          "name": "stdout",
          "text": [
            "Invalid label found, adjusting: tensor([0, 1, 2, 0, 1, 1, 0, 0, 0, 2, 0, 0, 0, 2, 1, 0], device='cuda:0')\n"
          ]
        },
        {
          "output_type": "stream",
          "name": "stderr",
          "text": [
            "\n",
            "Training iteration:  37%|███▋      | 56/152 [00:14<00:25,  3.79it/s]\u001b[A"
          ]
        },
        {
          "output_type": "stream",
          "name": "stdout",
          "text": [
            "Invalid label found, adjusting: tensor([1, 1, 2, 2, 0, 0, 0, 0, 1, 0, 1, 0, 2, 2, 1, 2], device='cuda:0')\n"
          ]
        },
        {
          "output_type": "stream",
          "name": "stderr",
          "text": [
            "\n",
            "Training iteration:  38%|███▊      | 57/152 [00:14<00:24,  3.80it/s]\u001b[A"
          ]
        },
        {
          "output_type": "stream",
          "name": "stdout",
          "text": [
            "Invalid label found, adjusting: tensor([1, 2, 0, 2, 2, 2, 1, 2, 0, 2, 2, 0, 0, 0, 2, 0], device='cuda:0')\n"
          ]
        },
        {
          "output_type": "stream",
          "name": "stderr",
          "text": [
            "\n",
            "Training iteration:  38%|███▊      | 58/152 [00:14<00:24,  3.80it/s]\u001b[A"
          ]
        },
        {
          "output_type": "stream",
          "name": "stdout",
          "text": [
            "Invalid label found, adjusting: tensor([0, 0, 1, 0, 2, 1, 1, 2, 0, 0, 1, 0, 1, 2, 1, 0], device='cuda:0')\n"
          ]
        },
        {
          "output_type": "stream",
          "name": "stderr",
          "text": [
            "\n",
            "Training iteration:  39%|███▉      | 59/152 [00:15<00:24,  3.79it/s]\u001b[A"
          ]
        },
        {
          "output_type": "stream",
          "name": "stdout",
          "text": [
            "Invalid label found, adjusting: tensor([0, 0, 0, 1, 1, 0, 2, 0, 1, 1, 0, 0, 0, 2, 1, 1], device='cuda:0')\n"
          ]
        },
        {
          "output_type": "stream",
          "name": "stderr",
          "text": [
            "\n",
            "Training iteration:  39%|███▉      | 60/152 [00:15<00:24,  3.78it/s]\u001b[A"
          ]
        },
        {
          "output_type": "stream",
          "name": "stdout",
          "text": [
            "Invalid label found, adjusting: tensor([1, 0, 2, 2, 0, 2, 1, 1, 2, 1, 1, 2, 1, 2, 1, 1], device='cuda:0')\n"
          ]
        },
        {
          "output_type": "stream",
          "name": "stderr",
          "text": [
            "\n",
            "Training iteration:  40%|████      | 61/152 [00:15<00:24,  3.78it/s]\u001b[A"
          ]
        },
        {
          "output_type": "stream",
          "name": "stdout",
          "text": [
            "Invalid label found, adjusting: tensor([2, 2, 2, 2, 1, 1, 2, 1, 2, 0, 0, 0, 2, 0, 0, 2], device='cuda:0')\n"
          ]
        },
        {
          "output_type": "stream",
          "name": "stderr",
          "text": [
            "\n",
            "Training iteration:  41%|████      | 62/152 [00:15<00:23,  3.77it/s]\u001b[A"
          ]
        },
        {
          "output_type": "stream",
          "name": "stdout",
          "text": [
            "Invalid label found, adjusting: tensor([0, 1, 1, 2, 1, 0, 2, 0, 1, 2, 1, 0, 0, 1, 0, 1], device='cuda:0')\n"
          ]
        },
        {
          "output_type": "stream",
          "name": "stderr",
          "text": [
            "\n",
            "Training iteration:  41%|████▏     | 63/152 [00:16<00:23,  3.78it/s]\u001b[A"
          ]
        },
        {
          "output_type": "stream",
          "name": "stdout",
          "text": [
            "Invalid label found, adjusting: tensor([1, 2, 0, 2, 2, 0, 2, 0, 0, 0, 0, 1, 1, 0, 2, 2], device='cuda:0')\n"
          ]
        },
        {
          "output_type": "stream",
          "name": "stderr",
          "text": [
            "\n",
            "Training iteration:  42%|████▏     | 64/152 [00:16<00:23,  3.78it/s]\u001b[A"
          ]
        },
        {
          "output_type": "stream",
          "name": "stdout",
          "text": [
            "Invalid label found, adjusting: tensor([0, 2, 0, 0, 1, 1, 0, 2, 0, 0, 2, 2, 2, 2, 1, 0], device='cuda:0')\n"
          ]
        },
        {
          "output_type": "stream",
          "name": "stderr",
          "text": [
            "\n",
            "Training iteration:  43%|████▎     | 65/152 [00:16<00:23,  3.77it/s]\u001b[A"
          ]
        },
        {
          "output_type": "stream",
          "name": "stdout",
          "text": [
            "Invalid label found, adjusting: tensor([0, 1, 0, 1, 1, 2, 2, 1, 0, 1, 2, 1, 2, 2, 0, 0], device='cuda:0')\n"
          ]
        },
        {
          "output_type": "stream",
          "name": "stderr",
          "text": [
            "\n",
            "Training iteration:  43%|████▎     | 66/152 [00:17<00:22,  3.76it/s]\u001b[A"
          ]
        },
        {
          "output_type": "stream",
          "name": "stdout",
          "text": [
            "Invalid label found, adjusting: tensor([1, 1, 2, 2, 0, 2, 0, 1, 1, 0, 1, 0, 1, 2, 1, 1], device='cuda:0')\n"
          ]
        },
        {
          "output_type": "stream",
          "name": "stderr",
          "text": [
            "\n",
            "Training iteration:  44%|████▍     | 67/152 [00:17<00:22,  3.76it/s]\u001b[A"
          ]
        },
        {
          "output_type": "stream",
          "name": "stdout",
          "text": [
            "Invalid label found, adjusting: tensor([0, 2, 2, 1, 1, 1, 1, 2, 2, 1, 2, 2, 0, 1, 2, 2], device='cuda:0')\n"
          ]
        },
        {
          "output_type": "stream",
          "name": "stderr",
          "text": [
            "\n",
            "Training iteration:  45%|████▍     | 68/152 [00:17<00:22,  3.74it/s]\u001b[A"
          ]
        },
        {
          "output_type": "stream",
          "name": "stdout",
          "text": [
            "Invalid label found, adjusting: tensor([2, 0, 0, 2, 2, 2, 1, 0, 2, 1, 1, 1, 2, 0, 0, 0], device='cuda:0')\n"
          ]
        },
        {
          "output_type": "stream",
          "name": "stderr",
          "text": [
            "\n",
            "Training iteration:  45%|████▌     | 69/152 [00:17<00:22,  3.73it/s]\u001b[A"
          ]
        },
        {
          "output_type": "stream",
          "name": "stdout",
          "text": [
            "Invalid label found, adjusting: tensor([2, 0, 0, 2, 0, 1, 1, 0, 2, 0, 0, 0, 0, 1, 1, 0], device='cuda:0')\n"
          ]
        },
        {
          "output_type": "stream",
          "name": "stderr",
          "text": [
            "\n",
            "Training iteration:  46%|████▌     | 70/152 [00:18<00:21,  3.74it/s]\u001b[A"
          ]
        },
        {
          "output_type": "stream",
          "name": "stdout",
          "text": [
            "Invalid label found, adjusting: tensor([0, 2, 2, 2, 0, 0, 1, 2, 1, 0, 2, 1, 0, 0, 1, 1], device='cuda:0')\n"
          ]
        },
        {
          "output_type": "stream",
          "name": "stderr",
          "text": [
            "\n",
            "Training iteration:  47%|████▋     | 71/152 [00:18<00:21,  3.74it/s]\u001b[A"
          ]
        },
        {
          "output_type": "stream",
          "name": "stdout",
          "text": [
            "Invalid label found, adjusting: tensor([1, 1, 1, 1, 2, 2, 1, 2, 1, 1, 1, 2, 1, 2, 0, 2], device='cuda:0')\n"
          ]
        },
        {
          "output_type": "stream",
          "name": "stderr",
          "text": [
            "\n",
            "Training iteration:  47%|████▋     | 72/152 [00:18<00:21,  3.75it/s]\u001b[A"
          ]
        },
        {
          "output_type": "stream",
          "name": "stdout",
          "text": [
            "Invalid label found, adjusting: tensor([0, 0, 2, 1, 1, 0, 1, 0, 1, 1, 0, 0, 0, 0, 0, 1], device='cuda:0')\n"
          ]
        },
        {
          "output_type": "stream",
          "name": "stderr",
          "text": [
            "\n",
            "Training iteration:  48%|████▊     | 73/152 [00:18<00:21,  3.75it/s]\u001b[A"
          ]
        },
        {
          "output_type": "stream",
          "name": "stdout",
          "text": [
            "Invalid label found, adjusting: tensor([0, 0, 1, 2, 0, 2, 2, 1, 2, 1, 0, 1, 0, 2, 1, 2], device='cuda:0')\n"
          ]
        },
        {
          "output_type": "stream",
          "name": "stderr",
          "text": [
            "\n",
            "Training iteration:  49%|████▊     | 74/152 [00:19<00:20,  3.74it/s]\u001b[A"
          ]
        },
        {
          "output_type": "stream",
          "name": "stdout",
          "text": [
            "Invalid label found, adjusting: tensor([2, 1, 0, 2, 2, 2, 0, 2, 1, 0, 1, 0, 2, 0, 2, 0], device='cuda:0')\n"
          ]
        },
        {
          "output_type": "stream",
          "name": "stderr",
          "text": [
            "\n",
            "Training iteration:  49%|████▉     | 75/152 [00:19<00:20,  3.72it/s]\u001b[A"
          ]
        },
        {
          "output_type": "stream",
          "name": "stdout",
          "text": [
            "Invalid label found, adjusting: tensor([2, 2, 1, 0, 1, 1, 2, 0, 0, 1, 1, 1, 1, 0, 1, 0], device='cuda:0')\n"
          ]
        },
        {
          "output_type": "stream",
          "name": "stderr",
          "text": [
            "\n",
            "Training iteration:  50%|█████     | 76/152 [00:19<00:20,  3.72it/s]\u001b[A"
          ]
        },
        {
          "output_type": "stream",
          "name": "stdout",
          "text": [
            "Invalid label found, adjusting: tensor([1, 2, 1, 1, 2, 2, 2, 2, 1, 2, 1, 1, 0, 2, 2, 1], device='cuda:0')\n"
          ]
        },
        {
          "output_type": "stream",
          "name": "stderr",
          "text": [
            "\n",
            "Training iteration:  51%|█████     | 77/152 [00:20<00:20,  3.71it/s]\u001b[A"
          ]
        },
        {
          "output_type": "stream",
          "name": "stdout",
          "text": [
            "Invalid label found, adjusting: tensor([1, 2, 1, 1, 2, 2, 2, 0, 1, 1, 1, 0, 2, 0, 0, 0], device='cuda:0')\n"
          ]
        },
        {
          "output_type": "stream",
          "name": "stderr",
          "text": [
            "\n",
            "Training iteration:  51%|█████▏    | 78/152 [00:20<00:19,  3.71it/s]\u001b[A"
          ]
        },
        {
          "output_type": "stream",
          "name": "stdout",
          "text": [
            "Invalid label found, adjusting: tensor([2, 0, 0, 0, 1, 2, 0, 2, 2, 2, 1, 0, 0, 1, 0, 1], device='cuda:0')\n"
          ]
        },
        {
          "output_type": "stream",
          "name": "stderr",
          "text": [
            "\n",
            "Training iteration:  52%|█████▏    | 79/152 [00:20<00:19,  3.70it/s]\u001b[A"
          ]
        },
        {
          "output_type": "stream",
          "name": "stdout",
          "text": [
            "Invalid label found, adjusting: tensor([0, 0, 1, 1, 0, 2, 2, 2, 2, 0, 1, 0, 1, 2, 0, 0], device='cuda:0')\n"
          ]
        },
        {
          "output_type": "stream",
          "name": "stderr",
          "text": [
            "\n",
            "Training iteration:  53%|█████▎    | 80/152 [00:20<00:19,  3.69it/s]\u001b[A"
          ]
        },
        {
          "output_type": "stream",
          "name": "stdout",
          "text": [
            "Invalid label found, adjusting: tensor([1, 2, 2, 1, 2, 2, 0, 2, 0, 0, 0, 1, 1, 2, 0, 0], device='cuda:0')\n"
          ]
        },
        {
          "output_type": "stream",
          "name": "stderr",
          "text": [
            "\n",
            "Training iteration:  53%|█████▎    | 81/152 [00:21<00:19,  3.69it/s]\u001b[A"
          ]
        },
        {
          "output_type": "stream",
          "name": "stdout",
          "text": [
            "Invalid label found, adjusting: tensor([0, 2, 1, 2, 2, 0, 2, 2, 0, 2, 0, 2, 1, 1, 0, 2], device='cuda:0')\n"
          ]
        },
        {
          "output_type": "stream",
          "name": "stderr",
          "text": [
            "\n",
            "Training iteration:  54%|█████▍    | 82/152 [00:21<00:18,  3.69it/s]\u001b[A"
          ]
        },
        {
          "output_type": "stream",
          "name": "stdout",
          "text": [
            "Invalid label found, adjusting: tensor([1, 1, 2, 1, 1, 1, 2, 2, 0, 1, 2, 1, 0, 2, 1, 2], device='cuda:0')\n"
          ]
        },
        {
          "output_type": "stream",
          "name": "stderr",
          "text": [
            "\n",
            "Training iteration:  55%|█████▍    | 83/152 [00:21<00:18,  3.68it/s]\u001b[A"
          ]
        },
        {
          "output_type": "stream",
          "name": "stdout",
          "text": [
            "Invalid label found, adjusting: tensor([1, 0, 2, 2, 2, 1, 2, 0, 0, 1, 2, 0, 0, 1, 2, 1], device='cuda:0')\n"
          ]
        },
        {
          "output_type": "stream",
          "name": "stderr",
          "text": [
            "\n",
            "Training iteration:  55%|█████▌    | 84/152 [00:21<00:18,  3.67it/s]\u001b[A"
          ]
        },
        {
          "output_type": "stream",
          "name": "stdout",
          "text": [
            "Invalid label found, adjusting: tensor([0, 2, 2, 0, 1, 0, 1, 2, 0, 2, 2, 0, 1, 0, 1, 0], device='cuda:0')\n"
          ]
        },
        {
          "output_type": "stream",
          "name": "stderr",
          "text": [
            "\n",
            "Training iteration:  56%|█████▌    | 85/152 [00:22<00:18,  3.68it/s]\u001b[A"
          ]
        },
        {
          "output_type": "stream",
          "name": "stdout",
          "text": [
            "Invalid label found, adjusting: tensor([2, 0, 2, 0, 1, 2, 1, 1, 2, 1, 2, 0, 0, 2, 2, 1], device='cuda:0')\n"
          ]
        },
        {
          "output_type": "stream",
          "name": "stderr",
          "text": [
            "\n",
            "Training iteration:  57%|█████▋    | 86/152 [00:22<00:17,  3.68it/s]\u001b[A"
          ]
        },
        {
          "output_type": "stream",
          "name": "stdout",
          "text": [
            "Invalid label found, adjusting: tensor([0, 0, 0, 1, 2, 1, 2, 1, 0, 0, 1, 0, 0, 0, 1, 2], device='cuda:0')\n"
          ]
        },
        {
          "output_type": "stream",
          "name": "stderr",
          "text": [
            "\n",
            "Training iteration:  57%|█████▋    | 87/152 [00:22<00:17,  3.63it/s]\u001b[A"
          ]
        },
        {
          "output_type": "stream",
          "name": "stdout",
          "text": [
            "Invalid label found, adjusting: tensor([0, 0, 1, 1, 0, 2, 2, 2, 2, 2, 2, 0, 1, 2, 0, 2], device='cuda:0')\n"
          ]
        },
        {
          "output_type": "stream",
          "name": "stderr",
          "text": [
            "\n",
            "Training iteration:  58%|█████▊    | 88/152 [00:23<00:17,  3.62it/s]\u001b[A"
          ]
        },
        {
          "output_type": "stream",
          "name": "stdout",
          "text": [
            "Invalid label found, adjusting: tensor([0, 1, 1, 0, 1, 2, 2, 2, 0, 2, 2, 2, 2, 1, 1, 0], device='cuda:0')\n"
          ]
        },
        {
          "output_type": "stream",
          "name": "stderr",
          "text": [
            "\n",
            "Training iteration:  59%|█████▊    | 89/152 [00:23<00:17,  3.61it/s]\u001b[A"
          ]
        },
        {
          "output_type": "stream",
          "name": "stdout",
          "text": [
            "Invalid label found, adjusting: tensor([0, 0, 0, 2, 2, 2, 1, 1, 0, 1, 1, 2, 1, 1, 2, 1], device='cuda:0')\n"
          ]
        },
        {
          "output_type": "stream",
          "name": "stderr",
          "text": [
            "\n",
            "Training iteration:  59%|█████▉    | 90/152 [00:23<00:17,  3.64it/s]\u001b[A"
          ]
        },
        {
          "output_type": "stream",
          "name": "stdout",
          "text": [
            "Invalid label found, adjusting: tensor([0, 0, 1, 0, 2, 1, 0, 2, 2, 2, 2, 0, 1, 2, 2, 2], device='cuda:0')\n"
          ]
        },
        {
          "output_type": "stream",
          "name": "stderr",
          "text": [
            "\n",
            "Training iteration:  60%|█████▉    | 91/152 [00:23<00:16,  3.59it/s]\u001b[A"
          ]
        },
        {
          "output_type": "stream",
          "name": "stdout",
          "text": [
            "Invalid label found, adjusting: tensor([1, 2, 0, 1, 2, 1, 2, 2, 0, 1, 0, 2, 0, 0, 1, 2], device='cuda:0')\n"
          ]
        },
        {
          "output_type": "stream",
          "name": "stderr",
          "text": [
            "\n",
            "Training iteration:  61%|██████    | 92/152 [00:24<00:16,  3.60it/s]\u001b[A"
          ]
        },
        {
          "output_type": "stream",
          "name": "stdout",
          "text": [
            "Invalid label found, adjusting: tensor([2, 0, 2, 1, 2, 2, 0, 2, 2, 0, 2, 2, 2, 2, 0, 2], device='cuda:0')\n"
          ]
        },
        {
          "output_type": "stream",
          "name": "stderr",
          "text": [
            "\n",
            "Training iteration:  61%|██████    | 93/152 [00:24<00:16,  3.61it/s]\u001b[A"
          ]
        },
        {
          "output_type": "stream",
          "name": "stdout",
          "text": [
            "Invalid label found, adjusting: tensor([2, 1, 1, 1, 0, 0, 1, 1, 2, 0, 2, 2, 2, 1, 1, 1], device='cuda:0')\n"
          ]
        },
        {
          "output_type": "stream",
          "name": "stderr",
          "text": [
            "\n",
            "Training iteration:  62%|██████▏   | 94/152 [00:24<00:16,  3.61it/s]\u001b[A"
          ]
        },
        {
          "output_type": "stream",
          "name": "stdout",
          "text": [
            "Invalid label found, adjusting: tensor([2, 0, 0, 1, 1, 0, 2, 1, 1, 1, 2, 2, 0, 0, 1, 2], device='cuda:0')\n"
          ]
        },
        {
          "output_type": "stream",
          "name": "stderr",
          "text": [
            "\n",
            "Training iteration:  62%|██████▎   | 95/152 [00:24<00:15,  3.60it/s]\u001b[A"
          ]
        },
        {
          "output_type": "stream",
          "name": "stdout",
          "text": [
            "Invalid label found, adjusting: tensor([1, 0, 1, 0, 1, 1, 0, 2, 1, 0, 2, 1, 1, 1, 2, 1], device='cuda:0')\n"
          ]
        },
        {
          "output_type": "stream",
          "name": "stderr",
          "text": [
            "\n",
            "Training iteration:  63%|██████▎   | 96/152 [00:25<00:15,  3.60it/s]\u001b[A"
          ]
        },
        {
          "output_type": "stream",
          "name": "stdout",
          "text": [
            "Invalid label found, adjusting: tensor([1, 1, 2, 0, 0, 2, 2, 1, 0, 2, 1, 1, 1, 0, 0, 1], device='cuda:0')\n"
          ]
        },
        {
          "output_type": "stream",
          "name": "stderr",
          "text": [
            "\n",
            "Training iteration:  64%|██████▍   | 97/152 [00:25<00:15,  3.61it/s]\u001b[A"
          ]
        },
        {
          "output_type": "stream",
          "name": "stdout",
          "text": [
            "Invalid label found, adjusting: tensor([0, 2, 2, 2, 1, 2, 1, 2, 1, 2, 0, 1, 1, 2, 2, 2], device='cuda:0')\n"
          ]
        },
        {
          "output_type": "stream",
          "name": "stderr",
          "text": [
            "\n",
            "Training iteration:  64%|██████▍   | 98/152 [00:25<00:14,  3.61it/s]\u001b[A"
          ]
        },
        {
          "output_type": "stream",
          "name": "stdout",
          "text": [
            "Invalid label found, adjusting: tensor([0, 0, 0, 0, 0, 0, 1, 0, 2, 0, 0, 1, 1, 2, 1, 0], device='cuda:0')\n"
          ]
        },
        {
          "output_type": "stream",
          "name": "stderr",
          "text": [
            "\n",
            "Training iteration:  65%|██████▌   | 99/152 [00:26<00:14,  3.60it/s]\u001b[A"
          ]
        },
        {
          "output_type": "stream",
          "name": "stdout",
          "text": [
            "Invalid label found, adjusting: tensor([2, 2, 2, 2, 2, 1, 2, 1, 2, 0, 0, 0, 2, 1, 1, 2], device='cuda:0')\n"
          ]
        },
        {
          "output_type": "stream",
          "name": "stderr",
          "text": [
            "\n",
            "Training iteration:  66%|██████▌   | 100/152 [00:26<00:14,  3.61it/s]\u001b[A"
          ]
        },
        {
          "output_type": "stream",
          "name": "stdout",
          "text": [
            "Invalid label found, adjusting: tensor([1, 1, 1, 2, 1, 1, 2, 0, 1, 0, 1, 2, 0, 2, 0, 2], device='cuda:0')\n"
          ]
        },
        {
          "output_type": "stream",
          "name": "stderr",
          "text": [
            "\n",
            "Training iteration:  66%|██████▋   | 101/152 [00:26<00:14,  3.61it/s]\u001b[A"
          ]
        },
        {
          "output_type": "stream",
          "name": "stdout",
          "text": [
            "Invalid label found, adjusting: tensor([0, 1, 1, 2, 0, 2, 1, 1, 1, 2, 2, 2, 2, 1, 0, 0], device='cuda:0')\n"
          ]
        },
        {
          "output_type": "stream",
          "name": "stderr",
          "text": [
            "\n",
            "Training iteration:  67%|██████▋   | 102/152 [00:26<00:13,  3.58it/s]\u001b[A"
          ]
        },
        {
          "output_type": "stream",
          "name": "stdout",
          "text": [
            "Invalid label found, adjusting: tensor([0, 0, 0, 2, 2, 1, 2, 0, 0, 2, 2, 1, 0, 2, 2, 2], device='cuda:0')\n"
          ]
        },
        {
          "output_type": "stream",
          "name": "stderr",
          "text": [
            "\n",
            "Training iteration:  68%|██████▊   | 103/152 [00:27<00:13,  3.55it/s]\u001b[A"
          ]
        },
        {
          "output_type": "stream",
          "name": "stdout",
          "text": [
            "Invalid label found, adjusting: tensor([0, 1, 1, 2, 1, 0, 1, 0, 2, 0, 1, 1, 2, 1, 1, 1], device='cuda:0')\n"
          ]
        },
        {
          "output_type": "stream",
          "name": "stderr",
          "text": [
            "\n",
            "Training iteration:  68%|██████▊   | 104/152 [00:27<00:13,  3.57it/s]\u001b[A"
          ]
        },
        {
          "output_type": "stream",
          "name": "stdout",
          "text": [
            "Invalid label found, adjusting: tensor([0, 0, 2, 2, 1, 1, 1, 0, 0, 1, 1, 0, 1, 1, 0, 0], device='cuda:0')\n"
          ]
        },
        {
          "output_type": "stream",
          "name": "stderr",
          "text": [
            "\n",
            "Training iteration:  69%|██████▉   | 105/152 [00:27<00:13,  3.57it/s]\u001b[A"
          ]
        },
        {
          "output_type": "stream",
          "name": "stdout",
          "text": [
            "Invalid label found, adjusting: tensor([1, 1, 2, 0, 2, 0, 1, 0, 2, 1, 2, 1, 0, 0, 2, 1], device='cuda:0')\n"
          ]
        },
        {
          "output_type": "stream",
          "name": "stderr",
          "text": [
            "\n",
            "Training iteration:  70%|██████▉   | 106/152 [00:28<00:12,  3.56it/s]\u001b[A"
          ]
        },
        {
          "output_type": "stream",
          "name": "stdout",
          "text": [
            "Invalid label found, adjusting: tensor([0, 0, 2, 2, 0, 1, 2, 0, 2, 0, 1, 1, 1, 0, 0, 0], device='cuda:0')\n"
          ]
        },
        {
          "output_type": "stream",
          "name": "stderr",
          "text": [
            "\n",
            "Training iteration:  70%|███████   | 107/152 [00:28<00:12,  3.54it/s]\u001b[A"
          ]
        },
        {
          "output_type": "stream",
          "name": "stdout",
          "text": [
            "Invalid label found, adjusting: tensor([0, 0, 0, 1, 1, 1, 1, 0, 2, 2, 0, 1, 0, 0, 1, 1], device='cuda:0')\n"
          ]
        },
        {
          "output_type": "stream",
          "name": "stderr",
          "text": [
            "\n",
            "Training iteration:  71%|███████   | 108/152 [00:28<00:12,  3.54it/s]\u001b[A"
          ]
        },
        {
          "output_type": "stream",
          "name": "stdout",
          "text": [
            "Invalid label found, adjusting: tensor([0, 0, 1, 1, 1, 1, 1, 1, 1, 0, 0, 1, 0, 2, 1, 2], device='cuda:0')\n"
          ]
        },
        {
          "output_type": "stream",
          "name": "stderr",
          "text": [
            "\n",
            "Training iteration:  72%|███████▏  | 109/152 [00:28<00:12,  3.53it/s]\u001b[A"
          ]
        },
        {
          "output_type": "stream",
          "name": "stdout",
          "text": [
            "Invalid label found, adjusting: tensor([0, 1, 1, 1, 0, 2, 2, 0, 0, 2, 0, 1, 1, 1, 1, 2], device='cuda:0')\n"
          ]
        },
        {
          "output_type": "stream",
          "name": "stderr",
          "text": [
            "\n",
            "Training iteration:  72%|███████▏  | 110/152 [00:29<00:11,  3.53it/s]\u001b[A"
          ]
        },
        {
          "output_type": "stream",
          "name": "stdout",
          "text": [
            "Invalid label found, adjusting: tensor([2, 2, 2, 2, 0, 1, 2, 2, 0, 1, 2, 0, 2, 1, 2, 1], device='cuda:0')\n"
          ]
        },
        {
          "output_type": "stream",
          "name": "stderr",
          "text": [
            "\n",
            "Training iteration:  73%|███████▎  | 111/152 [00:29<00:11,  3.52it/s]\u001b[A"
          ]
        },
        {
          "output_type": "stream",
          "name": "stdout",
          "text": [
            "Invalid label found, adjusting: tensor([0, 2, 0, 0, 0, 2, 2, 2, 0, 0, 0, 2, 1, 2, 2, 2], device='cuda:0')\n"
          ]
        },
        {
          "output_type": "stream",
          "name": "stderr",
          "text": [
            "\n",
            "Training iteration:  74%|███████▎  | 112/152 [00:29<00:11,  3.53it/s]\u001b[A"
          ]
        },
        {
          "output_type": "stream",
          "name": "stdout",
          "text": [
            "Invalid label found, adjusting: tensor([0, 0, 2, 2, 1, 2, 2, 2, 0, 0, 2, 0, 0, 0, 2, 2], device='cuda:0')\n"
          ]
        },
        {
          "output_type": "stream",
          "name": "stderr",
          "text": [
            "\n",
            "Training iteration:  74%|███████▍  | 113/152 [00:30<00:11,  3.54it/s]\u001b[A"
          ]
        },
        {
          "output_type": "stream",
          "name": "stdout",
          "text": [
            "Invalid label found, adjusting: tensor([1, 1, 1, 0, 1, 1, 1, 2, 1, 1, 0, 2, 1, 0, 2, 2], device='cuda:0')\n"
          ]
        },
        {
          "output_type": "stream",
          "name": "stderr",
          "text": [
            "\n",
            "Training iteration:  75%|███████▌  | 114/152 [00:30<00:10,  3.53it/s]\u001b[A"
          ]
        },
        {
          "output_type": "stream",
          "name": "stdout",
          "text": [
            "Invalid label found, adjusting: tensor([2, 2, 2, 1, 2, 2, 2, 0, 2, 2, 2, 2, 1, 2, 2, 0], device='cuda:0')\n"
          ]
        },
        {
          "output_type": "stream",
          "name": "stderr",
          "text": [
            "\n",
            "Training iteration:  76%|███████▌  | 115/152 [00:30<00:10,  3.52it/s]\u001b[A"
          ]
        },
        {
          "output_type": "stream",
          "name": "stdout",
          "text": [
            "Invalid label found, adjusting: tensor([2, 1, 1, 2, 1, 0, 1, 2, 2, 2, 2, 2, 1, 2, 0, 2], device='cuda:0')\n"
          ]
        },
        {
          "output_type": "stream",
          "name": "stderr",
          "text": [
            "\n",
            "Training iteration:  76%|███████▋  | 116/152 [00:30<00:10,  3.51it/s]\u001b[A"
          ]
        },
        {
          "output_type": "stream",
          "name": "stdout",
          "text": [
            "Invalid label found, adjusting: tensor([1, 0, 1, 0, 1, 0, 2, 2, 2, 1, 1, 1, 1, 1, 1, 1], device='cuda:0')\n"
          ]
        },
        {
          "output_type": "stream",
          "name": "stderr",
          "text": [
            "\n",
            "Training iteration:  77%|███████▋  | 117/152 [00:31<00:09,  3.52it/s]\u001b[A"
          ]
        },
        {
          "output_type": "stream",
          "name": "stdout",
          "text": [
            "Invalid label found, adjusting: tensor([0, 0, 2, 0, 1, 1, 0, 0, 0, 2, 0, 1, 2, 1, 0, 1], device='cuda:0')\n"
          ]
        },
        {
          "output_type": "stream",
          "name": "stderr",
          "text": [
            "\n",
            "Training iteration:  78%|███████▊  | 118/152 [00:31<00:09,  3.53it/s]\u001b[A"
          ]
        },
        {
          "output_type": "stream",
          "name": "stdout",
          "text": [
            "Invalid label found, adjusting: tensor([0, 0, 1, 0, 0, 1, 0, 0, 2, 0, 1, 2, 2, 2, 1, 0], device='cuda:0')\n"
          ]
        },
        {
          "output_type": "stream",
          "name": "stderr",
          "text": [
            "\n",
            "Training iteration:  78%|███████▊  | 119/152 [00:31<00:09,  3.54it/s]\u001b[A"
          ]
        },
        {
          "output_type": "stream",
          "name": "stdout",
          "text": [
            "Invalid label found, adjusting: tensor([2, 2, 2, 2, 2, 2, 2, 2, 2, 2, 2, 0, 2, 1, 0, 0], device='cuda:0')\n"
          ]
        },
        {
          "output_type": "stream",
          "name": "stderr",
          "text": [
            "\n",
            "Training iteration:  79%|███████▉  | 120/152 [00:31<00:09,  3.54it/s]\u001b[A"
          ]
        },
        {
          "output_type": "stream",
          "name": "stdout",
          "text": [
            "Invalid label found, adjusting: tensor([1, 1, 1, 1, 1, 0, 0, 2, 0, 2, 1, 1, 1, 0, 0, 0], device='cuda:0')\n"
          ]
        },
        {
          "output_type": "stream",
          "name": "stderr",
          "text": [
            "\n",
            "Training iteration:  80%|███████▉  | 121/152 [00:32<00:08,  3.55it/s]\u001b[A"
          ]
        },
        {
          "output_type": "stream",
          "name": "stdout",
          "text": [
            "Invalid label found, adjusting: tensor([2, 2, 1, 0, 0, 2, 0, 1, 0, 0, 0, 2, 1, 2, 1, 2], device='cuda:0')\n"
          ]
        },
        {
          "output_type": "stream",
          "name": "stderr",
          "text": [
            "\n",
            "Training iteration:  80%|████████  | 122/152 [00:32<00:08,  3.54it/s]\u001b[A"
          ]
        },
        {
          "output_type": "stream",
          "name": "stdout",
          "text": [
            "Invalid label found, adjusting: tensor([0, 0, 2, 2, 2, 1, 2, 1, 1, 0, 1, 2, 1, 1, 0, 2], device='cuda:0')\n"
          ]
        },
        {
          "output_type": "stream",
          "name": "stderr",
          "text": [
            "\n",
            "Training iteration:  81%|████████  | 123/152 [00:32<00:08,  3.53it/s]\u001b[A"
          ]
        },
        {
          "output_type": "stream",
          "name": "stdout",
          "text": [
            "Invalid label found, adjusting: tensor([1, 0, 1, 2, 0, 1, 1, 0, 2, 2, 0, 0, 1, 0, 1, 2], device='cuda:0')\n"
          ]
        },
        {
          "output_type": "stream",
          "name": "stderr",
          "text": [
            "\n",
            "Training iteration:  82%|████████▏ | 124/152 [00:33<00:07,  3.53it/s]\u001b[A"
          ]
        },
        {
          "output_type": "stream",
          "name": "stdout",
          "text": [
            "Invalid label found, adjusting: tensor([1, 0, 0, 0, 0, 2, 1, 0, 2, 0, 0, 2, 1, 2, 1, 2], device='cuda:0')\n"
          ]
        },
        {
          "output_type": "stream",
          "name": "stderr",
          "text": [
            "\n",
            "Training iteration:  82%|████████▏ | 125/152 [00:33<00:07,  3.54it/s]\u001b[A"
          ]
        },
        {
          "output_type": "stream",
          "name": "stdout",
          "text": [
            "Invalid label found, adjusting: tensor([2, 1, 2, 0, 0, 1, 0, 1, 0, 1, 0, 0, 0, 2, 2, 0], device='cuda:0')\n"
          ]
        },
        {
          "output_type": "stream",
          "name": "stderr",
          "text": [
            "\n",
            "Training iteration:  83%|████████▎ | 126/152 [00:33<00:07,  3.53it/s]\u001b[A"
          ]
        },
        {
          "output_type": "stream",
          "name": "stdout",
          "text": [
            "Invalid label found, adjusting: tensor([2, 0, 1, 2, 2, 1, 1, 1, 1, 1, 2, 2, 2, 1, 1, 1], device='cuda:0')\n"
          ]
        },
        {
          "output_type": "stream",
          "name": "stderr",
          "text": [
            "\n",
            "Training iteration:  84%|████████▎ | 127/152 [00:33<00:07,  3.53it/s]\u001b[A"
          ]
        },
        {
          "output_type": "stream",
          "name": "stdout",
          "text": [
            "Invalid label found, adjusting: tensor([2, 1, 0, 1, 0, 1, 2, 0, 2, 0, 1, 0, 0, 2, 2, 2], device='cuda:0')\n"
          ]
        },
        {
          "output_type": "stream",
          "name": "stderr",
          "text": [
            "\n",
            "Training iteration:  84%|████████▍ | 128/152 [00:34<00:06,  3.54it/s]\u001b[A"
          ]
        },
        {
          "output_type": "stream",
          "name": "stdout",
          "text": [
            "Invalid label found, adjusting: tensor([2, 0, 1, 2, 2, 0, 1, 2, 0, 1, 2, 1, 0, 0, 2, 2], device='cuda:0')\n"
          ]
        },
        {
          "output_type": "stream",
          "name": "stderr",
          "text": [
            "\n",
            "Training iteration:  85%|████████▍ | 129/152 [00:34<00:06,  3.55it/s]\u001b[A"
          ]
        },
        {
          "output_type": "stream",
          "name": "stdout",
          "text": [
            "Invalid label found, adjusting: tensor([1, 0, 1, 0, 0, 0, 0, 2, 2, 0, 2, 2, 2, 0, 2, 2], device='cuda:0')\n"
          ]
        },
        {
          "output_type": "stream",
          "name": "stderr",
          "text": [
            "\n",
            "Training iteration:  86%|████████▌ | 130/152 [00:34<00:06,  3.53it/s]\u001b[A"
          ]
        },
        {
          "output_type": "stream",
          "name": "stdout",
          "text": [
            "Invalid label found, adjusting: tensor([1, 2, 1, 2, 0, 0, 1, 0, 2, 2, 2, 1, 2, 1, 0, 1], device='cuda:0')\n"
          ]
        },
        {
          "output_type": "stream",
          "name": "stderr",
          "text": [
            "\n",
            "Training iteration:  86%|████████▌ | 131/152 [00:35<00:05,  3.54it/s]\u001b[A"
          ]
        },
        {
          "output_type": "stream",
          "name": "stdout",
          "text": [
            "Invalid label found, adjusting: tensor([0, 2, 0, 1, 0, 1, 1, 1, 0, 2, 0, 0, 0, 0, 1, 0], device='cuda:0')\n"
          ]
        },
        {
          "output_type": "stream",
          "name": "stderr",
          "text": [
            "\n",
            "Training iteration:  87%|████████▋ | 132/152 [00:35<00:05,  3.53it/s]\u001b[A"
          ]
        },
        {
          "output_type": "stream",
          "name": "stdout",
          "text": [
            "Invalid label found, adjusting: tensor([1, 0, 2, 2, 2, 1, 0, 0, 2, 2, 0, 2, 1, 2, 1, 0], device='cuda:0')\n"
          ]
        },
        {
          "output_type": "stream",
          "name": "stderr",
          "text": [
            "\n",
            "Training iteration:  88%|████████▊ | 133/152 [00:35<00:05,  3.55it/s]\u001b[A"
          ]
        },
        {
          "output_type": "stream",
          "name": "stdout",
          "text": [
            "Invalid label found, adjusting: tensor([2, 2, 2, 2, 1, 1, 0, 2, 0, 2, 2, 2, 1, 2, 0, 2], device='cuda:0')\n"
          ]
        },
        {
          "output_type": "stream",
          "name": "stderr",
          "text": [
            "\n",
            "Training iteration:  88%|████████▊ | 134/152 [00:35<00:05,  3.53it/s]\u001b[A"
          ]
        },
        {
          "output_type": "stream",
          "name": "stdout",
          "text": [
            "Invalid label found, adjusting: tensor([2, 0, 1, 1, 2, 1, 0, 2, 2, 0, 2, 2, 1, 2, 0, 0], device='cuda:0')\n"
          ]
        },
        {
          "output_type": "stream",
          "name": "stderr",
          "text": [
            "\n",
            "Training iteration:  89%|████████▉ | 135/152 [00:36<00:04,  3.54it/s]\u001b[A"
          ]
        },
        {
          "output_type": "stream",
          "name": "stdout",
          "text": [
            "Invalid label found, adjusting: tensor([0, 1, 1, 0, 0, 1, 1, 1, 2, 0, 2, 2, 1, 1, 2, 2], device='cuda:0')\n"
          ]
        },
        {
          "output_type": "stream",
          "name": "stderr",
          "text": [
            "\n",
            "Training iteration:  89%|████████▉ | 136/152 [00:36<00:04,  3.54it/s]\u001b[A"
          ]
        },
        {
          "output_type": "stream",
          "name": "stdout",
          "text": [
            "Invalid label found, adjusting: tensor([0, 2, 1, 2, 2, 2, 2, 2, 2, 0, 0, 1, 2, 0, 0, 2], device='cuda:0')\n"
          ]
        },
        {
          "output_type": "stream",
          "name": "stderr",
          "text": [
            "\n",
            "Training iteration:  90%|█████████ | 137/152 [00:36<00:04,  3.55it/s]\u001b[A"
          ]
        },
        {
          "output_type": "stream",
          "name": "stdout",
          "text": [
            "Invalid label found, adjusting: tensor([1, 2, 1, 1, 1, 1, 2, 1, 2, 2, 2, 2, 1, 0, 2, 0], device='cuda:0')\n"
          ]
        },
        {
          "output_type": "stream",
          "name": "stderr",
          "text": [
            "\n",
            "Training iteration:  91%|█████████ | 138/152 [00:37<00:03,  3.58it/s]\u001b[A"
          ]
        },
        {
          "output_type": "stream",
          "name": "stdout",
          "text": [
            "Invalid label found, adjusting: tensor([2, 1, 0, 0, 1, 1, 0, 0, 1, 1, 1, 2, 1, 0, 1, 1], device='cuda:0')\n"
          ]
        },
        {
          "output_type": "stream",
          "name": "stderr",
          "text": [
            "\n",
            "Training iteration:  91%|█████████▏| 139/152 [00:37<00:03,  3.59it/s]\u001b[A"
          ]
        },
        {
          "output_type": "stream",
          "name": "stdout",
          "text": [
            "Invalid label found, adjusting: tensor([1, 0, 0, 2, 1, 2, 0, 1, 2, 2, 2, 1, 2, 2, 2, 1], device='cuda:0')\n"
          ]
        },
        {
          "output_type": "stream",
          "name": "stderr",
          "text": [
            "\n",
            "Training iteration:  92%|█████████▏| 140/152 [00:37<00:03,  3.59it/s]\u001b[A"
          ]
        },
        {
          "output_type": "stream",
          "name": "stdout",
          "text": [
            "Invalid label found, adjusting: tensor([0, 2, 2, 2, 0, 0, 2, 0, 1, 2, 1, 1, 2, 0, 0, 0], device='cuda:0')\n"
          ]
        },
        {
          "output_type": "stream",
          "name": "stderr",
          "text": [
            "\n",
            "Training iteration:  93%|█████████▎| 141/152 [00:37<00:03,  3.57it/s]\u001b[A"
          ]
        },
        {
          "output_type": "stream",
          "name": "stdout",
          "text": [
            "Invalid label found, adjusting: tensor([0, 0, 0, 0, 1, 2, 2, 2, 1, 0, 0, 0, 0, 2, 1, 0], device='cuda:0')\n"
          ]
        },
        {
          "output_type": "stream",
          "name": "stderr",
          "text": [
            "\n",
            "Training iteration:  93%|█████████▎| 142/152 [00:38<00:02,  3.58it/s]\u001b[A"
          ]
        },
        {
          "output_type": "stream",
          "name": "stdout",
          "text": [
            "Invalid label found, adjusting: tensor([2, 1, 2, 2, 2, 0, 0, 1, 0, 2, 2, 1, 0, 1, 2, 1], device='cuda:0')\n"
          ]
        },
        {
          "output_type": "stream",
          "name": "stderr",
          "text": [
            "\n",
            "Training iteration:  94%|█████████▍| 143/152 [00:38<00:02,  3.60it/s]\u001b[A"
          ]
        },
        {
          "output_type": "stream",
          "name": "stdout",
          "text": [
            "Invalid label found, adjusting: tensor([2, 0, 1, 0, 2, 0, 0, 0, 2, 0, 1, 2, 2, 2, 2, 2], device='cuda:0')\n"
          ]
        },
        {
          "output_type": "stream",
          "name": "stderr",
          "text": [
            "\n",
            "Training iteration:  95%|█████████▍| 144/152 [00:38<00:02,  3.61it/s]\u001b[A"
          ]
        },
        {
          "output_type": "stream",
          "name": "stdout",
          "text": [
            "Invalid label found, adjusting: tensor([1, 0, 2, 0, 1, 1, 2, 2, 2, 2, 0, 1, 0, 1, 2, 0], device='cuda:0')\n"
          ]
        },
        {
          "output_type": "stream",
          "name": "stderr",
          "text": [
            "\n",
            "Training iteration:  95%|█████████▌| 145/152 [00:39<00:01,  3.59it/s]\u001b[A"
          ]
        },
        {
          "output_type": "stream",
          "name": "stdout",
          "text": [
            "Invalid label found, adjusting: tensor([2, 2, 2, 2, 0, 2, 2, 2, 0, 0, 2, 1, 0, 2, 2, 1], device='cuda:0')\n"
          ]
        },
        {
          "output_type": "stream",
          "name": "stderr",
          "text": [
            "\n",
            "Training iteration:  96%|█████████▌| 146/152 [00:39<00:01,  3.61it/s]\u001b[A"
          ]
        },
        {
          "output_type": "stream",
          "name": "stdout",
          "text": [
            "Invalid label found, adjusting: tensor([0, 0, 2, 1, 0, 1, 2, 0, 0, 2, 1, 0, 0, 0, 2, 0], device='cuda:0')\n"
          ]
        },
        {
          "output_type": "stream",
          "name": "stderr",
          "text": [
            "\n",
            "Training iteration:  97%|█████████▋| 147/152 [00:39<00:01,  3.64it/s]\u001b[A"
          ]
        },
        {
          "output_type": "stream",
          "name": "stdout",
          "text": [
            "Invalid label found, adjusting: tensor([0, 0, 1, 1, 1, 1, 1, 2, 2, 2, 1, 1, 1, 2, 0, 0], device='cuda:0')\n"
          ]
        },
        {
          "output_type": "stream",
          "name": "stderr",
          "text": [
            "\n",
            "Training iteration:  97%|█████████▋| 148/152 [00:39<00:01,  3.65it/s]\u001b[A"
          ]
        },
        {
          "output_type": "stream",
          "name": "stdout",
          "text": [
            "Invalid label found, adjusting: tensor([0, 2, 0, 2, 0, 1, 1, 1, 1, 1, 2, 0, 0, 0, 2, 0], device='cuda:0')\n"
          ]
        },
        {
          "output_type": "stream",
          "name": "stderr",
          "text": [
            "\n",
            "Training iteration:  98%|█████████▊| 149/152 [00:40<00:00,  3.64it/s]\u001b[A"
          ]
        },
        {
          "output_type": "stream",
          "name": "stdout",
          "text": [
            "Invalid label found, adjusting: tensor([2, 0, 2, 0, 1, 0, 1, 1, 0, 0, 2, 2, 0, 2, 1, 1], device='cuda:0')\n"
          ]
        },
        {
          "output_type": "stream",
          "name": "stderr",
          "text": [
            "\n",
            "Training iteration:  99%|█████████▊| 150/152 [00:40<00:00,  3.65it/s]\u001b[A"
          ]
        },
        {
          "output_type": "stream",
          "name": "stdout",
          "text": [
            "Invalid label found, adjusting: tensor([0, 1, 2, 2, 0, 2, 0, 0, 2, 0, 2, 0, 0, 0, 0, 2], device='cuda:0')\n"
          ]
        },
        {
          "output_type": "stream",
          "name": "stderr",
          "text": [
            "\n",
            "Training iteration:  99%|█████████▉| 151/152 [00:40<00:00,  3.65it/s]\u001b[A"
          ]
        },
        {
          "output_type": "stream",
          "name": "stdout",
          "text": [
            "Invalid label found, adjusting: tensor([1, 2, 1, 1, 2, 2, 2, 1, 0, 0, 2, 0, 1, 2], device='cuda:0')\n"
          ]
        },
        {
          "output_type": "stream",
          "name": "stderr",
          "text": [
            "\n",
            "Training iteration: 100%|██████████| 152/152 [00:40<00:00,  3.72it/s]\n",
            "\n",
            "Evaluating:   0%|          | 0/17 [00:00<?, ?it/s]\u001b[A\n",
            "Evaluating:  12%|█▏        | 2/17 [00:00<00:01, 11.00it/s]\u001b[A"
          ]
        },
        {
          "output_type": "stream",
          "name": "stdout",
          "text": [
            "Invalid label found in evaluation, adjusting: tensor([1, 0, 1, 0, 0, 1, 0, 2, 2, 1, 1, 1, 0, 2, 1, 2], device='cuda:0')\n",
            "Invalid label found in evaluation, adjusting: tensor([1, 1, 1, 0, 2, 0, 2, 2, 0, 2, 0, 0, 1, 2, 1, 1], device='cuda:0')\n",
            "Invalid label found in evaluation, adjusting: tensor([2, 0, 1, 0, 0, 0, 1, 1, 1, 1, 2, 1, 0, 1, 0, 0], device='cuda:0')\n"
          ]
        },
        {
          "output_type": "stream",
          "name": "stderr",
          "text": [
            "\n",
            "Evaluating:  24%|██▎       | 4/17 [00:00<00:01, 10.68it/s]\u001b[A"
          ]
        },
        {
          "output_type": "stream",
          "name": "stdout",
          "text": [
            "Invalid label found in evaluation, adjusting: tensor([1, 1, 2, 1, 2, 0, 1, 2, 1, 1, 2, 1, 0, 0, 1, 2], device='cuda:0')\n",
            "Invalid label found in evaluation, adjusting: tensor([1, 2, 2, 0, 2, 2, 0, 2, 0, 0, 1, 0, 1, 0, 1, 2], device='cuda:0')\n",
            "Invalid label found in evaluation, adjusting: tensor([1, 2, 2, 2, 1, 0, 1, 0, 2, 2, 2, 1, 0, 0, 0, 0], device='cuda:0')\n"
          ]
        },
        {
          "output_type": "stream",
          "name": "stderr",
          "text": [
            "\n",
            "Evaluating:  35%|███▌      | 6/17 [00:00<00:01, 10.62it/s]\u001b[A\n",
            "Evaluating:  47%|████▋     | 8/17 [00:00<00:00, 10.63it/s]\u001b[A"
          ]
        },
        {
          "output_type": "stream",
          "name": "stdout",
          "text": [
            "Invalid label found in evaluation, adjusting: tensor([1, 1, 2, 2, 1, 2, 2, 1, 0, 0, 0, 0, 1, 0, 0, 0], device='cuda:0')\n",
            "Invalid label found in evaluation, adjusting: tensor([2, 0, 1, 1, 0, 2, 0, 1, 1, 0, 1, 2, 1, 1, 1, 0], device='cuda:0')\n",
            "Invalid label found in evaluation, adjusting: tensor([2, 0, 1, 2, 0, 1, 1, 1, 1, 0, 2, 2, 1, 0, 2, 2], device='cuda:0')\n"
          ]
        },
        {
          "output_type": "stream",
          "name": "stderr",
          "text": [
            "\n",
            "Evaluating:  59%|█████▉    | 10/17 [00:00<00:00, 10.44it/s]\u001b[A"
          ]
        },
        {
          "output_type": "stream",
          "name": "stdout",
          "text": [
            "Invalid label found in evaluation, adjusting: tensor([1, 0, 0, 1, 2, 1, 1, 0, 1, 1, 2, 0, 2, 1, 1, 0], device='cuda:0')\n",
            "Invalid label found in evaluation, adjusting: tensor([1, 0, 1, 2, 1, 1, 2, 0, 0, 0, 1, 1, 1, 1, 1, 1], device='cuda:0')\n",
            "Invalid label found in evaluation, adjusting: tensor([2, 2, 1, 0, 1, 0, 2, 2, 2, 0, 0, 0, 1, 1, 1, 0], device='cuda:0')\n"
          ]
        },
        {
          "output_type": "stream",
          "name": "stderr",
          "text": [
            "\n",
            "Evaluating:  71%|███████   | 12/17 [00:01<00:00, 10.49it/s]\u001b[A\n",
            "Evaluating:  82%|████████▏ | 14/17 [00:01<00:00, 10.45it/s]\u001b[A"
          ]
        },
        {
          "output_type": "stream",
          "name": "stdout",
          "text": [
            "Invalid label found in evaluation, adjusting: tensor([2, 1, 0, 0, 2, 2, 2, 1, 2, 0, 2, 1, 1, 1, 1, 2], device='cuda:0')\n",
            "Invalid label found in evaluation, adjusting: tensor([1, 0, 1, 0, 1, 0, 2, 2, 2, 2, 0, 2, 2, 1, 1, 2], device='cuda:0')\n",
            "Invalid label found in evaluation, adjusting: tensor([0, 2, 2, 1, 1, 0, 0, 1, 2, 1, 1, 2, 1, 2, 2, 2], device='cuda:0')\n"
          ]
        },
        {
          "output_type": "stream",
          "name": "stderr",
          "text": [
            "\n",
            "Evaluating: 100%|██████████| 17/17 [00:01<00:00, 10.59it/s]\n",
            "/usr/local/lib/python3.10/dist-packages/sklearn/metrics/_classification.py:1344: UndefinedMetricWarning: Precision and F-score are ill-defined and being set to 0.0 in labels with no predicted samples. Use `zero_division` parameter to control this behavior.\n",
            "  _warn_prf(average, modifier, msg_start, len(result))\n",
            "/usr/local/lib/python3.10/dist-packages/sklearn/metrics/_classification.py:1344: UndefinedMetricWarning: Precision and F-score are ill-defined and being set to 0.0 in labels with no predicted samples. Use `zero_division` parameter to control this behavior.\n",
            "  _warn_prf(average, modifier, msg_start, len(result))\n",
            "/usr/local/lib/python3.10/dist-packages/sklearn/metrics/_classification.py:1344: UndefinedMetricWarning: Precision and F-score are ill-defined and being set to 0.0 in labels with no predicted samples. Use `zero_division` parameter to control this behavior.\n",
            "  _warn_prf(average, modifier, msg_start, len(result))\n",
            "Epoch:   0%|          | 0/20 [00:42<?, ?it/s]"
          ]
        },
        {
          "output_type": "stream",
          "name": "stdout",
          "text": [
            "Invalid label found in evaluation, adjusting: tensor([2, 1, 0, 1, 1, 2, 0, 2, 0, 0, 2, 2, 1, 2, 0, 2], device='cuda:0')\n",
            "Invalid label found in evaluation, adjusting: tensor([1, 0, 2, 1, 1, 1, 1, 1, 1, 0, 1, 0, 2, 0], device='cuda:0')\n",
            "Loss history: [0.8622320574872634, 0.8622320574872634]\n",
            "Dev loss: 0.8622320574872634\n",
            "Classification Report:\n",
            "               precision    recall  f1-score   support\n",
            "\n",
            "           0       0.30      1.00      0.47        82\n",
            "           1       0.00      0.00      0.00       188\n",
            "\n",
            "    accuracy                           0.30       270\n",
            "   macro avg       0.15      0.50      0.23       270\n",
            "weighted avg       0.09      0.30      0.14       270\n",
            "\n",
            "No improvement on development set. Finish training.\n"
          ]
        },
        {
          "output_type": "stream",
          "name": "stderr",
          "text": [
            "\n"
          ]
        }
      ]
    },
    {
      "cell_type": "code",
      "source": [
        "import matplotlib.pyplot as plt\n",
        "\n",
        "# Assuming you have a list called loss_history that contains the loss values for each epoch\n",
        "\n",
        "# Plot the loss history\n",
        "plt.figure(figsize=(10, 6))\n",
        "plt.plot(range(1, len(loss_history) + 1), loss_history, marker='o', linestyle='-', color='b', label='Dev Loss')\n",
        "plt.title('Dev Loss Over Training Epochs')\n",
        "plt.xlabel('Epoch')\n",
        "plt.ylabel('Loss')\n",
        "plt.grid(True)\n",
        "plt.legend()\n",
        "plt.show()\n"
      ],
      "metadata": {
        "colab": {
          "base_uri": "https://localhost:8080/",
          "height": 564
        },
        "id": "p9C0eHCcWw3N",
        "outputId": "0ee4c9e2-aa00-4221-fdf7-4b69d7377cb7"
      },
      "execution_count": 33,
      "outputs": [
        {
          "output_type": "display_data",
          "data": {
            "text/plain": [
              "<Figure size 1000x600 with 1 Axes>"
            ],
            "image/png": "[encoded data removed]"
          },
          "metadata": {}
        }
      ]
    },
    {
      "cell_type": "code",
      "source": [
        "import matplotlib.pyplot as plt\n",
        "from tqdm import trange\n",
        "import numpy as np  # Assuming you use NumPy for data manipulation\n",
        "\n",
        "# Example data (simulate accuracies)\n",
        "NUM_TRAIN_EPOCHS = 20\n",
        "accuracies = [np.random.rand() for _ in range(NUM_TRAIN_EPOCHS)]  # Simulating accuracies\n",
        "\n",
        "# Plotting the box plot for accuracies\n",
        "plt.figure(figsize=(10, 6))\n",
        "plt.boxplot(accuracies, vert=False, patch_artist=True)\n",
        "plt.title('Box plot of Model Accuracies Across Epochs')\n",
        "plt.xlabel('Accuracy')\n",
        "plt.yticks([1], ['Model Accuracies'])\n",
        "plt.show()\n"
      ],
      "metadata": {
        "colab": {
          "base_uri": "https://localhost:8080/",
          "height": 564
        },
        "id": "2z8D2QkTnPtL",
        "outputId": "3e4b7f62-fc8f-432b-c922-e235a6605552"
      },
      "execution_count": 28,
      "outputs": [
        {
          "output_type": "display_data",
          "data": {
            "text/plain": [
              "<Figure size 1000x600 with 1 Axes>"
            ],
            "image/png": "[encoded data removed]"
          },
          "metadata": {}
        }
      ]
    },
    {
      "cell_type": "code",
      "source": [
        "import matplotlib.pyplot as plt\n",
        "\n",
        "# Assuming 'predictions' and 'true_labels' are your lists of data from the model evaluation\n",
        "\n",
        "# Data for plotting\n",
        "data_to_plot = [true_labels, predictions]\n",
        "\n",
        "# Create a figure instance\n",
        "plt.figure(figsize=(10, 6))\n",
        "\n",
        "# Create the box plot\n",
        "plt.boxplot(data_to_plot, patch_artist=True, labels=['True Labels', 'Predictions'])\n",
        "\n",
        "# Set plot titles and labels\n",
        "plt.title('Box Plot of True Labels vs. Predictions')\n",
        "plt.ylabel('Classes')\n",
        "plt.grid(True)\n",
        "\n",
        "# Show the plot\n",
        "plt.show()\n"
      ],
      "metadata": {
        "colab": {
          "base_uri": "https://localhost:8080/",
          "height": 545
        },
        "id": "PswHjCnmXG9Q",
        "outputId": "a49d80df-8216-456c-de8d-3027dedd061e"
      },
      "execution_count": 34,
      "outputs": [
        {
          "output_type": "display_data",
          "data": {
            "text/plain": [
              "<Figure size 1000x600 with 1 Axes>"
            ],
            "image/png": "[encoded data removed]"
          },
          "metadata": {}
        }
      ]
    },
    {
      "cell_type": "code",
      "source": [
        "import numpy as np\n",
        "from sklearn.feature_extraction.text import CountVectorizer, TfidfTransformer\n",
        "from sklearn.linear_model import LogisticRegression\n",
        "from sklearn.pipeline import Pipeline\n",
        "from sklearn.model_selection import GridSearchCV\n",
        "import matplotlib.pyplot as plt\n",
        "\n",
        "# Define the pipeline and parameter grid\n",
        "pipeline = Pipeline([\n",
        "    ('vect', CountVectorizer()),\n",
        "    ('tfidf', TfidfTransformer()),\n",
        "    ('lr', LogisticRegression(multi_class=\"ovr\", solver=\"lbfgs\"))\n",
        "])\n",
        "\n",
        "parameters = {'lr__C': [0.1, 0.5, 1, 2, 5, 10, 100, 1000]}\n",
        "\n",
        "# Perform grid search\n",
        "best_classifier = GridSearchCV(pipeline, parameters, cv=5, verbose=1, scoring='accuracy', return_train_score=True)\n",
        "best_classifier.fit(train_texts, train_labels)\n",
        "\n",
        "# Access the mean cross-validation scores for each parameter setting\n",
        "cv_scores = best_classifier.cv_results_['mean_test_score']\n",
        "\n",
        "# Plotting the box plot for cross-validation accuracies\n",
        "plt.figure(figsize=(10, 6))\n",
        "plt.boxplot([cv_scores], labels=['CV Accuracies'], patch_artist=True)\n",
        "plt.title('Box plot of Cross-Validation Accuracies')\n",
        "plt.ylabel('Accuracy')\n",
        "plt.show()\n",
        "\n",
        "# Print best score and best parameters\n",
        "print(\"Best score:\", best_classifier.best_score_)\n",
        "print(\"Best parameters:\", best_classifier.best_params_)\n",
        "\n",
        "# Optionally, evaluate on the test set if required\n",
        "best_predictions = best_classifier.predict(test_texts)\n",
        "baseline_accuracy = np.mean(best_predictions == test_labels)\n",
        "print(\"Baseline accuracy on test set:\", baseline_accuracy)\n"
      ],
      "metadata": {
        "colab": {
          "base_uri": "https://localhost:8080/",
          "height": 1000
        },
        "id": "9ld8abognPwG",
        "outputId": "532a1022-8fea-4c7a-ec42-fc274db8ae73"
      },
      "execution_count": 29,
      "outputs": [
        {
          "output_type": "stream",
          "name": "stdout",
          "text": [
            "Fitting 5 folds for each of 8 candidates, totalling 40 fits\n"
          ]
        },
        {
          "output_type": "stream",
          "name": "stderr",
          "text": [
            "/usr/local/lib/python3.10/dist-packages/sklearn/linear_model/_logistic.py:458: ConvergenceWarning: lbfgs failed to converge (status=1):\n",
            "STOP: TOTAL NO. of ITERATIONS REACHED LIMIT.\n",
            "\n",
            "Increase the number of iterations (max_iter) or scale the data as shown in:\n",
            "    https://scikit-learn.org/stable/modules/preprocessing.html\n",
            "Please also refer to the documentation for alternative solver options:\n",
            "    https://scikit-learn.org/stable/modules/linear_model.html#logistic-regression\n",
            "  n_iter_i = _check_optimize_result(\n",
            "/usr/local/lib/python3.10/dist-packages/sklearn/linear_model/_logistic.py:458: ConvergenceWarning: lbfgs failed to converge (status=1):\n",
            "STOP: TOTAL NO. of ITERATIONS REACHED LIMIT.\n",
            "\n",
            "Increase the number of iterations (max_iter) or scale the data as shown in:\n",
            "    https://scikit-learn.org/stable/modules/preprocessing.html\n",
            "Please also refer to the documentation for alternative solver options:\n",
            "    https://scikit-learn.org/stable/modules/linear_model.html#logistic-regression\n",
            "  n_iter_i = _check_optimize_result(\n",
            "/usr/local/lib/python3.10/dist-packages/sklearn/linear_model/_logistic.py:458: ConvergenceWarning: lbfgs failed to converge (status=1):\n",
            "STOP: TOTAL NO. of ITERATIONS REACHED LIMIT.\n",
            "\n",
            "Increase the number of iterations (max_iter) or scale the data as shown in:\n",
            "    https://scikit-learn.org/stable/modules/preprocessing.html\n",
            "Please also refer to the documentation for alternative solver options:\n",
            "    https://scikit-learn.org/stable/modules/linear_model.html#logistic-regression\n",
            "  n_iter_i = _check_optimize_result(\n",
            "/usr/local/lib/python3.10/dist-packages/sklearn/linear_model/_logistic.py:458: ConvergenceWarning: lbfgs failed to converge (status=1):\n",
            "STOP: TOTAL NO. of ITERATIONS REACHED LIMIT.\n",
            "\n",
            "Increase the number of iterations (max_iter) or scale the data as shown in:\n",
            "    https://scikit-learn.org/stable/modules/preprocessing.html\n",
            "Please also refer to the documentation for alternative solver options:\n",
            "    https://scikit-learn.org/stable/modules/linear_model.html#logistic-regression\n",
            "  n_iter_i = _check_optimize_result(\n",
            "/usr/local/lib/python3.10/dist-packages/sklearn/linear_model/_logistic.py:458: ConvergenceWarning: lbfgs failed to converge (status=1):\n",
            "STOP: TOTAL NO. of ITERATIONS REACHED LIMIT.\n",
            "\n",
            "Increase the number of iterations (max_iter) or scale the data as shown in:\n",
            "    https://scikit-learn.org/stable/modules/preprocessing.html\n",
            "Please also refer to the documentation for alternative solver options:\n",
            "    https://scikit-learn.org/stable/modules/linear_model.html#logistic-regression\n",
            "  n_iter_i = _check_optimize_result(\n",
            "/usr/local/lib/python3.10/dist-packages/sklearn/linear_model/_logistic.py:458: ConvergenceWarning: lbfgs failed to converge (status=1):\n",
            "STOP: TOTAL NO. of ITERATIONS REACHED LIMIT.\n",
            "\n",
            "Increase the number of iterations (max_iter) or scale the data as shown in:\n",
            "    https://scikit-learn.org/stable/modules/preprocessing.html\n",
            "Please also refer to the documentation for alternative solver options:\n",
            "    https://scikit-learn.org/stable/modules/linear_model.html#logistic-regression\n",
            "  n_iter_i = _check_optimize_result(\n",
            "/usr/local/lib/python3.10/dist-packages/sklearn/linear_model/_logistic.py:458: ConvergenceWarning: lbfgs failed to converge (status=1):\n",
            "STOP: TOTAL NO. of ITERATIONS REACHED LIMIT.\n",
            "\n",
            "Increase the number of iterations (max_iter) or scale the data as shown in:\n",
            "    https://scikit-learn.org/stable/modules/preprocessing.html\n",
            "Please also refer to the documentation for alternative solver options:\n",
            "    https://scikit-learn.org/stable/modules/linear_model.html#logistic-regression\n",
            "  n_iter_i = _check_optimize_result(\n",
            "/usr/local/lib/python3.10/dist-packages/sklearn/linear_model/_logistic.py:458: ConvergenceWarning: lbfgs failed to converge (status=1):\n",
            "STOP: TOTAL NO. of ITERATIONS REACHED LIMIT.\n",
            "\n",
            "Increase the number of iterations (max_iter) or scale the data as shown in:\n",
            "    https://scikit-learn.org/stable/modules/preprocessing.html\n",
            "Please also refer to the documentation for alternative solver options:\n",
            "    https://scikit-learn.org/stable/modules/linear_model.html#logistic-regression\n",
            "  n_iter_i = _check_optimize_result(\n",
            "/usr/local/lib/python3.10/dist-packages/sklearn/linear_model/_logistic.py:458: ConvergenceWarning: lbfgs failed to converge (status=1):\n",
            "STOP: TOTAL NO. of ITERATIONS REACHED LIMIT.\n",
            "\n",
            "Increase the number of iterations (max_iter) or scale the data as shown in:\n",
            "    https://scikit-learn.org/stable/modules/preprocessing.html\n",
            "Please also refer to the documentation for alternative solver options:\n",
            "    https://scikit-learn.org/stable/modules/linear_model.html#logistic-regression\n",
            "  n_iter_i = _check_optimize_result(\n",
            "/usr/local/lib/python3.10/dist-packages/sklearn/linear_model/_logistic.py:458: ConvergenceWarning: lbfgs failed to converge (status=1):\n",
            "STOP: TOTAL NO. of ITERATIONS REACHED LIMIT.\n",
            "\n",
            "Increase the number of iterations (max_iter) or scale the data as shown in:\n",
            "    https://scikit-learn.org/stable/modules/preprocessing.html\n",
            "Please also refer to the documentation for alternative solver options:\n",
            "    https://scikit-learn.org/stable/modules/linear_model.html#logistic-regression\n",
            "  n_iter_i = _check_optimize_result(\n"
          ]
        },
        {
          "output_type": "display_data",
          "data": {
            "text/plain": [
              "<Figure size 1000x600 with 1 Axes>"
            ],
            "image/png": "[encoded data removed]"
          },
          "metadata": {}
        },
        {
          "output_type": "stream",
          "name": "stdout",
          "text": [
            "Best score: 0.6456790123456789\n",
            "Best parameters: {'lr__C': 2}\n",
            "Baseline accuracy on test set: 0.6266666666666667\n"
          ]
        }
      ]
    },
    {
      "cell_type": "code",
      "source": [
        "import numpy as np\n",
        "from sklearn.feature_extraction.text import CountVectorizer, TfidfTransformer\n",
        "from sklearn.linear_model import LogisticRegression\n",
        "from sklearn.pipeline import Pipeline\n",
        "from sklearn.model_selection import GridSearchCV\n",
        "import matplotlib.pyplot as plt\n",
        "\n",
        "# Define the pipeline and parameter grid\n",
        "pipeline = Pipeline([\n",
        "    ('vect', CountVectorizer()),\n",
        "    ('tfidf', TfidfTransformer()),\n",
        "    ('lr', LogisticRegression(multi_class=\"ovr\", solver=\"lbfgs\"))\n",
        "])\n",
        "\n",
        "parameters = {'lr__C': [0.1, 0.5, 1, 2, 5, 10, 100, 1000]}\n",
        "\n",
        "# Perform grid search\n",
        "best_classifier = GridSearchCV(pipeline, parameters, cv=5, verbose=1, scoring='accuracy', return_train_score=True)\n",
        "best_classifier.fit(train_texts, train_labels)\n",
        "\n",
        "# Extract cross-validation scores for each parameter setting\n",
        "cv_scores = best_classifier.cv_results_['mean_test_score']\n",
        "c_values = best_classifier.cv_results_['param_lr__C']\n",
        "\n",
        "# Plotting the scatter plot for cross-validation accuracies\n",
        "plt.figure(figsize=(10, 6))\n",
        "plt.scatter(c_values, cv_scores, color='blue')\n",
        "plt.plot(c_values, cv_scores, linestyle='--', marker='o', color='b')\n",
        "plt.title('Scatter Plot of Cross-Validation Accuracies')\n",
        "plt.xlabel('C values (Regularization strength)')\n",
        "plt.ylabel('Accuracy')\n",
        "plt.xscale('log')  # Log scale for better visualization of wide-ranging values\n",
        "plt.grid(True)\n",
        "plt.show()\n",
        "\n",
        "# Print best score and best parameters\n",
        "print(\"Best score:\", best_classifier.best_score_)\n",
        "print(\"Best parameters:\", best_classifier.best_params_)\n",
        "\n",
        "# Optionally, evaluate on the test set if required\n",
        "best_predictions = best_classifier.predict(test_texts)\n",
        "baseline_accuracy = np.mean(best_predictions == test_labels)\n",
        "print(\"Baseline accuracy on test set:\", baseline_accuracy)\n"
      ],
      "metadata": {
        "colab": {
          "base_uri": "https://localhost:8080/",
          "height": 1000
        },
        "id": "Ux71wTtLtDxu",
        "outputId": "7acaf92d-94e6-4880-e77b-9cf499daa308"
      },
      "execution_count": 35,
      "outputs": [
        {
          "output_type": "stream",
          "name": "stdout",
          "text": [
            "Fitting 5 folds for each of 8 candidates, totalling 40 fits\n"
          ]
        },
        {
          "output_type": "stream",
          "name": "stderr",
          "text": [
            "/usr/local/lib/python3.10/dist-packages/sklearn/linear_model/_logistic.py:458: ConvergenceWarning: lbfgs failed to converge (status=1):\n",
            "STOP: TOTAL NO. of ITERATIONS REACHED LIMIT.\n",
            "\n",
            "Increase the number of iterations (max_iter) or scale the data as shown in:\n",
            "    https://scikit-learn.org/stable/modules/preprocessing.html\n",
            "Please also refer to the documentation for alternative solver options:\n",
            "    https://scikit-learn.org/stable/modules/linear_model.html#logistic-regression\n",
            "  n_iter_i = _check_optimize_result(\n",
            "/usr/local/lib/python3.10/dist-packages/sklearn/linear_model/_logistic.py:458: ConvergenceWarning: lbfgs failed to converge (status=1):\n",
            "STOP: TOTAL NO. of ITERATIONS REACHED LIMIT.\n",
            "\n",
            "Increase the number of iterations (max_iter) or scale the data as shown in:\n",
            "    https://scikit-learn.org/stable/modules/preprocessing.html\n",
            "Please also refer to the documentation for alternative solver options:\n",
            "    https://scikit-learn.org/stable/modules/linear_model.html#logistic-regression\n",
            "  n_iter_i = _check_optimize_result(\n",
            "/usr/local/lib/python3.10/dist-packages/sklearn/linear_model/_logistic.py:458: ConvergenceWarning: lbfgs failed to converge (status=1):\n",
            "STOP: TOTAL NO. of ITERATIONS REACHED LIMIT.\n",
            "\n",
            "Increase the number of iterations (max_iter) or scale the data as shown in:\n",
            "    https://scikit-learn.org/stable/modules/preprocessing.html\n",
            "Please also refer to the documentation for alternative solver options:\n",
            "    https://scikit-learn.org/stable/modules/linear_model.html#logistic-regression\n",
            "  n_iter_i = _check_optimize_result(\n",
            "/usr/local/lib/python3.10/dist-packages/sklearn/linear_model/_logistic.py:458: ConvergenceWarning: lbfgs failed to converge (status=1):\n",
            "STOP: TOTAL NO. of ITERATIONS REACHED LIMIT.\n",
            "\n",
            "Increase the number of iterations (max_iter) or scale the data as shown in:\n",
            "    https://scikit-learn.org/stable/modules/preprocessing.html\n",
            "Please also refer to the documentation for alternative solver options:\n",
            "    https://scikit-learn.org/stable/modules/linear_model.html#logistic-regression\n",
            "  n_iter_i = _check_optimize_result(\n",
            "/usr/local/lib/python3.10/dist-packages/sklearn/linear_model/_logistic.py:458: ConvergenceWarning: lbfgs failed to converge (status=1):\n",
            "STOP: TOTAL NO. of ITERATIONS REACHED LIMIT.\n",
            "\n",
            "Increase the number of iterations (max_iter) or scale the data as shown in:\n",
            "    https://scikit-learn.org/stable/modules/preprocessing.html\n",
            "Please also refer to the documentation for alternative solver options:\n",
            "    https://scikit-learn.org/stable/modules/linear_model.html#logistic-regression\n",
            "  n_iter_i = _check_optimize_result(\n",
            "/usr/local/lib/python3.10/dist-packages/sklearn/linear_model/_logistic.py:458: ConvergenceWarning: lbfgs failed to converge (status=1):\n",
            "STOP: TOTAL NO. of ITERATIONS REACHED LIMIT.\n",
            "\n",
            "Increase the number of iterations (max_iter) or scale the data as shown in:\n",
            "    https://scikit-learn.org/stable/modules/preprocessing.html\n",
            "Please also refer to the documentation for alternative solver options:\n",
            "    https://scikit-learn.org/stable/modules/linear_model.html#logistic-regression\n",
            "  n_iter_i = _check_optimize_result(\n",
            "/usr/local/lib/python3.10/dist-packages/sklearn/linear_model/_logistic.py:458: ConvergenceWarning: lbfgs failed to converge (status=1):\n",
            "STOP: TOTAL NO. of ITERATIONS REACHED LIMIT.\n",
            "\n",
            "Increase the number of iterations (max_iter) or scale the data as shown in:\n",
            "    https://scikit-learn.org/stable/modules/preprocessing.html\n",
            "Please also refer to the documentation for alternative solver options:\n",
            "    https://scikit-learn.org/stable/modules/linear_model.html#logistic-regression\n",
            "  n_iter_i = _check_optimize_result(\n",
            "/usr/local/lib/python3.10/dist-packages/sklearn/linear_model/_logistic.py:458: ConvergenceWarning: lbfgs failed to converge (status=1):\n",
            "STOP: TOTAL NO. of ITERATIONS REACHED LIMIT.\n",
            "\n",
            "Increase the number of iterations (max_iter) or scale the data as shown in:\n",
            "    https://scikit-learn.org/stable/modules/preprocessing.html\n",
            "Please also refer to the documentation for alternative solver options:\n",
            "    https://scikit-learn.org/stable/modules/linear_model.html#logistic-regression\n",
            "  n_iter_i = _check_optimize_result(\n",
            "/usr/local/lib/python3.10/dist-packages/sklearn/linear_model/_logistic.py:458: ConvergenceWarning: lbfgs failed to converge (status=1):\n",
            "STOP: TOTAL NO. of ITERATIONS REACHED LIMIT.\n",
            "\n",
            "Increase the number of iterations (max_iter) or scale the data as shown in:\n",
            "    https://scikit-learn.org/stable/modules/preprocessing.html\n",
            "Please also refer to the documentation for alternative solver options:\n",
            "    https://scikit-learn.org/stable/modules/linear_model.html#logistic-regression\n",
            "  n_iter_i = _check_optimize_result(\n",
            "/usr/local/lib/python3.10/dist-packages/sklearn/linear_model/_logistic.py:458: ConvergenceWarning: lbfgs failed to converge (status=1):\n",
            "STOP: TOTAL NO. of ITERATIONS REACHED LIMIT.\n",
            "\n",
            "Increase the number of iterations (max_iter) or scale the data as shown in:\n",
            "    https://scikit-learn.org/stable/modules/preprocessing.html\n",
            "Please also refer to the documentation for alternative solver options:\n",
            "    https://scikit-learn.org/stable/modules/linear_model.html#logistic-regression\n",
            "  n_iter_i = _check_optimize_result(\n"
          ]
        },
        {
          "output_type": "display_data",
          "data": {
            "text/plain": [
              "<Figure size 1000x600 with 1 Axes>"
            ],
            "image/png": "[encoded data removed]"
          },
          "metadata": {}
        },
        {
          "output_type": "stream",
          "name": "stdout",
          "text": [
            "Best score: 0.6456790123456789\n",
            "Best parameters: {'lr__C': 2}\n",
            "Baseline accuracy on test set: 0.6266666666666667\n"
          ]
        }
      ]
    },
    {
      "cell_type": "markdown",
      "source": [],
      "metadata": {
        "id": "EWvrfKtCt-Mm"
      }
    }
  ]
}